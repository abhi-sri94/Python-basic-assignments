{
  "nbformat": 4,
  "nbformat_minor": 0,
  "metadata": {
    "colab": {
      "provenance": [],
      "toc_visible": true
    },
    "kernelspec": {
      "name": "python3",
      "display_name": "Python 3"
    },
    "language_info": {
      "name": "python"
    }
  },
  "cells": [
    {
      "cell_type": "markdown",
      "source": [
        "#Question 1\n",
        "\n",
        "To what does a relative path refer?\n",
        "\n",
        "............\n",
        "\n",
        "Answer 1 -\n",
        "\n",
        "\n",
        "A relative path refers to the location of a file or directory in relation to the current working directory. In computing, a file system organizes files and directories in a hierarchical structure, and each file or directory has a unique path that specifies its location within the system.\n",
        "\n",
        "A relative path is specified relative to the current working directory, which is the directory from which a program or user is currently working. Instead of providing the full or absolute path starting from the root directory of the file system, a relative path only indicates the path from the current working directory.\n",
        "\n",
        "For example, let's say the current working directory is \"`C:\\Users\\Abhishek\\Documents`\" and there is a file called \"python_assignment.ipynb\" located in a subdirectory called \"Projects\" within the current working directory. The relative path to the \"python_assignment.ipynb\" file would be \"Projects/python_assignment.ipynb\". This path indicates that the \"python_assignment.ipynb\" file is located within the \"Projects\" directory, which is a subdirectory of the current working directory.\n",
        "\n",
        "Relative paths are useful when you want to reference files or directories in a way that is independent of the specific location on the file system. By using relative paths, you can move or distribute files and directories without having to update the paths because they are based on the current working directory."
      ],
      "metadata": {
        "id": "ss9veD6e8LnY"
      }
    },
    {
      "cell_type": "markdown",
      "source": [
        "#Question 2\n",
        "\n",
        "What does an absolute path start with your operating system?\n",
        "\n",
        "..............\n",
        "\n",
        "\n",
        "Answer 2 -\n",
        "\n",
        "Since i use both Linux and Windows, so here are the examples of the absolute paths in these OS :-\n",
        "\n",
        "\n",
        "1) `Windows` : An absolute path on Windows typically starts with a drive letter followed by a colon (\"`:`\") and a backslash (\"\"). For example:\n",
        "\n",
        "C:\\Users\\John\\Documents\\file.txt\n",
        "D:\\Program Files\\app.exe\n",
        "\n",
        "2) `Linux` : An absolute path on Linux systems starts with a forward slash (\"`/`\"). For example:\n",
        "\n",
        "/home/abhishek/documents/projects.ipynb"
      ],
      "metadata": {
        "id": "nW-es7el9M0X"
      }
    },
    {
      "cell_type": "markdown",
      "source": [
        "#Question 3\n",
        "\n",
        "What do the functions os.getcwd() and os.chdir() do?\n",
        "\n",
        ".................\n",
        "\n",
        "\n",
        "Answer 3 -\n",
        "\n",
        "The functions `os.getcwd()` and `os.chdir()` are part of the os module in Python, which provides a way to interact with the operating system. Here's what these functions do:\n",
        "\n",
        "1) **os.getcwd()**: This function returns the current working directory (CWD) as a string. The current working directory is the directory from which the Python script is being executed or the directory where the Python interpreter was started.\n",
        "\n",
        "Example usage:"
      ],
      "metadata": {
        "id": "s_vsN9yy_xwk"
      }
    },
    {
      "cell_type": "code",
      "source": [
        "import os\n",
        "current_dir = os.getcwd()\n",
        "print(current_dir)"
      ],
      "metadata": {
        "colab": {
          "base_uri": "https://localhost:8080/"
        },
        "id": "FVmKSz-xEtdg",
        "outputId": "d53647cd-3573-43ef-b081-af4bb6d0ad6b"
      },
      "execution_count": 10,
      "outputs": [
        {
          "output_type": "stream",
          "name": "stdout",
          "text": [
            "/content\n"
          ]
        }
      ]
    },
    {
      "cell_type": "markdown",
      "source": [
        "os.chdir(path): This function changes the current working directory to the specified path. It takes a string argument representing the new directory path. If the path is valid, the current working directory is updated to the new path.\n",
        "\n",
        "Example usage:"
      ],
      "metadata": {
        "id": "Dx9er_NVGUJE"
      }
    },
    {
      "cell_type": "code",
      "source": [
        "import os\n",
        "os.chdir('/content')"
      ],
      "metadata": {
        "id": "4QnJLkfkGX9W"
      },
      "execution_count": 8,
      "outputs": []
    },
    {
      "cell_type": "markdown",
      "source": [
        "After executing the above code, the current working directory will be changed to /content .\n",
        "\n",
        "These functions are useful when you need to navigate and work with files and directories in your Python script. os.getcwd() helps you determine the current location, and os.chdir() allows you to change to a different directory for subsequent file operations."
      ],
      "metadata": {
        "id": "n1IZuea6Ge0K"
      }
    },
    {
      "cell_type": "markdown",
      "source": [
        "#Question 4\n",
        "\n",
        "What are the . and .. folders?\n",
        "\n",
        "................\n",
        "\n",
        "\n",
        "Answer 4 -\n",
        "\n",
        "\n",
        "In file systems, the \"`.`\" (dot) and \"`..`\" (dot-dot) folders have special meanings:\n",
        "\n",
        "1) \".\" (`dot`): The dot represents the current directory. It is used to refer to the current location or working directory in a file system path. For example, if the current directory is  `/home/user/Documents` , the path `./assignments.ipynb` refers to the file \"assignments.ipynb\" in the current directory.\n",
        "\n",
        "2) \"..\" (`dot-dot`): The dot-dot represents the parent directory. It is used to refer to the directory one level up in the hierarchy. For example, if the current directory is `/home/user/Documents` , the path `../Projects` refers to the \"Projects\" directory that is one level above the current directory.\n",
        "\n",
        "These special folders are commonly used to navigate and reference directories in a relative manner. They allow for concise and flexible path representations. The dot and dot-dot folders are present in most file systems and are recognized by various operating systems.\n"
      ],
      "metadata": {
        "id": "2OIrl-maHsWg"
      }
    },
    {
      "cell_type": "markdown",
      "source": [
        "#Question 5\n",
        "\n",
        "In C:\\bacon\\eggs\\spam.txt, which part is the dir name, and which part is the base name?\n",
        "\n",
        "..............\n",
        "\n",
        "Answer 5 -\n",
        "\n",
        "In the path \"C:\\bacon\\eggs\\spam.txt\":\n",
        "\n",
        "- The `directory` name, or dir name, is `\"C:\\bacon\\eggs`\". It represents the path to the directory that contains the file \"spam.txt\". It includes all the components of the path leading up to the file.\n",
        "\n",
        "- The `base` name is `\"spam.txt`\". It refers to the actual file name, including the extension (if any). It is the final component of the path and represents the name of the file itself."
      ],
      "metadata": {
        "id": "2qoI9IN0JJA6"
      }
    },
    {
      "cell_type": "markdown",
      "source": [
        "#Question 6\n",
        "\n",
        "What are the three “mode” arguments that can be passed to the open() function?\n",
        "\n",
        "..............\n",
        "\n",
        "Answer 6 -\n",
        "\n",
        "The open() function in Python accepts the following three common \"mode\" arguments:\n",
        "\n",
        "\n",
        "1) `Read Mode` (\"r\"): This is the default mode when no mode argument is specified. It allows reading data from a file. If the file does not exist or cannot be opened, it raises a FileNotFoundError.\n",
        "\n",
        "Example:"
      ],
      "metadata": {
        "id": "vqCFffRtJvLq"
      }
    },
    {
      "cell_type": "code",
      "source": [
        "file = open(\"example.txt\", \"r\")"
      ],
      "metadata": {
        "colab": {
          "base_uri": "https://localhost:8080/",
          "height": 165
        },
        "id": "Ew_uyBxdJIhd",
        "outputId": "9bc88eec-2f99-4305-eaa5-824deef8449d"
      },
      "execution_count": 12,
      "outputs": [
        {
          "output_type": "error",
          "ename": "FileNotFoundError",
          "evalue": "ignored",
          "traceback": [
            "\u001b[0;31m---------------------------------------------------------------------------\u001b[0m",
            "\u001b[0;31mFileNotFoundError\u001b[0m                         Traceback (most recent call last)",
            "\u001b[0;32m<ipython-input-12-12674be7b98f>\u001b[0m in \u001b[0;36m<cell line: 1>\u001b[0;34m()\u001b[0m\n\u001b[0;32m----> 1\u001b[0;31m \u001b[0mfile\u001b[0m \u001b[0;34m=\u001b[0m \u001b[0mopen\u001b[0m\u001b[0;34m(\u001b[0m\u001b[0;34m\"example.txt\"\u001b[0m\u001b[0;34m,\u001b[0m \u001b[0;34m\"r\"\u001b[0m\u001b[0;34m)\u001b[0m\u001b[0;34m\u001b[0m\u001b[0;34m\u001b[0m\u001b[0m\n\u001b[0m",
            "\u001b[0;31mFileNotFoundError\u001b[0m: [Errno 2] No such file or directory: 'example.txt'"
          ]
        }
      ]
    },
    {
      "cell_type": "markdown",
      "source": [
        "Write Mode (\"w\"): This mode is used for writing data to a file. If the file already exists, its contents are truncated (i.e., cleared) before writing. If the file does not exist, a new file is created. Example:"
      ],
      "metadata": {
        "id": "kAyG43sEJ9Jp"
      }
    },
    {
      "cell_type": "code",
      "source": [
        "file = open(\"example.txt\", \"w\")"
      ],
      "metadata": {
        "id": "GZykt3O3J-Eu"
      },
      "execution_count": 13,
      "outputs": []
    },
    {
      "cell_type": "markdown",
      "source": [
        "Append Mode (\"a\"): This mode is used for appending data to the end of a file. If the file exists, the data is added to the existing contents of the file. If the file does not exist, a new file is created. Example:"
      ],
      "metadata": {
        "id": "YjrkZ76BKBg9"
      }
    },
    {
      "cell_type": "code",
      "source": [
        "file = open(\"example.txt\", \"a\")"
      ],
      "metadata": {
        "id": "zkDUE4XQKET8"
      },
      "execution_count": 14,
      "outputs": []
    },
    {
      "cell_type": "markdown",
      "source": [
        "By specifying the appropriate mode argument when opening a file, you can control whether you want to read, write, or append data to the file."
      ],
      "metadata": {
        "id": "yl124xGqKhr9"
      }
    },
    {
      "cell_type": "markdown",
      "source": [
        "#Question 7\n",
        "\n",
        "What happens if an existing file is opened in write mode?\n",
        "\n",
        "............\n",
        "\n",
        "Answer 7 -\n",
        "\n",
        "If an existing file is opened in write mode (\"w\") using the open() function in Python, the following happens:\n",
        "\n",
        "1) **If the file exists**: The contents of the file are completely overwritten. All existing data in the file is deleted, and the file is essentially truncated to an empty state. The file is then ready to be written with new data.\n",
        "\n",
        "2) **If the file does not exist**: A new file with the specified name is created, and it is opened in write mode. This allows you to start writing new data to the newly created file.\n",
        "\n",
        "It is crucial to exercise caution when opening a file in write mode because the existing content will be permanently lost if not backed up or handled properly. If you need to preserve the existing data and append new content, you should use append mode (\"`a`\") instead of write mode (\"`w`\"). Append mode will not overwrite the existing data but rather allow you to add new data to the end of the file.\n",
        "\n",
        "Always ensure that you have a backup or are certain that you want to overwrite the contents of an existing file before opening it in write mode."
      ],
      "metadata": {
        "id": "QRFbg0vvKpix"
      }
    },
    {
      "cell_type": "markdown",
      "source": [
        "#Question 8\n",
        "\n",
        "How do you tell the difference between read() and readlines()?\n",
        "\n",
        ".............\n",
        "\n",
        "\n",
        "Answer 8 -\n",
        "\n",
        "In Python, the `read()` and `readlines()` methods are used to read data from a file. Here's how you can tell the difference between the two:\n",
        "\n",
        "1) **read()** : The `read()` method reads the entire contents of a file as a single string. It returns a string containing all the characters from the file. If you specify a parameter n inside the parentheses, it will read and return the next n characters from the file. If no parameter is provided, it reads the entire file.\n",
        "\n",
        "Example usage:"
      ],
      "metadata": {
        "id": "qyXOb3qSLMp5"
      }
    },
    {
      "cell_type": "code",
      "source": [
        "with open(\"example.txt\", \"r\") as file:\n",
        "    content = file.read()\n",
        "    print(content)"
      ],
      "metadata": {
        "colab": {
          "base_uri": "https://localhost:8080/"
        },
        "id": "APl14upiKd7m",
        "outputId": "f04be63b-7104-4f60-f4c2-b0906d254571"
      },
      "execution_count": 18,
      "outputs": [
        {
          "output_type": "stream",
          "name": "stdout",
          "text": [
            "\n"
          ]
        }
      ]
    },
    {
      "cell_type": "markdown",
      "source": [
        "2) `readlines()`: The `readlines()` method reads all the lines from a file and returns them as a list of strings. Each element in the list represents a line from the file, including the newline character at the end of each line.\n",
        "\n",
        "Example usage:"
      ],
      "metadata": {
        "id": "Y-XoWMLuLn9P"
      }
    },
    {
      "cell_type": "code",
      "source": [
        "with open(\"example.txt\", \"r\") as file:\n",
        "    lines = file.readlines()\n",
        "    for line in lines:\n",
        "        print(line)"
      ],
      "metadata": {
        "id": "x5TFAVfuLhWD"
      },
      "execution_count": 16,
      "outputs": []
    },
    {
      "cell_type": "markdown",
      "source": [
        "#Question 9\n",
        "\n",
        "What data structure does a shelf value resemble?\n",
        "\n",
        ".............\n",
        "\n",
        "Answer 9 -\n",
        "\n",
        "In Python, the `shelf` module provides a built-in dictionary-like data structure called \"shelf\" that resembles a persistent dictionary. It is implemented using the \"`dbm`\" module and allows you to store and retrieve key-value pairs on disk.\n",
        "\n",
        "The shelf data structure resembles a dictionary because it supports common dictionary operations such as storing, retrieving, and deleting key-value pairs. You can use keys to access corresponding values and perform operations like updating, deleting, and iterating over the items.\n",
        "\n",
        "However, unlike regular dictionaries, a shelf persists data on disk, allowing it to be saved and reloaded across different program executions. It is typically used for storing relatively large amounts of data that don't fit entirely in memory.\n",
        "\n",
        "To work with shelves, you need to import the \"`shelve'`\" module in Python. Here's an example of how to use it:"
      ],
      "metadata": {
        "id": "iwTz6nlaMlh3"
      }
    },
    {
      "cell_type": "code",
      "source": [
        "import shelve\n",
        "\n",
        "# Open/create a shelf file\n",
        "my_shelf = shelve.open(\"my_data\")\n",
        "\n",
        "# Storing key-value pairs\n",
        "my_shelf[\"key1\"] = \"value1\"\n",
        "my_shelf[\"key2\"] = \"value2\"\n",
        "\n",
        "# Retrieving values\n",
        "value1 = my_shelf[\"key1\"]\n",
        "value2 = my_shelf[\"key2\"]\n",
        "\n",
        "# Deleting a key-value pair\n",
        "del my_shelf[\"key1\"]\n",
        "\n",
        "# Closing the shelf file\n",
        "my_shelf.close()"
      ],
      "metadata": {
        "id": "Suwo_OUsLrB7"
      },
      "execution_count": 19,
      "outputs": []
    }
  ]
}