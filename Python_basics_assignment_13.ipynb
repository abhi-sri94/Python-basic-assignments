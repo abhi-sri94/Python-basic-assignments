{
  "nbformat": 4,
  "nbformat_minor": 0,
  "metadata": {
    "colab": {
      "provenance": [],
      "toc_visible": true
    },
    "kernelspec": {
      "name": "python3",
      "display_name": "Python 3"
    },
    "language_info": {
      "name": "python"
    }
  },
  "cells": [
    {
      "cell_type": "markdown",
      "source": [
        "#Question 1\n",
        "\n",
        "What advantages do Excel spreadsheets have over CSV spreadsheets?\n",
        "\n",
        ".............\n",
        "\n",
        "Answer 1 -\n",
        "\n",
        "Excel spreadsheets have several advantages over CSV (Comma-Separated Values) spreadsheets, including:\n",
        "\n",
        "1) **Data Structure** : Excel spreadsheets provide a structured data format with multiple worksheets, allowing you to organize data into separate tabs or sheets within a single file. In contrast, CSV files are flat files without any inherent structure, containing data in a simple tabular format.\n",
        "\n",
        "2) **Formulas and Functions** : Excel supports a wide range of built-in formulas and functions that enable complex calculations, data analysis, and automation. You can perform mathematical operations, create formulas to link and manipulate data between cells, use functions for statistical analysis, and more. CSV files, on the other hand, do not have built-in formula support and are primarily used for storing and exchanging data.\n",
        "\n",
        "3) **Data Validation and Formatting** : Excel provides features for data validation, allowing you to define rules and restrictions for data entry, such as dropdown lists, range limits, or custom validations. Additionally, Excel offers extensive formatting options, including cell styles, conditional formatting, number formats, and more. CSV files do not have built-in support for data validation or formatting.\n",
        "\n",
        "4) **Charts and Graphs** : Excel includes powerful charting and graphing capabilities, allowing you to create visual representations of data. You can generate various chart types, customize their appearance, and update them dynamically as the data changes. CSV files do not have native support for charts and graphs.\n",
        "\n",
        "5) **Macros and Automation** : Excel allows you to automate tasks and create macros using Visual Basic for Applications (VBA). With VBA, you can write scripts to perform repetitive tasks, manipulate data, create custom functions, and build interactive user interfaces. CSV files do not support macros or automation.\n",
        "\n",
        "6) **Collaboration and Review** : Excel supports collaborative features, such as track changes, comments, and shared workbooks, which enable multiple users to work on the same file simultaneously and provide feedback. These features enhance collaboration and facilitate reviewing and editing of data. CSV files lack built-in collaboration capabilities.\n",
        "\n",
        "7) **Rich Formatting and Styling** : Excel provides extensive formatting options for cells, including font styles, colors, borders, merging cells, and alignment settings. This allows you to enhance the visual appearance of data and create professional-looking spreadsheets. CSV files have limited or no formatting options."
      ],
      "metadata": {
        "id": "cPDM4WhbrhVy"
      }
    },
    {
      "cell_type": "markdown",
      "source": [
        "#Question 2\n",
        "\n",
        "What do you pass to csv.reader() and csv.writer() to create reader and writer objects?\n",
        "\n",
        ".............\n",
        "\n",
        "Answer 2 -\n",
        "\n",
        "To create reader and writer objects using the `csv.reader()` and `csv.writer()` functions in Python's csv module, you pass file objects as arguments. The file objects should be opened in the appropriate mode for reading or writing CSV data.\n",
        "\n",
        "Here's how you create reader and writer objects:\n",
        "\n",
        "1) **csv.reader()** :\n",
        "\n",
        "To create a reader object for reading CSV data, you pass a file object opened in text mode `('r')` as the first argument to **csv.reader()** . It is common to open the file using the **open()** function.\n",
        "\n",
        "Example:"
      ],
      "metadata": {
        "id": "aD0aKW3ssBVN"
      }
    },
    {
      "cell_type": "code",
      "source": [
        "import csv\n",
        "\n",
        "file_path = 'path_to_file.csv'\n",
        "file_obj = open(file_path, 'r')\n",
        "csv_reader = csv.reader(file_obj)"
      ],
      "metadata": {
        "id": "re21yOECs0oc"
      },
      "execution_count": null,
      "outputs": []
    },
    {
      "cell_type": "markdown",
      "source": [
        "In the example above, we open the CSV file in text mode and store the file object in `file_obj` . Then, we pass `file_obj` as the argument to **csv.reader()** to create a reader object `csv_reader` ."
      ],
      "metadata": {
        "id": "0pOd7Ldss3Rq"
      }
    },
    {
      "cell_type": "markdown",
      "source": [
        "2) **csv.writer()** :\n",
        "\n",
        "To create a writer object for writing CSV data, you pass a file object opened in text mode `('w')` as the first argument to **csv.writer()** . It is common to open the file using the **open()** function.\n",
        "\n",
        "Example:"
      ],
      "metadata": {
        "id": "23mvkuY1s8Qa"
      }
    },
    {
      "cell_type": "code",
      "source": [
        "import csv\n",
        "\n",
        "file_path = 'path_to_output_file.csv'\n",
        "file_obj = open(file_path, 'w')\n",
        "csv_writer = csv.writer(file_obj)"
      ],
      "metadata": {
        "id": "bNWydWnOs70A"
      },
      "execution_count": null,
      "outputs": []
    },
    {
      "cell_type": "markdown",
      "source": [
        "In the example above, we open the output CSV file in text mode and store the file object in `file_obj` . Then, we pass `file_obj` as the argument to **csv.writer()** to create a writer object `csv_writer` ."
      ],
      "metadata": {
        "id": "mbyRutvjtG7D"
      }
    },
    {
      "cell_type": "markdown",
      "source": [
        "#Question 3\n",
        "\n",
        "What modes do File objects for reader and writer objects need to be opened in?\n",
        "\n",
        "..............\n",
        "\n",
        "Answer 3 -\n",
        "\n",
        "For reader and writer objects in Python's csv module, the file objects need to be opened in different modes depending on their purpose.\n",
        "\n",
        "1) **Reader Object** :\n",
        "\n",
        "When creating a reader object using **csv.reader()** , the file object should be opened in text mode `('r')` to read CSV data.\n",
        "\n",
        "Example:"
      ],
      "metadata": {
        "id": "YkWfajTFt0fj"
      }
    },
    {
      "cell_type": "code",
      "source": [
        "import csv\n",
        "\n",
        "file_path = 'path_to_file.csv'\n",
        "file_obj = open(file_path, 'r')\n",
        "csv_reader = csv.reader(file_obj)"
      ],
      "metadata": {
        "id": "qe7iqgfwv6ji"
      },
      "execution_count": null,
      "outputs": []
    },
    {
      "cell_type": "markdown",
      "source": [
        "2) **Writer Object** :\n",
        "\n",
        "When creating a writer object using csv.writer(), the file object should be opened in text mode ('w') to write CSV data.\n",
        "\n",
        "Example:"
      ],
      "metadata": {
        "id": "MWUgU797v9j1"
      }
    },
    {
      "cell_type": "code",
      "source": [
        "import csv\n",
        "\n",
        "file_path = 'path_to_output_file.csv'\n",
        "file_obj = open(file_path, 'w')\n",
        "csv_writer = csv.writer(file_obj)"
      ],
      "metadata": {
        "id": "_M9rWDaFwCY9"
      },
      "execution_count": null,
      "outputs": []
    },
    {
      "cell_type": "markdown",
      "source": [
        "In the example above, we open the output CSV file in text mode `('w')` using the **open()** function and store the file object in `file_obj` . This file object is then passed as the argument to **csv.writer()** to create a writer object, `csv_writer` ."
      ],
      "metadata": {
        "id": "oVRqRlFKwDud"
      }
    },
    {
      "cell_type": "markdown",
      "source": [
        "#Question 4\n",
        "\n",
        "What method takes a list argument and writes it to a CSV file?\n",
        "\n",
        ".............\n",
        "\n",
        "Answer 4 -\n",
        "\n",
        "The csv.writer object in Python's csv module provides the **writerow()** method to write a list of values as a row to a CSV file. This method takes a list as an argument and writes its contents as a single row in the CSV file.\n",
        "\n",
        "Here's an example of how to use the **writerow()** method to write a list to a CSV file:"
      ],
      "metadata": {
        "id": "sAfoM1n8_ErA"
      }
    },
    {
      "cell_type": "code",
      "source": [
        "import csv\n",
        "\n",
        "file_path = 'path_to_output_file.csv'\n",
        "data = [1, 'John', 'Doe', 25]\n",
        "\n",
        "with open(file_path, 'w', newline='') as file_obj:\n",
        "    csv_writer = csv.writer(file_obj)\n",
        "    csv_writer.writerow(data)"
      ],
      "metadata": {
        "id": "DtZDllA9wN7Q"
      },
      "execution_count": null,
      "outputs": []
    },
    {
      "cell_type": "markdown",
      "source": [
        "In the example above, we have a list named data that contains values to be written as a row in the CSV file. We open the CSV file in write mode `('w')` using the **open()** function and store the file object in `file_obj` . The `newline=''` parameter is used to manage line endings properly in CSV files.\n",
        "\n",
        "Inside the `with` statement, we create a `csv.writer` object named `csv_writer` using the `file_obj` as the target file. Then, we call the **writerow()** method on csv_writer and pass the `data` list as an argument. This writes the contents of the data list as a single row in the CSV file."
      ],
      "metadata": {
        "id": "4LjClRsVAOXj"
      }
    },
    {
      "cell_type": "markdown",
      "source": [
        "#Question 5\n",
        "\n",
        "What do the keyword arguments delimiter and line terminator do?\n",
        "\n",
        "..............\n",
        "\n",
        "Answer 5 -\n",
        "\n",
        "The keyword arguments `delimiter` and `line_terminator` are optional parameters that can be used when working with the `csv.writer` object in Python's csv module. They help control the formatting and structure of the CSV file being written.\n",
        "\n",
        "1) **delimiter** :\n",
        "\n",
        "- The delimiter keyword argument specifies the character or string used to separate individual fields or values within each row of the CSV file.\n",
        "\n",
        "- By default, the delimiter is set to a `comma (,)` , which is the most common delimiter used in CSV files.\n",
        "\n",
        "- You can change the delimiter to any character or string you prefer, such as a semicolon `(;)` or a tab `(\\t)` , depending on your specific requirements.\n",
        "\n",
        "Example:"
      ],
      "metadata": {
        "id": "aiJlLx7CJbPY"
      }
    },
    {
      "cell_type": "code",
      "source": [
        "import csv\n",
        "\n",
        "file_path = 'path_to_output_file.csv'\n",
        "data = [1, 'John', 'Doe', 25]\n",
        "\n",
        "with open(file_path, 'w', newline='') as file_obj:\n",
        "    csv_writer = csv.writer(file_obj, delimiter=';')\n",
        "    csv_writer.writerow(data)"
      ],
      "metadata": {
        "id": "32zIckbEJagj"
      },
      "execution_count": null,
      "outputs": []
    },
    {
      "cell_type": "markdown",
      "source": [
        "In the example above, we create a `csv.writer` object, `csv_writer` , and set the delimiter parameter to a **semicolon (;)** . This causes the fields within each row to be separated by semicolons instead of commas."
      ],
      "metadata": {
        "id": "03ODkwY06xO9"
      }
    },
    {
      "cell_type": "markdown",
      "source": [
        "2) **line_terminator** :\n",
        "\n",
        "- The line_terminator keyword argument specifies the character or string used to terminate each line or row in the CSV file.\n",
        "\n",
        "- By default, the line_terminator is set to `'\\r\\n'` , which represents a carriage return and line feed and is the standard line ending sequence for CSV files on Windows systems.\n",
        "\n",
        "- You can modify the line_terminator to other line endings as per your requirements, such as `'\\n'` for Unix-like systems or `'\\r'` for older Mac systems.\n",
        "\n",
        "Example:"
      ],
      "metadata": {
        "id": "9cG5RMHj7ESC"
      }
    },
    {
      "cell_type": "code",
      "source": [
        "import csv\n",
        "\n",
        "file_path = 'path_to_output_file.csv'\n",
        "data = [1, 'John', 'Doe', 25]\n",
        "\n",
        "with open(file_path, 'w', newline='') as file_obj:\n",
        "    csv_writer = csv.writer(file_obj, line_terminator='\\n')\n",
        "    csv_writer.writerow(data)"
      ],
      "metadata": {
        "id": "x1-zdHdK7Bpj"
      },
      "execution_count": null,
      "outputs": []
    },
    {
      "cell_type": "markdown",
      "source": [
        "In the example above, we create a `csv.writer` object, `csv_writer` , and set the `line_terminator` parameter to **'\\n'** , which represents a newline character. This causes each row in the CSV file to be terminated by a newline instead of the default Windows-style line ending."
      ],
      "metadata": {
        "id": "HAxIDcXM7VKv"
      }
    },
    {
      "cell_type": "markdown",
      "source": [
        "#Question 6\n",
        "\n",
        "What function takes a string of JSON data and returns a Python data structure?\n",
        "\n",
        ".............\n",
        "\n",
        "Answer 6 -\n",
        "\n",
        "The function that takes a string of JSON data and returns a Python data structure is **json.loads()** . The **loads()** function is part of the built-in `json` module in Python and is used to deserialize or parse a JSON string into a corresponding Python object.\n",
        "\n",
        "Here's an example of using json.loads():"
      ],
      "metadata": {
        "id": "w1zuyEZE8BCP"
      }
    },
    {
      "cell_type": "code",
      "source": [
        "import json\n",
        "\n",
        "json_data = '{\"name\": \"John\", \"age\": 30, \"city\": \"New York\"}'\n",
        "python_data = json.loads(json_data)\n",
        "\n",
        "print(python_data)"
      ],
      "metadata": {
        "id": "o36b0T058UNB"
      },
      "execution_count": null,
      "outputs": []
    },
    {
      "cell_type": "markdown",
      "source": [
        "In the example above, we have a `JSON string` stored in the variable `json_data` . We pass this string as an argument to `json.loads()` , which parses the JSON data and returns a Python data structure. In this case, the returned data is a dictionary object.\n",
        "\n",
        "The **print(python_data)** statement outputs the resulting Python data structure:"
      ],
      "metadata": {
        "id": "-MjX8mWo8XX9"
      }
    },
    {
      "cell_type": "code",
      "source": [
        "{'name': 'John', 'age': 30, 'city': 'New York'}"
      ],
      "metadata": {
        "id": "LtqMrhNU8goU"
      },
      "execution_count": null,
      "outputs": []
    },
    {
      "cell_type": "markdown",
      "source": [
        "The json.loads() function can handle various JSON data types, such as objects (dictionaries), arrays (lists), strings, numbers, booleans, and null values. It converts them into their respective Python equivalents, allowing you to work with the JSON data as native Python objects."
      ],
      "metadata": {
        "id": "Zk-PeaLQ8kaF"
      }
    },
    {
      "cell_type": "markdown",
      "source": [
        "#Question 7\n",
        "\n",
        "What function takes a Python data structure and returns a string of JSON data?\n",
        "\n",
        ".............\n",
        "\n",
        "Answer 7 -\n",
        "\n",
        "The function that takes a Python data structure and returns a string of JSON data is **json.dumps()** . The **dumps()** function is part of the built-in json module in Python and is used to serialize a Python object into its corresponding JSON representation.\n",
        "\n",
        "Here's an example of using `json.dumps()` :"
      ],
      "metadata": {
        "id": "aGZLqBGu8s2L"
      }
    },
    {
      "cell_type": "code",
      "source": [
        "import json\n",
        "\n",
        "python_data = {'name': 'John', 'age': 30, 'city': 'New York'}\n",
        "json_data = json.dumps(python_data)\n",
        "\n",
        "print(json_data)"
      ],
      "metadata": {
        "id": "mmpBK_Qw8sW1"
      },
      "execution_count": null,
      "outputs": []
    },
    {
      "cell_type": "markdown",
      "source": [
        "In the example above, we have a Python dictionary object `python_data` that we want to convert into a JSON string. We pass this object as an argument to **json.dumps()**, which serializes the Python data structure into a JSON-formatted string.\n",
        "\n",
        "The `print(json_data)` statement outputs the resulting JSON string:"
      ],
      "metadata": {
        "id": "5Ei3TI1Z9Pm6"
      }
    },
    {
      "cell_type": "code",
      "source": [
        "{\"name\": \"John\", \"age\": 30, \"city\": \"New York\"}"
      ],
      "metadata": {
        "id": "nYxJ8-vJ9acJ"
      },
      "execution_count": null,
      "outputs": []
    },
    {
      "cell_type": "markdown",
      "source": [
        "The **json.dumps()** function can handle various Python data types, such as dictionaries, lists, strings, numbers, booleans, and None. It converts them into their corresponding JSON representations, allowing you to work with the data in JSON format."
      ],
      "metadata": {
        "id": "c4DPJRwZ9cpQ"
      }
    }
  ]
}