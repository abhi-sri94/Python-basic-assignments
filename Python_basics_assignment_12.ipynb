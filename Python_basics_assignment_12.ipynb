{
  "nbformat": 4,
  "nbformat_minor": 0,
  "metadata": {
    "colab": {
      "provenance": [],
      "toc_visible": true
    },
    "kernelspec": {
      "name": "python3",
      "display_name": "Python 3"
    },
    "language_info": {
      "name": "python"
    }
  },
  "cells": [
    {
      "cell_type": "markdown",
      "source": [
        "#Question 1\n",
        "\n",
        "In what modes should the PdfFileReader() and PdfFileWriter() File objects will be opened?\n",
        "\n",
        "............\n",
        "\n",
        "Answer 1 -\n",
        "\n",
        "In Python's `PyPDF2 library` , the `PdfFileReader()` and `PdfFileWriter()` functions are used to read and write PDF files, respectively. These functions require file objects to be passed as arguments. The file objects should be opened in different modes depending on their purpose.\n",
        "\n",
        "Here's how the file objects should be opened for `PdfFileReader()` and `PdfFileWriter()`:\n",
        "\n",
        "1) **PdfFileReader()** :\n",
        "\n",
        "When using `PdfFileReader()` to read a PDF file, the file object should be opened in binary mode `('rb')` . This is because PDF files are binary files, and reading them in text mode may cause encoding issues or corruption.\n",
        "\n",
        "Example:"
      ],
      "metadata": {
        "id": "JH18pgHqSmZC"
      }
    },
    {
      "cell_type": "code",
      "source": [
        "file_path = 'path_to_file.pdf'\n",
        "file_obj = open(file_path, 'rb')\n",
        "pdf_reader = PdfFileReader(file_obj)"
      ],
      "metadata": {
        "id": "htDG_BQKmdqY"
      },
      "execution_count": null,
      "outputs": []
    },
    {
      "cell_type": "markdown",
      "source": [
        "2) **PdfFileWriter()** :\n",
        "\n",
        "When using `PdfFileWriter()` to write or modify a PDF file, the file object should be opened in binary mode\n",
        " `('wb')` . This is necessary to ensure that the resulting PDF file is written correctly.\n",
        "\n",
        "Example:"
      ],
      "metadata": {
        "id": "0yv0H69RmhwH"
      }
    },
    {
      "cell_type": "code",
      "source": [
        "file_path = 'path_to_output_file.pdf'\n",
        "file_obj = open(file_path, 'wb')\n",
        "pdf_writer = PdfFileWriter()\n",
        "pdf_writer.addPage(new_page)  # Add pages or perform other modifications\n",
        "pdf_writer.write(file_obj)  # Write changes to the file"
      ],
      "metadata": {
        "id": "bu9qKKC0minI"
      },
      "execution_count": null,
      "outputs": []
    },
    {
      "cell_type": "markdown",
      "source": [
        "#Question 2\n",
        "\n",
        "From a PdfFileReader object, how do you get a Page object for page 5?\n",
        "\n",
        "..............\n",
        "\n",
        "Answer 2 -\n",
        "\n",
        "To retrieve a Page object for a specific page from a PdfFileReader object, you can use the `getPage()` method and pass the index of the desired page as an argument. However, it's important to note that the index is zero-based, meaning the first page has an index of 0.\n",
        "\n",
        "Here's an example of how to get a Page object for page 5:"
      ],
      "metadata": {
        "id": "PygiAtW-mnXn"
      }
    },
    {
      "cell_type": "code",
      "source": [
        "from PyPDF2 import PdfFileReader\n",
        "\n",
        "file_path = 'path_to_file.pdf'\n",
        "pdf_reader = PdfFileReader(open(file_path, 'rb'))\n",
        "\n",
        "page_number = 4  # Zero-based index for page 5\n",
        "page = pdf_reader.getPage(page_number)"
      ],
      "metadata": {
        "id": "AUY4tkVKm8KQ"
      },
      "execution_count": null,
      "outputs": []
    },
    {
      "cell_type": "markdown",
      "source": [
        "In the example above, we first create a PdfFileReader object by opening the PDF file in binary mode. Then, we specify the page number we want to retrieve by providing its zero-based index (4 for page 5). Finally, we use the `getPage()` method to obtain the Page object for that specific page."
      ],
      "metadata": {
        "id": "Srrv15xpnHf5"
      }
    },
    {
      "cell_type": "markdown",
      "source": [
        "#Question 3\n",
        "\n",
        "What PdfFileReader variable stores the number of pages in the PDF document?\n",
        "\n",
        ".............\n",
        "\n",
        "Answer 3 -\n",
        "\n",
        "In the `PyPDF2` library, the `PdfFileReader` class in Python has a property called **numPages** that stores the number of pages in the PDF document. You can access this property to retrieve the total number of pages.\n",
        "\n",
        "Example:"
      ],
      "metadata": {
        "id": "xaa0_g4yoosU"
      }
    },
    {
      "cell_type": "code",
      "source": [
        "from PyPDF2 import PdfFileReader\n",
        "\n",
        "file_path = 'path_to_file.pdf'\n",
        "pdf_reader = PdfFileReader(open(file_path, 'rb'))\n",
        "\n",
        "num_pages = pdf_reader.numPages\n",
        "print(\"Total number of pages:\", num_pages)"
      ],
      "metadata": {
        "id": "oEfiAWpknIzV"
      },
      "execution_count": null,
      "outputs": []
    },
    {
      "cell_type": "markdown",
      "source": [
        "In the example above, we create a `PdfFileReader` object by opening the PDF file in `binary mode` . Then, we access the numPages property of the `PdfFileReader` object and store it in the `num_pages` variable. Finally, we print the total number of pages using the `print()` statement.\n",
        "\n",
        "By accessing the numPages property, you can determine the number of pages in a PDF document using the PdfFileReader variable."
      ],
      "metadata": {
        "id": "Sgz_D0mJo3kK"
      }
    },
    {
      "cell_type": "markdown",
      "source": [
        "#Question 4\n",
        "\n",
        "If a PdfFileReader object's PDF is encrypted with the password swordfish, what must you do\n",
        "before you can obtain Page objects from it?\n",
        "\n",
        ".............\n",
        "\n",
        "Answer 4 -\n",
        "\n",
        "If a `PdfFileReader` object's PDF is encrypted with a password (e.g., \"swordfish\"), you need to provide the password before you can obtain Page objects from it. This is necessary to decrypt the PDF and gain access to its contents.\n",
        "\n",
        "To handle an encrypted PDF in `PyPDF2` , you can use the **decrypt()** method of the PdfFileReader object and pass the password as an argument. After decrypting the PDF, you can then work with the Page objects as usual.\n",
        "\n",
        "Here's an example of how to handle an encrypted PDF:"
      ],
      "metadata": {
        "id": "__5r5ouDpLLo"
      }
    },
    {
      "cell_type": "code",
      "source": [
        "from PyPDF2 import PdfFileReader\n",
        "\n",
        "file_path = 'path_to_file.pdf'\n",
        "password = 'swordfish'\n",
        "\n",
        "pdf_reader = PdfFileReader(open(file_path, 'rb'))\n",
        "if pdf_reader.isEncrypted:\n",
        "    pdf_reader.decrypt(password)\n",
        "\n",
        "# Now you can obtain Page objects\n",
        "page = pdf_reader.getPage(0)  # Example: Get the first page"
      ],
      "metadata": {
        "id": "3UY-QQF0pKgV"
      },
      "execution_count": null,
      "outputs": []
    },
    {
      "cell_type": "markdown",
      "source": [
        "In the example above, we first create a `PdfFileReader` object by opening the PDF file in `binary mode` . We then check if the PDF is encrypted using the `isEncrypted` property. If it is encrypted, we call the **decrypt()** method of the PdfFileReader object and provide the correct password. After decrypting the PDF, we can proceed to obtain Page objects using the **getPage()** method."
      ],
      "metadata": {
        "id": "yVTTE6RUnNxz"
      }
    },
    {
      "cell_type": "markdown",
      "source": [
        "#Question 5\n",
        "\n",
        "What methods do you use to rotate a page?\n",
        "\n",
        ".............\n",
        "\n",
        "Answer 5 -\n",
        "\n",
        "To rotate a page in `PyPDF2` , you can use the **rotateClockwise()** or **rotateCounterClockwise()** methods of the `PageObject` class. These methods allow you to rotate the content of a specific page clockwise or counterclockwise, respectively.\n",
        "\n",
        "Here's an example of how to rotate a page:"
      ],
      "metadata": {
        "id": "UU16IByxOq9M"
      }
    },
    {
      "cell_type": "code",
      "source": [
        "from PyPDF2 import PdfFileReader, PdfFileWriter\n",
        "\n",
        "file_path = 'path_to_file.pdf'\n",
        "output_path = 'path_to_output_file.pdf'\n",
        "rotation_angle = 90  # Rotation angle in degrees (clockwise)\n",
        "\n",
        "pdf_reader = PdfFileReader(open(file_path, 'rb'))\n",
        "pdf_writer = PdfFileWriter()\n",
        "\n",
        "for page_number in range(pdf_reader.numPages):\n",
        "    page = pdf_reader.getPage(page_number)\n",
        "    page.rotateClockwise(rotation_angle)\n",
        "    pdf_writer.addPage(page)\n",
        "\n",
        "with open(output_path, 'wb') as output_file:\n",
        "    pdf_writer.write(output_file)"
      ],
      "metadata": {
        "id": "WocyyI4Anp3Q"
      },
      "execution_count": null,
      "outputs": []
    },
    {
      "cell_type": "markdown",
      "source": [
        "In the example above, we first create a `PdfFileReader` object to read the input PDF file. We also create a `PdfFileWriter` object to store the modified pages and write them to the output file.\n",
        "\n",
        "Next, we iterate over each page of the input PDF using a `for` loop. For each page, we obtain the Page object using **getPage()** and then apply the rotation using the **rotateClockwise()** method. You can also use **rotateCounterClockwise()** if you prefer a counterclockwise rotation.\n",
        "\n",
        "Finally, we add the modified page to the `PdfFileWriter` using **addPage()** . After processing all the pages, we write the modified PDF to the output file using the **write()** method of PdfFileWriter."
      ],
      "metadata": {
        "id": "ymaRlMrVPJMl"
      }
    },
    {
      "cell_type": "markdown",
      "source": [
        "#Question 6\n",
        "\n",
        "What is the difference between a Run object and a Paragraph object?\n",
        "\n",
        "..............\n",
        "\n",
        "Answer 6 -\n",
        "\n",
        "In the context of document processing, a \"Run\" and a \"Paragraph\" are commonly used terms in various libraries and frameworks, such as Microsoft Word or Python's python-docx library. The main difference between a \"Run\" object and a \"Paragraph\" object lies in their respective roles and purposes within the document structure.\n",
        "\n",
        "1) Run Object:\n",
        "\n",
        "- A \"Run\" represents a contiguous range of text within a paragraph that shares the same formatting properties.\n",
        "\n",
        "- It is typically used to style a portion of text within a paragraph differently from the rest, such as applying specific font formatting, color, bold or italic styles, etc.\n",
        "\n",
        "- Runs are often used to handle text manipulation at a granular level, allowing different portions of text within a paragraph to have distinct formatting.\n",
        "\n",
        "- A paragraph can contain multiple runs, each with its own set of formatting properties.\n",
        "\n",
        "- Examples of runs can include words or phrases within a paragraph that need to be styled differently.\n",
        "\n",
        "2) Paragraph Object:\n",
        "\n",
        "- A **\"Paragraph\"** represents a block of text within a document that is separated from other paragraphs by line breaks or other formatting elements.\n",
        "\n",
        "- It is typically used to organize and structure textual content into meaningful units.\n",
        "\n",
        "- A paragraph can consist of one or more runs, forming a coherent section of text with consistent formatting.\n",
        "\n",
        "- Paragraphs are often used to handle higher-level text manipulation, such as aligning paragraphs, setting spacing between paragraphs, applying indentation, or handling overall paragraph-level formatting.\n",
        "\n",
        "- Examples of paragraphs can include headings, body text, bullet points, or any logical division of content within a document."
      ],
      "metadata": {
        "id": "vl2Y-WFBP2Fc"
      }
    },
    {
      "cell_type": "markdown",
      "source": [
        "#Question 7\n",
        "\n",
        "How do you obtain a list of Paragraph objects for a Document object that's stored in a variable\n",
        "named doc?\n",
        "\n",
        "..............\n",
        "\n",
        "Answer 7 -\n",
        "\n",
        "To obtain a list of `Paragraph` objects from a `Document` object stored in a variable named `doc` , you would typically use the appropriate method or property provided by the specific library or framework you are using. The exact implementation may vary depending on the library used for document processing. Here's an example using the `python-docx` library:"
      ],
      "metadata": {
        "id": "VY3Z6ODVSLpM"
      }
    },
    {
      "cell_type": "code",
      "source": [
        "from docx import Document\n",
        "\n",
        "doc_path = 'path_to_document.docx' # Assuming 'doc' is a Document object\n",
        "doc = Document(doc_path)\n",
        "\n",
        "paragraphs = doc.paragraphs"
      ],
      "metadata": {
        "id": "w3JnSy_ZPxOZ"
      },
      "execution_count": null,
      "outputs": []
    },
    {
      "cell_type": "markdown",
      "source": [
        "In the example above, let's assume that we have already loaded a document using the `Document` class from the `python-docx` library and stored it in the variable `doc` . The `paragraphs` property of the `Document` object provides a list of all the Paragraph objects in the document."
      ],
      "metadata": {
        "id": "oduI4st8Wbq_"
      }
    },
    {
      "cell_type": "markdown",
      "source": [
        "#Question 8\n",
        "\n",
        "What type of object has bold, underline, italic, strike, and outline variables?\n",
        "\n",
        "...............\n",
        "\n",
        "Answer 8 -\n",
        "\n",
        "The object that typically has properties such as bold, underline, italic, strike, and outline is a \"Font\" object. In various document processing libraries or frameworks, a Font object represents the formatting and properties applied to a specific portion of text.\n",
        "\n",
        "For example, in the `python-docx` library for working with Microsoft Word documents, a Font object provides attributes like **bold** , <u>underline </u> , *italic* , ~strike~ , and outline to control the formatting of text.\n",
        "\n",
        "Here's an example of accessing these properties in `python-docx` :"
      ],
      "metadata": {
        "id": "AE8cDIraXPpI"
      }
    },
    {
      "cell_type": "code",
      "source": [
        "from docx import Document\n",
        "\n",
        "doc_path = 'path_to_document.docx'\n",
        "doc = Document(doc_path)\n",
        "\n",
        "# Assuming we want to access the first paragraph's first run's font properties\n",
        "paragraph = doc.paragraphs[0]\n",
        "run = paragraph.runs[0]\n",
        "font = run.font\n",
        "\n",
        "# Accessing font properties\n",
        "is_bold = font.bold\n",
        "is_underline = font.underline\n",
        "is_italic = font.italic\n",
        "is_strike = font.strike\n",
        "is_outline = font.outline"
      ],
      "metadata": {
        "id": "F9Lx8s3AW0Dj"
      },
      "execution_count": null,
      "outputs": []
    },
    {
      "cell_type": "markdown",
      "source": [
        "#Question 9\n",
        "\n",
        "What is the difference between False, True, and None for the bold variable?\n",
        "\n",
        "..............\n",
        "\n",
        "Answer 9 -\n",
        "\n",
        "In the context of the `bold` variable, which is commonly used in document processing libraries, such as `python-docx` , `False` , `True` , and `None` have different meanings:\n",
        "\n",
        "1) **False** :\n",
        "\n",
        "- Setting bold to False typically means that the text is not bold.\n",
        "\n",
        "- When applied to a font or text style, it indicates that the text should not be displayed in a bold format.\n",
        "\n",
        "2) **True** :\n",
        "\n",
        "- Setting bold to True typically means that the text is bold.\n",
        "\n",
        "- When applied to a font or text style, it indicates that the text should be displayed in a bold format.\n",
        "\n",
        "3) **None**:\n",
        "\n",
        "- When bold is set to None, it means that the bold attribute is not explicitly specified or is left unchanged.\n",
        "\n",
        "- It indicates that the text's boldness should be inherited or determined based on the default styling or the surrounding context.\n",
        "\n",
        "In many document processing libraries, setting bold to None allows you to inherit the boldness from the parent style or apply the default formatting. This is useful when you want to maintain the existing formatting or let the styling cascade down from a higher level."
      ],
      "metadata": {
        "id": "wP7LUYZlYgg_"
      }
    },
    {
      "cell_type": "markdown",
      "source": [
        "#Question 10\n",
        "\n",
        "How do you create a Document object for a new Word document?\n",
        "\n",
        "..............\n",
        "\n",
        "Answer 10 -\n",
        "\n",
        "To create a Document object for a new Word document using the python-docx library, you can simply instantiate a new instance of the Document class.\n",
        "\n",
        "Here's an example:"
      ],
      "metadata": {
        "id": "EARkUeVxuK9L"
      }
    },
    {
      "cell_type": "code",
      "source": [
        "from docx import Document\n",
        "\n",
        "doc = Document()"
      ],
      "metadata": {
        "id": "eafM2UfUZWTy"
      },
      "execution_count": null,
      "outputs": []
    },
    {
      "cell_type": "markdown",
      "source": [
        "In the example above, we import the Document class from the docx module. Then, we create a new instance of the Document class using the constructor, which creates an empty Word document."
      ],
      "metadata": {
        "id": "_vrZUTxaug6z"
      }
    },
    {
      "cell_type": "markdown",
      "source": [
        "#Question 11\n",
        "\n",
        "How do you add a paragraph with the text 'Hello, there!' to a Document object stored in a\n",
        "variable named doc?\n",
        "\n",
        "...............\n",
        "\n",
        "Answer 11 -\n",
        "\n",
        "To add a paragraph with the text `'Hello, there!'` to a Document object stored in a variable named `doc` using the `python-docx` library, you can use the **add_paragraph()** method. Here's an example:\n",
        "\n"
      ],
      "metadata": {
        "id": "84rURrxS3qTr"
      }
    },
    {
      "cell_type": "code",
      "source": [
        "from docx import Document\n",
        "\n",
        "doc = Document()\n",
        "text = 'Hello, there!'\n",
        "\n",
        "doc.add_paragraph(text)"
      ],
      "metadata": {
        "id": "SHMF8WoQ3dOy"
      },
      "execution_count": null,
      "outputs": []
    },
    {
      "cell_type": "markdown",
      "source": [
        "In the example above, we first create a new instance of the `Document` class and store it in the `doc` variable. Then, we define the text content that we want to add to the paragraph, which is `'Hello, there!'` .\n",
        "\n",
        "Next, we use the **add_paragraph()** method of the Document object (doc) to add a new paragraph with the specified text. The **add_paragraph()** method automatically creates a new paragraph in the document and appends the given text to it."
      ],
      "metadata": {
        "id": "f49L0IlRNoQ9"
      }
    },
    {
      "cell_type": "markdown",
      "source": [
        "#Question 12\n",
        "\n",
        "What integers represent the levels of headings available in Word documents?\n",
        "\n",
        "..............\n",
        "\n",
        "Answer 12 -\n",
        "\n",
        "In Word documents, the levels of headings are typically represented by integers ranging from 1 to 9. These integers indicate the hierarchical structure and importance of the headings within the document. The lower the number, the higher the level of the heading. However, it's important to note that the exact number of heading levels and their corresponding styles may vary depending on the specific document template or formatting settings.\n",
        "\n",
        "In a standard Word document, the following integers typically represent the levels of headings:\n",
        "\n",
        "- Heading 1: Level 1\n",
        "- Heading 2: Level 2\n",
        "- Heading 3: Level 3\n",
        "- Heading 4: Level 4\n",
        "- Heading 5: Level 5\n",
        "- Heading 6: Level 6\n",
        "- Heading 7: Level 7\n",
        "- Heading 8: Level 8\n",
        "- Heading 9: Level 9\n",
        "\n",
        "These heading levels allow you to create a structured and hierarchical organization of content within your Word documents. Each heading level can have its own formatting, such as font style, size, and spacing, which helps in visually distinguishing different sections or levels of importance in the document.\n",
        "\n",
        "When working with document processing libraries or frameworks, such as python-docx, you can use these heading levels to apply the appropriate formatting and styling to the headings programmatically."
      ],
      "metadata": {
        "id": "PmBjBT5yN3ij"
      }
    },
    {
      "cell_type": "code",
      "source": [],
      "metadata": {
        "id": "RZQfJ2NVN0Or"
      },
      "execution_count": null,
      "outputs": []
    }
  ]
}