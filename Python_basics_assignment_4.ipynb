{
  "nbformat": 4,
  "nbformat_minor": 0,
  "metadata": {
    "colab": {
      "provenance": [],
      "toc_visible": true
    },
    "kernelspec": {
      "name": "python3",
      "display_name": "Python 3"
    },
    "language_info": {
      "name": "python"
    }
  },
  "cells": [
    {
      "cell_type": "markdown",
      "source": [
        "#Question 1 - \n",
        "\n",
        "What exactly is []?\n",
        "\n",
        "................\n",
        "\n",
        "\n",
        "Answer 1 - \n",
        "\n",
        "In Python, `[]` represents an empty list. It is a built-in data type that is used to store an ordered collection of items. A list is mutable, which means its elements can be modified, added, or removed.\n",
        "\n",
        "An empty list, denoted by `[]`, has no elements. It is a list literal that represents the absence of any items in the list. You can think of it as an empty container that can be filled with values later.\n",
        "\n",
        "Here's an example of creating an empty list and adding elements to it:"
      ],
      "metadata": {
        "id": "BCThjMoqYfa0"
      }
    },
    {
      "cell_type": "code",
      "execution_count": null,
      "metadata": {
        "id": "RZiMPejpYbtx"
      },
      "outputs": [],
      "source": [
        "my_list = []  # Creating an empty list\n",
        "print(my_list)  # Output: []\n",
        "\n",
        "my_list.append(10)  # Adding an element to the list\n",
        "my_list.append(20)\n",
        "print(my_list)  # Output: [10, 20]"
      ]
    },
    {
      "cell_type": "markdown",
      "source": [
        "In this example, `my_list` is initially an empty list. Elements are added to the list using the `append()` method. The `[]` notation represents an empty list at the beginning, and as elements are appended, the list grows with those elements.\n",
        "\n",
        "Lists are versatile data structures in Python and are commonly used to store and manipulate collections of related data."
      ],
      "metadata": {
        "id": "6_G_QXdzZCgz"
      }
    },
    {
      "cell_type": "markdown",
      "source": [
        "#Question 2\n",
        "\n",
        "In a list of values stored in a variable called spam, how would you assign the value &#39;hello&#39; as the\n",
        "third value? (Assume [2, 4, 6, 8, 10] are in spam.)\n",
        "\n",
        "\n",
        ".............\n",
        "\n",
        "Answer 2 - \n",
        "\n",
        "\n",
        "To assign the value 'hello' as the third value in the list `spam`, you can use indexing and assignment as follows:"
      ],
      "metadata": {
        "id": "WBEpOrSdLrCF"
      }
    },
    {
      "cell_type": "code",
      "source": [
        "spam = [2, 4, 6, 8, 10]\n",
        "spam[2] = 'hello'"
      ],
      "metadata": {
        "id": "Rgj4h1zcMKbw"
      },
      "execution_count": 3,
      "outputs": []
    },
    {
      "cell_type": "markdown",
      "source": [
        "After executing this code, the list spam will be modified to [2, 4, 'hello', 8, 10], where 'hello' is the third value (at index 2) in the list."
      ],
      "metadata": {
        "id": "-GuAeHymMZXV"
      }
    },
    {
      "cell_type": "code",
      "source": [
        "spam"
      ],
      "metadata": {
        "colab": {
          "base_uri": "https://localhost:8080/"
        },
        "id": "l6kcuqx0MMOO",
        "outputId": "633a1270-bb90-4686-9cab-6fd43dcc8a7b"
      },
      "execution_count": 4,
      "outputs": [
        {
          "output_type": "execute_result",
          "data": {
            "text/plain": [
              "[2, 4, 'hello', 8, 10]"
            ]
          },
          "metadata": {},
          "execution_count": 4
        }
      ]
    },
    {
      "cell_type": "markdown",
      "source": [
        "#Question 3 - \n",
        "\n",
        "Let's pretend the spam includes the list `['a' , 'b' , 'c' , 'd']`\n",
        "\n",
        "What is the value of spam[int(int('3' * 2) / 11)]?\n",
        "\n",
        "..............\n",
        "\n",
        "Answer 3 - \n",
        "\n",
        "Given the list spam as `[a, b, c, d]`, let's evaluate the expression `spam[int(int('3' * 2) / 11)]` step by step:\n",
        "\n",
        "1) `'3' * 2` evaluates to `'33'` (string concatenation of '3' and '3').\n",
        "\n",
        "2) `int('33')` converts the string '33' to an integer value of 33.\n",
        "\n",
        "3) `33 / 11` performs integer division, resulting in a quotient of 3.\n",
        "\n",
        "4) `spam[3]` accesses the element at index 3 in the list `spam`.\n",
        "\n",
        "Since the list `spam` has elements `[a, b, c, d]`, the value of `spam[int(int('3' * 2) / 11)]` would be the element at index 3, which is `'d'` ."
      ],
      "metadata": {
        "id": "JahJkFrBMnjf"
      }
    },
    {
      "cell_type": "code",
      "source": [
        "spam = ['a' , 'b' , 'c' , 'd']\n",
        "\n",
        "spam[int(int('3' * 2) / 11)]"
      ],
      "metadata": {
        "colab": {
          "base_uri": "https://localhost:8080/",
          "height": 35
        },
        "id": "3ncrHw1WQZT6",
        "outputId": "09187f4c-1312-4d70-99bb-08f15dd059cb"
      },
      "execution_count": 9,
      "outputs": [
        {
          "output_type": "execute_result",
          "data": {
            "text/plain": [
              "'d'"
            ],
            "application/vnd.google.colaboratory.intrinsic+json": {
              "type": "string"
            }
          },
          "metadata": {},
          "execution_count": 9
        }
      ]
    },
    {
      "cell_type": "markdown",
      "source": [
        "#Question 4 - \n",
        "\n",
        "What is the value of `spam[-1]` ?\n",
        "\n",
        "...............\n",
        "\n",
        "Answer 4 - \n",
        "\n",
        "If the list spam is `['a', 'b', 'c', 'd']` , the expression `spam[-1]` refers to the last element of the list.\n",
        "\n",
        "In this case, the value of `spam[-1]` would be `'d'` ."
      ],
      "metadata": {
        "id": "IEOZUrwGOJYG"
      }
    },
    {
      "cell_type": "code",
      "source": [
        "spam[-1]"
      ],
      "metadata": {
        "colab": {
          "base_uri": "https://localhost:8080/",
          "height": 35
        },
        "id": "lugZS5svPqEr",
        "outputId": "7bc8ecc5-0344-45a4-fb05-1d24948e304e"
      },
      "execution_count": 8,
      "outputs": [
        {
          "output_type": "execute_result",
          "data": {
            "text/plain": [
              "'d'"
            ],
            "application/vnd.google.colaboratory.intrinsic+json": {
              "type": "string"
            }
          },
          "metadata": {},
          "execution_count": 8
        }
      ]
    },
    {
      "cell_type": "markdown",
      "source": [
        "#Question 5 - \n",
        "\n",
        "What is the value of `spam[:2]` ?\n",
        "\n",
        "...............\n",
        "\n",
        "Answer 5 - \n",
        "\n",
        "If the list `spam` is `['a', 'b', 'c', 'd']`, the expression `spam[:1]` is a slicing operation that retrieves a portion of the list from the beginning up to, but not including, the index 1.\n",
        "\n",
        "In this case, the value of `spam[:1]` would be `['a']` , which is a new list containing only the first element `'a'` ."
      ],
      "metadata": {
        "id": "9Hxdl27PPADQ"
      }
    },
    {
      "cell_type": "code",
      "source": [
        "spam[:1]"
      ],
      "metadata": {
        "colab": {
          "base_uri": "https://localhost:8080/"
        },
        "id": "woZ2kSGaPnkn",
        "outputId": "4fe54e3a-725d-4e05-da65-939a81b9398f"
      },
      "execution_count": 6,
      "outputs": [
        {
          "output_type": "execute_result",
          "data": {
            "text/plain": [
              "['a']"
            ]
          },
          "metadata": {},
          "execution_count": 6
        }
      ]
    },
    {
      "cell_type": "markdown",
      "source": [
        "#Question 6 - \n",
        "\n",
        "Let's pretend bacon has the list [3.14, 'cat' 11 , 'cat' , True]\n",
        "\n",
        "What is the value of `bacon.index('cat')` ?\n",
        "\n",
        "................\n",
        "\n",
        "Answer 6 - \n",
        "\n",
        "If bacon is the list `[3.14, 'cat', 11, 'cat', True]`, the `bacon.index('cat')` function call will return the index of the first occurrence of the value 'cat' in the list.\n",
        "\n",
        "In this case, the value of `bacon.index('cat')` is `1`, because 'cat' is found at index 1 in the list bacon."
      ],
      "metadata": {
        "id": "09M4cYeuQqTm"
      }
    },
    {
      "cell_type": "code",
      "source": [
        "bacon = [3.14, 'cat' , 11 , 'cat' , True]\n",
        "\n",
        "bacon.index('cat')"
      ],
      "metadata": {
        "colab": {
          "base_uri": "https://localhost:8080/"
        },
        "id": "nNkfEMHiRsyg",
        "outputId": "2956b432-7474-4af0-a2ee-2b36906150ca"
      },
      "execution_count": 14,
      "outputs": [
        {
          "output_type": "execute_result",
          "data": {
            "text/plain": [
              "1"
            ]
          },
          "metadata": {},
          "execution_count": 14
        }
      ]
    },
    {
      "cell_type": "markdown",
      "source": [
        "#Question 7 - \n",
        "\n",
        "How does bacon.append(99) change the look of the list value in bacon?\n",
        "\n",
        "Answer 7 - \n",
        "\n",
        "The `bacon.append(99)` operation adds the value 99 to the end of the list bacon. After executing `bacon.append(99)` , the list bacon will be modified and will look like this: `[3.14, 'cat', 11, 'cat', True, 99]` . The value `99` is appended to the end of the list.\n",
        "\n"
      ],
      "metadata": {
        "id": "NlSo4Z2NSG0l"
      }
    },
    {
      "cell_type": "code",
      "source": [
        "bacon.append(99)\n",
        "\n",
        "bacon"
      ],
      "metadata": {
        "colab": {
          "base_uri": "https://localhost:8080/"
        },
        "id": "ftBacNCbQT_L",
        "outputId": "efe1c895-a88e-448a-ce81-5f1de1a3cc2f"
      },
      "execution_count": 15,
      "outputs": [
        {
          "output_type": "execute_result",
          "data": {
            "text/plain": [
              "[3.14, 'cat', 11, 'cat', True, 99]"
            ]
          },
          "metadata": {},
          "execution_count": 15
        }
      ]
    },
    {
      "cell_type": "markdown",
      "source": [
        "#Question 8 - \n",
        "\n",
        "How does bacon.remove('cat') change the look of the list in bacon?\n",
        "\n",
        "..................\n",
        "\n",
        "Answer 8 - \n",
        "\n",
        "The `bacon.remove('cat')` operation removes the first occurrence of the value `'cat'` from the list bacon. After executing bacon.remove('cat'), the list bacon will be modified and will look like this: `[3.14, 11, 'cat', True]` . The first occurrence of `'cat'` is removed from the list."
      ],
      "metadata": {
        "id": "Ek0ih9rbSlQL"
      }
    },
    {
      "cell_type": "code",
      "source": [
        "bacon.remove('cat')\n",
        "\n",
        "bacon"
      ],
      "metadata": {
        "colab": {
          "base_uri": "https://localhost:8080/"
        },
        "id": "9bnC481rTISj",
        "outputId": "1d7b9d33-d1ca-4332-b625-e7072223e8c4"
      },
      "execution_count": 16,
      "outputs": [
        {
          "output_type": "execute_result",
          "data": {
            "text/plain": [
              "[3.14, 11, 'cat', True, 99]"
            ]
          },
          "metadata": {},
          "execution_count": 16
        }
      ]
    },
    {
      "cell_type": "markdown",
      "source": [
        "#Question 9 - \n",
        "\n",
        "What are the list concatenation and list replication operators?\n",
        "\n",
        "...............\n",
        "\n",
        "Answer 9 - \n",
        "\n",
        "The list concatenation operator is the plus sign `+` , which is used to combine two lists into a single list. When you use the `+` operator between two lists, it creates a new list that contains all the elements from both lists in the order they appear.\n",
        "\n",
        "Example:\n"
      ],
      "metadata": {
        "id": "24cFG-KHTQIl"
      }
    },
    {
      "cell_type": "code",
      "source": [
        "list1 = [1, 2, 3]\n",
        "list2 = [4, 5, 6]\n",
        "result = list1 + list2\n",
        "print(result)"
      ],
      "metadata": {
        "colab": {
          "base_uri": "https://localhost:8080/"
        },
        "id": "u_3ohUCQSbhz",
        "outputId": "e4b3e218-926d-4bc1-faf3-e1fd0274b9ef"
      },
      "execution_count": 17,
      "outputs": [
        {
          "output_type": "stream",
          "name": "stdout",
          "text": [
            "[1, 2, 3, 4, 5, 6]\n"
          ]
        }
      ]
    },
    {
      "cell_type": "markdown",
      "source": [
        "The list replication operator is the asterisk `*` , which is used to create a new list by repeating an existing list a certain number of times.\n",
        "\n",
        "Example:"
      ],
      "metadata": {
        "id": "AB091e0jTi1V"
      }
    },
    {
      "cell_type": "code",
      "source": [
        "list1 = [1, 2, 3]\n",
        "result = list1 * 3\n",
        "print(result)"
      ],
      "metadata": {
        "colab": {
          "base_uri": "https://localhost:8080/"
        },
        "id": "e5s6XNP5TfK-",
        "outputId": "469df5c9-7698-46cb-f2fa-3aeec3646406"
      },
      "execution_count": 18,
      "outputs": [
        {
          "output_type": "stream",
          "name": "stdout",
          "text": [
            "[1, 2, 3, 1, 2, 3, 1, 2, 3]\n"
          ]
        }
      ]
    },
    {
      "cell_type": "markdown",
      "source": [
        "In the example above, the list `list1` is repeated three times to create a new list `result` containing the repeated elements."
      ],
      "metadata": {
        "id": "y5T8zWbeTv8u"
      }
    },
    {
      "cell_type": "code",
      "source": [],
      "metadata": {
        "id": "JLf7gCk-Ttjw"
      },
      "execution_count": null,
      "outputs": []
    },
    {
      "cell_type": "markdown",
      "source": [
        "#Question 10 - \n",
        "\n",
        "What is difference between the list methods append() and insert()?\n",
        "\n",
        ".................\n",
        "\n",
        "Answer 10 - \n",
        "\n",
        "The `append()` and `insert()` methods are used to add elements to a list in Python, but they differ in how the elements are added:\n",
        "\n",
        "1) **append(element)** : This method is used to add an element to the end of a list. The `append()` method takes one argument, which is the element to be added. The element is appended at the end of the list, increasing its length by one.\n",
        "\n",
        "Example:"
      ],
      "metadata": {
        "id": "wu12W-v4UDym"
      }
    },
    {
      "cell_type": "code",
      "source": [
        "my_list = [1, 2, 3]\n",
        "my_list.append(4)\n",
        "print(my_list)"
      ],
      "metadata": {
        "colab": {
          "base_uri": "https://localhost:8080/"
        },
        "id": "dtVRfHQIUiwz",
        "outputId": "3d5714cb-092c-457a-e200-8e6cd9387440"
      },
      "execution_count": 19,
      "outputs": [
        {
          "output_type": "stream",
          "name": "stdout",
          "text": [
            "[1, 2, 3, 4]\n"
          ]
        }
      ]
    },
    {
      "cell_type": "markdown",
      "source": [
        "2) **insert(index, element)** : This method is used to insert an element at a specific position in a list. The `insert()` method takes two arguments: the index at which to insert the element and the element itself. All elements after the specified index are shifted to the right to make room for the new element.\n",
        "Example:"
      ],
      "metadata": {
        "id": "LQaVQMcTUnqI"
      }
    },
    {
      "cell_type": "code",
      "source": [
        "my_list = [1, 2, 3]\n",
        "my_list.insert(1, 4)\n",
        "print(my_list) "
      ],
      "metadata": {
        "colab": {
          "base_uri": "https://localhost:8080/"
        },
        "id": "GchQavlJUkdz",
        "outputId": "07e63e8c-8334-4995-b4d4-95ce883e3724"
      },
      "execution_count": 20,
      "outputs": [
        {
          "output_type": "stream",
          "name": "stdout",
          "text": [
            "[1, 4, 2, 3]\n"
          ]
        }
      ]
    },
    {
      "cell_type": "markdown",
      "source": [
        "#Question 11 - \n",
        "\n",
        "\n",
        "What are the two methods for removing items from a list?\n",
        "\n",
        "................\n",
        "\n",
        "\n",
        "Answer 11 - \n",
        "\n",
        "\n",
        "1) **remove(element)** : This method is used to remove the first occurrence of a specific element from a list. The `remove()` method takes one argument, which is the element to be removed. If the element exists in the list, it is removed, and the list's length is reduced by one. If the element appears multiple times in the list, only the first occurrence is removed.\n",
        "\n",
        "Example:\n"
      ],
      "metadata": {
        "id": "ts2ZK-trU42e"
      }
    },
    {
      "cell_type": "code",
      "source": [
        "my_list = [1, 2, 3, 2]\n",
        "my_list.remove(2)\n",
        "print(my_list) "
      ],
      "metadata": {
        "colab": {
          "base_uri": "https://localhost:8080/"
        },
        "id": "xlNI0Jm4Uzr-",
        "outputId": "9969336b-8d59-4d16-cc39-fcd91ba25ada"
      },
      "execution_count": 21,
      "outputs": [
        {
          "output_type": "stream",
          "name": "stdout",
          "text": [
            "[1, 3, 2]\n"
          ]
        }
      ]
    },
    {
      "cell_type": "markdown",
      "source": [
        "2) **pop(index)** : This method is used to remove an element at a specific index from a list and return its value. The `pop()` method takes one optional argument, which is the index of the element to be removed. If no index is specified, the last element is removed. The removed element can be stored in a variable for further use.\n",
        "\n",
        "Example:"
      ],
      "metadata": {
        "id": "JaNi-TpyVZBg"
      }
    },
    {
      "cell_type": "code",
      "source": [
        "my_list = [1, 2, 3]\n",
        "removed_element = my_list.pop(1)\n",
        "print(my_list)"
      ],
      "metadata": {
        "colab": {
          "base_uri": "https://localhost:8080/"
        },
        "id": "3u1yrF-8VYUX",
        "outputId": "aa0fcbe5-9a46-4aed-9790-bea9e58c8345"
      },
      "execution_count": 23,
      "outputs": [
        {
          "output_type": "stream",
          "name": "stdout",
          "text": [
            "[1, 3]\n"
          ]
        }
      ]
    },
    {
      "cell_type": "code",
      "source": [
        "print(removed_element)"
      ],
      "metadata": {
        "colab": {
          "base_uri": "https://localhost:8080/"
        },
        "id": "1l7Y9qfeVntl",
        "outputId": "f06c19f4-2b6b-4cc6-d650-1de5797d4265"
      },
      "execution_count": 24,
      "outputs": [
        {
          "output_type": "stream",
          "name": "stdout",
          "text": [
            "2\n"
          ]
        }
      ]
    },
    {
      "cell_type": "markdown",
      "source": [
        "#Question 12 - \n",
        "\n",
        "Describe how list values and string values are identical.\n",
        "\n",
        "..................\n",
        "\n",
        "Answer 12 - \n",
        "\n",
        "List values and string values in Python share some similarities, but they are not identical.\n",
        "\n",
        "Similarities between list values and string values:\n",
        "\n",
        "1) Both can contain multiple elements:- Lists can hold multiple values, and strings can hold multiple characters.\n",
        "\n",
        "2) Both support indexing:- Both lists and strings can be accessed using indexing, allowing you to retrieve individual elements by their position.\n",
        "\n",
        "3) Both support slicing:- Both lists and strings can be sliced to extract a subset of elements or characters.\n",
        "\n",
        "4) Both are iterable:- Both lists and strings can be iterated over using loops or other iterable methods.\n",
        "\n",
        "5) Both support the `len()` function:- You can use the `len()` function to determine the length (number of elements or characters) of a list or string."
      ],
      "metadata": {
        "id": "VyRlireSVyn_"
      }
    },
    {
      "cell_type": "markdown",
      "source": [
        "#Question 13 - \n",
        "\n",
        "What's the difference between tuples and lists?\n",
        "\n",
        "................\n",
        "\n",
        "Answer 13 - \n",
        "\n",
        "Tuples and lists in Python are both used to store collections of items, but they have some key differences:\n",
        "\n",
        "1) **Mutability**: Tuples are immutable, meaning their elements cannot be changed once defined. Lists, on the other hand, are mutable, allowing for modification of their elements.\n",
        "\n",
        "2) **Syntax** : Tuples are defined using parentheses `()` or without any delimiters, whereas lists are defined using square brackets `[]`. For example, a `tuple` can be defined as `(1, 2, 3)` or simply `1, 2, 3` , while a `list` is defined as `[1, 2, 3]` .\n",
        "\n",
        "3) **Usage** : Tuples are typically used to store related pieces of data that form a single entity, such as coordinates (x, y) or a person's name, age, and gender. They are often used when immutability and integrity of data are desired. Lists, on the other hand, are more versatile and commonly used for collections of items that may need to be modified, accessed, or appended.\n",
        "\n",
        "4) **Performance** : Tuples are generally faster than lists in terms of memory consumption and iteration, as they have a smaller memory footprint and simpler internal structure. Lists, being mutable, may require more memory and incur overhead when performing operations like appending or removing elements."
      ],
      "metadata": {
        "id": "ndxPoxKrW4Ky"
      }
    },
    {
      "cell_type": "markdown",
      "source": [
        "#Question 14 - \n",
        "\n",
        "How do you type a tuple value that only contains the integer 42?\n",
        "\n",
        "...............\n",
        "\n",
        "Answer 14 - \n",
        "\n",
        "To create a tuple value that contains only the integer 42, you can use parentheses `()` and place the integer inside:"
      ],
      "metadata": {
        "id": "nePOorixYty_"
      }
    },
    {
      "cell_type": "code",
      "source": [
        "my_tuple = (42,)"
      ],
      "metadata": {
        "id": "rxKVz3-nVwiG"
      },
      "execution_count": 26,
      "outputs": []
    },
    {
      "cell_type": "markdown",
      "source": [
        "Note the comma `,` after the integer 42. This is necessary to differentiate a tuple from an integer in Python. Without the comma, Python would interpret it as an integer rather than a tuple.\n",
        "\n",
        "Alternatively, you can also create the tuple without using parentheses:"
      ],
      "metadata": {
        "id": "l-EEqc44Y_sv"
      }
    },
    {
      "cell_type": "code",
      "source": [
        "my_tuple = 42,"
      ],
      "metadata": {
        "id": "XM3_UFsPZFKL"
      },
      "execution_count": 25,
      "outputs": []
    },
    {
      "cell_type": "markdown",
      "source": [
        "#Question 15 - \n",
        "\n",
        "How do you get a list value's tuple form? How do you get a tuple value's list form?\n",
        "\n",
        "................\n",
        "\n",
        "Answer 15 - \n",
        "\n",
        "To convert a list to a tuple, you can use the `tuple()` function. Here's an example:"
      ],
      "metadata": {
        "id": "ef-PrkFc3nkK"
      }
    },
    {
      "cell_type": "code",
      "source": [
        "my_list = [1, 2, 3, 4, 5]\n",
        "my_tuple = tuple(my_list)\n",
        "\n",
        "print(my_tuple)"
      ],
      "metadata": {
        "colab": {
          "base_uri": "https://localhost:8080/"
        },
        "id": "lhgEiB0x43uZ",
        "outputId": "8c70e861-91f4-4b52-abe5-013b596c6f3f"
      },
      "execution_count": 3,
      "outputs": [
        {
          "output_type": "stream",
          "name": "stdout",
          "text": [
            "(1, 2, 3, 4, 5)\n"
          ]
        }
      ]
    },
    {
      "cell_type": "markdown",
      "source": [
        "The `tuple()` function takes an iterable, such as a list, and converts it into a tuple.\n",
        "\n",
        "To convert a tuple to a list, you can use the `list()` function. Here's an example:"
      ],
      "metadata": {
        "id": "6fOMzk0g5Bl0"
      }
    },
    {
      "cell_type": "code",
      "source": [
        "my_tuple = (1, 2, 3, 4, 5)\n",
        "my_list = list(my_tuple)\n",
        "\n",
        "print(my_list)"
      ],
      "metadata": {
        "colab": {
          "base_uri": "https://localhost:8080/"
        },
        "id": "7vqyGiez5Kk2",
        "outputId": "a428ca01-b8ee-4af5-cd52-3ad060b0a6d3"
      },
      "execution_count": 4,
      "outputs": [
        {
          "output_type": "stream",
          "name": "stdout",
          "text": [
            "[1, 2, 3, 4, 5]\n"
          ]
        }
      ]
    },
    {
      "cell_type": "markdown",
      "source": [
        "The `list()` function takes an iterable, such as a tuple, and converts it into a list."
      ],
      "metadata": {
        "id": "JcWoiya85Op8"
      }
    },
    {
      "cell_type": "markdown",
      "source": [
        "#Question 16 - \n",
        "\n",
        "Variables that \"contain\" list values are not necessarily lists themselves. Instead, what do they\n",
        "contain?\n",
        "\n",
        ".................\n",
        "\n",
        "Answer 16 - \n",
        "\n",
        "Variables that \"contain\" list values in Python are actually referencing or pointing to the memory location where the list is stored. In other words, they contain references to the list objects rather than the actual list objects themselves.\n",
        "\n",
        "In Python, variables are essentially labels or names assigned to objects in memory. When a list is assigned to a variable, the variable holds a reference to the memory location where the list is stored. This means that multiple variables can reference the same list object, allowing for aliasing and multiple access points to the same list.\n",
        "\n",
        "For example:"
      ],
      "metadata": {
        "id": "E3A_Sl3-5gTx"
      }
    },
    {
      "cell_type": "code",
      "source": [
        "list1 = [1, 2, 3]\n",
        "list2 = list1  # list2 now references the same list object as list1\n",
        "\n",
        "list1.append(4)\n",
        "print(list2)  \n"
      ],
      "metadata": {
        "colab": {
          "base_uri": "https://localhost:8080/"
        },
        "id": "2qv_wOZi521H",
        "outputId": "ffe33fbe-03da-40c6-e7d6-c6c40f9492b9"
      },
      "execution_count": 5,
      "outputs": [
        {
          "output_type": "stream",
          "name": "stdout",
          "text": [
            "[1, 2, 3, 4]\n"
          ]
        }
      ]
    },
    {
      "cell_type": "markdown",
      "source": [
        "In the above code, `list1` and `list2` are two variables that reference the same list object. Modifying the list through one variable (e.g., `list1`) will affect the list accessed through the other variable (e.g., `list2`).\n",
        "\n",
        "So, variables containing list values in Python actually contain references or pointers to the list objects."
      ],
      "metadata": {
        "id": "ohLAWnr957Ak"
      }
    },
    {
      "cell_type": "markdown",
      "source": [
        "#Question 17 - \n",
        "\n",
        "How do you distinguish between copy.copy() and copy.deepcopy()?\n",
        "\n",
        "..................\n",
        "\n",
        "Answer 17 - \n",
        "\n",
        "In Python, the copy.copy() and copy.deepcopy() functions are used to create copies of objects. The main difference between them lies in how they handle mutable objects and nested objects.\n",
        "\n",
        "1) **copy.copy()**: This function performs a shallow copy of an object. It creates a new object and copies the references of the original object's elements to the new object. If the elements of the original object are mutable, any changes made to those elements in the copied object will also affect the original object. However, if the elements are immutable, they will be effectively copied.\n",
        "\n",
        "2) **copy.deepcopy():** This function performs a deep copy of an object. It creates a completely independent copy of the original object and all its nested objects. It recursively copies the objects referenced by the original object, ensuring that any changes made to the copied objects do not affect the original objects.\n",
        "\n"
      ],
      "metadata": {
        "id": "qF3Cg5D36HvO"
      }
    }
  ]
}