{
  "nbformat": 4,
  "nbformat_minor": 0,
  "metadata": {
    "colab": {
      "provenance": [],
      "toc_visible": true
    },
    "kernelspec": {
      "name": "python3",
      "display_name": "Python 3"
    },
    "language_info": {
      "name": "python"
    }
  },
  "cells": [
    {
      "cell_type": "markdown",
      "source": [
        "#Question 1 - \n",
        "\n",
        "1.What are the two values of the Boolean data type? How do you write them?\n",
        "\n",
        "............\n",
        "\n",
        "Answer 1 - The Boolean data type represents a logical value that can have one of two possible states: true or false. These values are used to express conditions, comparisons, and logical operations in programming. The two values of the Boolean data type are:\n",
        "\n",
        "- True: It represents the true state or a condition that is satisfied. It is written as the keyword True.\n",
        "\n",
        "- False: It represents the false state or a condition that is not satisfied. It is written as the keyword False.\n",
        "\n",
        "In programming languages like Python, these Boolean values are used to control program flow, make decisions, and perform logical evaluations. They are often the result of comparison operations or logical expressions and are essential for implementing conditional statements and Boolean algebra.\n",
        "\n",
        "In mathematical terms 'True' means '1' , whereas 'False' means '0'."
      ],
      "metadata": {
        "id": "IsEtPI8rul20"
      }
    },
    {
      "cell_type": "markdown",
      "source": [
        "#Question 2 - \n",
        "\n",
        "What are the three different types of Boolean operators?\n",
        "\n",
        "..............\n",
        "\n",
        "Answer 2 - \n",
        "\n",
        "The three different types of Boolean operators are:\n",
        "\n",
        "1)  Logical AND: The logical AND operator, usually represented as && or and, returns true if both operands are true. It returns false otherwise. The truth table for the logical AND operator is as follows:\n",
        "\n",
        "Operand 1 | Operand 2 | Result\n",
        "\n",
        " \n",
        "- true | true | true\n",
        "\n",
        "- true | false | false\n",
        "\n",
        "- false | true | false\n",
        "\n",
        "- false | false | false\n",
        "\n",
        "\n",
        "2)  Logical OR: The logical OR operator, usually represented as || or or, returns true if at least one of the operands is true. It returns false only if both operands are false. The truth table for the logical OR operator is as follows:\n",
        "\n",
        "Operand 1 | Operand 2 | Result\n",
        "\n",
        "- true | true | true\n",
        "\n",
        "- true | false | true\n",
        "\n",
        "- false | true | true\n",
        "\n",
        "- false | false | false\n",
        "\n",
        "\n",
        "3)  Logical NOT: The logical NOT operator, usually represented as ! or not, is a unary operator that negates the truth value of its operand. It returns true if the operand is false, and false if the operand is true. The truth table for the logical NOT operator is as follows:\n",
        "\n",
        "Operand | Result\n",
        "\n",
        "- true | false\n",
        "\n",
        "- false | true\n",
        "\n",
        "\n",
        "\n"
      ],
      "metadata": {
        "id": "R-GL57yVvwLL"
      }
    },
    {
      "cell_type": "markdown",
      "source": [
        "#Question 3 -\n",
        "\n",
        "Make a list of each Boolean operator's truth tables (i.e. every possible combination of Boolean\n",
        "values for the operator and what it evaluate ).\n",
        "\n",
        "..............\n",
        "\n",
        "Answer 3 - \n",
        "\n",
        "The truth tables for each Boolean operator:\n",
        "\n",
        "\n",
        "1) Logical AND \n",
        "\n",
        "Operand 1 | Operand 2 | Result\n",
        "\n",
        " \n",
        "- true | true | true\n",
        "\n",
        "- true | false | false\n",
        "\n",
        "- false | true | false\n",
        "\n",
        "- false | false | false\n",
        "\n",
        "......................\n",
        "\n",
        "2) Logical OR\n",
        "\n",
        "Operand 1 | Operand 2 | Result\n",
        "\n",
        "- true | true | true\n",
        "\n",
        "- true | false | true\n",
        "\n",
        "- false | true | true\n",
        "\n",
        "- false | false | false\n",
        "\n",
        ".......................\n",
        "\n",
        "3) Logical NOT\n",
        "\n",
        "\n",
        "Operand | Result\n",
        "\n",
        "- true | false\n",
        "\n",
        "- false | true\n"
      ],
      "metadata": {
        "id": "SJEKHuxV1M_s"
      }
    },
    {
      "cell_type": "markdown",
      "source": [
        "#Question 4 - \n",
        "\n",
        "What are the values of the following expressions?\n",
        "(5 > 4) and (3 == 5)\n",
        "\n",
        "not (5 > 4)\n",
        "\n",
        "(5 > 4) or (3 == 5)\n",
        "\n",
        "not ((5 > 4) or (3 == 5))\n",
        "\n",
        "(True and True) and (True == False)\n",
        "\n",
        "(not False) or (not True)\n",
        "\n",
        ".....................\n",
        "\n",
        "Answer 4 - \n",
        "\n",
        "Let's evaluate the given expressions:\n",
        "\n",
        "1) (5 > 4) and (3 == 5):\n",
        "\n",
        "- (5 > 4) evaluates to True.\n",
        "- (3 == 5) evaluates to False.\n",
        "- True and False evaluates to False.\n",
        "\n",
        "2) not (5 > 4):\n",
        "\n",
        "- (5 > 4) evaluates to True.\n",
        "- not True evaluates to False.\n",
        "\n",
        "3) (5 > 4) or (3 == 5):\n",
        "\n",
        "- (5 > 4) evaluates to True.\n",
        "- (3 == 5) evaluates to False.\n",
        "- True or False evaluates to True.\n",
        "4) not ((5 > 4) or (3 == 5)):\n",
        "\n",
        "- (5 > 4) evaluates to True.\n",
        "- (3 == 5) evaluates to False.\n",
        "- True or False evaluates to True.\n",
        "- not True evaluates to False.\n",
        "\n",
        "5) (True and True) and (True == False):\n",
        "\n",
        "- (True and True) evaluates to True.\n",
        "- (True == False) evaluates to False.\n",
        "- True and False evaluates to False.\n",
        "\n",
        "6) (not False) or (not True):\n",
        "\n",
        "- not False evaluates to True.\n",
        "- not True evaluates to False.\n",
        "- True or False evaluates to True.\n",
        "\n",
        "\n",
        "The values of the given expressions are:\n",
        "\n",
        "1) False\n",
        "\n",
        "2) False\n",
        "\n",
        "3) True\n",
        "\n",
        "4) False\n",
        "\n",
        "5) False\n",
        "\n",
        "6) True"
      ],
      "metadata": {
        "id": "xL0u1WoU2aGS"
      }
    },
    {
      "cell_type": "markdown",
      "source": [
        "#Question 5 - \n",
        "\n",
        "What are the six comparison operators?\n",
        "\n",
        "..............\n",
        "\n",
        "Answer 5 - \n",
        "\n",
        "The Six operators are :-\n",
        "\n",
        "1) Equal to (==): Compares whether two values are equal. Returns True if the values are equal; otherwise, returns False.\n",
        "\n",
        "2) Not equal to (!=): Compares whether two values are not equal. Returns True if the values are not equal; otherwise, returns False.\n",
        "\n",
        "3) Greater than (>): Checks if the value on the left is greater than the value on the right. Returns True if the left value is greater; otherwise, returns False.\n",
        "\n",
        "4) Less than (<): Checks if the value on the left is less than the value on the right. Returns True if the left value is less; otherwise, returns False.\n",
        "\n",
        "5) Greater than or equal to (>=): Checks if the value on the left is greater than or equal to the value on the right. Returns True if the left value is greater than or equal; otherwise, returns False.\n",
        "\n",
        "6) Less than or equal to (<=): Checks if the value on the left is less than or equal to the value on the right. Returns True if the left value is less than or equal; otherwise, returns False."
      ],
      "metadata": {
        "id": "lBmPW-K44Ho1"
      }
    },
    {
      "cell_type": "markdown",
      "source": [
        "#Question 6 - \n",
        "\n",
        "How do you tell the difference between the equal to and assignment operators?\n",
        "\n",
        "Describe a condition and when you would use one.\n",
        "\n",
        "................\n",
        "\n",
        "Answer 6 - \n",
        "\n",
        "To differentiate between the equal to (==) operator and the assignment (=) operator, consider the following:\n",
        "\n",
        "1) Equal to (==) operator:\n",
        "\n",
        "- The equal to operator (==) is a comparison operator used to check if two values are equal.\n",
        "\n",
        "- It compares the values on the left and right sides of the operator.\n",
        "\n",
        "- It returns True if the values are equal and False otherwise.\n",
        "\n",
        "Example:"
      ],
      "metadata": {
        "id": "OwGCDHUZ4sSr"
      }
    },
    {
      "cell_type": "code",
      "source": [
        "x = 5\n",
        "y = 10\n",
        "if x == y:\n",
        "    print(\"x is equal to y\")\n"
      ],
      "metadata": {
        "id": "GpyGTcdn5jwz"
      },
      "execution_count": null,
      "outputs": []
    },
    {
      "cell_type": "markdown",
      "source": [
        "In the above example, the  ==  operator is used to compare the values of x and y. If x is equal to y, the statement inside the if block will be executed.\n",
        "\n",
        "2)Assignment (=) operator:\n",
        "\n",
        "- The assignment operator (=) is used to assign a value to a variable.\n",
        "- It assigns the value on the right-hand side to the variable on the left-hand side.\n",
        "- It does not perform a comparison; it simply assigns the value.\n",
        "\n",
        "Example:"
      ],
      "metadata": {
        "id": "bnfk_7rT5lSz"
      }
    },
    {
      "cell_type": "code",
      "source": [
        "x = 5\n",
        "y = x + 2\n"
      ],
      "metadata": {
        "id": "v5KJThGY4nNa"
      },
      "execution_count": null,
      "outputs": []
    },
    {
      "cell_type": "markdown",
      "source": [
        "In the above example, the  =  operator is used to assign the value 5 to the variable x. Later, the value of x plus 2 is assigned to the variable y."
      ],
      "metadata": {
        "id": "tTeA0TaN5tZ7"
      }
    },
    {
      "cell_type": "markdown",
      "source": [
        "#Question  7 -\n",
        "\n",
        "Identify the three blocks in this code:\n",
        "\n",
        "spam = 0\n",
        "\n",
        "if spam == 10:\n",
        "\n",
        "print('eggs')\n",
        "\n",
        "if spam > 5:\n",
        "\n",
        "print('bacon')\n",
        "\n",
        "else:\n",
        "print('ham')\n",
        "\n",
        "print('spam')\n",
        "\n",
        "print('spam')\n",
        "\n",
        "...................\n",
        "\n",
        "\n",
        "Answer 7 - \n",
        "\n",
        "To identify the three blocks in the given code, let's consider the indentation:"
      ],
      "metadata": {
        "id": "vLkmtwY06fbT"
      }
    },
    {
      "cell_type": "code",
      "source": [
        "spam = 0\n",
        "if spam == 10:\n",
        "    print('eggs')\n",
        "if spam > 5:\n",
        "    print('bacon')\n",
        "else:\n",
        "    print('ham')\n",
        "print('spam')\n",
        "print('spam')\n"
      ],
      "metadata": {
        "id": "kmOauwwn7CNT"
      },
      "execution_count": null,
      "outputs": []
    },
    {
      "cell_type": "markdown",
      "source": [
        "The blocks can be identified based on the indentation levels:\n",
        "\n",
        "1) Block 1:\n",
        "\n",
        "- Contains the line spam = 0.\n",
        "- It is not indented and consists of a single line of code.\n",
        "\n",
        "2) Block 2:\n",
        "\n",
        "- Starts with the line if spam == 10: and ends before the line if spam > 5:.\n",
        "- It is indented with four spaces.\n",
        "- Contains the line print('eggs').\n",
        "\n",
        "3)Block 3:\n",
        "\n",
        "- Starts with the line if spam > 5: and ends before the line print('spam').\n",
        "- It is indented with four spaces.\n",
        "- Contains the lines print('bacon') and print('ham').\n",
        "\n",
        "Therefore, the three blocks in the given code are:\n",
        "\n",
        "\n",
        "1) Block 1 (unindented)\n",
        "\n",
        "2) Block 2 (indented with four spaces)\n",
        "\n",
        "3) Block 3 (indented with four spaces)"
      ],
      "metadata": {
        "id": "kOo1WhbZ7EED"
      }
    },
    {
      "cell_type": "markdown",
      "source": [
        "#Question 8 - \n",
        "\n",
        "Write code that prints Hello if 1 is stored in spam, prints Howdy if 2 is stored in spam, and prints\n",
        "Greetings! if anything else is stored in spam.\n",
        "\n",
        "................\n",
        "\n",
        "\n",
        "Answer 8 - \n",
        "\n",
        "You can use an if-elif-else statement to achieve this. Here's the code:"
      ],
      "metadata": {
        "id": "Ts8UGfky7of3"
      }
    },
    {
      "cell_type": "code",
      "source": [
        "spam =  # Enter the value to be stored in spam variable\n",
        "\n",
        "if spam == 1:\n",
        "    print('Hello')\n",
        "elif spam == 2:\n",
        "    print('Howdy')\n",
        "else:\n",
        "    print('Greetings!')\n"
      ],
      "metadata": {
        "id": "JIFe2Hu5wH2g"
      },
      "execution_count": null,
      "outputs": []
    },
    {
      "cell_type": "markdown",
      "source": [
        "In this code, the value of spam is checked using the if-elif-else statement. If spam is equal to 1, it will print \"Hello\". If spam is equal to 2, it will print \"Howdy\". If spam has any other value, it will print \"Greetings!\".\n",
        "\n",
        "You need to assign a value to the spam variable before running this code. Based on the assigned value, the corresponding message will be printed."
      ],
      "metadata": {
        "id": "vcaqXWZgv6dy"
      }
    },
    {
      "cell_type": "markdown",
      "source": [
        "#Question 9 - \n",
        "\n",
        "9.If your programme is stuck in an endless loop, what keys you’ll press?\n",
        "\n",
        "................\n",
        "\n",
        "\n",
        "Answer 9 - \n",
        "\n",
        "If your program is stuck in an endless loop and you want to interrupt its execution, you can typically press the following key combination:\n",
        "\n",
        "- Ctrl + C (on most systems): This key combination sends a termination signal to the running program, causing it to be interrupted and terminated. It allows you to break out of the endless loop and regain control.\n",
        "By pressing Ctrl + C, you are effectively sending an interrupt signal to the program, prompting it to terminate. This key combination is commonly used as a keyboard interrupt or break command in many programming environments and command-line interfaces.\n",
        "\n",
        "It's important to note that while pressing Ctrl + C can interrupt the program, it may not work in certain cases or with all programming environments. In some cases, you may need to use alternative methods specific to the environment or programming language you are working with."
      ],
      "metadata": {
        "id": "TEDd9EfYwL4m"
      }
    },
    {
      "cell_type": "markdown",
      "source": [
        "#Question 10 - \n",
        "\n",
        "How can you tell the difference between break and continue?\n",
        "\n",
        "................\n",
        "\n",
        "Answer 10 - \n",
        "\n",
        "break and continue are two keywords used in loops to control the flow of execution. Here's how you can differentiate between them:\n",
        "\n",
        "10 break:\n",
        "\n",
        "- The break statement is used to exit the current loop entirely.\n",
        "- When encountered, it terminates the loop prematurely, and the program execution continues with the next statement after the loop.\n",
        "- It is typically used when a specific condition is met, and you want to immediately exit the loop and move on to the next part of the program.\n",
        "\n",
        "Example:"
      ],
      "metadata": {
        "id": "1g8i7gKuwfqA"
      }
    },
    {
      "cell_type": "code",
      "source": [
        "for i in range(1, 10):\n",
        "    if i == 5:\n",
        "        break\n",
        "    print(i)\n"
      ],
      "metadata": {
        "id": "xwJHULK6w-Kp"
      },
      "execution_count": null,
      "outputs": []
    },
    {
      "cell_type": "markdown",
      "source": [
        "In this example, the loop will print numbers from 1 to 4. When i becomes 5, the break statement is executed, and the loop is terminated. The program continues execution with the next statement after the loop.\n",
        "\n",
        "2) continue:\n",
        "\n",
        "- The continue statement is used to skip the current iteration of the loop and move to the next iteration.\n",
        "- When encountered, it skips any remaining code in the loop body for the current iteration and moves to the next iteration.\n",
        "- It is typically used when you want to skip certain iterations based on a condition and continue with the next iteration.\n",
        "\n",
        "Example:"
      ],
      "metadata": {
        "id": "HuJhSVokxAR6"
      }
    },
    {
      "cell_type": "code",
      "source": [
        "for i in range(1, 6):\n",
        "    if i == 3:\n",
        "        continue\n",
        "    print(i)\n"
      ],
      "metadata": {
        "id": "9b0oSldiwKLy"
      },
      "execution_count": null,
      "outputs": []
    },
    {
      "cell_type": "markdown",
      "source": [
        "In this example, the loop will print numbers from 1 to 5, excluding 3. When i becomes 3, the continue statement is executed, and the loop skips the remaining code for that iteration. It moves on to the next iteration, printing the remaining numbers.\n",
        "\n",
        "\n",
        "To summarize, break is used to exit the loop entirely, while continue is used to skip the current iteration and proceed to the next iteration of the loop."
      ],
      "metadata": {
        "id": "TqcEzMP-xMSz"
      }
    },
    {
      "cell_type": "markdown",
      "source": [
        "#Question 11 - \n",
        "\n",
        "In a for loop, what is the difference between range(10), range(0, 10), and range(0, 10, 1)?\n",
        "\n",
        ".................\n",
        "\n",
        "Answer 10 - \n",
        "\n",
        "In a for loop, the expressions range(10), range(0, 10), and range(0, 10, 1) are used to define the range of values that the loop will iterate over. Here's the difference between them:\n",
        "\n",
        "1) range(10):\n",
        "\n",
        "- This expression generates a sequence of numbers starting from 0 (default start value) up to, but not including, the specified end value (10 in this case).\n",
        "- The step value is assumed to be 1 by default.\n",
        "\n",
        "Example:"
      ],
      "metadata": {
        "id": "EWLMVWKrxSUs"
      }
    },
    {
      "cell_type": "code",
      "source": [
        "for i in range(10):\n",
        "    print(i)\n"
      ],
      "metadata": {
        "id": "Rx8y6J1nxPvF"
      },
      "execution_count": null,
      "outputs": []
    },
    {
      "cell_type": "markdown",
      "source": [
        "Output:"
      ],
      "metadata": {
        "id": "wyThguL3xxJz"
      }
    },
    {
      "cell_type": "code",
      "source": [
        "0\n",
        "1\n",
        "2\n",
        "3\n",
        "4\n",
        "5\n",
        "6\n",
        "7\n",
        "8\n",
        "9"
      ],
      "metadata": {
        "id": "S8asBJCmxybB"
      },
      "execution_count": null,
      "outputs": []
    },
    {
      "cell_type": "markdown",
      "source": [
        "2) range(0, 10):\n",
        "\n",
        "- This expression generates a sequence of numbers starting from the specified start value (0) up to, but not including, the specified end value (10).\n",
        "- The step value is assumed to be 1 by default.\n",
        "\n",
        "Example:"
      ],
      "metadata": {
        "id": "hIMHTr-Lx4Cn"
      }
    },
    {
      "cell_type": "code",
      "source": [
        "for i in range(0, 10):\n",
        "    print(i)\n"
      ],
      "metadata": {
        "id": "2p1I4OgSx-5j"
      },
      "execution_count": null,
      "outputs": []
    },
    {
      "cell_type": "markdown",
      "source": [
        "Output:"
      ],
      "metadata": {
        "id": "UmVYl7jjyBJz"
      }
    },
    {
      "cell_type": "code",
      "source": [
        "0\n",
        "1\n",
        "2\n",
        "3\n",
        "4\n",
        "5\n",
        "6\n",
        "7\n",
        "8\n",
        "9"
      ],
      "metadata": {
        "id": "76kAqWNSyDe5"
      },
      "execution_count": null,
      "outputs": []
    },
    {
      "cell_type": "markdown",
      "source": [
        "3) range(0, 10, 1):\n",
        "\n",
        "- This expression generates a sequence of numbers starting from the specified start value (0) up to, but not including, the specified end value (10).\n",
        "- The step value is explicitly specified as 1.\n",
        "\n",
        "Example:"
      ],
      "metadata": {
        "id": "Nt_i-tQWyC87"
      }
    },
    {
      "cell_type": "code",
      "source": [
        "for i in range(0, 10, 1):\n",
        "    print(i)\n"
      ],
      "metadata": {
        "id": "I1TeQr5IyPOW"
      },
      "execution_count": null,
      "outputs": []
    },
    {
      "cell_type": "markdown",
      "source": [
        "Output:"
      ],
      "metadata": {
        "id": "ZAu8BbTnyRns"
      }
    },
    {
      "cell_type": "code",
      "source": [
        "0\n",
        "1\n",
        "2\n",
        "3\n",
        "4\n",
        "5\n",
        "6\n",
        "7\n",
        "8\n",
        "9"
      ],
      "metadata": {
        "id": "I_yovUg2yQ0A"
      },
      "execution_count": null,
      "outputs": []
    },
    {
      "cell_type": "markdown",
      "source": [
        "In summary, in the context of a for loop, the expressions 'range(10)', 'range(0, 10)', and 'range(0, 10, 1)' all generate the same sequence of numbers from 0 to 9. The difference lies in how the start value, end value, and step value are specified, with some being explicit and others using default values."
      ],
      "metadata": {
        "id": "WL-DRUTLyXmB"
      }
    },
    {
      "cell_type": "markdown",
      "source": [
        "#Question 12 - \n",
        "\n",
        "Write a short program that prints the numbers 1 to 10 using a for loop. Then write an equivalent\n",
        "program that prints the numbers 1 to 10 using a while loop.\n",
        "\n",
        ".................\n",
        "\n",
        "Answer 12 - \n",
        "\n",
        "\n",
        "Here's a short program that prints the numbers 1 to 10 using a for loop:"
      ],
      "metadata": {
        "id": "pdW-iOJ2ynek"
      }
    },
    {
      "cell_type": "code",
      "source": [
        "for i in range(1, 10):\n",
        "    print(i)\n"
      ],
      "metadata": {
        "id": "eKltSxwLy_69"
      },
      "execution_count": null,
      "outputs": []
    },
    {
      "cell_type": "markdown",
      "source": [
        "Output:"
      ],
      "metadata": {
        "id": "PfyE-VFJzCAE"
      }
    },
    {
      "cell_type": "code",
      "source": [
        "1\n",
        "2\n",
        "3\n",
        "4\n",
        "5\n",
        "6\n",
        "7\n",
        "8\n",
        "9"
      ],
      "metadata": {
        "id": "CDOPTpDGzEIx"
      },
      "execution_count": null,
      "outputs": []
    },
    {
      "cell_type": "markdown",
      "source": [
        "An equivalent program that prints the numbers 1 to 10 using a \"while\" loop:\n",
        "\n"
      ],
      "metadata": {
        "id": "XeZMjafZzIX5"
      }
    },
    {
      "cell_type": "code",
      "source": [
        "count = 1\n",
        "while count <= 10:\n",
        "    print(count)\n",
        "    count += 1\n"
      ],
      "metadata": {
        "id": "chZTxXeIzYat"
      },
      "execution_count": null,
      "outputs": []
    },
    {
      "cell_type": "markdown",
      "source": [
        "Output:"
      ],
      "metadata": {
        "id": "OAGL-9-SzZOi"
      }
    },
    {
      "cell_type": "code",
      "source": [
        "1\n",
        "2\n",
        "3\n",
        "4\n",
        "5\n",
        "6\n",
        "7\n",
        "8\n",
        "9\n",
        "10"
      ],
      "metadata": {
        "id": "L_J9pJ62zaqR"
      },
      "execution_count": null,
      "outputs": []
    },
    {
      "cell_type": "markdown",
      "source": [
        "In both programs, the 'for' loop and the 'while'  loop are used to iterate from 1 to 10 (inclusive) and print each number. The for loop utilizes the range() function to generate the sequence of numbers, while the while loop uses a variable count to keep track of the current number and increments it with each iteration until it reaches 10."
      ],
      "metadata": {
        "id": "nEvVZu02ziDZ"
      }
    },
    {
      "cell_type": "markdown",
      "source": [
        "#Question 13 - \n",
        "\n",
        "If you had a function named bacon() inside a module named spam, how would you call it after\n",
        "importing spam?\n",
        "\n",
        ".................\n",
        "\n",
        "Answer 14 - \n",
        "\n",
        "\n",
        "After importing the module 'spam' , you can call the function 'bacon()'  using the dot notation to access the function within the module. Here's how you would do it:"
      ],
      "metadata": {
        "id": "oy-rax4Aztzu"
      }
    },
    {
      "cell_type": "code",
      "source": [
        "import spam\n",
        "\n",
        "spam.bacon()\n"
      ],
      "metadata": {
        "id": "TGWW_vUMzhqC"
      },
      "execution_count": null,
      "outputs": []
    },
    {
      "cell_type": "markdown",
      "source": [
        "In this example, the module 'spam' is imported, and then the function 'bacon()' is called using the syntax 'spam.bacon()'. This specifies that you want to call the 'bacon()' function that is defined inside the spam module.\n",
        "\n",
        "Make sure that the module 'spam' is in the same directory or accessible from the Python interpreter's search path."
      ],
      "metadata": {
        "id": "4dkvWpJXz959"
      }
    },
    {
      "cell_type": "code",
      "source": [],
      "metadata": {
        "id": "os1Rii4r0NVF"
      },
      "execution_count": null,
      "outputs": []
    }
  ]
}