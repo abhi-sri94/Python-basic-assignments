{
  "nbformat": 4,
  "nbformat_minor": 0,
  "metadata": {
    "colab": {
      "provenance": [],
      "toc_visible": true
    },
    "kernelspec": {
      "name": "python3",
      "display_name": "Python 3"
    },
    "language_info": {
      "name": "python"
    }
  },
  "cells": [
    {
      "cell_type": "markdown",
      "source": [
        "#Question 1\n",
        "\n",
        "What is the result of the code, and why?\n",
        "\n",
        ">>> def func(a, b=6, c=8):\n",
        "\n",
        "print(a, b, c)\n",
        "\n",
        ">>> func(1, 2)\n",
        "\n",
        "...............\n",
        "\n",
        "Answer 1 -\n",
        "\n",
        "The provided code defines a function called `func` with three parameters: `a` , `b` , and `c` . The `b` and `c` parameters have default values of `6` and `8` , respectively. If these parameters are not provided when calling the function, they will take on these default values.\n",
        "\n",
        "Let's analyze the function call **func(1, 2)** :\n",
        "\n",
        "- The value `1` is passed as the argument for parameter `a` .\n",
        "\n",
        "- The value `2` is passed as the argument for parameter `b` .\n",
        "\n",
        "Since no argument is provided for parameter `c` , it will take its default value of `8` ."
      ],
      "metadata": {
        "id": "RnOSIo8f87UR"
      }
    },
    {
      "cell_type": "code",
      "source": [
        "def func(a, b=6, c=8):\n",
        "    print(a, b, c)\n",
        "\n",
        "func(1, 2)"
      ],
      "metadata": {
        "colab": {
          "base_uri": "https://localhost:8080/"
        },
        "id": "zjEUpvez9f_6",
        "outputId": "e2c5ba60-85a2-46a0-ac6b-821a06365052"
      },
      "execution_count": 2,
      "outputs": [
        {
          "output_type": "stream",
          "name": "stdout",
          "text": [
            "1 2 8\n"
          ]
        }
      ]
    },
    {
      "cell_type": "markdown",
      "source": [
        "Explanation:\n",
        "\n",
        "1) The first value printed is `1` , which corresponds to the value of `a` .\n",
        "\n",
        "2) The second value printed is `2` , which corresponds to the value of `b` .\n",
        "\n",
        "3) The third value printed is `8` , which corresponds to the value of `c` (the default value)."
      ],
      "metadata": {
        "id": "aTPLFwLzfC2H"
      }
    },
    {
      "cell_type": "markdown",
      "source": [
        "#Question 2\n",
        "\n",
        "What is the result of this code, and why?\n",
        "\n",
        ">>> def func(a, b, c=5):\n",
        "\n",
        "print(a, b, c)\n",
        "\n",
        ">>> func(1, c=3, b=2)\n",
        "\n",
        "...............\n",
        "\n",
        "Answer 2 -\n",
        "\n",
        "We are calling the function func with three arguments: `1` , `b=2` , and `c=3` .\n",
        "\n",
        "Let's see what happens:\n",
        "\n",
        "1) The value 1 is passed as the argument for parameter a.\n",
        "\n",
        "2)The value 2 is passed as the argument for parameter b, explicitly using the keyword b=2.\n",
        "\n",
        "3) The value 3 is passed as the argument for parameter c, explicitly using the keyword c=3.\n",
        "\n",
        "When calling a function with keyword arguments like `func(1, c=3, b=2)` , the order of the arguments doesn't matter as long as you specify the parameter names using keywords."
      ],
      "metadata": {
        "id": "4HxxFNldCesj"
      }
    },
    {
      "cell_type": "code",
      "source": [
        "def func(a, b, c=5):\n",
        "    print(a, b, c)\n",
        "\n",
        "func(1, c=3, b=2)"
      ],
      "metadata": {
        "colab": {
          "base_uri": "https://localhost:8080/"
        },
        "id": "0kWSwRvcCZa4",
        "outputId": "eced254e-a389-4353-c215-605bc8d10b69"
      },
      "execution_count": 14,
      "outputs": [
        {
          "output_type": "stream",
          "name": "stdout",
          "text": [
            "1 2 3\n"
          ]
        }
      ]
    },
    {
      "cell_type": "markdown",
      "source": [
        "Explanation:\n",
        "\n",
        "- The first value printed is `1` , which corresponds to the value of `a` .\n",
        "\n",
        "- The second value printed is `2` , which corresponds to the value of `b` .\n",
        "\n",
        "- The third value printed is `3` , which corresponds to the value of `c` ."
      ],
      "metadata": {
        "id": "H5AN1swGgm0W"
      }
    },
    {
      "cell_type": "markdown",
      "source": [
        "#Question 3\n",
        "\n",
        "How about this code: what is its result, and why?\n",
        "\n",
        ">>> def func(a, *pargs):\n",
        "\n",
        "print(a, pargs)\n",
        "\n",
        ">>> func(1, 2, 3)\n",
        "\n",
        "...............\n",
        "\n",
        "Answer 3 -\n",
        "\n",
        "The function func has two parameters: `a` and `*pargs` . The ***pargs** is a special syntax in Python, known as \"`Arbitrary Argument Lists`\" or \"`Variable-length Argument Lists`\" denoted by the asterisk (`*`) before the parameter name. It allows the function to accept any number of positional arguments, which are then collected into a tuple named pargs.\n",
        "\n",
        "Now, let's see what happens when you call the function func(1, 2, 3):\n",
        "\n",
        "1) The value `1` is passed as the argument for parameter `a` .\n",
        "\n",
        "2) The values `2` and `3` are passed as `additional positional arguments` .\n",
        "\n",
        "3) The `*pargs` parameter collects all the additional positional arguments `2` and `3` into a `tuple` ."
      ],
      "metadata": {
        "id": "tqiWGMxVDN_r"
      }
    },
    {
      "cell_type": "code",
      "source": [
        "def func(a, *pargs):\n",
        "    print(a, pargs)\n",
        "\n",
        "func(1, 2, 3)"
      ],
      "metadata": {
        "colab": {
          "base_uri": "https://localhost:8080/"
        },
        "id": "SKVNDdRyDGhW",
        "outputId": "8d5302b4-e054-4a70-a887-93d053f2e826"
      },
      "execution_count": 4,
      "outputs": [
        {
          "output_type": "stream",
          "name": "stdout",
          "text": [
            "1 (2, 3)\n"
          ]
        }
      ]
    },
    {
      "cell_type": "markdown",
      "source": [
        "Explanation:\n",
        "\n",
        "- The first value printed is `1` , which corresponds to the value of `a` .\n",
        "\n",
        "- The second value printed is `(2, 3)` , which corresponds to the tuple pargs containing the additional positional arguments `2` and `3` .\n",
        "\n",
        "\n",
        "This shows that the function `func` accepts the argument `1` for parameter `a` and collects the additional positional arguments `2` and `3` into a tuple `(2, 3)` stored in `pargs` ."
      ],
      "metadata": {
        "id": "BZyhCx1FIfWT"
      }
    },
    {
      "cell_type": "markdown",
      "source": [
        "#Question 4\n",
        "\n",
        "What does this code print, and why?\n",
        "&gt;&gt;&gt; def func(a, **kargs):\n",
        "print(a, kargs)\n",
        "&gt;&gt;&gt; func(a=1, c=3, b=2)\n",
        "\n",
        "..............\n",
        "\n",
        "Answer 4 -\n",
        "\n",
        "The function func has two parameters: `a` and `**kargs` . The `**kargs` is a special syntax in Python, known as \"`Arbitrary Keyword Arguments`\" or \"`Keyworded Variable-length Arguments`\" denoted by the double asterisks (`**`) before the parameter name. It allows the function to accept any number of keyword arguments, which are then collected into a dictionary named kargs.\n",
        "\n",
        "Now, let's see what happens when you call the function func(a=1, c=3, b=2):\n",
        "\n",
        "1) The value `1` is passed as the keyword argument for parameter `a` .\n",
        "\n",
        "2) The values `3` and `2` are passed as additional keyword arguments, with keys `c` and `b` , respectively.\n",
        "The **kargs parameter collects all the additional keyword arguments `c=3` and `b=2` into a dictionary."
      ],
      "metadata": {
        "id": "nEzpxRuiIr3X"
      }
    },
    {
      "cell_type": "code",
      "source": [
        "def func(a, **kargs):\n",
        "    print(a, kargs)\n",
        "\n",
        "func(a=1, c=3, b=2)"
      ],
      "metadata": {
        "colab": {
          "base_uri": "https://localhost:8080/"
        },
        "id": "KkY09240IaRX",
        "outputId": "7a76bbec-9de8-4983-823a-5118fd95024c"
      },
      "execution_count": 5,
      "outputs": [
        {
          "output_type": "stream",
          "name": "stdout",
          "text": [
            "1 {'c': 3, 'b': 2}\n"
          ]
        }
      ]
    },
    {
      "cell_type": "markdown",
      "source": [
        "Explanation:\n",
        "\n",
        "- The first value printed is `1` , which corresponds to the value of `a` .\n",
        "\n",
        "- The second value printed is `{'c': 3, 'b': 2}` , which corresponds to the dictionary `kargs` containing the additional keyword arguments with their respective keys and values."
      ],
      "metadata": {
        "id": "GCF-taoRJ0GX"
      }
    },
    {
      "cell_type": "markdown",
      "source": [
        "#Question 5\n",
        "\n",
        "What gets printed by this, and explain?\n",
        "\n",
        ">>> def func(a, b, c=8, d=5): print(a, b, c, d)\n",
        "\n",
        ">>> func(1, *(5, 6))\n",
        "\n",
        "..............\n",
        "\n",
        "Answer 5 -\n",
        "\n",
        "You are calling the function func with the arguments `1` and `*(5, 6)` .\n",
        "\n",
        "In Python, the `*` operator, when used in a function call, is used for `iterable` unpacking. It takes an iterable (like a tuple or a list) and unpacks its elements, passing them as separate arguments to the function.\n",
        "\n",
        "Let's break down the function call:\n",
        "\n",
        "1) The value `1` is passed as the argument for parameter `a` .\n",
        "\n",
        "2) The expression `*(5, 6)` takes the tuple `(5, 6)` and unpacks its elements, so the function call is effectively equivalent to `func(1, 5, 6)` .\n"
      ],
      "metadata": {
        "id": "5QVPCZLAKD-8"
      }
    },
    {
      "cell_type": "code",
      "source": [
        "def func(a, b, c=8, d=5):\n",
        "    print(a, b, c, d)\n",
        "\n",
        "func(1, *(5, 6))"
      ],
      "metadata": {
        "colab": {
          "base_uri": "https://localhost:8080/"
        },
        "id": "K7ftaBc9JsU9",
        "outputId": "14b462b3-d121-4c9f-9db4-3c147a183a8b"
      },
      "execution_count": 6,
      "outputs": [
        {
          "output_type": "stream",
          "name": "stdout",
          "text": [
            "1 5 6 5\n"
          ]
        }
      ]
    },
    {
      "cell_type": "markdown",
      "source": [
        "Explanation:\n",
        "\n",
        "- The first value printed is `1` , which corresponds to the value of `a` .\n",
        "\n",
        "- The second value printed is `5` , which corresponds to the value of `b` .\n",
        "\n",
        "- The third value printed is `6` , which corresponds to the value of `c` .\n",
        "\n",
        "- The fourth value printed is `5` , which corresponds to the value of `d` .\n",
        "\n",
        "Since the value of d is not provided in the function call, it takes its default value of 5.\n",
        "\n"
      ],
      "metadata": {
        "id": "CSihNNI1YjnF"
      }
    },
    {
      "cell_type": "markdown",
      "source": [
        "#Question 6\n",
        "\n",
        "what is the result of this, and explain?\n",
        "\n",
        ">>> def func(a, b, c): a = 2; b[0] = 'x'; c['] = 'y'\n",
        "\n",
        ">>> l=1; m=[1]; n={':0}\n",
        "\n",
        ">>> func(l, m, n)\n",
        "\n",
        ">>> l, m, n\n",
        "\n",
        "..............\n",
        "\n",
        "Answer 6 -\n",
        "\n",
        "We are defining a function func that takes three arguments `a` , `b` , and `c` . Inside the function, it performs the following operations:\n",
        "\n",
        "1) **a = 2** : This line reassigns the local variable `a` within the function to the value `2` . However, since `a` is only a `local` variable, it doesn't affect the variable `l` outside the function.\n",
        "\n",
        "2) **b[0] = 'x'** : This line changes the value of the first element of the list `m` (passed as `b` in the function call) to `'x'` . As lists are mutable, this modification will be reflected in the list `m` outside the function.\n",
        "\n",
        "3) **c['a'] = 'y'** : This line changes the value associated with the key `'a'` in the dictionary `n` (passed as `c` in the function call) to `'y'` . Like lists, dictionaries are also mutable, so this modification will be visible in the dictionary n outside the function.\n"
      ],
      "metadata": {
        "id": "hOoWq5AXY9QG"
      }
    },
    {
      "cell_type": "code",
      "source": [
        "def func(a, b, c): a = 2; b[0] = 'x'; c['a'] = 'y'\n",
        "\n",
        "l = 1; m = [1]; n = {'a': 0}\n",
        "\n",
        "func(l, m, n)"
      ],
      "metadata": {
        "id": "b_jqu23dYern"
      },
      "execution_count": 12,
      "outputs": []
    },
    {
      "cell_type": "code",
      "source": [
        "l, m, n"
      ],
      "metadata": {
        "colab": {
          "base_uri": "https://localhost:8080/"
        },
        "id": "5BvZDfqbZ94T",
        "outputId": "8a3d3149-2fab-4c13-c675-5baadcdd2e9f"
      },
      "execution_count": 13,
      "outputs": [
        {
          "output_type": "execute_result",
          "data": {
            "text/plain": [
              "(1, ['x'], {'a': 'y'})"
            ]
          },
          "metadata": {},
          "execution_count": 13
        }
      ]
    },
    {
      "cell_type": "markdown",
      "source": [
        "Explanation:\n",
        "\n",
        "- **l** : The value of `l` remains unchanged because `a = 2` inside the function doesn't affect the variable `l` outside the function. So `l` remains `1` .\n",
        "\n",
        "- **m** : The list `m` is modified inside the function with the statement `b[0] = 'x'` , changing the first element of the list from `1` to `'x'` .\n",
        "\n",
        "- **n** : The dictionary `n` is modified inside the function with the statement `c['a'] = 'y'` , changing the value associated with the key `'a'` from `0` to `'y'` ."
      ],
      "metadata": {
        "id": "_H7rX7AAclng"
      }
    }
  ]
}