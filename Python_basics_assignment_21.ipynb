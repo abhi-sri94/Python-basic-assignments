{
  "nbformat": 4,
  "nbformat_minor": 0,
  "metadata": {
    "colab": {
      "provenance": [],
      "toc_visible": true
    },
    "kernelspec": {
      "name": "python3",
      "display_name": "Python 3"
    },
    "language_info": {
      "name": "python"
    }
  },
  "cells": [
    {
      "cell_type": "markdown",
      "source": [
        "#Question 1\n",
        "\n",
        "Add the current date to the text file today.txt as a string.\n",
        "\n",
        "............\n",
        "\n",
        "Answer 1 -\n",
        "\n",
        "We can accomplish the task by the help of the code below:"
      ],
      "metadata": {
        "id": "eHX-ic7LUHRW"
      }
    },
    {
      "cell_type": "code",
      "execution_count": 10,
      "metadata": {
        "colab": {
          "base_uri": "https://localhost:8080/"
        },
        "id": "bibi-lXhTpAX",
        "outputId": "2e48d061-0bc4-4b02-f486-ff1134a32f92"
      },
      "outputs": [
        {
          "output_type": "stream",
          "name": "stdout",
          "text": [
            "Current date '26-07-2023'.\n"
          ]
        }
      ],
      "source": [
        "from datetime import datetime\n",
        "\n",
        "# Get the current date as a string\n",
        "current_date_str = datetime.today().strftime('%d-%m-%Y')\n",
        "\n",
        "# File path\n",
        "file_path = 'today.txt'\n",
        "\n",
        "# Open the file in append mode and write the current date\n",
        "with open(file_path, 'a') as file:\n",
        "    file.write(current_date_str + '\\n')\n",
        "\n",
        "print(f\"Current date '{current_date_str}'.\")\n"
      ]
    },
    {
      "cell_type": "markdown",
      "source": [
        "#Question 2\n",
        "\n",
        "Read the text file today.txt into the string today_string\n",
        "\n",
        "..............\n",
        "\n",
        "Answer 2 -\n",
        "\n",
        "Here's a Python code snippet to read the contents of the `\"today.txt\"` file into a string named `today_string` :\n",
        "\n"
      ],
      "metadata": {
        "id": "i2EHPk1XUyJL"
      }
    },
    {
      "cell_type": "code",
      "source": [
        "# Specify the file path\n",
        "file_path = \"today.txt\"\n",
        "\n",
        "# Read the contents of the file into the string today_string\n",
        "with open(file_path, \"r\") as file:\n",
        "    today_string = file.read()\n",
        "\n",
        "# Print the contents of the string to verify\n",
        "print(today_string)"
      ],
      "metadata": {
        "id": "M_ItSJjQT1dM",
        "colab": {
          "base_uri": "https://localhost:8080/"
        },
        "outputId": "bdb6ed99-9251-4336-830c-bb4329329440"
      },
      "execution_count": 15,
      "outputs": [
        {
          "output_type": "stream",
          "name": "stdout",
          "text": [
            "26-07-2023\n",
            "2023-07-26\n",
            "26-07-2023\n",
            "26-07-2023\n",
            "\n"
          ]
        }
      ]
    },
    {
      "cell_type": "markdown",
      "source": [
        "#Question 3\n",
        "\n",
        "Parse the date from today_string.\n",
        "\n",
        ".............\n",
        "\n",
        "Answer 3 -\n",
        "\n",
        "To parse the date from the `today_string` , you can use Python's `datetime` module."
      ],
      "metadata": {
        "id": "zbZITEF6aA71"
      }
    },
    {
      "cell_type": "code",
      "source": [
        "from datetime import datetime\n",
        "\n",
        "# Assuming today_string contains a single line with the date in the format YYYY-MM-DD\n",
        "today_string = \"26-07-2023\"  # Replace this with the content of your \"today.txt\" file\n",
        "\n",
        "# Parse the date from the string\n",
        "parsed_date = datetime.strptime(today_string.strip(), \"%d-%m-%Y\").date()\n",
        "\n",
        "# Display the parsed date\n",
        "print(parsed_date)"
      ],
      "metadata": {
        "colab": {
          "base_uri": "https://localhost:8080/"
        },
        "id": "6-J-nwgcaVn_",
        "outputId": "f8c9de89-21d6-495c-edaa-048a440e92f6"
      },
      "execution_count": 17,
      "outputs": [
        {
          "output_type": "stream",
          "name": "stdout",
          "text": [
            "2023-07-26\n"
          ]
        }
      ]
    },
    {
      "cell_type": "markdown",
      "source": [
        "#Question 4\n",
        "\n",
        "List the files in your current directory\n",
        "\n",
        "..............\n",
        "\n",
        "Answer 4 -"
      ],
      "metadata": {
        "id": "pB3EijGobXwQ"
      }
    },
    {
      "cell_type": "code",
      "source": [
        "import os\n",
        "\n",
        "# Get the list of files in the current directory\n",
        "files_in_current_directory = os.listdir()\n",
        "\n",
        "# Display the list of files\n",
        "print(files_in_current_directory)\n"
      ],
      "metadata": {
        "colab": {
          "base_uri": "https://localhost:8080/"
        },
        "id": "9N1l4phHa29j",
        "outputId": "c584fc06-8acb-4136-c7c8-3aa8eb25e70f"
      },
      "execution_count": 20,
      "outputs": [
        {
          "output_type": "stream",
          "name": "stdout",
          "text": [
            "['.config', 'today.txt', 'sample_data']\n"
          ]
        }
      ]
    },
    {
      "cell_type": "markdown",
      "source": [
        "#Question 5\n",
        "\n",
        "Create a list of all of the files in your parent directory (minimum five files should be available).\n",
        "\n",
        "...............\n",
        "\n",
        "Answer 5 -\n"
      ],
      "metadata": {
        "id": "RSuRwL8sbrSi"
      }
    },
    {
      "cell_type": "code",
      "source": [
        "import os\n",
        "\n",
        "# Get the parent directory\n",
        "parent_directory = os.path.abspath(os.path.join(os.getcwd(), os.pardir))\n",
        "\n",
        "# Get the list of files in the parent directory\n",
        "files_in_parent_directory = os.listdir(parent_directory)\n",
        "\n",
        "# Display the list of files\n",
        "print(files_in_parent_directory)\n"
      ],
      "metadata": {
        "colab": {
          "base_uri": "https://localhost:8080/"
        },
        "id": "M1VvGOnUb30K",
        "outputId": "9887dc49-eff2-4b59-92fb-cdde18916cee"
      },
      "execution_count": 21,
      "outputs": [
        {
          "output_type": "stream",
          "name": "stdout",
          "text": [
            "['proc', 'lib', 'root', 'home', 'lib32', 'boot', 'media', 'dev', 'var', 'lib64', 'sbin', 'sys', 'run', 'libx32', 'opt', 'tmp', 'usr', 'etc', 'srv', 'mnt', 'bin', 'content', '.dockerenv', 'datalab', 'tools', 'python-apt', 'NGC-DL-CONTAINER-LICENSE', 'cuda-keyring_1.0-1_all.deb']\n"
          ]
        }
      ]
    },
    {
      "cell_type": "markdown",
      "source": [
        "#Question 6\n",
        "\n",
        "Use multiprocessing to create three separate processes. Make each one wait a random number of\n",
        "seconds between one and five, print the current time, and then exit.\n",
        "\n",
        "...............\n",
        "\n",
        "Answer 6 -\n",
        "\n",
        "Here's how we can accomplish the task."
      ],
      "metadata": {
        "id": "ZoHujpiCb3eC"
      }
    },
    {
      "cell_type": "code",
      "source": [
        "import multiprocessing\n",
        "import random\n",
        "import time\n",
        "from datetime import datetime\n",
        "\n",
        "def worker():\n",
        "    # Generate a random sleep time between 1 and 5 seconds\n",
        "    sleep_time = random.randint(1, 5)\n",
        "    time.sleep(sleep_time)\n",
        "\n",
        "    # Print the current time after sleeping\n",
        "    current_time = datetime.now().strftime(\"%Y-%m-%d %H:%M:%S\")\n",
        "    print(f\"Process {multiprocessing.current_process().name} slept for {sleep_time} seconds. Current time: {current_time}\")\n",
        "\n",
        "if __name__ == \"__main__\":\n",
        "    processes = []\n",
        "    for i in range(3):\n",
        "        # Create a new process for each worker\n",
        "        process = multiprocessing.Process(target=worker)\n",
        "        processes.append(process)\n",
        "        process.start()\n",
        "\n",
        "    # Wait for all processes to finish\n",
        "    for process in processes:\n",
        "        process.join()\n",
        "\n",
        "    print(\"All processes have finished.\")"
      ],
      "metadata": {
        "colab": {
          "base_uri": "https://localhost:8080/"
        },
        "id": "NQM8EvpEcZQj",
        "outputId": "b797c297-46b9-4d2a-9783-8a742a711d50"
      },
      "execution_count": 24,
      "outputs": [
        {
          "output_type": "stream",
          "name": "stdout",
          "text": [
            "Process Process-8 slept for 2 seconds. Current time: 2023-07-26 09:05:57\n",
            "Process Process-7 slept for 3 seconds. Current time: 2023-07-26 09:05:58\n",
            "Process Process-9 slept for 5 seconds. Current time: 2023-07-26 09:06:00\n",
            "All processes have finished.\n"
          ]
        }
      ]
    },
    {
      "cell_type": "markdown",
      "source": [
        "In this code, we define the worker function, which is the target function that each process will execute. Inside the worker function, we generate a random sleep time between 1 and 5 seconds using `random.randint(1, 5)` . The process then sleeps for that amount of time using `time.sleep(sleep_time)` .\n",
        "\n",
        "After waking up from the sleep, the process prints the current time using **datetime.now().strftime(\"%Y-%m-%d %H:%M:%S\")** .\n",
        "\n",
        "In the main part of the script, we create three separate processes, start them, and then wait for all processes to finish using **process.join()** . Finally, we print a message to indicate that all processes have finished."
      ],
      "metadata": {
        "id": "Om0aESiwcyL3"
      }
    },
    {
      "cell_type": "markdown",
      "source": [
        "#Question 7\n",
        "\n",
        "Create a date object of your day of birth.\n",
        "\n",
        ".............\n",
        "\n",
        "Answer 7 -\n",
        "\n",
        "Let's say my \"day of birth\" is November 27, 1996. We can use Python's `datetime` module to create a date object for that date. Here's the code:"
      ],
      "metadata": {
        "id": "7AwbJjdldIHU"
      }
    },
    {
      "cell_type": "code",
      "source": [
        "from datetime import datetime\n",
        "\n",
        "# Your day of birth in \"dd mm yyyy\" format\n",
        "day_of_birth_str = \"27 11 1996\"\n",
        "\n",
        "# Convert the string to a date object\n",
        "day_of_birth_date = datetime.strptime(day_of_birth_str, \"%d %m %Y\").date()\n",
        "\n",
        "# Print the date object\n",
        "print(day_of_birth_date)"
      ],
      "metadata": {
        "colab": {
          "base_uri": "https://localhost:8080/"
        },
        "id": "K0vG67a0dbxI",
        "outputId": "8fc19e39-16e2-42ca-8ee8-48bf0e88ceda"
      },
      "execution_count": 33,
      "outputs": [
        {
          "output_type": "stream",
          "name": "stdout",
          "text": [
            "1996-11-27\n"
          ]
        }
      ]
    },
    {
      "cell_type": "markdown",
      "source": [
        "#Quetsion 8\n",
        "\n",
        "What day of the week was your day of birth?\n",
        "\n",
        "..............\n",
        "\n",
        "Answer 8 -\n",
        "\n",
        "Using the `datetime` module:"
      ],
      "metadata": {
        "id": "s3Drsd55d-6Y"
      }
    },
    {
      "cell_type": "code",
      "source": [
        "from datetime import datetime\n",
        "\n",
        "# Date of birth in \"dd mm yyyy\" format\n",
        "day_of_birth_str = \"27 11 1996\"\n",
        "\n",
        "# Converting the string to a date object\n",
        "day_of_birth_date = datetime.strptime(day_of_birth_str, \"%d %m %Y\").date()\n",
        "\n",
        "# Getting the day of the week as an integer (0 = Monday, 1 = Tuesday, ..., 6 = Sunday)\n",
        "day_of_week = day_of_birth_date.weekday()\n",
        "\n",
        "# Creating a list of days of the week\n",
        "days_of_week = [\"Monday\", \"Tuesday\", \"Wednesday\", \"Thursday\", \"Friday\", \"Saturday\", \"Sunday\"]\n",
        "\n",
        "# Printing the day of the week\n",
        "print(\"Day of the week:\", days_of_week[day_of_week])"
      ],
      "metadata": {
        "colab": {
          "base_uri": "https://localhost:8080/"
        },
        "id": "oYNXoeFxdos_",
        "outputId": "d1826529-138b-4cba-ebb1-3c9e5ca4254d"
      },
      "execution_count": 38,
      "outputs": [
        {
          "output_type": "stream",
          "name": "stdout",
          "text": [
            "Day of the week: Wednesday\n"
          ]
        }
      ]
    },
    {
      "cell_type": "markdown",
      "source": [
        "#Question 9\n",
        "\n",
        "When will you be (or when were you) 10,000 days old?\n",
        "\n",
        "..............\n",
        "\n",
        "Answer 9 -\n",
        "\n"
      ],
      "metadata": {
        "id": "lypt3-qHesNe"
      }
    },
    {
      "cell_type": "code",
      "source": [
        "from datetime import datetime, timedelta\n",
        "\n",
        "birth_date = datetime(1996, 11, 27)\n",
        "\n",
        "# Calculating the date when i will be (or was) 10,000 days old\n",
        "ten_thousand_days = timedelta(days=10000)\n",
        "result_date = birth_date + ten_thousand_days\n",
        "\n",
        "# Printing the result\n",
        "print(\"10,000 days from the birth date will be (or was):\", result_date.strftime(\"%Y-%m-%d\"))"
      ],
      "metadata": {
        "colab": {
          "base_uri": "https://localhost:8080/"
        },
        "id": "4-YtUJ37eVQv",
        "outputId": "785657e0-040a-44ec-e0ff-7437eb54c85b"
      },
      "execution_count": 44,
      "outputs": [
        {
          "output_type": "stream",
          "name": "stdout",
          "text": [
            "10,000 days from the birth date will be (or was): 2024-04-14\n"
          ]
        }
      ]
    },
    {
      "cell_type": "code",
      "source": [],
      "metadata": {
        "id": "eu-ToNM-e5_L"
      },
      "execution_count": null,
      "outputs": []
    }
  ]
}