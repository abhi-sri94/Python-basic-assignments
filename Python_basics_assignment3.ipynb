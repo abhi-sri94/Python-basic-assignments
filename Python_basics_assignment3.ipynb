{
  "nbformat": 4,
  "nbformat_minor": 0,
  "metadata": {
    "colab": {
      "provenance": [],
      "toc_visible": true
    },
    "kernelspec": {
      "name": "python3",
      "display_name": "Python 3"
    },
    "language_info": {
      "name": "python"
    }
  },
  "cells": [
    {
      "cell_type": "markdown",
      "source": [
        "#Question 1 - \n",
        "\n",
        "Why are functions advantageous to have in your programs?\n",
        "\n",
        "...............\n",
        "\n",
        "\n",
        "Answer 1 - \n",
        "\n",
        "Functions are advantageous to have in programs for several reasons:\n",
        "\n",
        "1) **Modularity and Reusability**: Functions allow you to break down complex tasks into smaller, manageable units of code. This promotes modularity, making your code easier to read, understand, and maintain. Functions can be reused in different parts of the program or in other programs, saving time and effort.\n",
        "\n",
        "2) **Code Organization**: Functions provide a structured way to organize your code. By encapsulating specific functionality within functions, you can improve code readability and maintainability. Functions also help in isolating and troubleshooting issues since you can focus on specific parts of the code.\n",
        "\n",
        "3) **Abstraction and Encapsulation**: Functions allow you to abstract away implementation details. By defining a function with a meaningful name and input/output parameters, you can hide the internal workings of the function and focus on its purpose. This abstraction makes your code more understandable and reduces complexity.\n",
        "\n",
        "4) **Code Reusability and Scalability**: Functions can be used to create libraries of reusable code. Once you define a function, you can call it multiple times with different inputs. This reusability saves effort and promotes code scalability. Functions also enable collaborative development, as different team members can work on separate functions and then integrate them into the larger program.\n",
        "\n",
        "5) **Code Readability and Maintainability**: Functions enhance code readability by providing a logical structure and meaningful names for tasks. They make code more self-explanatory and easier to understand, especially if well-documented. Additionally, functions simplify maintenance as you can update or fix a specific function without affecting other parts of the program.\n",
        "\n",
        "6) **Testing and Debugging**: Functions enable isolated testing and debugging. You can write unit tests for individual functions to verify their correctness. If a bug is encountered, functions help narrow down the problematic area, making it easier to identify and fix issues."
      ],
      "metadata": {
        "id": "457iSc9RKo3P"
      }
    },
    {
      "cell_type": "markdown",
      "source": [
        "#Question 2 - \n",
        "\n",
        "When does the code in a function run: when it's specified or when it's called?\n",
        "\n",
        "................\n",
        "\n",
        "Answer 2 - \n",
        "\n",
        "The code in a function runs when the function is called, not when it is specified or defined.\n",
        "\n",
        "When you define a function, you are essentially creating a reusable block of code with a specific name and optional parameters. However, the code inside the function is not executed at the time of definition. It is executed only when the function is called or invoked in your program.\n",
        "\n",
        "To use the function and execute its code, you need to call the function by its name, followed by parentheses (). This triggers the execution of the function's code block, and any actions or operations specified within the function will be performed.\n",
        "\n",
        "For example, consider the following code snippet:\n"
      ],
      "metadata": {
        "id": "kvuhDkxALr1W"
      }
    },
    {
      "cell_type": "code",
      "execution_count": null,
      "metadata": {
        "id": "CMvR1zTfKXC-"
      },
      "outputs": [],
      "source": [
        "def greet():\n",
        "    print(\"Hello, World!\")\n",
        "\n",
        "greet()  # Calling the function\n"
      ]
    },
    {
      "cell_type": "markdown",
      "source": [
        "In this example, the code inside the `greet()` function will run only when the function is called with `greet()`. The output \"Hello, World!\" will be printed when the function is invoked.\n",
        "\n",
        "Therefore, the code within a function is executed at the point of function call, allowing you to control when and how many times the code inside the function is executed during the execution of your program."
      ],
      "metadata": {
        "id": "dCGmioinMJxI"
      }
    },
    {
      "cell_type": "markdown",
      "source": [
        "#Question 3 - \n",
        "\n",
        "What statement creates a function?\n",
        "\n",
        "...............\n",
        "\n",
        "Answer 3 - \n",
        "\n",
        "The `def` statement is used to create a function in Python.\n",
        "\n",
        "The def statement is followed by the `function name`, a pair of parentheses `()`, and a colon `:`. It serves as the function definition and specifies the code block that will be executed when the function is called.\n",
        "\n",
        "Here's the basic syntax of a function creation using the def statement:"
      ],
      "metadata": {
        "id": "exuVdImzMO1v"
      }
    },
    {
      "cell_type": "code",
      "source": [
        "def function_name(parameters):\n",
        "    # Code block\n",
        "    # Statements\n",
        "    # ...\n"
      ],
      "metadata": {
        "id": "wneKg4K5Me4d"
      },
      "execution_count": null,
      "outputs": []
    },
    {
      "cell_type": "markdown",
      "source": [
        "Let's break down the components of the def statement:\n",
        "\n",
        "- **def**: It is the keyword that indicates the start of a function definition.\n",
        "\n",
        "- **function_name**: This is the name you choose to give to your function. It should follow the naming conventions of Python (e.g., lowercase with underscores for multiple words).\n",
        "\n",
        "- **parameters**: These are optional inputs that you can define for your function. They are enclosed within - parentheses (). Parameters allow you to pass values or variables into the function for it to work with.\n",
        "\n",
        "- **`:`**  A colon signifies the end of the function declaration and the start of the code block.\n",
        "\n",
        "- **Code block**: This is the indented block of code below the def statement. It contains the statements and actions that define the behavior of the function.\n",
        "\n",
        "Here's an example of a function that adds two numbers:"
      ],
      "metadata": {
        "id": "uFvwG3vjMhVm"
      }
    },
    {
      "cell_type": "code",
      "source": [
        "def add_numbers(a, b):\n",
        "    sum = a + b\n",
        "    print(\"The sum is:\", sum)\n"
      ],
      "metadata": {
        "id": "Fg0fTLscM6bB"
      },
      "execution_count": null,
      "outputs": []
    },
    {
      "cell_type": "markdown",
      "source": [
        "In this case, `add_numbers` is the function name, and it takes two parameters `a` and `b`. The code block within the function calculates the sum of `a` and `b` and prints the result.\n",
        "\n",
        "You can create functions with different functionalities and customize them based on your requirements using the `def` statement."
      ],
      "metadata": {
        "id": "9IHlW13sM7KG"
      }
    },
    {
      "cell_type": "markdown",
      "source": [
        "#Question 4 - \n",
        "\n",
        "What is the difference between a function and a function call?\n",
        "\n",
        "................\n",
        "\n",
        "\n",
        "Answer 4 - \n",
        "\n",
        "The main difference between a function and a function call lies in their roles and actions within a program:\n",
        "\n",
        "1) Function:\n",
        "\n",
        "- A function is a block of code that is defined and created to perform a specific task or set of actions.\n",
        "- It encapsulates a series of statements and can have input parameters and return values.\n",
        "- Functions are defined using the `def` statement in Python, followed by the function name, parentheses for parameters, and a colon to indicate the start of the function's code block.\n",
        "- Functions are reusable and modular, allowing you to organize your code and avoid repetition.\n",
        "- They are created to be invoked or called at different points in the program when their functionality is needed.\n",
        "\n",
        "2) Function Call:\n",
        "\n",
        "- A function call is the actual execution or invocation of a function.\n",
        "- It is the statement that triggers the execution of the code within the function.\n",
        "- Function calls are made by using the function name followed by parentheses `()`.\n",
        "- When a function is called, the program transfers control to the function, and the code block inside the function is executed.\n",
        "- Function calls can provide arguments or inputs to the function if it expects parameters.\n",
        "- After the function executes its code, it may return a value or perform other actions as defined.\n",
        "\n",
        "In summary, a function is a defined block of code with a specific purpose, while a function call is the action of invoking or executing that function in order to utilize its functionality. Functions are created once and can be called multiple times at different points in the program to perform the desired tasks."
      ],
      "metadata": {
        "id": "tcTWyKyYPc3c"
      }
    },
    {
      "cell_type": "markdown",
      "source": [
        "#Question 5 - \n",
        "\n",
        "How many global scopes are there in a Python program? How many local scopes?\n",
        "\n",
        ".............\n",
        "\n",
        "Answer 5 - \n",
        "\n",
        "In a Python program, there is one global scope and multiple local scopes.\n",
        "\n",
        "1) Global Scope:\n",
        "\n",
        "- The global scope is the outermost scope in a Python program.\n",
        "- It exists outside of any function or class definition.\n",
        "- Variables defined in the global scope are accessible throughout the entire program, including within functions and classes.\n",
        "- Global variables can be accessed and modified from any part of the program.\n",
        "\n",
        "2) Local Scopes:\n",
        "\n",
        "- Local scopes are created whenever a function is called or a code block is entered.\n",
        "- Each function call or code block has its own local scope.\n",
        "- Variables defined within a local scope are only accessible within that specific scope.\n",
        "- Local variables have a limited lifetime and are destroyed once the function or code block finishes executing.\n",
        "- Local variables can shadow global variables, meaning that a local variable with the same name as a global variable will take precedence within its local scope.\n",
        "\n",
        "In summary, there is one global scope that exists throughout the entire program, and local scopes are created whenever a function is called or a code block is entered. Each local scope is independent and has its own set of variables, while global variables can be accessed from anywhere in the program."
      ],
      "metadata": {
        "id": "L9QuAWKGQNrd"
      }
    },
    {
      "cell_type": "markdown",
      "source": [
        "#Question 6 - \n",
        "\n",
        "What happens to variables in a local scope when the function call returns?\n",
        "\n",
        "................\n",
        "\n",
        "Answer 6 - \n",
        "\n",
        "When a function call returns in Python, the local variables within that function's scope cease to exist. This is because local variables have a limited lifetime and are created when the function is called and destroyed when the function call completes.\n",
        "\n",
        "\n",
        "Here's what happens to variables in a local scope when a function call returns:\n",
        "\n",
        "\n",
        "1) Variable Destruction:\n",
        "\n",
        "- As the function call completes, the local variables defined within that function's scope are destroyed.\n",
        "- The memory allocated to store the values of those variables is released.\n",
        "- Any data stored in local variables is no longer accessible once the function call returns.\n",
        "\n",
        "2) Scope Deactivation:\n",
        "\n",
        "- The local scope associated with the function call is deactivated.\n",
        "- Control is transferred back to the scope from which the function was called (e.g., the global scope or the calling function's scope).\n",
        "\n",
        "3) Return Value (if applicable):\n",
        "\n",
        "- If the function has a return statement, the specified value or expression is passed back to the calling code.\n",
        "- The returned value can be assigned to a variable or used directly in the calling code."
      ],
      "metadata": {
        "id": "NLnV0DXoQ0C4"
      }
    },
    {
      "cell_type": "markdown",
      "source": [
        "#Question 7 - \n",
        "\n",
        "What is the concept of a return value? Is it possible to have a return value in an expression?\n",
        "\n",
        "...............\n",
        "\n",
        "Answer 7 - \n",
        "\n",
        "The concept of a return value refers to the value that a function gives back to the code that called it. When a function is executed, it may perform certain operations and computations and then produce a result, which is the return value.\n",
        "\n",
        "A return value serves as a way for a function to communicate its output or result to the calling code. It allows the calling code to use or manipulate the result of the function's computation.\n",
        "\n",
        "Yes, it is possible to have a return value in an expression. In Python, a function can be called within an expression, and the return value of that function can be used as part of the expression. The return value can be assigned to a variable, used in calculations, passed as an argument to another function, or used in any other way that a value can be used within an expression.\n",
        "\n",
        "Here's an example to illustrate using a return value in an expression:"
      ],
      "metadata": {
        "id": "VSFBwyLZRkCg"
      }
    },
    {
      "cell_type": "code",
      "source": [
        "def square(number):\n",
        "    return number ** 2\n",
        "\n",
        "result = square(5) + 10  # The return value of square(5) (which is 25) is used in the expression\n",
        "print(result)  # Output: 35\n"
      ],
      "metadata": {
        "id": "wvhTO8DDM9pq"
      },
      "execution_count": null,
      "outputs": []
    },
    {
      "cell_type": "markdown",
      "source": [
        "In this example, the square() function calculates the square of a number and returns the result. The return value of square(5) (which is 25) is then used in the expression square(5) + 10, resulting in the value 35."
      ],
      "metadata": {
        "id": "uHcA3v5oR2zi"
      }
    },
    {
      "cell_type": "markdown",
      "source": [
        "#Question 8 - \n",
        "\n",
        "If a function does not have a return statement, what is the return value of a call to that function?\n",
        "\n",
        "...............\n",
        "\n",
        "Answer 8 - \n",
        "\n",
        "If a function does not have a return statement, the return value of a call to that function is `None.`\n",
        "\n",
        "In Python, when a function is executed and there is no explicit return statement or the return statement is without any value, the function automatically returns `None`. `None` is a special object in Python that represents the absence of a value.\n",
        "\n",
        "Here's an example to demonstrate the return value of a function without a return statement:"
      ],
      "metadata": {
        "id": "oQyVNZkCR67n"
      }
    },
    {
      "cell_type": "code",
      "source": [
        "def greet(name):\n",
        "    print(f\"Hello, {name}!\")\n",
        "\n",
        "result = greet(\"Alice\")\n",
        "print(result)  # Output: None\n"
      ],
      "metadata": {
        "id": "nIUZMXszR3mU"
      },
      "execution_count": null,
      "outputs": []
    },
    {
      "cell_type": "markdown",
      "source": [
        "In this example, the `greet()` function prints a greeting message but does not have a return statement. When we call `greet(\"Alice\")`, it prints `\"Hello, Alice!\"` but does not explicitly return any value. Therefore, the value of result is `None`."
      ],
      "metadata": {
        "id": "HB4-gCf3SOuh"
      }
    },
    {
      "cell_type": "code",
      "source": [],
      "metadata": {
        "id": "pD4aVXiESgE2"
      },
      "execution_count": null,
      "outputs": []
    },
    {
      "cell_type": "markdown",
      "source": [
        "#Question 9 - \n",
        "\n",
        "How do you make a function variable refer to the global variable?\n",
        "\n",
        "................\n",
        "\n",
        "Answer 9 - \n",
        "\n",
        "To make a function variable refer to the global variable, you can use the `global` keyword inside the function. The `global` keyword allows you to specify that a variable within the function should refer to the global variable with the same name.\n",
        "\n",
        "Here's an example:"
      ],
      "metadata": {
        "id": "13cNWWj6SghW"
      }
    },
    {
      "cell_type": "code",
      "source": [
        "global_var = 10  # Global variable\n",
        "\n",
        "def modify_global_var():\n",
        "    global global_var  # Declare global_var as a global variable within the function\n",
        "    global_var += 5  # Modify the global variable\n",
        "\n",
        "print(global_var)  # Output: 10\n",
        "modify_global_var()\n",
        "print(global_var)  # Output: 15\n"
      ],
      "metadata": {
        "id": "T2ApmqPCTdiI"
      },
      "execution_count": null,
      "outputs": []
    },
    {
      "cell_type": "markdown",
      "source": [
        "In this example, we have a global variable `global_var` with an initial value of 10. Inside the function `modify_global_var()`, we declare `global_var` as a global variable using the `global` keyword. This allows us to modify the global variable within the function. In this case, we increment its value by 5.\n",
        "\n",
        "After calling `modify_global_var()`, the value of `global_var` is updated to 15, reflecting the modification made inside the function.\n",
        "\n",
        "By using the `global` keyword, you explicitly indicate that the variable should refer to the global variable rather than creating a new local variable with the same name. It allows you to access and modify the global variable within the function's scope."
      ],
      "metadata": {
        "id": "prQhtlEoTgcW"
      }
    },
    {
      "cell_type": "markdown",
      "source": [
        "#Question 10 - \n",
        "\n",
        "What is the data type of None?\n",
        "\n",
        "..............\n",
        "\n",
        "Answer 10 - \n",
        "\n",
        "The data type of `None` in Python is `NoneType`. `None` is a special object that represents the absence of a value or the lack of a return value. It is commonly used to indicate that a variable or expression does not have a meaningful or defined value.\n",
        "\n",
        "Here's an example to demonstrate the data type of `None`:"
      ],
      "metadata": {
        "id": "Ddg6lgLFT4UT"
      }
    },
    {
      "cell_type": "code",
      "source": [
        "x = None\n",
        "\n",
        "print(type(x))  # Output: <class 'NoneType'>\n"
      ],
      "metadata": {
        "id": "0JSjBXF7UNcq"
      },
      "execution_count": null,
      "outputs": []
    },
    {
      "cell_type": "markdown",
      "source": [
        "In this example, we assign `None` to the variable `x`. When we use the `type()` function to get the data type of `x`, it returns `<class 'NoneType'>`, indicating that `x` is of type `NoneType`.\n",
        "\n",
        "It's important to note that `None` is a unique object of its own type, `NoneType`. It is not the same as other common data types like `int`, `str`, or `bool`."
      ],
      "metadata": {
        "id": "1fP3VuOWUOGm"
      }
    },
    {
      "cell_type": "markdown",
      "source": [
        "#Question 11 - \n",
        "\n",
        "What does the sentence import areallyourpetsnamederic do?\n",
        "\n",
        "Answer 11 - \n",
        "\n",
        "The sentence  `import areallyourpetsnamederic` does not have any inherent meaning in Python. It is not a valid Python import statement since `areallyourpetsnamederic` is not a recognized Python module or package.\n",
        "\n",
        "In Python, the `import` statement is used to bring external modules or packages into your code so that you can use their functionality. These modules or packages typically contain pre-defined functions, classes, or variables that you can utilize in your program. However, `areallyourpetsnamederic` is not a standard or built-in module, so attempting to import it would result in an `ImportError`.\n",
        "\n",
        "If you encounter the sentence import `areallyourpetsnamederic` in code, it likely serves as a placeholder or a joke, rather than a valid Python import statement with a specific purpose or functionality."
      ],
      "metadata": {
        "id": "EWm_P-2OUjEK"
      }
    },
    {
      "cell_type": "markdown",
      "source": [
        "#Question 12 - \n",
        "\n",
        "If you had a bacon() feature in a spam module, what would you call it after importing spam?\n",
        "\n",
        "...............\n",
        "\n",
        "Answer 12 - \n",
        "\n",
        "After importing the `spam` module, you can call the `bacon()` function by using the dot notation to access it as an attribute of the `spam` module.\n",
        "\n",
        "Here's an example:\n",
        "\n"
      ],
      "metadata": {
        "id": "xLNWlmmtU85Y"
      }
    },
    {
      "cell_type": "code",
      "source": [
        "import spam\n",
        "\n",
        "spam.bacon()"
      ],
      "metadata": {
        "id": "PzEPEKwcVOCw"
      },
      "execution_count": null,
      "outputs": []
    },
    {
      "cell_type": "markdown",
      "source": [
        "In this example, we import the `spam` module, and then we can call the `bacon()` function using `spam.bacon()`. This syntax indicates that we are accessing the `bacon()` function within the `spam` module.\n",
        "\n",
        "Note that the exact way to call the `bacon()` function would depend on the specific structure and naming conventions used in the `spam` module."
      ],
      "metadata": {
        "id": "pk2R5LboVO-6"
      }
    },
    {
      "cell_type": "markdown",
      "source": [
        "#Question 13 - \n",
        "\n",
        "What can you do to save a programme from crashing if it encounters an error?\n",
        "\n",
        "...............\n",
        "\n",
        "Answer 13 - \n",
        "\n",
        "To save a program from crashing when it encounters an error, you can implement error handling techniques using exception handling. In Python, you can use the `try-except` statement to catch and handle exceptions.\n",
        "\n",
        "Here's an example:\n",
        "\n"
      ],
      "metadata": {
        "id": "fx55AEwNVgdX"
      }
    },
    {
      "cell_type": "code",
      "source": [
        "try:\n",
        "    # Code that might raise an exception\n",
        "    # ...\n",
        "    # ...\n",
        "except ExceptionType:\n",
        "    # Code to handle the exception\n",
        "    # ..."
      ],
      "metadata": {
        "id": "sPSz4Yc4V89q"
      },
      "execution_count": null,
      "outputs": []
    },
    {
      "cell_type": "markdown",
      "source": [
        "In the `try` block, you place the code that might raise an exception. If an exception occurs within the `try` block, instead of the program crashing, it will immediately jump to the corresponding `except` block that matches the type of exception raised. The `except` block allows you to handle the exception gracefully.\n",
        "\n",
        "By using `exception` handling, you can catch specific types of exceptions or handle any exception (`Exception` or `BaseException`). You can have multiple `except` blocks to handle different types of exceptions or use a single `except` block to handle all exceptions.\n",
        "\n",
        "Here's an example that demonstrates catching a specific exception:"
      ],
      "metadata": {
        "id": "TQktvUfMV-4z"
      }
    },
    {
      "cell_type": "code",
      "source": [
        "try:\n",
        "    num = int(input(\"Enter a number: \"))\n",
        "    result = 10 / num\n",
        "    print(\"Result:\", result)\n",
        "except ZeroDivisionError:\n",
        "    print(\"Error: Cannot divide by zero.\")"
      ],
      "metadata": {
        "id": "0VBArJ_XWc_G"
      },
      "execution_count": null,
      "outputs": []
    },
    {
      "cell_type": "markdown",
      "source": [
        "In this example, if the user enters `0` as the input, a `ZeroDivisionError` is raised when dividing by zero. However, instead of crashing, the program jumps to the `except ZeroDivisionError` block, where we handle the exception by printing an error message.\n",
        "\n",
        "By handling exceptions appropriately, you can ensure that your program continues execution even if errors occur, preventing crashes and allowing for graceful error handling."
      ],
      "metadata": {
        "id": "AaOVuFIyWeQX"
      }
    },
    {
      "cell_type": "markdown",
      "source": [
        "#Question 14 - \n",
        "\n",
        "What is the purpose of the try clause? What is the purpose of the except clause?\n",
        "\n",
        "................\n",
        "\n",
        "Answer 14 - \n",
        "\n",
        "The purpose of the `try clause` in exception handling is to enclose the code that might raise an exception. It allows you to specify a block of code where you anticipate potential errors or exceptions. The `try clause` essentially creates a protected section of code where exceptions can be caught and handled.\n",
        "\n",
        "The purpose of the `except clause` is to define the code that will be executed if a specific exception occurs within the corresponding `try` block. When an exception is raised in the `try` block, the program flow immediately jumps to the appropriate `except` block that matches the type of the raised exception. The `except` clause allows you to handle the exception gracefully by providing instructions or actions to be taken when a specific exception occurs.\n",
        "\n",
        "The `except` clause provides a way to catch and handle exceptions, preventing them from causing the program to crash. It allows you to specify the desired behavior when specific exceptions occur, such as displaying an error message, logging the exception, or taking corrective actions.\n",
        "\n"
      ],
      "metadata": {
        "id": "4bc_4Uu-WqZa"
      }
    }
  ]
}