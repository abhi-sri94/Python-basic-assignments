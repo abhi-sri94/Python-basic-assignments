{
  "nbformat": 4,
  "nbformat_minor": 0,
  "metadata": {
    "colab": {
      "provenance": [],
      "toc_visible": true
    },
    "kernelspec": {
      "name": "python3",
      "display_name": "Python 3"
    },
    "language_info": {
      "name": "python"
    }
  },
  "cells": [
    {
      "cell_type": "markdown",
      "source": [
        "#Question 1\n",
        "\n",
        "Create a zoo.py file first. Define the hours() function, which prints the string 'Open 9-5 daily'.\n",
        "Then, use the interactive interpreter to import the zoo module and call its hours() function.\n",
        "\n",
        "..............\n",
        "\n",
        "Answer 1 -\n",
        "\n",
        "To create the `zoo.py` file, you can use any text editor or integrated development environment `(IDE)` to create a new file with the name `zoo.py` . In that file, define the **hours()** function as follows:"
      ],
      "metadata": {
        "id": "d--KmgOqrvcM"
      }
    },
    {
      "cell_type": "code",
      "execution_count": 2,
      "metadata": {
        "id": "sbYIK0dCrpBV"
      },
      "outputs": [],
      "source": [
        "def hours():\n",
        "    print('Open 9-5 daily')"
      ]
    },
    {
      "cell_type": "markdown",
      "source": [
        "Save the file as `zoo.py` in your desired location.\n",
        "\n",
        "Next, you can use the `interactive interpreter` (e.g., `Python shell`) to import the zoo module and call its **hours()** function. Here's an example of how to do it:"
      ],
      "metadata": {
        "id": "WGyw4ducsHaH"
      }
    },
    {
      "cell_type": "code",
      "source": [
        " import zoo\n",
        " zoo.hours()\n",
        "Open 9-5 daily"
      ],
      "metadata": {
        "id": "6iL9qj3ssYGV"
      },
      "execution_count": 4,
      "outputs": []
    },
    {
      "cell_type": "markdown",
      "source": [
        "In the above code, we import the `zoo` module using the `import` statement. Then, we call the **hours()** function from the zoo module using the syntax **zoo.hours()** . This will execute the function and print the string `'Open 9-5 daily'` .\n",
        "\n",
        "Make sure that the `zoo.py` file is located in the same directory as the Python interpreter or in a directory listed in the Python module search path."
      ],
      "metadata": {
        "id": "ZfVfe8xusvjD"
      }
    },
    {
      "cell_type": "markdown",
      "source": [
        "#Question 2\n",
        "\n",
        "In the interactive interpreter, import the zoo module as menagerie and call its hours() function.\n",
        "\n",
        ".............\n",
        "\n",
        "Answer 2 -\n",
        "\n",
        "To import the `zoo` module as menagerie and call its **hours()** function in the interactive interpreter, you can follow these steps:\n",
        "\n",
        "1) Launch the interactive interpreter (e.g., Python shell).\n",
        "\n",
        "2) Import the zoo module as menagerie using the import statement."
      ],
      "metadata": {
        "id": "OULbkTcrtAZ9"
      }
    },
    {
      "cell_type": "code",
      "source": [
        "import zoo as menagerie"
      ],
      "metadata": {
        "id": "wixi4yPutbNg"
      },
      "execution_count": null,
      "outputs": []
    },
    {
      "cell_type": "markdown",
      "source": [
        "Call the **hours()** function from the menagerie module:\n"
      ],
      "metadata": {
        "id": "3pL2N1ebteCK"
      }
    },
    {
      "cell_type": "code",
      "source": [
        ">>> menagerie.hours()\n",
        "Open 9-5 daily"
      ],
      "metadata": {
        "id": "im7GqOPFtn3J"
      },
      "execution_count": null,
      "outputs": []
    },
    {
      "cell_type": "markdown",
      "source": [
        "In the above code, we import the `zoo` module and assign it the alias `menagerie` using the import statement. Then, we call the **hours()** function from the menagerie module using the syntax **menagerie.hour()** . This will execute the function and print the string `'Open 9-5 daily'`.\n",
        "\n",
        "By importing the zoo module with the alias menagerie, you can use the menagerie name as a reference to the zoo module in the interactive interpreter."
      ],
      "metadata": {
        "id": "sdQkf6s9tqU8"
      }
    },
    {
      "cell_type": "markdown",
      "source": [
        "#Question 3\n",
        "\n",
        "Using the interpreter, explicitly import and call the hours() function from zoo.\n",
        "\n",
        "...............\n",
        "\n",
        "Answer 3 -\n",
        "\n",
        "To explicitly import and call the hours() function from the zoo module in the interactive interpreter, you can follow these steps:\n",
        "\n",
        "1) Launch the interactive interpreter (e.g., Python shell).\n",
        "\n",
        "2) Import the **hours()** function directly from the zoo module using the `from ... import ...` statement:"
      ],
      "metadata": {
        "id": "q_A3RxGrt9f3"
      }
    },
    {
      "cell_type": "code",
      "source": [
        "from zoo import hours"
      ],
      "metadata": {
        "id": "g_k90WaVxSU4"
      },
      "execution_count": null,
      "outputs": []
    },
    {
      "cell_type": "markdown",
      "source": [
        "Call the **hours()** function:"
      ],
      "metadata": {
        "id": "RxZc-74ZxWAj"
      }
    },
    {
      "cell_type": "code",
      "source": [
        ">>> hours()\n",
        "Open 9-5 daily"
      ],
      "metadata": {
        "id": "38op_h83xatP"
      },
      "execution_count": null,
      "outputs": []
    },
    {
      "cell_type": "markdown",
      "source": [
        "In the above code, we import only the **hours()** function from the zoo module using the `from zoo import hours` statement. This allows us to directly access the **hours()** function without using the module name.\n",
        "\n",
        "Then, we simply call the **hours()** function using hours(), and it will execute and print the string `'Open 9-5 daily'` .\n",
        "\n",
        "This approach explicitly imports only the **hours()** function from the zoo module, allowing you to use the function directly in the interactive interpreter without referencing the module name."
      ],
      "metadata": {
        "id": "BUPDd233xc31"
      }
    },
    {
      "cell_type": "markdown",
      "source": [
        "#Question 4\n",
        "\n",
        "Import the hours() function as info and call it.\n",
        "\n",
        ".............\n",
        "\n",
        "Answer 4 -\n",
        "\n",
        "You can do that by the steps below:"
      ],
      "metadata": {
        "id": "9pfX4h1txzfQ"
      }
    },
    {
      "cell_type": "markdown",
      "source": [
        "1) Launch the interactive interpreter (e.g., Python shell).\n",
        "\n",
        "2) Import the **hours()** function from the `zoo` module and assign it the alias `info` using the `from ... import ... as ...` statement:"
      ],
      "metadata": {
        "id": "JmSpbMTsFOjO"
      }
    },
    {
      "cell_type": "code",
      "source": [
        "from zoo import hours as info"
      ],
      "metadata": {
        "id": "uMNSkIrbFqYj"
      },
      "execution_count": null,
      "outputs": []
    },
    {
      "cell_type": "markdown",
      "source": [
        "Now, call the **info()** function"
      ],
      "metadata": {
        "id": "rSoq82pyFdgi"
      }
    },
    {
      "cell_type": "code",
      "source": [
        ">>> info()\n",
        "Open 9-5 daily"
      ],
      "metadata": {
        "id": "KeWioQ57xvM8"
      },
      "execution_count": null,
      "outputs": []
    },
    {
      "cell_type": "markdown",
      "source": [
        "In the above code, we import the **hours()** function from the `zoo` module and assign it the alias `info` using the `from zoo import hours as info` statement. This allows us to use the **info()** alias to reference the **hours()** function from the zoo module.\n",
        "\n",
        "Then, we simply call the info() function using info(), and it will execute and print the string 'Open 9-5 daily'.\n",
        "\n",
        "By `importing` the **hours()** function as `info` , you can use the info name as a reference to the **hours()** function in the interactive interpreter."
      ],
      "metadata": {
        "id": "BDYCyNIqFyqN"
      }
    },
    {
      "cell_type": "markdown",
      "source": [
        "#Question 5\n",
        "\n",
        "Create a plain dictionary with the key-value pairs 'a': 1, 'b': 2, and 'c': 3, and print it out.\n",
        "\n",
        "..............\n",
        "\n",
        "Answer 5 -\n",
        "\n",
        "Below is an example of creating a plain dictionary with the key-value pairs `'a': 1, 'b': 2, and 'c': 3` , and printing it out:"
      ],
      "metadata": {
        "id": "78aW9L4oGWus"
      }
    },
    {
      "cell_type": "code",
      "source": [
        "dictionary = {'a': 1, 'b': 2, 'c': 3}\n",
        "print(dictionary)"
      ],
      "metadata": {
        "colab": {
          "base_uri": "https://localhost:8080/"
        },
        "id": "8tVE21B7GE8-",
        "outputId": "887e9baa-347a-419e-a0ac-cf59a2013e3c"
      },
      "execution_count": 1,
      "outputs": [
        {
          "output_type": "stream",
          "name": "stdout",
          "text": [
            "{'a': 1, 'b': 2, 'c': 3}\n"
          ]
        }
      ]
    },
    {
      "cell_type": "markdown",
      "source": [
        "#Question 6\n",
        "\n",
        "Make an OrderedDict called fancy from the same pairs listed in 5 and print it. Did it print in the\n",
        "same order as plain?\n",
        "\n",
        ".............\n",
        "\n",
        "Answer 6 -\n",
        "\n",
        "To create an `OrderedDict` called `fancy` with the same key-value pairs as in question 5, and then print it, we can use the collections module. Here's an example:"
      ],
      "metadata": {
        "id": "MKsgCdVoG8bt"
      }
    },
    {
      "cell_type": "code",
      "source": [
        "from collections import OrderedDict\n",
        "\n",
        "fancy = OrderedDict([('a', 1), ('b', 2), ('c', 3)])\n",
        "print(fancy)"
      ],
      "metadata": {
        "colab": {
          "base_uri": "https://localhost:8080/"
        },
        "id": "etwywpVXG0_U",
        "outputId": "35de5e72-1c21-424b-bf2e-59740780da69"
      },
      "execution_count": 2,
      "outputs": [
        {
          "output_type": "stream",
          "name": "stdout",
          "text": [
            "OrderedDict([('a', 1), ('b', 2), ('c', 3)])\n"
          ]
        }
      ]
    },
    {
      "cell_type": "markdown",
      "source": [
        "#Question 7\n",
        "\n",
        "Make a default dictionary called dict_of_lists and pass it the argument list. Make the list\n",
        "dict_of_lists['a'] and append the value 'something for a' to it in one assignment. Print\n",
        "dict_of_lists['a'].\n",
        "\n",
        "..............\n",
        "\n",
        "Answer 7 -\n",
        "\n",
        "To create a `defaultdict` called `dict_of_lists` with a default value of a list and append the value `'something for a'` to the list associated with the key `'a'` in one assignment, we can use the `collections` module. Here's an example:"
      ],
      "metadata": {
        "id": "2Zi8BqssHasT"
      }
    },
    {
      "cell_type": "code",
      "source": [
        "from collections import defaultdict\n",
        "\n",
        "dict_of_lists = defaultdict(list)\n",
        "dict_of_lists['a'].append('something for a')\n",
        "print(dict_of_lists['a'])"
      ],
      "metadata": {
        "colab": {
          "base_uri": "https://localhost:8080/"
        },
        "id": "Cu0xH0iKHPIg",
        "outputId": "e48fc662-5fa3-45b2-c4d6-914b557e35ac"
      },
      "execution_count": 4,
      "outputs": [
        {
          "output_type": "stream",
          "name": "stdout",
          "text": [
            "['something for a']\n"
          ]
        }
      ]
    },
    {
      "cell_type": "markdown",
      "source": [
        "In this code, we import the `defaultdict` class from the collections module. We create a defaultdict called `dict_of_lists` and pass list as the `default` factory. This means that if a key is accessed in the `dict_of_lists` and it doesn't exist, it will automatically create an empty list as the default value.\n",
        "\n",
        "We then use the key `'a'` to access the dictionary and append the value `'something for a'` to the associated list in a single assignment."
      ],
      "metadata": {
        "id": "6Lq4rnEgHxAv"
      }
    }
  ]
}