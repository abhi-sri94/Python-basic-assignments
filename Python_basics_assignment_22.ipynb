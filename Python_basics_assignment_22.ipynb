{
  "nbformat": 4,
  "nbformat_minor": 0,
  "metadata": {
    "colab": {
      "provenance": [],
      "toc_visible": true
    },
    "kernelspec": {
      "name": "python3",
      "display_name": "Python 3"
    },
    "language_info": {
      "name": "python"
    }
  },
  "cells": [
    {
      "cell_type": "markdown",
      "source": [
        "#Question 1\n",
        "\n",
        "What is the result of the code, and explain?\n",
        "\n",
        "X = 'iNeuron'\n",
        "\n",
        "def func():\n",
        "\n",
        "print(X)\n",
        "\n",
        "func()\n",
        "\n",
        "................\n",
        "\n",
        "Answer 1 -\n",
        "\n",
        "The provided code defines a variable `X` with the value `'iNeuron'` and a function **func()** that prints the value of the variable `X `. Let's break down the code and understand its result step-by-step:\n",
        "\n",
        "1) **X = 'iNeuron'** : This line assigns the string 'iNeuron' to the variable X.\n",
        "\n",
        "2) **def func():** : This line defines a function named func without any parameters.\n",
        "\n",
        "3) The next line, **print(X)** , is the content of the **func()** function. It simply prints the value of the variable `X` when the function is called.\n",
        "\n",
        "4) **func()** : This line calls the `func()` function.\n",
        "\n",
        "Now, let's discuss the result when running the code:\n",
        "\n",
        "When the code is executed, it will print the value of the variable X, which is `'iNeuron'` ."
      ],
      "metadata": {
        "id": "YYEdqhK0qBy5"
      }
    },
    {
      "cell_type": "code",
      "source": [
        "X = 'iNeuron'\n",
        "def func():\n",
        " print(X)\n",
        "\n",
        "func()"
      ],
      "metadata": {
        "colab": {
          "base_uri": "https://localhost:8080/"
        },
        "id": "mfcMu8ZErQ4M",
        "outputId": "985ce033-eb17-4c56-a60f-1bece83afba5"
      },
      "execution_count": 2,
      "outputs": [
        {
          "output_type": "stream",
          "name": "stdout",
          "text": [
            "iNeuron\n"
          ]
        }
      ]
    },
    {
      "cell_type": "markdown",
      "source": [
        "The `func()` function does not have any return statement, so it implicitly returns `None` , but that is not printed in this case since the only output of the function is the value of the variable `X` ."
      ],
      "metadata": {
        "id": "6ShTwadWromL"
      }
    },
    {
      "cell_type": "markdown",
      "source": [
        "#Question 2\n",
        "\n",
        "What is the result of the code, and explain?\n",
        "\n",
        ">>> X = 'iNeuron'\n",
        "\n",
        ">>> def func():\n",
        "\n",
        "X = 'NI!'\n",
        "\n",
        ">>> func()\n",
        "\n",
        ">>> print(X)\n",
        "\n",
        "...............\n",
        "\n",
        "Answer 2 -\n",
        "\n",
        " Let's analyze the code step-by-step and explain its result:\n",
        "\n",
        "1) **X = 'iNeuron'** : This line assigns the string `'iNeuron'` to the variable `X` .\n",
        "\n",
        "2) **def func():** : This line defines a function named `func` without any parameters.\n",
        "\n",
        "3) `X = 'NI!'` : It is the content of the **func()** function. It reassigns the variable `X` to the string `'NI!'` within the local scope of the function.\n",
        "\n",
        "4) **func():** This line calls the `func()` function.\n",
        "\n",
        "5) **print(X)** : After the function call, this line prints the value of the variable `X` .\n",
        "\n",
        "Now, let's discuss the result when running the code:\n",
        "\n",
        "When the code is executed, the **func()** function is called. Inside the function, the variable `X` is assigned the value `'NI!'` , but this assignment occurs within the local scope of the function, not affecting the global variable `X` defined outside the function.\n",
        "\n",
        "Therefore, when `print(X)` is executed outside the function after calling **func()** , it will print the value of the global variable `X` , which remains `'iNeuron'` . The function's local assignment of `'NI!'` does not change the value of the global `X`."
      ],
      "metadata": {
        "id": "sYV3H727r197"
      }
    },
    {
      "cell_type": "code",
      "source": [
        "X = 'iNeuron'\n",
        "def func():\n",
        " X = 'NI!'\n",
        "\n",
        "func()\n",
        "print(X)"
      ],
      "metadata": {
        "colab": {
          "base_uri": "https://localhost:8080/"
        },
        "id": "Uq4RbrLErRnC",
        "outputId": "5ee7550d-9a4e-4518-b2e3-0ab8e1bc22d6"
      },
      "execution_count": 3,
      "outputs": [
        {
          "output_type": "stream",
          "name": "stdout",
          "text": [
            "iNeuron\n"
          ]
        }
      ]
    },
    {
      "cell_type": "markdown",
      "source": [
        "#Question 3\n",
        "\n",
        "What does this code print, and why?\n",
        "\n",
        "X = 'iNeuron'\n",
        "\n",
        "def func():\n",
        "\n",
        "X = 'NI'\n",
        "\n",
        "print(X)\n",
        "\n",
        "func()\n",
        "\n",
        "print(X)\n",
        "\n",
        "............\n",
        "\n",
        "Answer 3\n",
        "\n",
        "Let's analyze the code step-by-step to understand its result:\n",
        "\n",
        "X = 'iNeuron': This line assigns the string 'iNeuron' to the variable X.\n",
        "\n",
        "def func():: This line defines a function named func without any parameters.\n",
        "\n",
        "The next line, X = 'NI', is the content of the func() function. It reassigns the variable X to the string 'NI' within the local scope of the function.\n",
        "\n",
        "print(X): Inside the func() function, this line prints the value of the local variable X, which is 'NI'.\n",
        "\n",
        "func(): This line calls the func() function.\n",
        "\n",
        "print(X): After the function call, this line prints the value of the global variable X.\n",
        "\n",
        "Now, let's discuss the result when running the code:\n",
        "\n",
        "When the code is executed, the function func() is called. Inside the function, the variable X is assigned the value 'NI'. Since the assignment is done within the local scope of the function, it creates a new local variable X that shadows (temporarily hides) the global variable X. As a result, the local X inside the function holds the value 'NI', and this value is printed within the function.\n",
        "\n",
        "However, after the function call, when the second print(X) statement is executed, it prints the value of the global variable X, which remains 'iNeuron'. The local variable X inside the function does not affect the global X."
      ],
      "metadata": {
        "id": "VlEEqfkgOqx_"
      }
    },
    {
      "cell_type": "code",
      "source": [
        "X = 'iNeuron'\n",
        "\n",
        "def func():\n",
        "    X = 'NI'\n",
        "    print(X)\n",
        "\n",
        "func()\n",
        "\n",
        "print(X)\n"
      ],
      "metadata": {
        "colab": {
          "base_uri": "https://localhost:8080/"
        },
        "id": "BUVvHxvllOHY",
        "outputId": "9c25aedb-3895-465e-8cd3-7535b829321a"
      },
      "execution_count": 65,
      "outputs": [
        {
          "output_type": "stream",
          "name": "stdout",
          "text": [
            "NI\n",
            "iNeuron\n"
          ]
        }
      ]
    },
    {
      "cell_type": "markdown",
      "source": [
        "#Question 4\n",
        "\n",
        "What output does this code produce? Why?\n",
        "\n",
        "X = 'iNeuron'\n",
        "\n",
        "def func():\n",
        "\n",
        "global X\n",
        "\n",
        "X = 'NI'\n",
        "\n",
        "func()\n",
        "\n",
        "print(X)\n",
        "\n",
        "...............\n",
        "\n",
        "Answer 2\n",
        "\n",
        "In this code, we have a global variable `X` with the initial value `'iNeuron'` , and a function **func()** that modifies the global variable `X` using the global keyword. Let's analyze the code step-by-step to understand its result:\n",
        "\n",
        "1) **X = 'iNeuron'** : This line assigns the string `'iNeuron'` to the variable `X` . It creates a global variable X with the value 'iNeuron'.\n",
        "\n",
        "2) **def func():** : This line defines a function named func without any parameters.\n",
        "\n",
        "3) **global X** : Inside the `func()` function, this line declares `X` as a global variable. It means that any assignments to `X` inside the function will affect the global variable X instead of creating a new local variable.\n",
        "\n",
        "4) **X = 'NI'** : It is the content of the **func()** function. Since `X` is declared as a global variable in the function, this assignment affects the global variable `X` , changing its value to `'NI'` .\n",
        "\n",
        "5) **func()** : This line calls the `func()` function.\n",
        "\n",
        "6) **print(X)** : After the function call, this line prints the value of the global variable `X` .\n",
        "\n",
        "\n",
        "When the code is executed, the function **func()** is called. Inside the function, the global X declaration allows the function to access and modify the global variable `X` . The assignment `X = 'NI'` inside the function modifies the value of the global `X` , changing it from `'iNeuron'` to `'NI'` .\n",
        "\n",
        "After the function call, when the **print(X)** statement is executed, it prints the updated value of the global variable X, which is 'NI'.\n",
        "\n"
      ],
      "metadata": {
        "id": "3Ultr_KJPWFt"
      }
    },
    {
      "cell_type": "code",
      "source": [
        "X = 'iNeuron'\n",
        "def func():\n",
        " global X\n",
        "X = 'NI'\n",
        "\n",
        "func()\n",
        "print(X)"
      ],
      "metadata": {
        "colab": {
          "base_uri": "https://localhost:8080/"
        },
        "id": "caaXuqAJsaGp",
        "outputId": "bbd46c22-85c7-4c53-fedc-d594666267f8"
      },
      "execution_count": 8,
      "outputs": [
        {
          "output_type": "stream",
          "name": "stdout",
          "text": [
            "NI\n"
          ]
        }
      ]
    },
    {
      "cell_type": "markdown",
      "source": [
        "#Question 5\n",
        "\n",
        "What about this code—what’s the output, and why?\n",
        "\n",
        "X = &#39;iNeuron&#39;\n",
        "\n",
        "def func():\n",
        "\n",
        "X = &#39;NI&#39;\n",
        "\n",
        "def nested():\n",
        "\n",
        "print(X)\n",
        "\n",
        "nested()\n",
        "\n",
        "func()\n",
        "\n",
        "X\n",
        "\n",
        "...............\n",
        "\n",
        "Answer 5 -\n",
        "\n",
        "Let's analyze the code step-by-step to understand its result:\n",
        "\n",
        "1) **X = 'iNeuron'** : This line assigns the string `'iNeuron'` to the variable `X` . It creates a global variable X with the value `'iNeuron'` .\n",
        "\n",
        "2) **def func():** : This line defines a function named func without any parameters.\n",
        "\n",
        "3) **X = 'NI'** :It is the content of the **func()** function. It reassigns the variable X to the string `'NI'` within the local scope of the **func()** function.\n",
        "\n",
        "4) **def nested():** : Inside the **func()** function, this line defines another function named **nested()** without any parameters.\n",
        "\n",
        "5) **print(X)** : Inside the **nested()** function, this line prints the value of the variable `X` . Since X is not defined within the nested() function, it looks for the variable in the outer scope (enclosing function or global scope). In this case, it finds X in the **func()** function's local scope.\n",
        "\n",
        "6) **nested()** : This line calls the **nested()** function, which prints the value of `X` .\n",
        "\n",
        "7) **func()** : This line calls the **func()** function.\n",
        "\n",
        "8) **X** : After the function call, this line prints the value of the global variable X.\n",
        "\n",
        "Now, let's discuss the result when running the code:\n",
        "\n",
        "When the code is executed, the **func()** function is called. Inside the func() function, the variable `X` is assigned the value `'NI'` . Then, it defines the **nested()** function, which prints the value of `X` from the **func()** function's local scope, resulting in `'NI'` being printed.\n",
        "\n",
        "After the `function` call **func()** , the value of the global variable `X` remains unchanged, which is `'iNeuron'` . When **print(X)** is executed after calling func(), it prints the value of the global variable X, which is still 'iNeuron'."
      ],
      "metadata": {
        "id": "hJQJw4sfbM1e"
      }
    },
    {
      "cell_type": "code",
      "source": [
        "X = 'iNeuron'\n",
        "\n",
        "def func():\n",
        "    X = 'NI'\n",
        "\n",
        "def nested():\n",
        "    print(X)\n",
        "\n",
        "nested()\n",
        "func()\n",
        "X"
      ],
      "metadata": {
        "colab": {
          "base_uri": "https://localhost:8080/",
          "height": 53
        },
        "id": "h8WGXxhekP08",
        "outputId": "79a18c0c-c195-43d2-c4d9-83f2d477b3b6"
      },
      "execution_count": 58,
      "outputs": [
        {
          "output_type": "stream",
          "name": "stdout",
          "text": [
            "iNeuron\n"
          ]
        },
        {
          "output_type": "execute_result",
          "data": {
            "text/plain": [
              "'iNeuron'"
            ],
            "application/vnd.google.colaboratory.intrinsic+json": {
              "type": "string"
            }
          },
          "metadata": {},
          "execution_count": 58
        }
      ]
    },
    {
      "cell_type": "markdown",
      "source": [
        "#Question 6\n",
        "\n",
        "How about this code: what is its output in Python 3, and explain?\n",
        "\n",
        "def func():\n",
        "\n",
        "X = 'NI'\n",
        "\n",
        "def nested():\n",
        "\n",
        "nonlocal X\n",
        "\n",
        "X = 'Spam'\n",
        "\n",
        "nested()\n",
        "\n",
        "print(X)\n",
        "\n",
        "func()\n",
        "\n",
        "...............\n",
        "\n",
        "Answer 6 -\n",
        "\n",
        "In this code, we have two nested functions: **func()** and **nested()** . The `nested()` function uses the `nonlocal` keyword to access and modify a variable declared in the outer scope, which is the `func()` function's `local` scope. Let's analyze the code step-by-step to understand its result:\n",
        "\n",
        "1) **def func():** : This line defines a function named func without any parameters.\n",
        "\n",
        "2) **X = 'NI'** : It is the content of the `func()` function. It assigns the string `'NI'` to the variable `X` within the local scope of the `func()` function.\n",
        "\n",
        "3) **def nested():** : Inside the `func()` function, this line defines another function named **nested()** without any parameters.\n",
        "\n",
        "4) **nonlocal X** : Inside the `nested()` function, this line declares `X` as a `nonlocal` variable. It means that the X variable is not local to the `nested()` function and instead refers to the variable X declared in the `enclosing` (outer) scope, which is the func() function's local scope.\n",
        "\n",
        "5) **X = 'Spam'** : It is the content of the `nested()` function. Since `X` is declared as `nonlocal` , this assignment affects the X variable in the `func()` function's local scope.\n",
        "\n",
        "6) **nested()** : This line **calls** the nested() function.\n",
        "\n",
        "7) **print(X)** : After the `nested()` function call, this line prints the value of the variable `X` in the `func()` function's local scope.\n",
        "\n",
        "Now, let's discuss the result when running the code:\n",
        "\n",
        "When the code is executed, the **func()** function is called. Inside the func() function, the variable `X` is assigned the value `'NI'` . Then, it defines the **nested()** function.\n",
        "\n",
        "When the nested() function is called, it declares `X` as a nonlocal variable using the nonlocal keyword. It allows the `nested()` function to access the X variable from the outer scope `(the func() function's local scope)` . The assignment `X = 'Spam'` inside the `nested()` function modifies the value of the `X` variable in the `func()` function's local scope, changing it from `'NI'` to `'Spam'` .\n",
        "\n",
        "After the **nested()** function call, the **print(X)** statement inside the **func()** function prints the updated value of the variable `X` , which is `'Spam'` ."
      ],
      "metadata": {
        "id": "bcnatKTnhcrp"
      }
    },
    {
      "cell_type": "code",
      "source": [
        "def func():\n",
        "    X = 'NI'\n",
        "    def nested():\n",
        "        nonlocal X\n",
        "        X = 'Spam'\n",
        "    nested()\n",
        "    print(X)\n",
        "\n",
        "func()\n"
      ],
      "metadata": {
        "colab": {
          "base_uri": "https://localhost:8080/"
        },
        "id": "K0qOzxpgjnn-",
        "outputId": "5a5a90e9-0bdb-45cc-ffbb-3fcca01a5d1a"
      },
      "execution_count": 55,
      "outputs": [
        {
          "output_type": "stream",
          "name": "stdout",
          "text": [
            "Spam\n"
          ]
        }
      ]
    },
    {
      "cell_type": "code",
      "source": [],
      "metadata": {
        "id": "kAV2Kke1j3nZ"
      },
      "execution_count": null,
      "outputs": []
    }
  ]
}