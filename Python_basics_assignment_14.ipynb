{
  "nbformat": 4,
  "nbformat_minor": 0,
  "metadata": {
    "colab": {
      "provenance": [],
      "toc_visible": true
    },
    "kernelspec": {
      "name": "python3",
      "display_name": "Python 3"
    },
    "language_info": {
      "name": "python"
    }
  },
  "cells": [
    {
      "cell_type": "markdown",
      "source": [
        "#Question 1\n",
        "\n",
        "What does RGBA stand for?\n",
        "\n",
        ".............\n",
        "\n",
        "Answer 1 -\n",
        "\n",
        "RGBA stands for Red Green Blue Alpha. It is a color model that represents colors using a combination of red, green, and blue color channels, along with an additional alpha channel for transparency control.\n",
        "\n",
        "In the RGBA color model, each color channel `(red, green, and blue)` is represented by an integer value ranging from 0 to 255 or a floating-point value ranging from 0.0 to 1.0. The alpha channel represents the level of transparency, where 0 means fully transparent and 1 means fully opaque.\n",
        "\n",
        "The RGBA color model is widely used in computer graphics, image processing, and web design to define and represent colors with varying levels of transparency. It allows for precise control over the color and opacity of objects or elements.\n",
        "\n",
        "For example, in RGBA notation, a fully opaque red color would be represented as `RGBA(255, 0, 0, 1)` , where the red channel is set to the maximum value of 255, the green and blue channels are set to 0 (absence of green and blue), and the alpha channel is set to 1 (fully opaque)."
      ],
      "metadata": {
        "id": "iv2TtzxzVyG2"
      }
    },
    {
      "cell_type": "markdown",
      "source": [
        "#Question 2\n",
        "\n",
        "From the Pillow module, how do you get the RGBA value of any images?\n",
        "\n",
        "..............\n",
        "\n",
        "Answer 2 -\n",
        "\n",
        "To get the RGBA (Red Green Blue Alpha) value of pixels in an image using the Pillow module in Python, you can utilize the **getpixel()** method. The **getpixel()** method allows you to retrieve the RGBA values of individual pixels in the image.\n",
        "\n",
        "Here's an example:"
      ],
      "metadata": {
        "id": "7PK0jGuNWbiv"
      }
    },
    {
      "cell_type": "code",
      "execution_count": null,
      "metadata": {
        "id": "xK8MswY_-bGm"
      },
      "outputs": [],
      "source": [
        "from PIL import Image\n",
        "\n",
        "image_path = 'path_to_image.png'\n",
        "image = Image.open(image_path)\n",
        "\n",
        "# Get the RGBA value of a specific pixel\n",
        "x = 100  # x-coordinate of the pixel\n",
        "y = 200  # y-coordinate of the pixel\n",
        "rgba = image.getpixel((x, y))\n",
        "\n",
        "print(rgba)"
      ]
    },
    {
      "cell_type": "markdown",
      "source": [
        "In the example above, we first open the image using **Image.open()** and store it in the **image** variable. Then, we specify the coordinates of the pixel we want to retrieve the RGBA value from (100, 200).\n",
        "\n",
        "Using the **getpixel()** method, we pass the coordinates as a `tuple (x, y)` to retrieve the RGBA value of that specific pixel. The RGBA value is returned as a tuple containing four integer values representing the red, green, blue, and alpha channels, respectively.\n",
        "\n",
        "Finally, we print the RGBA value to the console."
      ],
      "metadata": {
        "id": "Jv_V9cZMW9nz"
      }
    },
    {
      "cell_type": "markdown",
      "source": [
        "#Question 3\n",
        "\n",
        "What is a box tuple, and how does it work?\n",
        "\n",
        ".............\n",
        "\n",
        "Answer 4 -\n",
        "\n",
        "In Python, a box tuple, also known as a bounding box tuple, is a data structure commonly used to represent a rectangular region or bounding box within an image or a coordinate system. It is often utilized in various libraries and frameworks for tasks such as image processing, computer vision, and graphical applications.\n",
        "\n",
        "A box tuple in Python typically consists of four values that represent the coordinates of the top-left corner and the bottom-right corner of the box. The format of a box tuple is `(x1, y1, x2, y2)` , where:\n",
        "\n",
        "- **(x1, y1)** : represents the coordinates of the top-left corner of the box.\n",
        "\n",
        "- **(x2, y2)** : represents the coordinates of the bottom-right corner of the box.\n",
        "\n",
        "The coordinates `(x1, y1)` define the position of the top-left corner, while `(x2, y2)` define the position of the bottom-right corner.\n",
        "\n",
        "To work with a box tuple in, you can use these coordinates to perform operations such as extracting a region of interest from an image, defining the boundaries of an object, or specifying a rectangular area for processing.\n",
        "\n",
        "Here's an example of how a box tuple can be used in Python:"
      ],
      "metadata": {
        "id": "peHOpnxvXrIB"
      }
    },
    {
      "cell_type": "code",
      "source": [
        "# Define a box tuple\n",
        "box = (x1, y1, x2, y2)\n",
        "\n",
        "# Accessing coordinates\n",
        "x1 = box[0]\n",
        "y1 = box[1]\n",
        "x2 = box[2]\n",
        "y2 = box[3]\n",
        "\n",
        "# Calculating width and height\n",
        "width = x2 - x1\n",
        "height = y2 - y1"
      ],
      "metadata": {
        "id": "GF0z4ti_ZMLU"
      },
      "execution_count": null,
      "outputs": []
    },
    {
      "cell_type": "markdown",
      "source": [
        "In the example above, we define a box tuple `(x1, y1, x2, y2)` representing a rectangular region or bounding box. We can access individual coordinates by indexing the box tuple. For instance, x1 corresponds to the x-coordinate of the top-left corner, y1 corresponds to the y-coordinate of the top-left corner, and so on.\n",
        "\n",
        "Additionally, we can calculate the width and height of the bounding box by subtracting the x-coordinates and y-coordinates, respectively."
      ],
      "metadata": {
        "id": "zyc4cltewhir"
      }
    },
    {
      "cell_type": "markdown",
      "source": [
        "#Question 4\n",
        "\n",
        "Use your image and load in notebook then, How can you find out the width and height of an\n",
        "Image object?\n",
        "\n",
        ".............\n",
        "\n",
        "Answer 4 -\n",
        "\n",
        "To find out the width and height of an `Image` object in Python, you can use the `size attribute` or the `width` and `height` properties of the Image object.\n",
        "\n",
        "Here's an example of how to determine the width and height of an Image object using the `Pillow` library:"
      ],
      "metadata": {
        "id": "uIA8WYDAwZ4t"
      }
    },
    {
      "cell_type": "code",
      "source": [
        "from PIL import Image\n",
        "\n",
        "image_path = 'path_to_image.jpg'  # Replace with the path to your image file\n",
        "image = Image.open(image_path)\n",
        "\n",
        "width, height = image.size\n",
        "print(f\"Width: {width}px, Height: {height}px\")\n",
        "\n",
        "# Alternatively, you can use the width and height properties\n",
        "width = image.width\n",
        "height = image.height\n",
        "print(f\"Width: {width}px, Height: {height}px\")"
      ],
      "metadata": {
        "id": "Y6fg0cp9woeO"
      },
      "execution_count": null,
      "outputs": []
    },
    {
      "cell_type": "markdown",
      "source": [
        "In the example above, we first open the image using **Image.open()** from the Pillow library and store it in the image variable. Make sure to replace `'path_to_image.jpg'` with the actual path to your image file.\n",
        "\n",
        "To find the width and height, we use the size attribute of the Image object. By unpacking the tuple returned by `image.size` , we assign the width to the width variable and the height to the height variable. We then print out the values.\n",
        "\n",
        "Alternatively, you can directly access the width and height properties of the Image object without unpacking the tuple. This will also give you the width and height values."
      ],
      "metadata": {
        "id": "8QWQMTrBwmTS"
      }
    },
    {
      "cell_type": "markdown",
      "source": [
        "#Question 5\n",
        "\n",
        "What method would you call to get Image object for a 100x100 image, excluding the lower-left\n",
        "quarter of it?\n",
        "\n",
        "............\n",
        "\n",
        "Answer 5 -\n",
        "\n",
        "To get an Image object for a 100x100 image, excluding the lower-left quarter of it, you can use the **crop()** method of the Image object from the Pillow library. The crop() method allows you to extract a specific rectangular region or bounding box from the image.\n",
        "\n",
        "Here's an example of how to accomplish this:"
      ],
      "metadata": {
        "id": "CKA17eNexFli"
      }
    },
    {
      "cell_type": "code",
      "source": [
        "from PIL import Image\n",
        "\n",
        "image_path = 'path_to_image.jpg'  # Replace with the path to your image file\n",
        "image = Image.open(image_path)\n",
        "\n",
        "width, height = image.size\n",
        "box = (0, 0, width // 2, height // 2)  # Define the box tuple\n",
        "\n",
        "cropped_image = image.crop(box)\n",
        "cropped_image.show()"
      ],
      "metadata": {
        "id": "H0rfMPVwxAvw"
      },
      "execution_count": null,
      "outputs": []
    },
    {
      "cell_type": "markdown",
      "source": [
        "In the example above, we open the image using **Image.open()** and store it in the image variable. Replace `'path_to_image.jpg'` with the actual path to your image file.\n",
        "\n",
        "We then determine the width and height of the image using the size attribute.\n",
        "\n",
        "Next, we define a box tuple `(0, 0, width // 2, height // 2)` representing the top-left quarter of the image. By setting the coordinates of the bottom-right corner to half the width and half the height of the image, we exclude the lower-left quarter.\n",
        "\n",
        "Using the **crop()** method of the `Image` object, we pass the box tuple as an argument to extract the desired region from the image. The resulting cropped image is stored in the `cropped_image` variable.\n",
        "\n",
        "Finally, we display the cropped image using the **show()** method."
      ],
      "metadata": {
        "id": "-nhzdKj_xYaf"
      }
    },
    {
      "cell_type": "markdown",
      "source": [
        "#Question 6\n",
        "\n",
        "After making changes to an Image object, how could you save it as an image file?\n",
        "\n",
        "..............\n",
        "\n",
        "Answer 6 -\n",
        "\n",
        "To save changes made to an `Image` object as an image file, you can use the **save()** method provided by the `Image` object in the Pillow library. The **save()** method allows you to save the image to a file with the desired filename and format.\n",
        "\n",
        "Here's an example of how to save an `Image` object as an image file:"
      ],
      "metadata": {
        "id": "iSkKW-0uxvG4"
      }
    },
    {
      "cell_type": "code",
      "source": [
        "from PIL import Image\n",
        "\n",
        "image_path = 'path_to_image.jpg'  # Replace with the path to your image file\n",
        "image = Image.open(image_path)\n",
        "\n",
        "# Perform operations on the image object (e.g., resize, crop, apply filters, etc.)\n",
        "\n",
        "output_path = 'path_to_save_image.jpg'  # Replace with the desired output file path\n",
        "image.save(output_path)"
      ],
      "metadata": {
        "id": "zkOrxXQmxuf_"
      },
      "execution_count": null,
      "outputs": []
    },
    {
      "cell_type": "markdown",
      "source": [
        "In the example above, we first open the `image` using **Image.open()** and store it in the image variable. Replace `'path_to_image.jpg'` with the actual path to your input image file.\n",
        "\n",
        "After making changes to the image object, such as resizing, cropping, applying filters, or any other desired operations, we specify the output_path variable to define the desired path and filename for the output image file. Replace `'path_to_save_image.jpg'` with the desired output file path.\n",
        "\n",
        "Finally, we call the **save()** method of the Image object and pass the `output_path` as an argument. This saves the modified image to the specified file location.\n",
        "\n",
        "By specifying the desired output path and filename, along with the appropriate file extension, the **save()** method ensures that the Image object is saved as an image file with the corresponding format, such as JPEG, PNG, BMP, or others, based on the file extension used in the `output_path` ."
      ],
      "metadata": {
        "id": "e8Mx96z6R4yf"
      }
    },
    {
      "cell_type": "markdown",
      "source": [
        "#Question 7\n",
        "\n",
        "What module contains Pillow's shape-drawing code?\n",
        "\n",
        ".............\n",
        "\n",
        "Answer 7 -\n",
        "\n",
        "Pillow's shape-drawing code can be found in the `ImageDraw` module. The ImageDraw module is part of the `Pillow` library and provides functionality for drawing various shapes and lines on `Image` objects.\n",
        "\n",
        "Here's an example of how to use the ImageDraw module to draw shapes on an image:"
      ],
      "metadata": {
        "id": "hFoUJimBSZo8"
      }
    },
    {
      "cell_type": "code",
      "source": [
        "from PIL import Image, ImageDraw\n",
        "\n",
        "image_path = 'path_to_image.jpg'  # Replace with the path to your image file\n",
        "image = Image.open(image_path)\n",
        "\n",
        "draw = ImageDraw.Draw(image)\n",
        "\n",
        "# Draw a rectangle\n",
        "rectangle_coordinates = [(50, 50), (200, 150)]\n",
        "draw.rectangle(rectangle_coordinates, outline='red')\n",
        "\n",
        "# Draw a circle\n",
        "center = (300, 200)\n",
        "radius = 100\n",
        "draw.ellipse((center[0]-radius, center[1]-radius, center[0]+radius, center[1]+radius), outline='blue')\n",
        "\n",
        "image.show()"
      ],
      "metadata": {
        "id": "GillPlKRSVSE"
      },
      "execution_count": null,
      "outputs": []
    },
    {
      "cell_type": "markdown",
      "source": [
        "In the example above, we first open the image using **Image.open()** and store it in the `image` variable. Replace `'path_to_image.jpg'` with the actual path to your image file.\n",
        "\n",
        "We then create an `ImageDraw` object by calling **ImageDraw.Draw()** and passing the image object as an argument. This allows us to draw shapes on the image.\n",
        "\n",
        "Using the ImageDraw object, we can call various methods to draw shapes on the image. In the example, we draw a rectangle using the **rectangle()** method and a circle using the **ellipse()** method.\n",
        "\n",
        "Finally, we display the modified image using the **show()** method.\n",
        "\n",
        "By utilizing the ImageDraw module, you can draw shapes, lines, text, and perform other graphical operations on Image objects using the Pillow library."
      ],
      "metadata": {
        "id": "ClkYGeSmSvgK"
      }
    },
    {
      "cell_type": "markdown",
      "source": [
        "#Question 8\n",
        "\n",
        "Image objects do not have drawing methods. What kind of object does? How do you get this kind\n",
        "of object?\n",
        "\n",
        ".............\n",
        "\n",
        "Answer 8 -\n",
        "\n",
        "The PIL `(Python Imaging Library)` library provides an `ImageDraw` module that allows you to draw on image objects. To use this module, you need to install PIL by running pip install `Pillow` in your command prompt or terminal.\n",
        "\n",
        "Here's an example of how to use ImageDraw to draw on an image object:"
      ],
      "metadata": {
        "id": "Wc2aWnnRTPm8"
      }
    },
    {
      "cell_type": "code",
      "source": [
        "from PIL import Image, ImageDraw\n",
        "\n",
        "# Open an image\n",
        "image = Image.open(\"path_to_image.jpg\")\n",
        "\n",
        "# Create an ImageDraw object\n",
        "draw = ImageDraw.Draw(image)\n",
        "\n",
        "# Draw a rectangle on the image\n",
        "draw.rectangle([(50, 50), (200, 200)], outline=\"red\", width=2)\n",
        "\n",
        "# Save the modified image\n",
        "image.save(\"path_to_output_image.jpg\")"
      ],
      "metadata": {
        "id": "PDULlb0pTISh"
      },
      "execution_count": null,
      "outputs": []
    },
    {
      "cell_type": "markdown",
      "source": [
        "In this example, `ImageDraw.Draw` is used to create an ImageDraw object called `draw` . This object provides various drawing methods such as rectangle, line, ellipse, etc., which can be used to draw on the image. The modified image is then saved using the `save` method.\n",
        "\n"
      ],
      "metadata": {
        "id": "T8M0ZvRhRAH7"
      }
    }
  ]
}