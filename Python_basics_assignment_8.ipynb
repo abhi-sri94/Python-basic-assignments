{
  "nbformat": 4,
  "nbformat_minor": 0,
  "metadata": {
    "colab": {
      "provenance": [],
      "toc_visible": true
    },
    "kernelspec": {
      "name": "python3",
      "display_name": "Python 3"
    },
    "language_info": {
      "name": "python"
    }
  },
  "cells": [
    {
      "cell_type": "markdown",
      "source": [
        "#Question 1\n",
        "\n",
        "Is the Python Standard Library included with PyInputPlus?\n",
        "\n",
        "............\n",
        "\n",
        "Answer 1 -\n",
        "\n",
        "No, the Python Standard Library is not included with PyInputPlus. PyInputPlus is a third-party library that provides additional functionality for taking user input in Python. It simplifies the process of getting various types of input from the user and provides features like input validation, input retry, and timeout options.\n",
        "\n",
        "While PyInputPlus builds upon the Python Standard Library's input() function, it is a separate package and does not include or modify the Python Standard Library itself. You can use PyInputPlus alongside the Python Standard Library to enhance the input functionality in your Python programs."
      ],
      "metadata": {
        "id": "l1D12IL-wOGu"
      }
    },
    {
      "cell_type": "markdown",
      "source": [
        "#Question 2\n",
        "\n",
        "Why is PyInputPlus commonly imported with import pyinputplus as pypi?\n",
        "\n",
        "..............\n",
        "\n",
        "\n",
        "Answer 2 -\n",
        "\n",
        "\n",
        "Importing PyInputPlus as `pypi` (or any other alias) is a matter of personal preference or convention followed by some developers. It allows for a shorter and more concise way to refer to the PyInputPlus library in your code.\n",
        "\n",
        "When you import a library using the `import` statement, you can provide an alias for that library using the `as` keyword. This alias can be used later in your code to refer to the imported library. For example, `import pyinputplus as pypi` creates an alias pypi for the PyInputPlus library.\n",
        "\n",
        "By using a shorter alias like pypi, you can save typing effort and reduce the amount of code you need to write when accessing the functions and classes provided by the PyInputPlus library. It also helps to differentiate between PyInputPlus functions and classes and any other names you may have in your code.\n",
        "\n",
        "Ultimately, the choice of alias is flexible and can be customized to your liking or to follow the conventions of your team or coding style guidelines."
      ],
      "metadata": {
        "id": "UiHMRqQnyay_"
      }
    },
    {
      "cell_type": "markdown",
      "source": [
        "#Question 3\n",
        "\n",
        "How do you distinguish between inputInt() and inputFloat()?\n",
        "\n",
        ".............\n",
        "\n",
        "\n",
        "Answer 3 -\n",
        "\n",
        "`inputInt()` and `inputFloat()` are not standard functions in the Python programming language. However, assuming you are referring to a hypothetical situation where these functions exist, I can provide some insights on how you might distinguish between them based on common programming practices.\n",
        "\n",
        "1) **Function Signature** : In Python, functions are defined with a signature that includes the name of the function and the types of arguments it accepts. If `inputInt()` and `inputFloat()` are distinct functions, they might have different names or parameter types, which would make it clear which one to use.\n",
        "\n",
        "2) **Naming Convention** : Programming languages often follow naming conventions that help indicate the purpose or behavior of functions. If `inputInt()` and `inputFloat()` follow such conventions, their names might provide hints about the type of input they expect.\n",
        "\n",
        "For example, functions with names starting with `\"inputInt\"` might be designed to accept integer input, while those starting with `\"inputFloat\"` might be intended for floating-point numbers.\n",
        "\n",
        "3) **Documentation or Comments** : Well-documented code typically includes comments or documentation strings that describe the purpose and usage of functions. By referring to the documentation or comments associated with `inputInt()` and `inputFloat()` , you should be able to determine which one to use based on the expected input type.\n",
        "\n",
        "4) **Function Behavior** : If you have access to the source code or documentation, examining the behavior of the functions can also help you distinguish between them. For example, `inputInt()` might specifically prompt the user for an integer input and throw an error if a non-integer value is provided, while `inputFloat()` could accept both integer and floating-point inputs without throwing any errors."
      ],
      "metadata": {
        "id": "RFLdazcrzEfj"
      }
    },
    {
      "cell_type": "markdown",
      "source": [
        "#Question 4\n",
        "\n",
        "Using PyInputPlus, how do you ensure that the user enters a whole number between 0 and 99?\n",
        "\n",
        "..............\n",
        "\n",
        "\n",
        "Answer 4 -\n",
        "\n",
        "In PyInputPlus, you can use the inputInt() function with additional arguments to ensure that the user enters a whole number between 0 and 99. Here's an example of how you can accomplish that:"
      ],
      "metadata": {
        "id": "10Uby0fn6gFz"
      }
    },
    {
      "cell_type": "code",
      "source": [
        "import pyinputplus as pyip\n",
        "\n",
        "number = pyip.inputInt(prompt='Enter a number between 0 and 99: ',\n",
        "                       min=0,\n",
        "                       max=99)\n"
      ],
      "metadata": {
        "colab": {
          "base_uri": "https://localhost:8080/"
        },
        "id": "NVyBMi824izd",
        "outputId": "893ac360-09e1-47c4-b1a2-784be92c9c9b"
      },
      "execution_count": null,
      "outputs": [
        {
          "name": "stdout",
          "output_type": "stream",
          "text": [
            "Enter a number between 0 and 99: 454\n",
            "Number must be at maximum 99.\n",
            "Enter a number between 0 and 99: 0.2\n",
            "'0.2' is not an integer.\n",
            "Enter a number between 0 and 99: 20\n"
          ]
        }
      ]
    },
    {
      "cell_type": "markdown",
      "source": [
        "In the code above, the `inputInt()` function is used to prompt the user for input and ensure that the entered value is an integer. The prompt argument specifies the message displayed to the user.\n",
        "\n",
        "The `min` and `max` arguments are used to enforce the range constraint. In this case, `min=0` ensures that the input is greater than or equal to 0, and `max=99` ensures that the input is less than or equal to 99. If the user enters a value outside this range or a non-integer value, PyInputPlus will reprompt the user until a valid input is provided.\n",
        "\n",
        "By using these arguments, you can ensure that the user enters a whole number between 0 and 99 while utilizing PyInputPlus's built-in validation and reprompting capabilities."
      ],
      "metadata": {
        "id": "2YsSmUjo7IG-"
      }
    },
    {
      "cell_type": "markdown",
      "source": [
        "#Question 5\n",
        "\n",
        "What is transferred to the keyword arguments allowRegexes and blockRegexes?\n",
        "\n",
        "..............\n",
        "\n",
        "\n",
        "Answer 5 -\n",
        "\n",
        "The `allowRegexes` and `blockRegexes` keyword arguments are used to specify regular expressions that define patterns of input that are either allowed or blocked, respectively.\n",
        "\n",
        "The `allowRegexes` argument accepts a list of regular expressions. When provided, PyInputPlus will allow inputs that match any of the regular expressions in the list. For example:"
      ],
      "metadata": {
        "id": "93ZMEPVk7Zb-"
      }
    },
    {
      "cell_type": "code",
      "source": [
        "number = pyip.inputInt(prompt='Enter a number: ',\n",
        "                       allowRegexes=[r'^[1-9][0-9]*$'],\n",
        "                       default='Invalid input')\n"
      ],
      "metadata": {
        "colab": {
          "base_uri": "https://localhost:8080/"
        },
        "id": "U9j4ZjwZ68sl",
        "outputId": "6e3f225e-02f4-4619-d566-352cbfa17659"
      },
      "execution_count": null,
      "outputs": [
        {
          "name": "stdout",
          "output_type": "stream",
          "text": [
            "Enter a number: 102.2\n",
            "'102.2' is not an integer.\n",
            "Enter a number: 0\n"
          ]
        }
      ]
    },
    {
      "cell_type": "markdown",
      "source": [
        "In the code snippet above, the `allowRegexes` argument is set to `[r'^[1-9][0-9]*$']` . This regular expression allows inputs that start with a digit from 1 to 9, followed by zero or more digits. Any input that matches this pattern will be accepted as a valid input."
      ],
      "metadata": {
        "id": "OEsx1ZE58X1p"
      }
    },
    {
      "cell_type": "markdown",
      "source": [
        "On the other hand, the `blockRegexes` argument also accepts a list of regular expressions. If provided, PyInputPlus will block any input that matches any of the regular expressions in the list. For example:"
      ],
      "metadata": {
        "id": "D2qH4s_c74c0"
      }
    },
    {
      "cell_type": "code",
      "source": [
        "number = pyip.inputInt(prompt='Enter a number: ',\n",
        "                       blockRegexes=[r'^0$'],\n",
        "                       default='Invalid input')"
      ],
      "metadata": {
        "colab": {
          "base_uri": "https://localhost:8080/"
        },
        "id": "YiT8CrkD7u9C",
        "outputId": "bb1e2f79-c798-4e10-ed0a-21a1011154bd"
      },
      "execution_count": null,
      "outputs": [
        {
          "name": "stdout",
          "output_type": "stream",
          "text": [
            "Enter a number: 102.2\n",
            "'102.2' is not an integer.\n",
            "Enter a number: \n",
            "Blank values are not allowed.\n",
            "Enter a number: 0\n",
            "This response is invalid.\n",
            "Enter a number: 36\n"
          ]
        }
      ]
    },
    {
      "cell_type": "markdown",
      "source": [
        "In the code snippet above, the `blockRegexes` argument is set to `[r'^0$']` . This regular expression blocks the input of zero. If the user enters \"0\", it will be considered invalid and the default value \"Invalid input\" will be returned."
      ],
      "metadata": {
        "id": "7UiEhWxD8tyn"
      }
    },
    {
      "cell_type": "markdown",
      "source": [
        "#Question 6\n",
        "\n",
        "If a blank input is entered three times, what does inputStr(limit=3) do?\n",
        "\n",
        ".............\n",
        "\n",
        "Answer 6 -\n",
        "\n",
        "The `inputStr(limit=3)` function appears to be a custom function that accepts a parameter limit and prompts the user for input using the `input()` function. The `limit=3` parameter suggests that the function will allow a maximum of three attempts to input a non-blank value.\n",
        "\n",
        "Here's how the function could work:\n",
        "\n",
        "1) The function prompts the user for input using the `input()` function.\n",
        "\n",
        "2) If the input is not blank (i.e., it has some content), the function returns the input as a string.\n",
        "\n",
        "3) If the input is blank (empty or only contains whitespace characters), the function counts it as an unsuccessful attempt and prompts the user again for input.\n",
        "\n",
        "4) The function repeats step 3 until a non-blank input is provided or the number of attempts reaches the limit value (3 in this case).\n",
        "\n",
        "5) If the number of unsuccessful attempts reaches the limit value, the function may choose to handle this situation in a specific way, such as displaying an error message or taking alternative actions."
      ],
      "metadata": {
        "id": "-OgLqwH787cL"
      }
    },
    {
      "cell_type": "markdown",
      "source": [
        "#Question 7\n",
        "\n",
        "If blank input is entered three times, what does inputStr(limit=3, default='hello') do?\n",
        "\n",
        ".............\n",
        "\n",
        "\n",
        "Answer 7 -\n",
        "\n",
        "If the `inputStr(limit=3, default='hello')` function is called and blank input is entered three times, it would behave as follows:\n",
        "\n",
        "1) The function prompts the user for input using the `input()` function.\n",
        "\n",
        "2) If the input is not blank (i.e., it has some content), the function returns the input as a string.\n",
        "\n",
        "3) If the input is blank (empty or only contains whitespace characters), the function counts it as an unsuccessful attempt and prompts the user again for input.\n",
        "\n",
        "4) The function repeats step 3 until a non-blank input is provided or the number of attempts reaches the limit value (3 in this case).\n",
        "\n",
        "5) If the number of unsuccessful attempts reaches the limit value, instead of raising an error or displaying an error message, the function would return the default value specified as `'hello'` .\n",
        "\n",
        "In this case, if the user enters blank input three times, the function would return the default value 'hello' after the third unsuccessful attempt. This allows the function to provide a fallback value when the user does not provide any meaningful input within the specified limit."
      ],
      "metadata": {
        "id": "P6t45lEmBPt-"
      }
    }
  ]
}