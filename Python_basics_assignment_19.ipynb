{
  "nbformat": 4,
  "nbformat_minor": 0,
  "metadata": {
    "colab": {
      "provenance": [],
      "toc_visible": true
    },
    "kernelspec": {
      "name": "python3",
      "display_name": "Python 3"
    },
    "language_info": {
      "name": "python"
    }
  },
  "cells": [
    {
      "cell_type": "markdown",
      "source": [
        "#Question 1\n",
        "\n",
        "Make a class called Thing with no contents and print it. Then, create an object called example\n",
        "from this class and also print it. Are the printed values the same or different?\n",
        "\n",
        "..............\n",
        "\n",
        "Answer 1 -\n",
        "\n",
        "Hers's an example for creating class called`things` with no content:"
      ],
      "metadata": {
        "id": "qyY26snlaLe9"
      }
    },
    {
      "cell_type": "code",
      "source": [
        "class Thing:\n",
        "    pass\n",
        "\n",
        "print(Thing())\n",
        "example = Thing()\n",
        "print(example)"
      ],
      "metadata": {
        "colab": {
          "base_uri": "https://localhost:8080/"
        },
        "id": "MLi60erUa0di",
        "outputId": "4033da5d-7fd2-4b2d-bc45-14523fd48e04"
      },
      "execution_count": 1,
      "outputs": [
        {
          "output_type": "stream",
          "name": "stdout",
          "text": [
            "<__main__.Thing object at 0x7d55d906d960>\n",
            "<__main__.Thing object at 0x7d55d906db70>\n"
          ]
        }
      ]
    },
    {
      "cell_type": "markdown",
      "source": [
        "When you run this code, the printed values for the class and the object may appear similar, but they are actually different entities. The class representation will typically include the class name and memory address, while the object representation will include the class name, memory address, or some additional information.\n",
        "\n",
        "The memory addresses (`0x7f6c71f1c340` and `0x7f6c71f1c3d0`) will likely be different for the class and the object, indicating that they are separate instances.\n",
        "\n"
      ],
      "metadata": {
        "id": "hl0uAG5YbDNu"
      }
    },
    {
      "cell_type": "markdown",
      "source": [
        "#Question 2\n",
        "\n",
        "Create a new class called Thing2 and add the value 'abc' to the letters class attribute. Letters\n",
        "should be printed.\n",
        "\n",
        "..............\n",
        "\n",
        "Answer 2 -\n",
        "\n",
        "Here's how it can be done:"
      ],
      "metadata": {
        "id": "uY3JjWi8bM3Y"
      }
    },
    {
      "cell_type": "code",
      "source": [
        "class Thing2:\n",
        "    letters = 'abc'\n",
        "\n",
        "print(Thing2.letters)"
      ],
      "metadata": {
        "colab": {
          "base_uri": "https://localhost:8080/"
        },
        "id": "VnTMagnYa1CL",
        "outputId": "3aa76edd-6ac2-4828-d70a-a962287ed985"
      },
      "execution_count": 2,
      "outputs": [
        {
          "output_type": "stream",
          "name": "stdout",
          "text": [
            "abc\n"
          ]
        }
      ]
    },
    {
      "cell_type": "markdown",
      "source": [
        "The output displays the value of the letters class attribute, which is 'abc'."
      ],
      "metadata": {
        "id": "sZ0Sri-TbrXb"
      }
    },
    {
      "cell_type": "markdown",
      "source": [
        "#Question 3\n",
        "\n",
        "Make yet another class called, of course, Thing3. This time, assign the value 'xyz' to an instance\n",
        "(object) attribute called letters. Print letters. Do you need to make an object from the class to do\n",
        "this?\n",
        "\n",
        ".............\n",
        "\n",
        "Answer 3 -\n",
        "\n",
        "Here's how can you do it:"
      ],
      "metadata": {
        "id": "k3Px87tQbwvc"
      }
    },
    {
      "cell_type": "code",
      "source": [
        "class Thing3:\n",
        "    def __init__(self):\n",
        "        self.letters = 'xyz'\n",
        "\n",
        "example = Thing3()\n",
        "print(example.letters)"
      ],
      "metadata": {
        "colab": {
          "base_uri": "https://localhost:8080/"
        },
        "id": "5mlCJq0jbdst",
        "outputId": "b12b7618-e306-409c-82cc-a39596c8dca3"
      },
      "execution_count": 3,
      "outputs": [
        {
          "output_type": "stream",
          "name": "stdout",
          "text": [
            "xyz\n"
          ]
        }
      ]
    },
    {
      "cell_type": "markdown",
      "source": [
        "In this code, we define the `Thing3` class. Inside the class, we have an **__init__** method, which is a special method that gets called when an object is created from the class. Within the **__init__** method, we assign the value `'xyz'` to the instance attribute letters using `self.letters = 'xyz'` .\n",
        "\n",
        "To access and print the `letters` instance attribute, we create an object (example) from the `Thing3` class. Then, we use dot notation **(example.letters)** to access the attribute and print its value using `print(example.letters)` .\n",
        "\n"
      ],
      "metadata": {
        "id": "TYxi9NhvcCTJ"
      }
    },
    {
      "cell_type": "markdown",
      "source": [
        "#Question 4\n",
        "\n",
        "Create an Element class with the instance attributes name, symbol, and number. Create a class\n",
        "object with the values 'Hydrogen,' 'H,' and 1.\n",
        "\n",
        "..............\n",
        "\n",
        "Answer 4 -\n",
        "\n"
      ],
      "metadata": {
        "id": "Iw7KW_EkcgfW"
      }
    },
    {
      "cell_type": "code",
      "source": [
        "class Element:\n",
        "    def __init__(self, name, symbol, number):\n",
        "        self.name = name\n",
        "        self.symbol = symbol\n",
        "        self.number = number\n",
        "\n",
        "element = Element('Hydrogen', 'H', 1)"
      ],
      "metadata": {
        "id": "6KUbSsb7b-bv"
      },
      "execution_count": 4,
      "outputs": []
    },
    {
      "cell_type": "markdown",
      "source": [
        "In this code, we define the `Element` class with an **__init__** method. The __init__ method is a special method that gets called when an object is created from the class. Inside this method, we assign the values passed as arguments `(name, symbol, and number)` to the respective instance attributes `(self.name, self.symbol, and self.number)` .\n",
        "\n",
        "To create a `class` object, we create an instance of the Element class by calling Element`('Hydrogen', 'H', 1)` . This will invoke the **__init__** method, and the arguments provided ('Hydrogen', 'H', and 1) will be assigned to the instance attributes of the created object.\n",
        "\n",
        "Now, you can access the attributes of the `element` object:"
      ],
      "metadata": {
        "id": "efSJFXaBc-mu"
      }
    },
    {
      "cell_type": "code",
      "source": [
        "print(element.name)\n",
        "print(element.symbol)\n",
        "print(element.number)"
      ],
      "metadata": {
        "colab": {
          "base_uri": "https://localhost:8080/"
        },
        "id": "jD39awwyc4Lx",
        "outputId": "dc67dd41-1578-48d9-8416-45af7f2de634"
      },
      "execution_count": 6,
      "outputs": [
        {
          "output_type": "stream",
          "name": "stdout",
          "text": [
            "Hydrogen\n",
            "H\n",
            "1\n"
          ]
        }
      ]
    },
    {
      "cell_type": "markdown",
      "source": [
        "#Question 5\n",
        "\n",
        "Make a dictionary with these keys and values: 'name': 'Hydrogen', 'symbol': 'H', 'number': 1. Then,\n",
        "create an object called hydrogen from class Element using this dictionary.\n",
        "\n",
        ".............\n",
        "\n",
        "Answer 5 -\n",
        "\n",
        "Below is an example:"
      ],
      "metadata": {
        "id": "Iuzan6sTdg2q"
      }
    },
    {
      "cell_type": "code",
      "source": [
        "class Element:\n",
        "    def __init__(self, name, symbol, number):\n",
        "        self.name = name\n",
        "        self.symbol = symbol\n",
        "        self.number = number\n",
        "\n",
        "element_dict = {'name': 'Hydrogen', 'symbol': 'H', 'number': 1}\n",
        "hydrogen = Element(**element_dict)"
      ],
      "metadata": {
        "id": "UCnR1pFfdUDk"
      },
      "execution_count": 7,
      "outputs": []
    },
    {
      "cell_type": "markdown",
      "source": [
        "In this code, we define the Element class with an **__init__** method that takes three arguments (`name`, `symbol`, and `number`) and assigns them to the respective instance attributes (`self.name`, `self.symbol`, and `self.number`).\n",
        "\n",
        "To create an object `hydrogen` from the `Element` class, we pass the `element_dict` dictionary as keyword arguments using the `**` operator. This will unpack the dictionary and pass its key-value pairs as arguments to the Element class constructor.\n",
        "\n",
        "Now, you can access the attributes of the hydrogen object:"
      ],
      "metadata": {
        "id": "HZGh3vSlfEIC"
      }
    },
    {
      "cell_type": "code",
      "source": [
        "print(hydrogen.name)\n",
        "print(hydrogen.symbol)\n",
        "print(hydrogen.number)"
      ],
      "metadata": {
        "colab": {
          "base_uri": "https://localhost:8080/"
        },
        "id": "JSTbSD9nexyE",
        "outputId": "b4132445-0d5e-4d5a-a55d-657aee348c81"
      },
      "execution_count": 8,
      "outputs": [
        {
          "output_type": "stream",
          "name": "stdout",
          "text": [
            "Hydrogen\n",
            "H\n",
            "1\n"
          ]
        }
      ]
    },
    {
      "cell_type": "markdown",
      "source": [
        "#Question 6\n",
        "\n",
        "For the Element class, define a method called dump() that prints the values of the object’s\n",
        "attributes (name, symbol, and number). Create the hydrogen object from this new definition and\n",
        "use dump() to print its attributes.\n",
        "\n",
        "..............\n",
        "\n",
        "Answer 6 -\n",
        "\n",
        " Here's an example how we can create the Element class definition that includes a **dump() **method to print the values of the object's attributes (`name`, `symbol`, and `number`):"
      ],
      "metadata": {
        "id": "-4vqHfslfiIl"
      }
    },
    {
      "cell_type": "code",
      "source": [
        "class Element:\n",
        "    def __init__(self, name, symbol, number):\n",
        "        self.name = name\n",
        "        self.symbol = symbol\n",
        "        self.number = number\n",
        "\n",
        "    def dump(self):\n",
        "        print(\"Name:\", self.name)\n",
        "        print(\"Symbol:\", self.symbol)\n",
        "        print(\"Number:\", self.number)\n",
        "\n",
        "hydrogen = Element('Hydrogen', 'H', 1)\n",
        "hydrogen.dump()"
      ],
      "metadata": {
        "colab": {
          "base_uri": "https://localhost:8080/"
        },
        "id": "6sQ6axBnfan6",
        "outputId": "6245d489-ba0b-4594-fd36-9697f897d23d"
      },
      "execution_count": 9,
      "outputs": [
        {
          "output_type": "stream",
          "name": "stdout",
          "text": [
            "Name: Hydrogen\n",
            "Symbol: H\n",
            "Number: 1\n"
          ]
        }
      ]
    },
    {
      "cell_type": "markdown",
      "source": [
        "In this code, we have added a **dump()** method within the `Element` class definition. This method takes no additional arguments apart from the self parameter, which represents the instance of the object.\n",
        "\n",
        "The dump() method prints the values of the object's attributes using the **print()** function. It accesses the attribute values (`self.name` , `self.symbol` , and `self.number`) and displays them accordingly.\n",
        "\n"
      ],
      "metadata": {
        "id": "rXuzRCXHgBjs"
      }
    },
    {
      "cell_type": "markdown",
      "source": [
        "#Question 7\n",
        "\n",
        "Call print(hydrogen). In the definition of Element, change the name of method dump to __str__,\n",
        "create a new hydrogen object, and call print(hydrogen) again.\n",
        "\n",
        "...............\n",
        "\n",
        "Answer 7 -\n",
        "\n",
        "The code for the `Element` class definition where the **dump()** method is renamed to **__str__**() :"
      ],
      "metadata": {
        "id": "gNonIHvhgQfb"
      }
    },
    {
      "cell_type": "code",
      "source": [
        "class Element:\n",
        "    def __init__(self, name, symbol, number):\n",
        "        self.name = name\n",
        "        self.symbol = symbol\n",
        "        self.number = number\n",
        "\n",
        "    def __str__(self):\n",
        "        return f\"Name: {self.name}, Symbol: {self.symbol}, Number: {self.number}\"\n",
        "\n",
        "hydrogen = Element('Hydrogen', 'H', 1)\n",
        "print(hydrogen)"
      ],
      "metadata": {
        "colab": {
          "base_uri": "https://localhost:8080/"
        },
        "id": "fpkn24HJf6K0",
        "outputId": "0ce3c830-702f-4676-f148-6b8f0920a826"
      },
      "execution_count": 10,
      "outputs": [
        {
          "output_type": "stream",
          "name": "stdout",
          "text": [
            "Name: Hydrogen, Symbol: H, Number: 1\n"
          ]
        }
      ]
    },
    {
      "cell_type": "markdown",
      "source": [
        "The **__str__()** method is a special method in Python that provides a string representation of the object. It overrides the default behavior of the **str()** function.\n",
        "\n",
        "Within the __str__() method, we return a formatted string that represents the object's attributes."
      ],
      "metadata": {
        "id": "ohubKlq5g9lg"
      }
    },
    {
      "cell_type": "markdown",
      "source": [
        "#Question 8\n",
        "\n",
        "Modify Element to make the attributes name, symbol, and number private. Define a getter\n",
        "property for each to return its value.\n",
        "\n",
        "..............\n",
        "\n",
        "Answer 8 -\n",
        "\n",
        "Here's an example of the Element class where the attributes `name` , `symbol` , and `number` are made private, and `getter` properties are defined for each attribute to access their values:"
      ],
      "metadata": {
        "id": "hvgx9CPmhE06"
      }
    },
    {
      "cell_type": "code",
      "source": [
        "class Element:\n",
        "    def __init__(self, name, symbol, number):\n",
        "        self._name = name\n",
        "        self._symbol = symbol\n",
        "        self._number = number\n",
        "\n",
        "    @property\n",
        "    def name(self):\n",
        "        return self._name\n",
        "\n",
        "    @property\n",
        "    def symbol(self):\n",
        "        return self._symbol\n",
        "\n",
        "    @property\n",
        "    def number(self):\n",
        "        return self._number\n",
        "\n",
        "hydrogen = Element('Hydrogen', 'H', 1)\n",
        "print(hydrogen.name)\n",
        "print(hydrogen.symbol)\n",
        "print(hydrogen.number)"
      ],
      "metadata": {
        "colab": {
          "base_uri": "https://localhost:8080/"
        },
        "id": "RM3-69mTgw8q",
        "outputId": "c429b3a4-3487-4781-87e8-e9adbc3513b6"
      },
      "execution_count": 11,
      "outputs": [
        {
          "output_type": "stream",
          "name": "stdout",
          "text": [
            "Hydrogen\n",
            "H\n",
            "1\n"
          ]
        }
      ]
    },
    {
      "cell_type": "markdown",
      "source": [
        "In this code, the attributes `name`, `symbol`, and `number` are prefixed with a single underscore (`_`) to indicate that they are intended to be treated as private attributes. Although Python does not enforce strict privacy, this naming convention is commonly used to indicate that an attribute should not be accessed directly from outside the class.\n",
        "\n",
        "`Getter` properties are defined for each attribute using the `@property` decorator. These properties allow us to access the values of the private attributes (`self._name`, `self._symbol`, and `self._number`) by calling them like normal attributes (`hydrogen.name`, `hydrogen.symbol`, and `hydrogen.number`)."
      ],
      "metadata": {
        "id": "KTdCJetLhpES"
      }
    },
    {
      "cell_type": "markdown",
      "source": [
        "#Question 9\n",
        "\n",
        "Define three classes: Bear, Rabbit, and Octothorpe. For each, define only one method: eats(). This\n",
        "should return 'berries' (Bear), 'clover' (Rabbit), or 'campers' (Octothorpe). Create one object from\n",
        "each and print what it eats.\n",
        "\n",
        "...............\n",
        "\n",
        "Answer 9 -"
      ],
      "metadata": {
        "id": "Lbbrn43WiGoJ"
      }
    },
    {
      "cell_type": "code",
      "source": [
        "class Bear:\n",
        "    def eats(self):\n",
        "        return 'berries'\n",
        "\n",
        "class Rabbit:\n",
        "    def eats(self):\n",
        "        return 'clover'\n",
        "\n",
        "class Octothorpe:\n",
        "    def eats(self):\n",
        "        return 'campers'\n",
        "\n",
        "bear = Bear()\n",
        "rabbit = Rabbit()\n",
        "octothorpe = Octothorpe()\n",
        "\n",
        "print(bear.eats())\n",
        "print(rabbit.eats())\n",
        "print(octothorpe.eats())"
      ],
      "metadata": {
        "colab": {
          "base_uri": "https://localhost:8080/"
        },
        "id": "SxX1KccVhgeb",
        "outputId": "f8165c79-dd09-4ec3-824d-a4276651b8b8"
      },
      "execution_count": 13,
      "outputs": [
        {
          "output_type": "stream",
          "name": "stdout",
          "text": [
            "berries\n",
            "clover\n",
            "campers\n"
          ]
        }
      ]
    },
    {
      "cell_type": "markdown",
      "source": [
        "In this code, we define the `Bear` , `Rabbit` , and `Octothorpe` classes. Each class has a single method called **eats()**, which returns the corresponding food item for that class.\n",
        "\n",
        "We then create objects bear, rabbit, and octothorpe from the respective classes. By calling the eats() method on each object (`bear.eats()` , `rabbit.eats()` , `octothorpe.eats()`) , we can print what each object eats."
      ],
      "metadata": {
        "id": "Nv20srs9iXRg"
      }
    },
    {
      "cell_type": "markdown",
      "source": [
        "#Question 10\n",
        "\n",
        "Define these classes: Laser, Claw, and SmartPhone. Each has only one method: does(). This\n",
        "returns 'disintegrate' (Laser), 'crush' (Claw), or 'ring' (SmartPhone). Then, define the class Robot that\n",
        "has one instance (object) of each of these. Define a does() method for the Robot that prints what its\n",
        "component objects do.\n",
        "\n",
        "................\n",
        "\n",
        "Answer 10 -\n",
        "\n",
        " Here's an example of defining the Laser, Claw, and SmartPhone classes with the **does()** method."
      ],
      "metadata": {
        "id": "desOyaXIinfZ"
      }
    },
    {
      "cell_type": "code",
      "source": [
        "class Laser:\n",
        "    def does(self):\n",
        "        return 'disintegrate'\n",
        "\n",
        "class Claw:\n",
        "    def does(self):\n",
        "        return 'crush'\n",
        "\n",
        "class SmartPhone:\n",
        "    def does(self):\n",
        "        return 'ring'\n",
        "\n",
        "class Robot:\n",
        "    def __init__(self):\n",
        "        self.laser = Laser()\n",
        "        self.claw = Claw()\n",
        "        self.smartphone = SmartPhone()\n",
        "\n",
        "    def does(self):\n",
        "        print(\"Laser does:\", self.laser.does())\n",
        "        print(\"Claw does:\", self.claw.does())\n",
        "        print(\"Smartphone does:\", self.smartphone.does())\n",
        "\n",
        "robot = Robot()\n",
        "robot.does()"
      ],
      "metadata": {
        "colab": {
          "base_uri": "https://localhost:8080/"
        },
        "id": "MLjh0asOiOH4",
        "outputId": "65a5ef0c-20ea-44fc-9ac4-c12c9caa6037"
      },
      "execution_count": 14,
      "outputs": [
        {
          "output_type": "stream",
          "name": "stdout",
          "text": [
            "Laser does: disintegrate\n",
            "Claw does: crush\n",
            "Smartphone does: ring\n"
          ]
        }
      ]
    },
    {
      "cell_type": "markdown",
      "source": [
        "In this code, we define the `Laser` , `Claw` , and `SmartPhone` classes. Each class has a single method called **does()** , which returns the corresponding action for that class.\n",
        "\n",
        "We then define the `Robot` class, which has instances of each of the component classes (Laser, Claw, and SmartPhone). In the Robot class, we define a does() method that calls the does() method of each component object and prints what they do.\n",
        "\n",
        "We create an object `robot` from the Robot class and call its **does()** method. This will print what each component object does."
      ],
      "metadata": {
        "id": "ErBmEikBjLKg"
      }
    }
  ]
}