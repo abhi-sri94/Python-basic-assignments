{
  "nbformat": 4,
  "nbformat_minor": 0,
  "metadata": {
    "colab": {
      "provenance": [],
      "toc_visible": true
    },
    "kernelspec": {
      "name": "python3",
      "display_name": "Python 3"
    },
    "language_info": {
      "name": "python"
    }
  },
  "cells": [
    {
      "cell_type": "code",
      "execution_count": null,
      "metadata": {
        "id": "j2rTGt_j4NM7"
      },
      "outputs": [],
      "source": []
    },
    {
      "cell_type": "markdown",
      "source": [
        "#Question 1\n",
        "\n",
        "What does an empty dictionary's code look like?\n",
        "\n",
        "\n",
        ".............\n",
        "\n",
        "Answer 1 - \n",
        "\n",
        "In Python, an empty dictionary is represented by a pair of curly braces {}. Here's an example of the code for an empty dictionary:"
      ],
      "metadata": {
        "id": "7m7MFkYV4-z7"
      }
    },
    {
      "cell_type": "code",
      "source": [
        "my_dict = {}"
      ],
      "metadata": {
        "id": "L1adLqYW5N9P"
      },
      "execution_count": 1,
      "outputs": []
    },
    {
      "cell_type": "markdown",
      "source": [
        "In this code, `my_dict` is an empty dictionary that does not contain any key-value pairs. You can use this dictionary to store and retrieve key-value data as needed.\n",
        "\n",
        "Alternatively, you can also create an empty dictionary using the dict() constructor:"
      ],
      "metadata": {
        "id": "S_E132J_5Xa5"
      }
    },
    {
      "cell_type": "code",
      "source": [
        "my_dict = dict()"
      ],
      "metadata": {
        "id": "ojf7m1Wj5OwN"
      },
      "execution_count": 2,
      "outputs": []
    },
    {
      "cell_type": "markdown",
      "source": [
        "Both of these code snippets create an empty dictionary that can be populated with key-value pairs later on."
      ],
      "metadata": {
        "id": "v5UN-ziO5qOM"
      }
    },
    {
      "cell_type": "markdown",
      "source": [
        "#Question 2\n",
        "\n",
        "What is the value of a dictionary value with the key 'foo' and the value 42?\n",
        "\n",
        "\n",
        "................\n",
        "\n",
        "Answer 2 - \n",
        "\n",
        "The value of a dictionary value with the key `'foo'` and the value `42` would simply be `42` . In Python, dictionary values are accessed using their corresponding keys. So, if you have a dictionary `my_dict` with the key-value pair `'foo': 42` , you can retrieve the value `42` by using the key `'foo'` as follows:"
      ],
      "metadata": {
        "id": "oF71gNpT53gb"
      }
    },
    {
      "cell_type": "code",
      "source": [
        "my_dict = {'foo': 42}\n",
        "value = my_dict['foo']\n",
        "print(value)  "
      ],
      "metadata": {
        "colab": {
          "base_uri": "https://localhost:8080/"
        },
        "id": "dB-ReP5M5nc2",
        "outputId": "cdd0b21c-c44b-43e4-cad1-cfe11ab9bd25"
      },
      "execution_count": 3,
      "outputs": [
        {
          "output_type": "stream",
          "name": "stdout",
          "text": [
            "42\n"
          ]
        }
      ]
    },
    {
      "cell_type": "markdown",
      "source": [
        "#Question 3 - \n",
        "\n",
        "What is the most significant distinction between a dictionary and a list?\n",
        "\n",
        "................\n",
        "\n",
        "Answer 3 - \n",
        "\n",
        "The most significant distinction between a dictionary and a list is the way they store and retrieve data.\n",
        "\n",
        "A dictionary is an unordered collection of key-value pairs, where each key is unique within the dictionary. It provides a way to store and retrieve data using meaningful labels or keys instead of numeric indices. The key-value pairs in a dictionary are not ordered, so the order of elements is not guaranteed. Dictionary values can be accessed or modified using their corresponding keys.\n",
        "\n",
        "On the other hand, a list is an ordered collection of elements. It allows storing multiple values in a specific order and provides access to elements using numeric indices. The elements in a list are ordered, and their positions are fixed unless explicitly modified. List values can be accessed, modified, or appended using their indices.\n",
        "\n",
        "In summary, the main distinction is that a dictionary provides a way to associate data with unique keys for efficient retrieval, while a list stores elements in a specific order and allows access using numeric indices."
      ],
      "metadata": {
        "id": "rjEHewjb6tcv"
      }
    },
    {
      "cell_type": "markdown",
      "source": [
        "#Question 4 - \n",
        "\n",
        "What happens if you try to access spam['foo'] if spam is {'bar': 100}?\n",
        "\n",
        "................\n",
        "\n",
        "Answer 5 - \n",
        "\n",
        "If you try to access `spam['foo']` and `spam` is `{'bar': 100}` , you will encounter a `KeyError` because the key `'foo'` does not exist in the dictionary `spam` .\n",
        "\n",
        "Dictionaries use keys to access their corresponding values. In this case, the dictionary `spam` only has one key-value pair with the key `'bar'` and the value `100` . Therefore, attempting to access `spam['foo']` will raise a `KeyError` because the key `'foo'` is not present in the dictionary.\n",
        "\n",
        "To avoid the `KeyError` , you should ensure that you access dictionary values using existing keys or check for the presence of a key before accessing it using techniques such as `if 'foo' in spam:` or using the `get()` method to retrieve a default value if the key is not found."
      ],
      "metadata": {
        "id": "8bNq4oT1-K7o"
      }
    },
    {
      "cell_type": "markdown",
      "source": [
        "#Question 5 - \n",
        "\n",
        "If a dictionary is stored in spam, what is the difference between the expressions 'cat' in spam and\n",
        "'cat' in spam.keys()?\n",
        "\n",
        ".................\n",
        "\n",
        "\n",
        "Answer 5 - \n",
        "\n",
        "The expressions `'cat'` in `spam` and `'cat'` in `spam.keys()` both check for the presence of the key 'cat' in the dictionary spam, but there is a subtle difference:\n",
        "\n",
        "- `'cat' in spam` :- checks if the key `'cat'` is present in the `dictionary spam` . It `returns` a boolean value (`True` or `False`) indicating whether the key exists as a direct key in the dictionary.\n",
        "\n",
        "- `'cat' in spam.keys()` :- checks if the string `'cat'` is `present` in the `list of keys` of the dictionary spam. It `returns` a `boolean` value indicating whether the string exists as a key in the dictionary.\n",
        "\n",
        "In most cases, these two expressions will yield the same result because checking for a key in a dictionary implicitly checks among its keys. However, there can be scenarios where they may produce different results. For example, if spam is an empty dictionary, `'cat'` in `spam` will be `False` because there are no keys in `spam`. On the other hand, `'cat'` in `spam.keys()` will also be `False` because `'cat'` is `not present` in the list of keys.\n",
        "\n",
        "In general, it is more `common` and `recommended` to use `'cat'` in `spam` to check for the presence of a key in a dictionary."
      ],
      "metadata": {
        "id": "aV0gzvxBmJSV"
      }
    },
    {
      "cell_type": "markdown",
      "source": [
        "#Question 6 - \n",
        "\n",
        "If a dictionary is stored in spam, what is the difference between the expressions 'cat' in spam and\n",
        "'cat' in spam.values()?\n",
        "\n",
        "................\n",
        "\n",
        "Answer 6 - \n",
        "\n",
        "The expressions `'cat'` in `spam` and `'cat'` in `spam.values()` have different meanings and produce different results:\n",
        "\n",
        "- `'cat' in spam` :- checks if the string `'cat'` is a key in the dictionary spam. It returns a boolean value (True or False) indicating whether the key exists in the dictionary.\n",
        "\n",
        "- `'cat' in spam.values()` :- checks if the string `'cat'` is a value in the dictionary spam. It returns a boolean value indicating whether the value exists in the dictionary.\n",
        "\n",
        "In other words, `'cat'` in spam checks if `'cat'` is one of the keys in the dictionary, while `'cat'` in `spam.values()` checks if `'cat'` is one of the values stored in the dictionary.\n",
        "\n",
        "Here's an example to illustrate the difference:"
      ],
      "metadata": {
        "id": "HnQmruMNn3fu"
      }
    },
    {
      "cell_type": "code",
      "source": [
        " spam = {'foo': 42, 'bar': 'cat', 'baz': 'dog'}\n",
        "\n",
        "print('cat' in spam)"
      ],
      "metadata": {
        "colab": {
          "base_uri": "https://localhost:8080/"
        },
        "id": "7l5kPxpg6fM7",
        "outputId": "fe4fc85a-b7b9-439a-ea57-0702da5571bd"
      },
      "execution_count": 1,
      "outputs": [
        {
          "output_type": "stream",
          "name": "stdout",
          "text": [
            "False\n"
          ]
        }
      ]
    },
    {
      "cell_type": "code",
      "source": [
        "print('cat' in spam.values())"
      ],
      "metadata": {
        "colab": {
          "base_uri": "https://localhost:8080/"
        },
        "id": "lbRDL8c149vp",
        "outputId": "bc9dfe47-c9d0-4782-fa8b-d6ea5ac54dcf"
      },
      "execution_count": 2,
      "outputs": [
        {
          "output_type": "stream",
          "name": "stdout",
          "text": [
            "True\n"
          ]
        }
      ]
    },
    {
      "cell_type": "markdown",
      "source": [
        "In the above example, `'cat'` in `spam` evaluates to `False` because `'cat'` is not a key in the dictionary. However, `'cat'` in `spam.values()` evaluates to `True` because `'cat'` is one of the values stored in the dictionary."
      ],
      "metadata": {
        "id": "md5t-oCa5Q56"
      }
    },
    {
      "cell_type": "markdown",
      "source": [
        "#Question 7 - \n",
        "\n",
        "What is a shortcut for the following code?\n",
        "if 'color' not in spam:\n",
        "spam['color'] = 'black'\n",
        "\n",
        "................\n",
        "\n",
        "Answer 7 - \n",
        "\n",
        "A shortcut for the given code can be achieved using the `dict.setdefault()` method. The `setdefault()` method checks if a key is present in the dictionary and returns its value. If the key is not found, it adds the key to the dictionary with a default value and returns the default value.\n",
        "\n",
        "Using setdefault(), the code can be simplified as follows:"
      ],
      "metadata": {
        "id": "1rDxSpzQ5j8b"
      }
    },
    {
      "cell_type": "code",
      "source": [
        "spam.setdefault('color', 'black')"
      ],
      "metadata": {
        "colab": {
          "base_uri": "https://localhost:8080/",
          "height": 35
        },
        "id": "HxSPSZnl5Gtz",
        "outputId": "0c1af355-8a4e-44df-c7f6-73b4c1dd2d47"
      },
      "execution_count": 3,
      "outputs": [
        {
          "output_type": "execute_result",
          "data": {
            "text/plain": [
              "'black'"
            ],
            "application/vnd.google.colaboratory.intrinsic+json": {
              "type": "string"
            }
          },
          "metadata": {},
          "execution_count": 3
        }
      ]
    },
    {
      "cell_type": "markdown",
      "source": [
        "This code checks if the key `'color'` is present in the dictionary `spam` . If it is not found, it adds the key `'color'` with the value `'black'` to the dictionary. If the key is already present, it does not modify the existing value.\n",
        "\n",
        "This provides a concise way to add a key-value pair to a dictionary if the key does not already exist."
      ],
      "metadata": {
        "id": "AyZFb06b6EHm"
      }
    },
    {
      "cell_type": "markdown",
      "source": [
        "#Question 8 - \n",
        "\n",
        "How do you \"pretty print\" dictionary values using which module and function?\n",
        "\n",
        "..................\n",
        "\n",
        "Answer 8 - \n",
        "\n",
        "\n",
        "To `\"pretty print\"` dictionary values in Python, you can use the `pprint module`, specifically the `pprint()` function. The pprint() function provides a convenient way to display dictionary values in a more readable and formatted manner.\n",
        "\n",
        "Here's an example of how to use pprint to pretty print a dictionary:"
      ],
      "metadata": {
        "id": "3wOndhPE6LbJ"
      }
    },
    {
      "cell_type": "code",
      "source": [
        "import pprint\n",
        "\n",
        "my_dict = {'key1': 'value1', 'key2': 'value2', 'key3': 'value3'}\n",
        "pprint.pprint(my_dict)\n"
      ],
      "metadata": {
        "colab": {
          "base_uri": "https://localhost:8080/"
        },
        "id": "SZblzyNN59AX",
        "outputId": "99e2ba7a-717c-4c5d-9d60-d68935860775"
      },
      "execution_count": 4,
      "outputs": [
        {
          "output_type": "stream",
          "name": "stdout",
          "text": [
            "{'key1': 'value1', 'key2': 'value2', 'key3': 'value3'}\n"
          ]
        }
      ]
    },
    {
      "cell_type": "markdown",
      "source": [
        "This will output the dictionary in a visually appealing format, with each key-value pair on a separate line and indentation for nested elements.\n",
        "\n",
        "The `pprint module` is part of the Python standard library, so you don't need to install any additional packages to use it."
      ],
      "metadata": {
        "id": "pGsoInTL6pVQ"
      }
    }
  ]
}