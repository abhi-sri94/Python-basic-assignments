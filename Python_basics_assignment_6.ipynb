{
  "nbformat": 4,
  "nbformat_minor": 0,
  "metadata": {
    "colab": {
      "provenance": [],
      "toc_visible": true
    },
    "kernelspec": {
      "name": "python3",
      "display_name": "Python 3"
    },
    "language_info": {
      "name": "python"
    }
  },
  "cells": [
    {
      "cell_type": "markdown",
      "source": [
        "#Question 1\n",
        "\n",
        "What are escape characters, and how do you use them?\n",
        "\n",
        "..............\n",
        "\n",
        "\n",
        "Answer 1 - \n",
        "\n",
        "\n",
        "Escape characters are special characters that are used to represent certain actions or characters that are difficult to represent directly in a string or a character sequence. They are typically denoted by a backslash () followed by a specific character.\n",
        "\n",
        "\n",
        "1) **`\\n`** - Represents a newline character. It is used to insert a line break or start a new line.\n",
        "\n",
        "Example: `\"Hello\\nWorld\" \n"
      ],
      "metadata": {
        "id": "pVSDp99Wzuoe"
      }
    },
    {
      "cell_type": "markdown",
      "source": [
        "2) **`\\`** - Represents a backslash character itself. It is used when you want to include a literal backslash in your string.\n",
        "\n",
        "Example: **\"C:\\\\Program Files\\\\Directory\"**"
      ],
      "metadata": {
        "id": "xx0Old5B1P_1"
      }
    },
    {
      "cell_type": "markdown",
      "source": [
        "3) **`\"`** - Represents a double quotation mark character. It is used when you want to include double quotation marks within a string that is already enclosed in double quotation marks.\n",
        "\n",
        "Example: **`\"She said, \\\"Hello!\\\"\"`**"
      ],
      "metadata": {
        "id": "oNEOHgal16Hi"
      }
    },
    {
      "cell_type": "markdown",
      "source": [
        "4) **`\\t`** - Represents a tab character. It is used to insert a horizontal tab.\n",
        "\n",
        "Example: **`\"Hello\\tWorld\"`** will output: **`\"Hello World\"`**"
      ],
      "metadata": {
        "id": "4mrI2TWR2S16"
      }
    },
    {
      "cell_type": "markdown",
      "source": [
        "**`'`** - Represents a single quotation mark character. It is used when you want to include single quotation marks within a string that is already enclosed in single quotation marks.\n",
        "\n",
        "Example: **`'He said, \\'Goodbye!\\'`**\n",
        "\n"
      ],
      "metadata": {
        "id": "v8t3Lvyv3H-b"
      }
    },
    {
      "cell_type": "markdown",
      "source": [
        "##Question 2\n",
        "\n",
        "What do the escape characters n and t stand for?\n",
        "\n",
        ".............\n",
        "\n",
        "\n",
        "Answer 2 - \n",
        "\n",
        "In the context of escape characters, the escape sequence `\\n` represents the newline character, and the escape sequence `\\t` represents the tab character.\n",
        "\n",
        "1) `\\n` - `Newline character`: It is used to insert a line break or start a new line. When encountered in a string, it moves the cursor to the beginning of the next line. This is often used to format text or create multi-line strings."
      ],
      "metadata": {
        "id": "gIVhgobO3d6a"
      }
    },
    {
      "cell_type": "code",
      "source": [
        "#\\n\n",
        "\n",
        "print(\"Hello\\nWorld\")"
      ],
      "metadata": {
        "colab": {
          "base_uri": "https://localhost:8080/"
        },
        "id": "adOSuPhc1wGJ",
        "outputId": "0670792c-3e1d-45ac-ab40-4bb0c624b796"
      },
      "execution_count": null,
      "outputs": [
        {
          "output_type": "stream",
          "name": "stdout",
          "text": [
            "Hello\n",
            "World\n"
          ]
        }
      ]
    },
    {
      "cell_type": "markdown",
      "source": [
        "2) `\\t` - `Tab character`: It represents a horizontal tab. When encountered in a string, it inserts a horizontal tab at that position. Tabs are often used to align text or create consistent indentation in output."
      ],
      "metadata": {
        "id": "98cJBGIg4yUA"
      }
    },
    {
      "cell_type": "code",
      "source": [
        "#\\t\n",
        "\n",
        "print(\"Name:\\tJohn\\tAge:\\t25\")"
      ],
      "metadata": {
        "colab": {
          "base_uri": "https://localhost:8080/"
        },
        "id": "IOYIOAFj4oBL",
        "outputId": "f891e7ed-5399-4afd-a6c9-7a875428b00d"
      },
      "execution_count": null,
      "outputs": [
        {
          "output_type": "stream",
          "name": "stdout",
          "text": [
            "Name:\tJohn\tAge:\t25\n"
          ]
        }
      ]
    },
    {
      "cell_type": "markdown",
      "source": [
        "#Question 3\n",
        "\n",
        "What is the way to include backslash characters in a string?\n",
        "\n",
        "..............\n",
        "\n",
        "\n",
        "Answer 3 - \n",
        "\n",
        "\n",
        "To include a backslash character `(\\)` in a string, you need to use an escape character itself. In most programming languages and text editors, the backslash `\\` is used as an escape character to represent special characters. To include a literal backslash in a string, you need to use a double backslash `\\\\` .\n",
        "\n"
      ],
      "metadata": {
        "id": "dGOag_bg4_Tj"
      }
    },
    {
      "cell_type": "code",
      "source": [
        "my_string = \"C:\\\\Program Files\\\\Directory\"\n",
        "print(my_string)\n"
      ],
      "metadata": {
        "colab": {
          "base_uri": "https://localhost:8080/"
        },
        "id": "8hyJvx-243Un",
        "outputId": "3d4dee34-ca28-4aac-86df-904e064eb239"
      },
      "execution_count": null,
      "outputs": [
        {
          "output_type": "stream",
          "name": "stdout",
          "text": [
            "C:\\Program Files\\Directory\n"
          ]
        }
      ]
    },
    {
      "cell_type": "markdown",
      "source": [
        "#Question 4\n",
        "\n",
        "The string \"Howl's Moving Castle\" is a correct value. Why isn't the single quote character in the\n",
        "word Howl's not escaped a problem?\n",
        "\n",
        "..............\n",
        "\n",
        "\n",
        "Answer 4 - \n",
        "\n",
        "In the string \"Howl's Moving Castle,\" the single quote character `(')` within the word \"Howl's\" does not need to be escaped because the string itself is enclosed in double quotation marks `(\")` .\n",
        "\n",
        "In many programming languages, including Python, when you enclose a string within double quotation marks, single quotation marks within the string do not need to be escaped. Similarly, if the string is enclosed in single quotation marks, double quotation marks within the string do not need to be escaped.\n",
        "\n",
        "This rule allows for more convenient usage of quotation marks within strings. It eliminates the need to escape every instance of a quotation mark that appears within the string, as long as the string itself is enclosed in a different type of quotation mark.\n",
        "\n",
        "So, in the case of **\"Howl's Moving Castle\"**, the single quote within the word **\"Howl's\"** does not need to be escaped because the entire string is enclosed in double quotation marks. The string is considered correct and will be interpreted as **\"Howl's Moving Castle\"** without any issues."
      ],
      "metadata": {
        "id": "AiepN22955ed"
      }
    },
    {
      "cell_type": "markdown",
      "source": [
        "#Question 5 \n",
        "\n",
        "How do you write a string of newlines if you don&#39;t want to use the n character?\n",
        "\n",
        "..............\n",
        "\n",
        "\n",
        "Answer 5 - \n",
        "\n",
        "If you don't want to use the newline escape character \\n, there are alternative ways to write a string with newlines. Here are a few options:\n",
        "\n",
        "1) Using triple quotes (multi-line string):\n",
        "You can create a multi-line string using triple quotes (***'''*** or ***\"\"\"***). Within the triple quotes, you can freely include line breaks without using any escape characters. \n",
        "\n",
        "Here's an example:"
      ],
      "metadata": {
        "id": "pywop-Pr9dM4"
      }
    },
    {
      "cell_type": "code",
      "source": [
        "my_string = '''Hello\n",
        "World'''\n",
        "print(my_string)"
      ],
      "metadata": {
        "colab": {
          "base_uri": "https://localhost:8080/"
        },
        "id": "G6qrtdVG5tyK",
        "outputId": "9ea1255d-4676-4743-ae67-15449e95356f"
      },
      "execution_count": null,
      "outputs": [
        {
          "output_type": "stream",
          "name": "stdout",
          "text": [
            "Hello\n",
            "World\n"
          ]
        }
      ]
    },
    {
      "cell_type": "markdown",
      "source": [
        "2) Using concatenation:\n",
        "You can concatenate multiple string literals, each representing a line, to achieve the desired newline effect. \n",
        "\n",
        "Here's an example:"
      ],
      "metadata": {
        "id": "Kim3wLks-Hpj"
      }
    },
    {
      "cell_type": "code",
      "source": [
        "my_string = \"Hello\" + \"\\n\" + \"World\"\n",
        "print(my_string)"
      ],
      "metadata": {
        "colab": {
          "base_uri": "https://localhost:8080/"
        },
        "id": "RBZNEHti-ECj",
        "outputId": "1d17d85c-03ad-4efb-cb8e-27032ed41c62"
      },
      "execution_count": null,
      "outputs": [
        {
          "output_type": "stream",
          "name": "stdout",
          "text": [
            "Hello\n",
            "World\n"
          ]
        }
      ]
    },
    {
      "cell_type": "markdown",
      "source": [
        "3) Using the ASCII newline character:\n",
        "In some programming languages, you can use the ASCII code for the newline character, which is represented as **\\x0A**. \n",
        "\n",
        "Here's an example:"
      ],
      "metadata": {
        "id": "hlWPCS7r-SFn"
      }
    },
    {
      "cell_type": "code",
      "source": [
        "my_string = \"Hello\\x0AWorld\"\n",
        "print(my_string)"
      ],
      "metadata": {
        "colab": {
          "base_uri": "https://localhost:8080/"
        },
        "id": "mqWT3txL-REJ",
        "outputId": "48a380a6-4e10-40fb-f778-5537dbad5906"
      },
      "execution_count": null,
      "outputs": [
        {
          "output_type": "stream",
          "name": "stdout",
          "text": [
            "Hello\n",
            "World\n"
          ]
        }
      ]
    },
    {
      "cell_type": "markdown",
      "source": [
        "These methods allow you to create strings with newlines without explicitly using the `\\n` escape character. \n",
        "\n",
        "However, it's worth noting that the `\\n` escape character is the most common and widely understood way to represent a newline in strings across different programming languages and platforms."
      ],
      "metadata": {
        "id": "vKKVo26k-kP4"
      }
    },
    {
      "cell_type": "markdown",
      "source": [
        "#Question 6\n",
        "\n",
        "What are the values of the given expressions?\n",
        "\n",
        "'Hello, world'[1]\n",
        "\n",
        "'Hello, world'[0:5]\n",
        "\n",
        "'Hello, world!'[:5]\n",
        "\n",
        "'Hello, world!'[3:]\n",
        "\n",
        "\n",
        "..............\n",
        "\n",
        "\n",
        "Answer 6 - \n",
        "\n",
        "\n",
        "Let's evaluate the given expressions on the string **'Hello, world!'**:\n",
        "\n",
        "1) `'Hello, world!'`[1]:\n",
        "\n",
        "This expression accesses the character at index 1 in the string. In Python, string indexing starts from 0. \n",
        "\n",
        "Therefore, the `value` of this expression is `'e'`.\n",
        "\n",
        "2) `'Hello, world!'`[0:5]:\n",
        "\n",
        "This expression performs slicing and retrieves a substring from index 0 up to index 5 (exclusive). The substring includes characters at indices 0, 1, 2, 3, and 4. \n",
        "\n",
        "The `value` of this expression is `'Hello'` .\n",
        "\n",
        "3) `'Hello, world!'`[:5]:\n",
        "\n",
        "This expression is also a slicing operation, but the absence of a starting index implies that it starts from the beginning of the string. It retrieves a substring from index 0 up to index 5 (exclusive), similar to the previous expression. \n",
        "\n",
        "The value of this expression is `**'Hello'**`.\n",
        "\n",
        "4) `'Hello, world!'`[3:]:\n",
        "\n",
        "This expression performs slicing and retrieves a substring starting from index 3 until the end of the string. It includes characters at indices 3, 4, 5, ..., n. \n",
        "\n",
        "The `value` of this expression is `'lo, world!'`.\n"
      ],
      "metadata": {
        "id": "KcTj8G15-v5M"
      }
    },
    {
      "cell_type": "markdown",
      "source": [
        "#Question 7\n",
        "\n",
        "What are the values of the following expressions?\n",
        "\n",
        "'Hello'.upper()\n",
        "\n",
        "'Hello'.upper().isupper()\n",
        "\n",
        "'Hello'.upper().lower()\n",
        "\n",
        "\n",
        "................\n",
        "\n",
        "\n",
        "Answer 7 - \n",
        "\n",
        "\n",
        "1) `'Hello'.upper():-`\n",
        "This expression converts the string **'Hello'** to uppercase using the `upper()` method. The result is the string `'HELLO'`.\n",
        "\n",
        "\n",
        "2) `'Hello'.upper().isupper():-`\n",
        "This expression performs two operations in sequence. First, it converts the string **'Hello'** to uppercase using the `upper()` method, resulting in **'HELLO'**. Then, it calls the `isupper()` method to check if all characters in the string are uppercase. Since all characters in **'HELLO'** are indeed uppercase, the `isupper()` method returns True. Therefore, the value of this expression is True.\n",
        "\n",
        "\n",
        "3) `'Hello'.upper().lower():-` \n",
        "This expression performs two operations in sequence. First, it converts the string **'Hello'** to uppercase using the ``upper()`` method, resulting in **'HELLO'**. Then, it converts the string **'HELLO'** to lowercase using the `lower()` method. The result is the string **'hello'**."
      ],
      "metadata": {
        "id": "x_zFJIY5fl3i"
      }
    },
    {
      "cell_type": "markdown",
      "source": [
        "#Question 8 - \n",
        "\n",
        "What are the values of the following expressions?\n",
        "\n",
        "'Remember, remember, the fifth of July'.split()\n",
        "\n",
        "'-'.join('There can only one.'.split())\n",
        "\n",
        "\n",
        "..............\n",
        "\n",
        "\n",
        "Answer 8 - \n",
        "\n",
        "\n",
        "1) `'Remember, remember, the fifth of July.'.split()` :-\n",
        "\n",
        "This expression `splits` the given string into a list of substrings based on whitespace characters. Since no specific separator is provided, the `split()` method uses whitespace as the default separator. Therefore, the resulting list will contain individual words from the string. \n",
        "\n",
        "The `value` of this expression is `**['Remember,', 'remember,', 'the', 'fifth', 'of', 'July.']**` .\n",
        "\n",
        "2) `'-'.join('There can only one.'.split())` :-\n",
        "\n",
        "This expression `splits` the string 'There can only one.' into a list of `substrings` based on whitespace characters using the `split() method`. The resulting list will contain individual words: **['There', 'can', 'only', 'one.']**. Then, the `join()` method is used to `concatenate` the elements of the list, inserting the '-' character between each element. \n",
        "\n",
        "The `value` of this expression is `'There-can-only-one.'`."
      ],
      "metadata": {
        "id": "Sak7t2mXg-ZH"
      }
    },
    {
      "cell_type": "markdown",
      "source": [
        "#Question 9\n",
        "\n",
        "What are the methods for right-justifying, left-justifying, and centering a string?\n",
        "\n",
        "\n",
        "..............\n",
        "\n",
        "\n",
        "Answer 9 - \n",
        "\n",
        "\n",
        "To manipulate the alignment of a string, such as right-justifying, left-justifying, or centering it, we can use the method given below :-\n",
        "\n",
        "1) **Right-justifying a string :-**\n",
        "\n",
        "Use the `str.rjust()` method or the `format()` function with a specified width and alignment character.\n",
        "\n",
        "2) **Left-justifying a string :-**\n",
        "\n",
        "Use the `str.ljust()` method or the `format()` function with a specified width and alignment character.\n",
        "\n",
        "3) **Centering a string :-**\n",
        "\n",
        "Use the `str.center()` method or the `format()` function with a specified width and alignment character."
      ],
      "metadata": {
        "id": "FOXK1lylsX1A"
      }
    },
    {
      "cell_type": "markdown",
      "source": [
        "#Question 10\n",
        "\n",
        "\n",
        "What is the best way to remove whitespace characters from the start or end?\n",
        "\n",
        "..............\n",
        "\n",
        "\n",
        "Answer 10 - \n",
        "\n",
        "In Python, the most common and straightforward way to remove whitespace characters from the start or end of a string is by using the `strip()` method. This method removes leading and trailing whitespace characters, including spaces, tabs, and newlines. \n",
        "\n",
        "Here's an example:"
      ],
      "metadata": {
        "id": "aKIyQEvetg47"
      }
    },
    {
      "cell_type": "code",
      "source": [
        "example = \"   Hello, World!   \"\n",
        "trimmed_string = example.strip()\n",
        "print(trimmed_string)"
      ],
      "metadata": {
        "id": "cJCMg8Uc-cX_",
        "colab": {
          "base_uri": "https://localhost:8080/"
        },
        "outputId": "888e2e19-415e-45bd-8540-bc6bafbb8351"
      },
      "execution_count": 1,
      "outputs": [
        {
          "output_type": "stream",
          "name": "stdout",
          "text": [
            "Hello, World!\n"
          ]
        }
      ]
    },
    {
      "cell_type": "markdown",
      "source": [
        "If you only want to remove leading whitespace characters or trailing whitespace characters, you can use the `lstrip()` method or the `rstrip()` method, respectively.\n",
        "\n"
      ],
      "metadata": {
        "id": "492m49rcuOhJ"
      }
    },
    {
      "cell_type": "markdown",
      "source": [
        "To remove whitespaces from left."
      ],
      "metadata": {
        "id": "msuN_n1bwRFj"
      }
    },
    {
      "cell_type": "code",
      "source": [
        "example = \"   Hello, World!   \"\n",
        "trimmed_left = example.lstrip()\n",
        "\n",
        "print(trimmed_left)"
      ],
      "metadata": {
        "colab": {
          "base_uri": "https://localhost:8080/"
        },
        "id": "haVKceBUvBSR",
        "outputId": "1caf4ecd-1afc-4929-acd1-391243580406"
      },
      "execution_count": 9,
      "outputs": [
        {
          "output_type": "stream",
          "name": "stdout",
          "text": [
            "Hello, World!   \n"
          ]
        }
      ]
    },
    {
      "cell_type": "markdown",
      "source": [
        "To remove whitespaces from right."
      ],
      "metadata": {
        "id": "BJ3PRCdOwXyX"
      }
    },
    {
      "cell_type": "code",
      "source": [
        "example = \"   Hello, World!   \"\n",
        "trimmed_right = example.rstrip()\n",
        "\n",
        "print(trimmed_right)"
      ],
      "metadata": {
        "colab": {
          "base_uri": "https://localhost:8080/"
        },
        "id": "VffxzbRyvZCX",
        "outputId": "d83dc9cf-b17a-42a0-eca5-32166cf5b26a"
      },
      "execution_count": 10,
      "outputs": [
        {
          "output_type": "stream",
          "name": "stdout",
          "text": [
            "   Hello, World!\n"
          ]
        }
      ]
    },
    {
      "cell_type": "code",
      "source": [],
      "metadata": {
        "id": "04UHVWVvwebF"
      },
      "execution_count": null,
      "outputs": []
    }
  ]
}