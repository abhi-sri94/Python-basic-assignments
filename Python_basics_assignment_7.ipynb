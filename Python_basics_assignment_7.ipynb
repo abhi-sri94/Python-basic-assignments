{
  "nbformat": 4,
  "nbformat_minor": 0,
  "metadata": {
    "colab": {
      "provenance": [],
      "toc_visible": true
    },
    "kernelspec": {
      "name": "python3",
      "display_name": "Python 3"
    },
    "language_info": {
      "name": "python"
    }
  },
  "cells": [
    {
      "cell_type": "markdown",
      "source": [
        "#Question 1\n",
        "\n",
        "\n",
        "What is the name of the feature responsible for generating Regex objects?\n",
        "\n",
        "\n",
        "...............\n",
        "\n",
        "\n",
        "Answer 1 - \n",
        "\n",
        "\n",
        "In Python, the feature responsible for generating Regex objects is called the **`\"re\"`** module. The **`\"re\"`** module provides functions and methods for working with regular expressions. To create a Regex object, you typically use the `re.compile()` function, which `compiles` a `regular` expression pattern into a `Regex` object that can be used for matching and manipulating strings."
      ],
      "metadata": {
        "id": "QcwD5zDT0BM5"
      }
    },
    {
      "cell_type": "markdown",
      "source": [
        "#Question 2 \n",
        "\n",
        "Why do raw strings often appear in Regex objects?\n",
        "\n",
        "\n",
        "...............\n",
        "\n",
        "\n",
        "Answer 2 - \n",
        "\n",
        "\n",
        "Raw strings, denoted by prefixing a string with the letter **'r'** (e.g., r\"pattern\"), are commonly used in Python regular expressions (regex) to avoid unwanted character escapes.\n",
        "\n",
        "Regular expressions contain special characters with specific meanings, such as backslashes `(\\)` or certain combinations of characters. These special characters are used to define patterns and match specific sequences of characters. However, in Python strings, backslashes have their own meaning as escape characters, allowing you to include special characters like newline `(\\n)` or tab `(\\t)`.\n",
        "\n",
        "When constructing regular expressions, it is often necessary to use backslashes for special characters, such as matching a literal backslash or specifying word boundaries. However, using regular Python strings would require escaping backslashes with additional backslashes, resulting in more complex and harder-to-read patterns.\n",
        "\n",
        "By using raw strings, you can treat backslashes as literal characters, without the need for escaping. This is particularly useful when working with regular expressions because they often contain a significant number of backslashes.\n",
        "\n",
        "For example, consider the regex pattern `\"\\d+\"` , which matches one or more digits. To use this pattern as a regular Python string, you would need to escape the backslash: `\"\\\\d+\"` . However, by using a raw string, you can write it as `r\"\\d+\"` , simplifying the pattern and making it more readable."
      ],
      "metadata": {
        "id": "454ofKcP0_XI"
      }
    },
    {
      "cell_type": "markdown",
      "source": [
        "#Question 3\n",
        "\n",
        "What is the return value of the search() method?\n",
        "\n",
        "..............\n",
        "\n",
        "\n",
        "Answer 3 - \n",
        "\n",
        "The search() method in Python's regular expression module (re) returns a match object if it finds a match anywhere in the string being searched. If no match is found, it returns None.\n",
        "\n",
        "The match object contains information about the match and provides various methods to access and manipulate the matched data. Some of the commonly used methods and attributes of the match object include:\n",
        "\n",
        "- `group()` : Returns the string matched by the regular expression.\n",
        "\n",
        "- `start()` : Returns the starting index of the match.\n",
        "\n",
        "- `end()` : Returns the ending index of the match.\n",
        "\n",
        "- `span()`: Returns a tuple containing the starting and ending indices of the match.\n",
        "\n",
        "Here's an example that demonstrates the usage of the *`search()`* method and accessing the match object:"
      ],
      "metadata": {
        "id": "2lC-4dfTJygu"
      }
    },
    {
      "cell_type": "code",
      "execution_count": 1,
      "metadata": {
        "colab": {
          "base_uri": "https://localhost:8080/"
        },
        "id": "mcLp_wunzsLo",
        "outputId": "1e05a14c-ff07-4895-d276-851d3bae2b6c"
      },
      "outputs": [
        {
          "output_type": "stream",
          "name": "stdout",
          "text": [
            "Match found!\n",
            "Matched string: apple\n",
            "Starting index: 10\n",
            "Ending index: 15\n",
            "Starting and ending indices: (10, 15)\n"
          ]
        }
      ],
      "source": [
        "import re\n",
        "\n",
        "pattern = r\"apple\"\n",
        "text = \"I have an apple and a banana.\"\n",
        "\n",
        "match = re.search(pattern, text)\n",
        "\n",
        "if match:\n",
        "    print(\"Match found!\")\n",
        "    print(\"Matched string:\", match.group())\n",
        "    print(\"Starting index:\", match.start())\n",
        "    print(\"Ending index:\", match.end())\n",
        "    print(\"Starting and ending indices:\", match.span())\n",
        "else:\n",
        "    print(\"No match found.\")\n"
      ]
    },
    {
      "cell_type": "markdown",
      "source": [
        "In the example above, the `search()` method is used to find the first occurrence of the pattern \"apple\" in the given text. Since there is a match, it returns a match object. The match object is then used to retrieve information about the match, such as the matched string, starting and ending indices, and the span of the match."
      ],
      "metadata": {
        "id": "Qr6BboPLM_yG"
      }
    },
    {
      "cell_type": "markdown",
      "source": [
        "#Question 4\n",
        "\n",
        "From a Match item, how do you get the actual strings that match the pattern?\n",
        "\n",
        "...............\n",
        "\n",
        "\n",
        "Answer 4 - \n",
        "\n",
        "To retrieve the actual strings that match the pattern from a match object in Python, you can use the `group()` method. The `group()` method without any arguments returns the entire string that matches the pattern. If you have used capturing groups in your regular expression, you can pass an argument to `group()` to retrieve specific matched groups.\n",
        "\n",
        "Here's an example that demonstrates how to use the `group()` method to retrieve the matched strings:"
      ],
      "metadata": {
        "id": "l9eEpBu4NHL5"
      }
    },
    {
      "cell_type": "code",
      "source": [
        "import re\n",
        "\n",
        "pattern = r\"(\\d{2})-(\\d{2})-(\\d{4})\"\n",
        "text = \"Date: 12-31-2022\"\n",
        "\n",
        "match = re.search(pattern, text)\n",
        "\n",
        "if match:\n",
        "    print(\"Match found!\")\n",
        "    print(\"Entire match:\", match.group())\n",
        "    print(\"Day:\", match.group(1))\n",
        "    print(\"Month:\", match.group(2))\n",
        "    print(\"Year:\", match.group(3))\n",
        "else:\n",
        "    print(\"No match found.\")"
      ],
      "metadata": {
        "colab": {
          "base_uri": "https://localhost:8080/"
        },
        "id": "xNtsEPyEKeBR",
        "outputId": "b44df5b7-6751-4cae-cea9-1a92f0628faa"
      },
      "execution_count": 2,
      "outputs": [
        {
          "output_type": "stream",
          "name": "stdout",
          "text": [
            "Match found!\n",
            "Entire match: 12-31-2022\n",
            "Day: 12\n",
            "Month: 31\n",
            "Year: 2022\n"
          ]
        }
      ]
    },
    {
      "cell_type": "markdown",
      "source": [
        "In the example above, the regular expression pattern `(\\d{2})-(\\d{2})-(\\d{4})` matches a date pattern in the format **\"dd-mm-yyyy\"** . The `search()` method is used to find the first occurrence of the pattern in the given text. The `group()` method is then used to retrieve the entire matched string `(match.group())` , as well as specific matched groups based on the capturing parentheses in the pattern `(match.group(1), match.group(2), match.group(3))` .\n",
        "\n",
        "Note that `group(0)` is equivalent to `group()` and returns the entire match. The subsequent groups, starting from `group(1)` , correspond to the captured groups in the regular expression pattern."
      ],
      "metadata": {
        "id": "F6Ph0pdjNmxJ"
      }
    },
    {
      "cell_type": "markdown",
      "source": [
        "#Question 5\n",
        "\n",
        "In the regex which created from the r'(\\d\\d\\d)-(\\d\\d\\d-\\d\\d\\d\\d)', what does group zero cover?\n",
        "Group 2? Group 1?\n",
        "\n",
        "..............\n",
        "\n",
        "Answer 5 - \n",
        "\n",
        "In the regular expression `r'(\\d\\d\\d)-(\\d\\d\\d-\\d\\d\\d\\d)'` , the group zero `(group(0))` covers the entire match of the regular expression pattern. It represents the entire string that matches the pattern.\n",
        "\n",
        "In this specific pattern, `group(2)` refers to the second capturing group, which is `(\\d\\d\\d-\\d\\d\\d\\d)` . It captures a sequence of three digits followed by a hyphen, and then four more digits.\n",
        "\n",
        "Similarly, `group(1)` refers to the first capturing group, which is `(\\d\\d\\d)` . It captures a sequence of three digits.\n",
        "\n",
        "Here's an example to illustrate the usage of these groups:"
      ],
      "metadata": {
        "id": "Hh--F-ZHN7WG"
      }
    },
    {
      "cell_type": "code",
      "source": [
        "import re\n",
        "\n",
        "pattern = r'(\\d\\d\\d)-(\\d\\d\\d-\\d\\d\\d\\d)'\n",
        "text = 'Phone number: 123-456-7890'\n",
        "\n",
        "match = re.search(pattern, text)\n",
        "\n",
        "if match:\n",
        "    print('Match found!')\n",
        "    print('Group 0 (Entire match):', match.group(0))\n",
        "    print('Group 1:', match.group(1))\n",
        "    print('Group 2:', match.group(2))\n",
        "else:\n",
        "    print('No match found.')"
      ],
      "metadata": {
        "colab": {
          "base_uri": "https://localhost:8080/"
        },
        "id": "VAu5Fo9aNiGb",
        "outputId": "6e417cb4-4832-4702-92c9-7104fd506947"
      },
      "execution_count": 4,
      "outputs": [
        {
          "output_type": "stream",
          "name": "stdout",
          "text": [
            "Match found!\n",
            "Group 0 (Entire match): 123-456-7890\n",
            "Group 1: 123\n",
            "Group 2: 456-7890\n"
          ]
        }
      ]
    },
    {
      "cell_type": "markdown",
      "source": [
        "In the example above, the regular expression pattern `(\\d\\d\\d)-(\\d\\d\\d-\\d\\d\\d\\d)` matches a phone number pattern in the format `\"ddd-ddd-dddd\"` . The search() method is used to find the first occurrence of the pattern in the given text. The `group(0)` represents the entire match `(123-456-7890)` , `group(1)` represents the first three-digit sequence `(123)`, and  `group(2)` represents the remaining part of the phone number after the hyphen `(456-7890)` ."
      ],
      "metadata": {
        "id": "p5fBpCspRWKk"
      }
    },
    {
      "cell_type": "markdown",
      "source": [
        "#Question 6\n",
        "\n",
        "In standard expression syntax, parentheses and intervals have distinct meanings. How can you tell\n",
        "a regex that you want it to fit real parentheses and periods?\n",
        "\n",
        ".................\n",
        "\n",
        "\n",
        "Answer 6 - \n",
        "\n"
      ],
      "metadata": {
        "id": "lYvwa35XRwUk"
      }
    },
    {
      "cell_type": "markdown",
      "source": [
        "In regular expression syntax, parentheses and periods have special meanings, but if you want to match literal parentheses and periods, you can use the backslash `(\\)`to escape them. By preceding a special character with a backslash, you can indicate to the regular expression engine that you want to match the literal character.\n",
        "\n",
        "To match a literal parentheses or period, you would use `\\` (`,`  `\\)`, and `'\\` . respectively.\n",
        "\n",
        "Here's an example that demonstrates how to match literal parentheses and periods using regular expressions:"
      ],
      "metadata": {
        "id": "aw1zMZ9xSKAd"
      }
    },
    {
      "cell_type": "code",
      "source": [
        "import re\n",
        "\n",
        "text = \"The value is (123.45).\"\n",
        "\n",
        "# Match literal parentheses and period\n",
        "pattern = r\"\\(\\d+\\.\\d+\\)\"\n",
        "\n",
        "match = re.search(pattern, text)\n",
        "\n",
        "if match:\n",
        "    print(\"Match found!\")\n",
        "    print(\"Matched string:\", match.group())\n",
        "else:\n",
        "    print(\"No match found.\")"
      ],
      "metadata": {
        "colab": {
          "base_uri": "https://localhost:8080/"
        },
        "id": "brSuX4AOSF6S",
        "outputId": "00d4f383-4c9a-4f91-f5f3-ea9e45f36d55"
      },
      "execution_count": 6,
      "outputs": [
        {
          "output_type": "stream",
          "name": "stdout",
          "text": [
            "Match found!\n",
            "Matched string: (123.45)\n"
          ]
        }
      ]
    },
    {
      "cell_type": "markdown",
      "source": [
        "In the example above, the regular expression pattern `r\"\\(\\d+\\.\\d+\\)\"` is used to match a literal opening parenthesis followed by one or more digits, a period, one or more digits, and a closing parenthesis. The backslashes `\\( and \\)` are used to match the literal parentheses, and \\. is used to match the literal period.\n",
        "\n",
        "By escaping the parentheses and period with backslashes, you can ensure that the regular expression matches the literal characters rather than interpreting them with their special meanings."
      ],
      "metadata": {
        "id": "0D18vfKAThqR"
      }
    },
    {
      "cell_type": "markdown",
      "source": [
        "#Question 7\n",
        "\n",
        "The **findall()** method returns a string list or a list of string tuples. What causes it to return one of\n",
        "the two options?\n",
        "\n",
        "...............\n",
        "\n",
        "\n",
        "Answer 7 - \n",
        "\n",
        "The `findall()` method in Python's regular expression module `(re)` returns a list of strings or a list of string tuples based on the presence of capturing groups in the regular expression pattern.\n",
        "\n",
        "If the regular expression pattern contains capturing groups (expressions enclosed in parentheses), **findall()** will return a list of string tuples. Each tuple represents a match, and each element in the tuple corresponds to the captured groups in the pattern.\n",
        "\n",
        "If the regular expression pattern does not contain any capturing groups, `findall()` will return a list of strings. Each string represents a match of the entire pattern.\n",
        "\n",
        "Here's an example to illustrate the behavior of `findall()` :"
      ],
      "metadata": {
        "id": "rqhfDf2MUI_K"
      }
    },
    {
      "cell_type": "code",
      "source": [
        "import re\n",
        "\n",
        "text = \"The prices are Rs. 100, Rs. 200, Rs. and Rs. 300.\"\n",
        "\n",
        "# Corrected pattern with capturing group\n",
        "pattern_with_group = r\"Rs\\.\\s*(\\d+)\"\n",
        "\n",
        "matches_with_group = re.findall(pattern_with_group, text)\n",
        "print(\"Matches with group (list of tuples):\", matches_with_group)\n",
        "\n",
        "# Corrected pattern without capturing group\n",
        "pattern_without_group = r\"Rs\\.\\s*\\d+\"\n",
        "\n",
        "matches_without_group = re.findall(pattern_without_group, text)\n",
        "print(\"Matches without group (list of strings):\", matches_without_group)"
      ],
      "metadata": {
        "colab": {
          "base_uri": "https://localhost:8080/"
        },
        "id": "cMG2IYngVIkP",
        "outputId": "39782915-027a-440e-d024-de0543111199"
      },
      "execution_count": 12,
      "outputs": [
        {
          "output_type": "stream",
          "name": "stdout",
          "text": [
            "Matches with group (list of tuples): ['100', '200', '300']\n",
            "Matches without group (list of strings): ['Rs. 100', 'Rs. 200', 'Rs. 300']\n"
          ]
        }
      ]
    },
    {
      "cell_type": "markdown",
      "source": [
        "In the above code, the pattern `r\"Rs\\.\\s*(\\d+)\"` is used to match prices in the format `\"Rs. xxx\"` in the given text. The `\\s*` matches zero or more whitespace characters after `\"Rs.\"` , and `(\\d+)` captures one or more digits.\n",
        "\n",
        "As a result, `findall()` returns a list of strings \n",
        " `['100', '200', '300']` for **matches_with_group** , where each string represents the captured digits.\n",
        "\n",
        "The pattern `r\"Rs\\.\\s*\\d+\"` is used to match prices without capturing groups. It returns a list of strings \n",
        " `['Rs. 100', 'Rs. 200', 'Rs. 300']` for **matches_without_group** , where each string represents a match of the entire pattern."
      ],
      "metadata": {
        "id": "QyTGt4K0Vzjb"
      }
    },
    {
      "cell_type": "markdown",
      "source": [
        "#Question 8\n",
        "\n",
        "In standard expressions, what does the | character mean?\n",
        "\n",
        ".................\n",
        "\n",
        "\n",
        "Answer 8 - \n",
        "\n",
        "\n",
        "In regular expressions, the `|` character is known as the `pipe` or `alternation operator` . It is used to specify alternatives or choices within the pattern. It allows you to match one pattern or another.\n",
        "\n",
        "The `|` operator **acts** like a logical `OR` operation, where it matches either the pattern on the left side of the `|` or the pattern on the right side of the `|` . It allows you to create a pattern that matches multiple possibilities.\n",
        "\n",
        "Here's an example to illustrate the usage of the | operator in regular expressions:"
      ],
      "metadata": {
        "id": "6XQnOT_LX1dO"
      }
    },
    {
      "cell_type": "code",
      "source": [
        "text = \"I love cats and dogs.\"\n",
        "\n",
        "# Pattern with alternation\n",
        "pattern = r\"cats|dogs\"\n",
        "\n",
        "matches = re.findall(pattern, text)\n",
        "print(\"Matches:\", matches)"
      ],
      "metadata": {
        "colab": {
          "base_uri": "https://localhost:8080/"
        },
        "id": "D3iH7fJ9VjT7",
        "outputId": "ee042967-82d4-4901-ae28-92c8ed201628"
      },
      "execution_count": 13,
      "outputs": [
        {
          "output_type": "stream",
          "name": "stdout",
          "text": [
            "Matches: ['cats', 'dogs']\n"
          ]
        }
      ]
    },
    {
      "cell_type": "markdown",
      "source": [
        "In the example above, the regular expression pattern `r\"cats|dogs\"` uses the `|` operator to specify two alternatives: **\"cats\"** and **\"dogs\"** . It matches either `\"cats\"` or `\"dogs\"` in the given text.\n",
        "\n",
        "You can use the `|` operator to specify multiple alternatives within a pattern, and it will match any of those alternatives if they occur in the text."
      ],
      "metadata": {
        "id": "PCtUDvXDYn1w"
      }
    },
    {
      "cell_type": "markdown",
      "source": [
        "#Question 9\n",
        "\n",
        "In regular expressions, what does the character stand for?\n",
        "\n",
        "..............\n",
        "\n",
        "\n",
        "Answer 9 - \n",
        "\n",
        "Wrong Question."
      ],
      "metadata": {
        "id": "MrTIbcZcZAwU"
      }
    },
    {
      "cell_type": "markdown",
      "source": [
        "#Question 10\n",
        "\n",
        "In regular expressions, what is the difference between the + and * characters?\n",
        "\n",
        "..............\n",
        "\n",
        "\n",
        "Answer 10 - \n",
        "\n",
        "In regular expressions, the `\"+\"` and `\"*\"` characters are quantifiers that define the number of occurrences of the preceding pattern. The main difference between the two is:\n",
        "\n",
        "1) `\"+\" (Plus)` : The `\"+\"` quantifier matches one or more occurrences of the preceding pattern. It requires at least one occurrence of the pattern for a match.\n",
        "For example:\n",
        "\n",
        "- Pattern: `a+` matches one or more consecutive occurrences of the letter `\"a\"` . It would match \"a\", \"aa\", \"aaa\", and so on, but not an empty string.\n",
        "\n",
        "2) `\"\" (Asterisk):` The `\"\"` quantifier matches zero or more occurrences of the preceding pattern. It allows for the pattern to be repeated zero times or any number of times.\n",
        "\n",
        "For example:\n",
        "\n",
        "- Pattern: `a*` matches zero or more consecutive occurrences of the letter `\"a\"` . It would match an empty string, \"a\", \"aa\", \"aaa\", and so on."
      ],
      "metadata": {
        "id": "gTjjLbvmkUhA"
      }
    },
    {
      "cell_type": "markdown",
      "source": [
        "#Question 11\n",
        "\n",
        "What is the difference between {4} and {4,5} in regular expression?\n",
        "\n",
        "................\n",
        "\n",
        "Answer 11 - \n",
        "\n",
        "\n",
        "In regular expressions, the expressions {4} and {4,5} are both used as quantifiers to specify the number of occurrences of the preceding pattern. However, they have slightly different meanings:\n",
        "\n",
        "1) `{4}`: The `{4}` quantifier matches exactly four occurrences of the preceding pattern.\n",
        "\n",
        "For example:\n",
        "\n",
        "- Pattern: `a{4}` matches exactly four consecutive occurrences of the letter **\"a\"** . It would match **\"aaaa\"** , but not **\"aa\"** or **\"aaaaa\"** .\n",
        "\n",
        "2) `{4,5}`: The `{4,5}` quantifier matches a range of occurrences of the preceding pattern, specifically between four and five occurrences (inclusive).\n",
        "\n",
        "For example:\n",
        "\n",
        "- Pattern: `a{4,5}` matches between four and five consecutive occurrences of the letter **\"a\"** . It would match **\"aaaa\"** and **\"aaaaa\"** , but not **\"aa\"** or **\"aaaaaa\"** ."
      ],
      "metadata": {
        "id": "FXq1HjX3G-xW"
      }
    },
    {
      "cell_type": "markdown",
      "source": [
        "#Question 12\n",
        "\n",
        "What do you mean by the \\d, \\w, and \\s shorthand character classes signify in regular\n",
        "expressions?\n",
        "\n",
        "\n",
        ".............\n",
        "\n",
        "\n",
        "Answer 12 - \n",
        "\n",
        "\n",
        "In regular expressions, the shorthand character classes \\d, \\w, and \\s are used to match specific types of characters. Here's what each of these shorthand character classes signifies:\n",
        "\n",
        "1) `\\d` : The \\d shorthand character class matches any digit character (0-9).\n",
        "\n",
        "- For example: `\\d` matches a single digit character. It would match \"0\", \"5\", \"9\", but not \"A\" or \"$\".\n",
        "\n",
        "2) `\\w` : The \\w shorthand character class matches any alphanumeric character (a-z, A-Z, 0-9) and underscore (_).\n",
        "\n",
        "- For example: `\\w` matches a single alphanumeric character or underscore. It would match \"a\", \"A\", \"0\", \"_\", but not \"#\" or \"@\".\n",
        "\n",
        "3) `\\s` : The \\s shorthand character class matches any whitespace character, including spaces, tabs, and newlines.\n",
        "\n",
        "- For example: `\\s` matches a single whitespace character. It would match a space, a tab, a newline, but not a letter or a digit."
      ],
      "metadata": {
        "id": "DX9Vn5l7JZCF"
      }
    },
    {
      "cell_type": "markdown",
      "source": [
        "#Question 13 \n",
        "\n",
        "What do means by \\D, \\W, and \\S shorthand character classes signify in regular expressions?\n",
        "\n",
        "..............\n",
        "\n",
        "\n",
        "Answer 13 - \n",
        "\n",
        "\n",
        "1) `\\D` : The \\D shorthand character class matches any character that is not a digit (0-9).\n",
        "\n",
        "- For example: `\\D` matches a single character that is not a digit. It would match letters, symbols, spaces, and any character except for 0-9.\n",
        "\n",
        "2) `\\W` : The \\W shorthand character class matches any character that is not an alphanumeric character (a-z, A-Z, 0-9) or underscore (_).\n",
        "\n",
        "- For example: `\\W` matches a single character that is not an alphanumeric character or underscore. It would match symbols, spaces, punctuation marks, and any character except for letters, digits, and underscores.\n",
        "\n",
        "3) `\\S` : The \\S shorthand character class matches any character that is not a whitespace character, including spaces, tabs, and newlines.\n",
        "\n",
        "- For example: `\\S` matches a single character that is not a whitespace character. It would match letters, digits, symbols, and any character except for spaces, tabs, and newlines.\n"
      ],
      "metadata": {
        "id": "mJkouTVQKopX"
      }
    },
    {
      "cell_type": "markdown",
      "source": [
        "#Question 14\n",
        "\n",
        "What is the difference between .*? and .*?\n",
        "\n",
        ".............\n",
        "\n",
        "Answer 14 - \n",
        "\n",
        "1) `.*?` - `Lazy or Non-Greedy Matching` :\n",
        "\n",
        "The .*? pattern matches any character (except for a newline) zero or more times, but it does so lazily or non-greedily. It means that it matches as few characters as possible to satisfy the overall pattern.\n",
        "\n",
        "- For example: `a.*?b` matches the shortest substring that starts with \"a\" and ends with \"b\". In the string \"ababab\", it would match \"ab\" three times separately, instead of matching the entire string.\n",
        "\n",
        "2) `.*` - `Greedy Matching` :\n",
        "\n",
        "The .* pattern matches any character (except for a newline) zero or more times, but it does so greedily. It means that it matches as many characters as possible to satisfy the overall pattern.\n",
        "\n",
        "- For example: `a.*b` matches the longest substring that starts with \"a\" and ends with \"b\". In the string \"ababab\", it would match the entire string \"ababab\" in one match.\n"
      ],
      "metadata": {
        "id": "51KT7vjjLkb6"
      }
    },
    {
      "cell_type": "markdown",
      "source": [
        "#Question 15\n",
        "\n",
        "What is the syntax for matching both numbers and lowercase letters with a character class?\n",
        "\n",
        ".............\n",
        "\n",
        "\n",
        "Answer 15 - \n",
        "\n",
        "To match both numbers and lowercase letters using a character class in regular expressions, you can use the range notation within the character class. The syntax for matching both numbers `(0-9)` and lowercase letters `(a-z)` is `[0-9a-z]` .\n",
        "\n",
        "Here's a breakdown of the syntax:\n",
        "\n",
        "- **[ ]** : Denotes a character class.\n",
        "\n",
        "- **0-9** : Matches any digit from 0 to 9.\n",
        "\n",
        "- **a-z** : Matches any lowercase letter from a to z.\n",
        "\n",
        "Combining them within the character class, `[0-9a-z]` will match any character that is either a digit or a lowercase letter.\n",
        "\n",
        "Example:"
      ],
      "metadata": {
        "id": "k0veNfydF0o7"
      }
    },
    {
      "cell_type": "code",
      "source": [
        "import re\n",
        "\n",
        "pattern = r'[0-9a-z]'\n",
        "text = 'Aa1Bb2Cc3'\n",
        "\n",
        "matches = re.findall(pattern, text)\n",
        "print(matches)"
      ],
      "metadata": {
        "colab": {
          "base_uri": "https://localhost:8080/"
        },
        "id": "nl7nTNd9Yc6o",
        "outputId": "1cce9d80-6212-4efd-bdc9-e8c0966247f8"
      },
      "execution_count": 2,
      "outputs": [
        {
          "output_type": "stream",
          "name": "stdout",
          "text": [
            "['a', '1', 'b', '2', 'c', '3']\n"
          ]
        }
      ]
    },
    {
      "cell_type": "markdown",
      "source": [
        "You can modify the character class `[0-9a-z]` to suit your specific needs.\n",
        "\n",
        "For example, if you want to match uppercase letters as well, you can include A-Z within the character class like `[0-9a-zA-Z]`"
      ],
      "metadata": {
        "id": "JRBVA5C3GvXL"
      }
    },
    {
      "cell_type": "markdown",
      "source": [
        "#question 16\n",
        "\n",
        "What is the procedure for making a normal expression in regax case insensitive?\n",
        "\n",
        "..............\n",
        "\n",
        "\n",
        "Answer 16 - \n",
        "\n",
        "To make a regular expression case-insensitive in Python, you can use the re.IGNORECASE flag or the re.I shorthand. This flag allows the regular expression to match both uppercase and lowercase characters regardless of the case.\n",
        "\n",
        "Here's the procedure for making a regular expression case-insensitive:\n",
        "\n",
        "1) Import the re module:\n",
        "\n",
        "2) Define your regular expression pattern:\n",
        "\n",
        "3) Compile the regular expression pattern using the re.compile() function and specify the re.IGNORECASE flag or re.I shorthand:\n",
        "\n",
        "4) Use the compiled regular expression object (regex) to match, search, or perform other operations on your input string.\n",
        "\n"
      ],
      "metadata": {
        "id": "RFVcTcUmG39c"
      }
    },
    {
      "cell_type": "code",
      "source": [
        "pattern = r'apple'\n",
        "text = 'I have an Apple and an orange.'\n",
        "\n",
        "regex = re.compile(pattern, re.IGNORECASE)\n",
        "match = regex.search(text)\n",
        "\n",
        "if match:\n",
        "    print('Match found:', match.group())\n",
        "else:\n",
        "    print('No match found.')"
      ],
      "metadata": {
        "colab": {
          "base_uri": "https://localhost:8080/"
        },
        "id": "pGB8QE5RGfom",
        "outputId": "ab245b09-24c5-438d-fca3-68209cf52676"
      },
      "execution_count": 3,
      "outputs": [
        {
          "output_type": "stream",
          "name": "stdout",
          "text": [
            "Match found: Apple\n"
          ]
        }
      ]
    },
    {
      "cell_type": "markdown",
      "source": [
        "#Question 17\n",
        "\n",
        "What does the . character normally match? What does it match if re.DOTALL is passed as 2nd\n",
        "argument in re.compile()?\n",
        "\n",
        "..............\n",
        "\n",
        "Answer 17 - \n",
        "\n",
        "In regular expressions, the `.(dot)` character normally matches any character except a newline character `(\\n)` . It is a wildcard that can represent any single character.\n",
        "\n",
        "For example:"
      ],
      "metadata": {
        "id": "BkvdPyL2H6GH"
      }
    },
    {
      "cell_type": "code",
      "source": [
        "pattern = r'a.b'\n",
        "text = 'axb a\\nb a_b'\n",
        "\n",
        "matches = re.findall(pattern, text)\n",
        "print(matches)"
      ],
      "metadata": {
        "colab": {
          "base_uri": "https://localhost:8080/"
        },
        "id": "3OejxLL-JU3s",
        "outputId": "31333ff6-c836-4bb8-d0ba-f3baa4c8f122"
      },
      "execution_count": 12,
      "outputs": [
        {
          "output_type": "stream",
          "name": "stdout",
          "text": [
            "['axb', 'a_b']\n"
          ]
        }
      ]
    },
    {
      "cell_type": "markdown",
      "source": [
        "In this example, the pattern `a.b` matches strings that have an `'a'` , followed by any character, and then followed by `'b'` . It matches `'axb'` and `'a_b'` in the input text because the dot matches any character between `'a'` and `'b'` , except for a newline character.\n",
        "\n",
        "However, when the re.DOTALL flag is passed as the second argument in `re.compile()` , the behavior of the dot character changes. The re.DOTALL flag (or re.S shorthand) allows the dot to match any character, including newline characters `(\\n)` .\n",
        "\n",
        "For example:"
      ],
      "metadata": {
        "id": "x7Bfm3W0J3EP"
      }
    },
    {
      "cell_type": "code",
      "source": [
        "pattern = r'a.b'\n",
        "text = 'axb a\\nb a_b'\n",
        "\n",
        "regex = re.compile(pattern, re.DOTALL)\n",
        "matches = regex.findall(text)\n",
        "print(matches)"
      ],
      "metadata": {
        "colab": {
          "base_uri": "https://localhost:8080/"
        },
        "id": "ssOPBvTmJyey",
        "outputId": "4367dfbf-96c8-4647-9236-b2a082268c75"
      },
      "execution_count": 11,
      "outputs": [
        {
          "output_type": "stream",
          "name": "stdout",
          "text": [
            "['axb', 'a\\nb', 'a_b']\n"
          ]
        }
      ]
    },
    {
      "cell_type": "markdown",
      "source": [
        "In this case, the `re.DOTALL` flag enables the dot to match any character, including newline characters. As a result, the pattern `a.b` matches `'axb'` , `'a\\nb'` , and `'a_b` ' in the input text, where `'a\\nb'` represents the `'a'` , newline character, and `'b'` sequence.\n",
        "\n",
        "Using the **re.DOTALL** flag can be useful when you want the dot to match any character, including newlines, within your regular expression pattern."
      ],
      "metadata": {
        "id": "MzoxinueKCYy"
      }
    },
    {
      "cell_type": "markdown",
      "source": [
        "#Question 18\n",
        "\n",
        "If numReg = re.compile(r&#39;\\d+&#39;), what will numRegex.sub(&#39;X&#39;, &#39;11 drummers, 10 pipers, five rings, 4\n",
        "hen&#39;) return?\n",
        "\n",
        "..............\n",
        "\n",
        "Answer 18 - \n",
        "\n",
        "If **numReg** = **re.compile(r'\\d+')** and you use **numRegex.sub('X', '11 drummers, 10 pipers, five rings, 4 hen')** , it will return the string with all the numeric digits replaced by 'X'."
      ],
      "metadata": {
        "id": "-W__LNXgLX1i"
      }
    },
    {
      "cell_type": "code",
      "source": [
        "numRegex = re.compile(r'\\d+')\n",
        "result = numRegex.sub('X', '11 drummers, 10 pipers, five rings, 4 hen')\n",
        "print(result)"
      ],
      "metadata": {
        "colab": {
          "base_uri": "https://localhost:8080/"
        },
        "id": "IPkARbIVJ9ao",
        "outputId": "634cb695-7727-4ee6-9ddb-42f64f7ae078"
      },
      "execution_count": 13,
      "outputs": [
        {
          "output_type": "stream",
          "name": "stdout",
          "text": [
            "X drummers, X pipers, five rings, X hen\n"
          ]
        }
      ]
    },
    {
      "cell_type": "markdown",
      "source": [
        "#Question 19\n",
        "\n",
        "What does passing re.VERBOSE as the 2nd argument to re.compile() allow to do?\n",
        "\n",
        "..............\n",
        "\n",
        "Answer 19 - \n",
        "\n",
        "Passing **re.VERBOSE** as the second argument to `re.compile()` in Python allows you to use verbose mode in regular expressions. Verbose mode enables you to write more readable and organized regular expressions by allowing you to add comments and whitespace to the pattern without affecting its functionality.\n",
        "\n",
        "Here's what passing re.VERBOSE as the second argument enables you to do:\n",
        "\n",
        "1) **Add Comments** : You can add comments within the regular expression pattern using the # symbol. These comments are ignored by the regex engine.\n",
        "\n",
        "2) **Add Whitespace** : You can add whitespace `(spaces, tabs, newlines)` within the regular expression pattern. This helps improve readability by allowing you to format the pattern across multiple lines and indent it as needed.\n",
        "\n",
        "3) **Ignore Whitespace** : Whitespace within character classes `([])` and escaped whitespace `(\\)` is not ignored. Only whitespace outside of these constructs is ignored.\n",
        "\n",
        "Here's an example to illustrate the usage of re.VERBOSE:"
      ],
      "metadata": {
        "id": "fxbGwIoLMowb"
      }
    },
    {
      "cell_type": "code",
      "source": [
        "pattern = r'''                   # Start of the pattern\n",
        "    ^                           # Match the start of the string\n",
        "    \\d{3}-\\d{3}-\\d{4}           # Match a phone number in the format xxx-xxx-xxxx\n",
        "    $                           # Match the end of the string\n",
        "'''\n",
        "\n",
        "phone_number = '123-456-7890'\n",
        "\n",
        "regex = re.compile(pattern, re.VERBOSE)\n",
        "match = regex.match(phone_number)\n",
        "\n",
        "if match:\n",
        "    print('Valid phone number.')\n",
        "else:\n",
        "    print('Invalid phone number.')\n"
      ],
      "metadata": {
        "colab": {
          "base_uri": "https://localhost:8080/"
        },
        "id": "HoBOa3UAMiNh",
        "outputId": "95fc10f0-9696-4be4-b25f-3a4afd8f583f"
      },
      "execution_count": 14,
      "outputs": [
        {
          "output_type": "stream",
          "name": "stdout",
          "text": [
            "Valid phone number.\n"
          ]
        }
      ]
    },
    {
      "cell_type": "markdown",
      "source": [
        "#Question 20\n",
        "\n",
        "How would you write a regex that match a number with comma for every three digits? It must\n",
        "match the given following:\n",
        "\n",
        "'42'\n",
        "\n",
        "'1,234'\n",
        "\n",
        "'6,368,745'\n",
        "\n",
        "\n",
        "but not the following:\n",
        "\n",
        "'12,34,567'  (which has only two digits between the commas)\n",
        "\n",
        "'1234' (which lacks commas)\n",
        "\n",
        ".................\n",
        "\n",
        "\n",
        "Answer 20 - \n",
        "\n",
        "To write a regex that matches a number with a comma for every three digits, you can use the following pattern:"
      ],
      "metadata": {
        "id": "j9cA36FYNp1g"
      }
    },
    {
      "cell_type": "code",
      "source": [
        "pattern = r'^\\d{1,3}(,\\d{3})*$'\n",
        "\n",
        "numbers = ['42', '1,234', '6,368,745', '12,34,567', '1234']\n",
        "\n",
        "for number in numbers:\n",
        "    if re.match(pattern, number):\n",
        "        print(f'Match: {number}')\n",
        "    else:\n",
        "        print(f'No match: {number}')\n"
      ],
      "metadata": {
        "colab": {
          "base_uri": "https://localhost:8080/"
        },
        "id": "ew7ID_D8NdEu",
        "outputId": "cb2270a9-f199-49e9-88c6-301655bd6ace"
      },
      "execution_count": 15,
      "outputs": [
        {
          "output_type": "stream",
          "name": "stdout",
          "text": [
            "Match: 42\n",
            "Match: 1,234\n",
            "Match: 6,368,745\n",
            "No match: 12,34,567\n",
            "No match: 1234\n"
          ]
        }
      ]
    },
    {
      "cell_type": "markdown",
      "source": [
        "Explanation of the pattern r'^\\d{1,3}(,\\d{3})*$':\n",
        "\n",
        "- `^` and `$` are anchors that match the start and end of the string, respectively.\n",
        "\n",
        "- `\\d{1,3}` matches one to three digits at the beginning of the string.\n",
        "\n",
        "- `(,\\d{3})*` is a group that matches zero or more occurrences of a comma followed by exactly three digits.\n",
        "\n",
        "- The pattern allows for the first group of one to three digits, followed by zero or more groups of a comma and three digits.\n",
        "\n",
        "This pattern ensures that the number has commas separating every three digits, except for the first group of one to three digits. Numbers like '42', '1,234', and '6,368,745' match the pattern and are considered valid. On the other hand, numbers like '12,34,567' (which has only two digits between the commas) and '1234' (which lacks commas) do not match the pattern and are considered invalid."
      ],
      "metadata": {
        "id": "6Zdfg4f1P3UL"
      }
    },
    {
      "cell_type": "markdown",
      "source": [
        "#Question 21\n",
        "\n",
        "How would you write a regex that matches the full name of someone whose last name is\n",
        "Watanabe? You can assume that the first name that comes before it will always be one word that\n",
        "begins with a capital letter. The regex must match the following:\n",
        "\n",
        "'Haruto Watanabe'\n",
        "\n",
        "'Alice Watanabe'\n",
        "\n",
        "'RoboCop Watanabe'\n",
        "\n",
        "but not the following:\n",
        "\n",
        "haruto Watanabe' (where the first name is not capitalized)\n",
        "\n",
        "'Mr. Watanabe' (where the preceding word has a nonletter character)\n",
        "\n",
        "'Watanabe' (which has no first name)\n",
        "\n",
        "'Haruto watanabe' (where Watanabe is not capitalized)\n",
        "\n",
        "..............\n",
        "\n",
        "Answer 21 - \n",
        "\n"
      ],
      "metadata": {
        "id": "cWxHTANxQe0D"
      }
    },
    {
      "cell_type": "code",
      "source": [
        "pattern = r'^[A-Z]\\w*\\sWatanabe$'\n",
        "\n",
        "names = ['Haruto Watanabe', 'Alice Watanabe', 'RoboCop Watanabe', 'haruto Watanabe', 'Mr. Watanabe', 'Watanabe', 'Haruto watanabe']\n",
        "\n",
        "for name in names:\n",
        "    if re.match(pattern, name):\n",
        "        print(f'Match: {name}')\n",
        "    else:\n",
        "        print(f'No match: {name}')"
      ],
      "metadata": {
        "colab": {
          "base_uri": "https://localhost:8080/"
        },
        "id": "nIvqB9QbORxZ",
        "outputId": "27b675f8-b3f8-4cb9-e5c9-5c486178991a"
      },
      "execution_count": 16,
      "outputs": [
        {
          "output_type": "stream",
          "name": "stdout",
          "text": [
            "Match: Haruto Watanabe\n",
            "Match: Alice Watanabe\n",
            "Match: RoboCop Watanabe\n",
            "No match: haruto Watanabe\n",
            "No match: Mr. Watanabe\n",
            "No match: Watanabe\n",
            "No match: Haruto watanabe\n"
          ]
        }
      ]
    },
    {
      "cell_type": "markdown",
      "source": [
        "Explanation of the pattern `r'^[A-Z][a-zA-Z]*\\sWatanabe$'` :\n",
        "\n",
        "- `^` and `$` are anchors that match the start and end of the string, respectively.\n",
        "\n",
        "- `[A-Z]` matches a capital letter, representing the first letter of the first name.\n",
        "\n",
        "- `[a-zA-Z]*` matches zero or more letters (both lowercase and uppercase) for the remaining part of the first name.\n",
        "\n",
        "- `\\s` matches a whitespace character.\n",
        "\n",
        "- Watanabe matches the last name \"Watanabe\".\n"
      ],
      "metadata": {
        "id": "GuSQilQDR_-x"
      }
    },
    {
      "cell_type": "markdown",
      "source": [
        "#Question 22\n",
        "\n",
        "How would you write a regex that matches a sentence where the first word is either Alice, Bob,\n",
        "or Carol; the second word is either eats, pets, or throws; the third word is apples, cats, or baseballs;\n",
        "and the sentence ends with a period? This regex should be case-insensitive. It must match the\n",
        "following:\n",
        "\n",
        "&#39;Alice eats apples.&#39;\n",
        "\n",
        "&#39;Bob pets cats.&#39;\n",
        "\n",
        "&#39;Carol throws baseballs.&#39;\n",
        "\n",
        "&#39;Alice throws Apples.&#39;\n",
        "\n",
        "&#39;BOB EATS CATS.&#39;\n",
        "\n",
        "but not the following:\n",
        "\n",
        "&#39;RoboCop eats apples.&#39;\n",
        "\n",
        "&#39;ALICE THROWS FOOTBALLS.&#39;\n",
        "\n",
        "&#39;Carol eats 7 cats.&#39;\n",
        "\n",
        "\n",
        "...................\n",
        "\n",
        "\n",
        "Answer 22 - \n"
      ],
      "metadata": {
        "id": "OIpbPyLCSZpd"
      }
    },
    {
      "cell_type": "code",
      "source": [
        "pattern = r'^(Alice|Bob|Carol)\\s(eats|pets|throws)\\s(apples|cats|baseballs)\\.$'\n",
        "\n",
        "sentences = [\n",
        "    'Alice eats apples.',\n",
        "    'Bob pets cats.',\n",
        "    'Carol throws baseballs.',\n",
        "    'Alice throws Apples.',\n",
        "    'BOB EATS CATS.',\n",
        "    'RoboCop eats apples.',\n",
        "    'ALICE THROWS FOOTBALLS.',\n",
        "    'Carol eats 7 cats.'\n",
        "]\n",
        "\n",
        "for sentence in sentences:\n",
        "    if re.match(pattern, sentence, re.IGNORECASE):\n",
        "        print(f'Match: {sentence}')\n",
        "    else:\n",
        "        print(f'No match: {sentence}')\n"
      ],
      "metadata": {
        "colab": {
          "base_uri": "https://localhost:8080/"
        },
        "id": "4xvo9CQmRvNb",
        "outputId": "c51dbe00-5b36-45da-cb2c-93f97ee9b8a6"
      },
      "execution_count": 17,
      "outputs": [
        {
          "output_type": "stream",
          "name": "stdout",
          "text": [
            "Match: Alice eats apples.\n",
            "Match: Bob pets cats.\n",
            "Match: Carol throws baseballs.\n",
            "Match: Alice throws Apples.\n",
            "Match: BOB EATS CATS.\n",
            "No match: RoboCop eats apples.\n",
            "No match: ALICE THROWS FOOTBALLS.\n",
            "No match: Carol eats 7 cats.\n"
          ]
        }
      ]
    },
    {
      "cell_type": "markdown",
      "source": [
        "Explanation of the pattern r'^(Alice|Bob|Carol)\\s(eats|pets|throws)\\s(apples|cats|baseballs)\\.$':\n",
        "\n",
        "- `^` and `$` are anchors that match the start and end of the string, respectively.\n",
        "\n",
        "- `(Alice|Bob|Carol)` matches either **\"Alice\"** , **\"Bob\"** , or **\"Carol\"** as the first word. The `|` character acts as an OR operator for the options.\n",
        "\n",
        "- `\\s` matches a whitespace character.\n",
        "\n",
        "- `(eats|pets|throws)` matches either **\"eats\"** , **\"pets\"** , or **\"throws\"** as the second word.\n",
        "\n",
        "- `(apples|cats|baseballs)` matches either **\"apples\"** , **\"cats\"** , or **\"baseballs\"** as the third word.\n",
        "\n",
        "- `\\.` matches a period at the end of the sentence.\n",
        "\n",
        "The **re.IGNORECASE** flag is used to make the pattern case-insensitive, allowing it to match sentences regardless of the letter case.\n"
      ],
      "metadata": {
        "id": "D7AKsT6WS5cz"
      }
    }
  ]
}