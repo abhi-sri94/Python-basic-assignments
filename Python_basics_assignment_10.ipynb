{
  "nbformat": 4,
  "nbformat_minor": 0,
  "metadata": {
    "colab": {
      "provenance": [],
      "toc_visible": true
    },
    "kernelspec": {
      "name": "python3",
      "display_name": "Python 3"
    },
    "language_info": {
      "name": "python"
    }
  },
  "cells": [
    {
      "cell_type": "markdown",
      "source": [
        "#Question 1\n",
        "\n",
        "How do you distinguish between shutil.copy() and shutil.copytree()?\n",
        "\n",
        "............\n",
        "\n",
        "Answer 1 -\n",
        "\n",
        "In Python, the shutil module provides functions for file and directory operations. When it comes to copying files and directories, you can distinguish between `shutil.copy()` and `shutil.copytree()` based on their functionality:\n",
        "\n",
        "1) **shutil.copy(src, dst)** : This function is used to copy a single file from the source (`src`) to the destination (`dst`). It preserves the file's metadata, including permissions, timestamps, and other attributes. If the destination file already exists, it is overwritten.\n",
        "\n",
        "Example usage:"
      ],
      "metadata": {
        "id": "whjdZ7JkRXkv"
      }
    },
    {
      "cell_type": "code",
      "source": [
        "import shutil\n",
        "shutil.copy(\"source.txt\", \"destination.txt\")"
      ],
      "metadata": {
        "id": "Nzmn1KHsSFaK"
      },
      "execution_count": null,
      "outputs": []
    },
    {
      "cell_type": "markdown",
      "source": [
        "2) **shutil.copytree(src, dst)** : This function is used to recursively copy an entire directory tree from the source (`src`) to the destination (`dst`). It copies both the directory structure and the files within the directories. If the destination directory already exists, it raises a FileExistsError.\n",
        "\n",
        "Example usage:"
      ],
      "metadata": {
        "id": "Um4dxzZtR-bD"
      }
    },
    {
      "cell_type": "code",
      "source": [
        "import shutil\n",
        "shutil.copytree(\"source_dir\", \"destination_dir\")"
      ],
      "metadata": {
        "id": "gy-DVlRLSVeV"
      },
      "execution_count": null,
      "outputs": []
    },
    {
      "cell_type": "markdown",
      "source": [
        "#Question 2\n",
        "\n",
        "What function is used to rename files??\n",
        "\n",
        "..............\n",
        "\n",
        "\n",
        "Answer 2 -\n",
        "\n",
        "In Python, the os.rename() function is used to rename files and directories. It is part of the os module, which provides various operating system-related functionalities. Here's how you can use os.rename() to rename a file:"
      ],
      "metadata": {
        "id": "RCzdVseFSkLA"
      }
    },
    {
      "cell_type": "code",
      "source": [
        "import os\n",
        "os.rename(\"current_name.txt\", \"new_name.txt\")"
      ],
      "metadata": {
        "id": "t5eB0IL7Seh9"
      },
      "execution_count": null,
      "outputs": []
    },
    {
      "cell_type": "markdown",
      "source": [
        "In the above example, the file named \"*current_name.txt*\" is renamed to \"*new_name.txt*\". Make sure to provide the full or relative paths to the file if it is not located in the current working directory.\n",
        "\n",
        "It's important to note that the `os.rename()` function only renames a single file or directory. If you want to rename multiple files or perform complex renaming operations, you may need to use other functions or libraries, such as `os.listdir()` , `os.path` , or external libraries like `glob` or `pathlib` . These additional tools allow you to iterate over files, extract information, and perform customized renaming operations."
      ],
      "metadata": {
        "id": "MkQ-mWN9Tarx"
      }
    },
    {
      "cell_type": "markdown",
      "source": [
        "#Question 3\n",
        "\n",
        "What is the difference between the delete functions in the send2trash and shutil modules?\n",
        "\n",
        "...............\n",
        "\n",
        "Answer 3 -\n",
        "\n",
        "The `send2trash` and `shutil` modules in Python provide different ways to delete files and directories:\n",
        "\n",
        "1) **send2trash** : This module provides a safe way to delete files and directories by sending them to the operating system's trash or recycle bin instead of permanently deleting them. The `send2trash.send2trash()` function moves the specified file or directory to the trash, allowing for potential recovery. It is useful when you want to delete items but still have the option to restore them later.\n",
        "\n",
        "Example usage:"
      ],
      "metadata": {
        "id": "h2dwziB2Y2m3"
      }
    },
    {
      "cell_type": "code",
      "source": [
        "import send2trash\n",
        "send2trash.send2trash(\"file.txt\")"
      ],
      "metadata": {
        "id": "oakAc5LKZLY9"
      },
      "execution_count": null,
      "outputs": []
    },
    {
      "cell_type": "markdown",
      "source": [
        "2) **shutil** : This module provides various file operations, including deleting files and directories. The `shutil.rmtree()` function is commonly used to recursively delete a directory and its contents. It permanently deletes the specified directory and all its files and subdirectories. There is no option for recovery once the items are deleted using `shutil.rmtree()` .\n",
        "\n",
        "Example usage:"
      ],
      "metadata": {
        "id": "9KiOIscOZSJK"
      }
    },
    {
      "cell_type": "code",
      "source": [
        "import shutil\n",
        "shutil.rmtree(\"directory\")"
      ],
      "metadata": {
        "id": "E4EVgUoPZTv5"
      },
      "execution_count": null,
      "outputs": []
    },
    {
      "cell_type": "markdown",
      "source": [
        "In summary, the main difference between the delete functions in send2trash and shutil modules is that send2trash provides a safe way to send files and directories to the trash or recycle bin for potential recovery, while shutil provides functions for permanently deleting files and directories without an option for recovery. The choice between them depends on whether you want the ability to restore deleted items or need to permanently remove them."
      ],
      "metadata": {
        "id": "9Z-GK3adZXzm"
      }
    },
    {
      "cell_type": "markdown",
      "source": [
        "#Question 4\n",
        "\n",
        "ZipFile objects have a close() method just like File objects’ close() method. What ZipFile method is\n",
        "equivalent to File objects’ open() method?\n",
        "\n",
        "..............\n",
        "\n",
        "Answer 4 -\n",
        "\n",
        "The equivalent method in ZipFile objects to the open() method in File objects is the ZipFile.open() method.\n",
        "\n",
        "The ZipFile.open(name, mode='r', pwd=None) method is used to open a file contained within a ZIP archive. It returns a file-like object that can be used to read or write the contents of the specified file. The name parameter represents the name or path of the file within the ZIP archive. The optional mode parameter specifies the mode in which to open the file, and 'r' is used for reading by default.\n",
        "\n",
        "Here's an example usage:"
      ],
      "metadata": {
        "id": "-CBdGeWTZ30D"
      }
    },
    {
      "cell_type": "code",
      "source": [
        "import zipfile\n",
        "\n",
        "with zipfile.ZipFile('archive.zip', 'r') as zip_file:\n",
        "    with zip_file.open('file.txt') as file:\n",
        "        content = file.read()\n",
        "        print(content)"
      ],
      "metadata": {
        "id": "OeqfgowSaOnx"
      },
      "execution_count": null,
      "outputs": []
    },
    {
      "cell_type": "markdown",
      "source": [
        "In this example, the `ZipFile` object is created using the '`archive.zip`' file. Then, the `open()` method is used on the `zip_file` object to access the contents of the file named '`file.txt`' within the ZIP archive. The `file` object represents the opened file, allowing you to read or write its contents.\n",
        "\n",
        "By using the `ZipFile.open()` method, you can work with individual files within a ZIP archive in a similar way to opening regular files using the `open()` method on `File` objects."
      ],
      "metadata": {
        "id": "FF9kgQT7aVS3"
      }
    },
    {
      "cell_type": "markdown",
      "source": [
        "#Question 5\n",
        "\n",
        "Create a programme that searches a folder tree for files with a certain file extension (such as .pdf\n",
        "or .jpg). Copy these files from whatever location they are in to a new folder.\n",
        "\n",
        "..............\n",
        "\n",
        "Answer 5"
      ],
      "metadata": {
        "id": "Nemq3FYbbV_G"
      }
    },
    {
      "cell_type": "code",
      "source": [
        "import os\n",
        "import shutil\n",
        "\n",
        "def search_and_copy_files(source_folder, target_folder, file_extension):\n",
        "    # Create the target folder if it doesn't exist\n",
        "    if not os.path.exists(target_folder):\n",
        "        os.makedirs(target_folder)\n",
        "\n",
        "    # Traverse the folder tree recursively\n",
        "    for root, dirs, files in os.walk(source_folder):\n",
        "        for file in files:\n",
        "            if file.endswith(file_extension):\n",
        "                source_path = os.path.join(root, file)\n",
        "                target_path = os.path.join(target_folder, file)\n",
        "                shutil.copy2(source_path, target_path)\n",
        "                print(f\"Copied: {source_path} --> {target_path}\")\n",
        "\n",
        "# Example usage\n",
        "source_folder = \"/path/to/source/folder\"\n",
        "target_folder = \"/path/to/target/folder\"\n",
        "file_extension = \".pdf\"\n",
        "\n",
        "search_and_copy_files(source_folder, target_folder, file_extension)"
      ],
      "metadata": {
        "id": "Ngbp8OK-bD52"
      },
      "execution_count": 11,
      "outputs": []
    }
  ]
}