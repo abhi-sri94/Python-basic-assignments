{
  "nbformat": 4,
  "nbformat_minor": 0,
  "metadata": {
    "colab": {
      "provenance": [],
      "toc_visible": true
    },
    "kernelspec": {
      "name": "python3",
      "display_name": "Python 3"
    },
    "language_info": {
      "name": "python"
    }
  },
  "cells": [
    {
      "cell_type": "markdown",
      "source": [
        "#Question 1\n",
        "\n",
        "1.How many seconds are in an hour? Use the interactive interpreter as a calculator and multiply the\n",
        "number of seconds in a minute (60) by the number of minutes in an hour (also 60).\n",
        "\n",
        ".............\n",
        "\n",
        "Answer 1\n",
        "\n",
        "To calculate the number of seconds in an hour, you can use the interactive interpreter as a calculator. By multiplying the number of seconds in a minute (60) by the number of minutes in an hour (60), you can determine the total number of seconds in an hour.\n",
        "\n",
        "Here's an example of how to perform this calculation in the interactive Python interpreter:"
      ],
      "metadata": {
        "id": "d6d3E7c8u8DY"
      }
    },
    {
      "cell_type": "code",
      "execution_count": 9,
      "metadata": {
        "colab": {
          "base_uri": "https://localhost:8080/"
        },
        "id": "JGe30slKrVio",
        "outputId": "898bf21e-1f89-4e18-faa0-aacd1ad04a81"
      },
      "outputs": [
        {
          "output_type": "execute_result",
          "data": {
            "text/plain": [
              "3600"
            ]
          },
          "metadata": {},
          "execution_count": 9
        }
      ],
      "source": [
        "seconds_in_a_minute = 60\n",
        "minutes_in_an_hour = 60\n",
        "\n",
        "seconds_in_an_hour = seconds_in_a_minute * minutes_in_an_hour\n",
        "\n",
        "seconds_in_an_hour"
      ]
    },
    {
      "cell_type": "markdown",
      "source": [
        "In the example above, we assign the value `60` to the variable `seconds_in_a_minute` to represent the number of seconds in a minute. Similarly, we assign the value `60` to the variable `minutes_in_an_hour` to represent the number of minutes in an hour.\n",
        "\n",
        "Then, we multiply `seconds_in_a_minute` by `minutes_in_an_hour` and store the result in the variable `seconds_in_an_hour` . The value `3600` is the total number of seconds in an hour."
      ],
      "metadata": {
        "id": "NvSuuIX5vcm_"
      }
    },
    {
      "cell_type": "markdown",
      "source": [
        "#Question 2\n",
        "\n",
        "Assign the result from the previous task (seconds in an hour) to a variable called\n",
        "seconds_per_hour.\n",
        "\n",
        "...............\n",
        "\n",
        "Answer 2 -\n",
        "\n",
        "We can do that by the method shown below:"
      ],
      "metadata": {
        "id": "2jP6BXPwwwZZ"
      }
    },
    {
      "cell_type": "code",
      "source": [
        "seconds_per_hour = 3600"
      ],
      "metadata": {
        "id": "jElPPlPEvRks"
      },
      "execution_count": 10,
      "outputs": []
    },
    {
      "cell_type": "markdown",
      "source": [
        "#Question 3\n",
        "\n",
        "How many seconds do you think there are in a day? Make use of the variables seconds per hour\n",
        "and minutes per hour.\n",
        "\n",
        ".............\n",
        "\n",
        "Answer 3 -\n",
        "\n",
        "To determine the number of seconds in a day, we can utilize the variables `seconds_per_hour` and `minutes_per_hour` , which represent the number of seconds and minutes in an hour, respectively. We'll multiply the number of seconds per hour by the number of hours in a day `(24)` to calculate the total number of seconds in a day.\n",
        "\n",
        "Using the variables `seconds_per_hour` and `minutes_per_hour` , we can perform the calculation:"
      ],
      "metadata": {
        "id": "zRm13cyMxEXo"
      }
    },
    {
      "cell_type": "code",
      "source": [
        "seconds_per_hour = 3600\n",
        "minutes_per_hour = 60\n",
        "\n",
        "seconds_in_a_day = seconds_per_hour * 24"
      ],
      "metadata": {
        "id": "lODw0i-jxAXx"
      },
      "execution_count": 16,
      "outputs": []
    },
    {
      "cell_type": "code",
      "source": [
        "seconds_in_a_day"
      ],
      "metadata": {
        "colab": {
          "base_uri": "https://localhost:8080/"
        },
        "id": "t6l5HIlKMMYh",
        "outputId": "eb749fc6-4a19-469e-b583-7d18821e06b0"
      },
      "execution_count": 18,
      "outputs": [
        {
          "output_type": "execute_result",
          "data": {
            "text/plain": [
              "86400"
            ]
          },
          "metadata": {},
          "execution_count": 18
        }
      ]
    },
    {
      "cell_type": "markdown",
      "source": [
        "#Question 4\n",
        "\n",
        "Calculate seconds per day again, but this time save the result in a variable called seconds_per_day.\n",
        "\n",
        ".............\n",
        "\n",
        "Answer 4 -\n",
        "\n",
        "To calculate the number of seconds in a day and save the result in a variable called `seconds_per_day` , you can multiply the `seconds_per_hour` variable by the number of hours in a day (`24`)."
      ],
      "metadata": {
        "id": "H7qyjzsUMlMn"
      }
    },
    {
      "cell_type": "code",
      "source": [
        "seconds_per_hour = 3600\n",
        "minutes_per_hour = 60\n",
        "\n",
        "seconds_per_day = seconds_per_hour * 24"
      ],
      "metadata": {
        "id": "sfTD25ivNV0X"
      },
      "execution_count": 19,
      "outputs": []
    },
    {
      "cell_type": "code",
      "source": [
        "seconds_per_day"
      ],
      "metadata": {
        "colab": {
          "base_uri": "https://localhost:8080/"
        },
        "id": "EQV9Q9-fNgBC",
        "outputId": "a3eafbb3-3861-41e7-d03c-8ad8322bb56b"
      },
      "execution_count": 20,
      "outputs": [
        {
          "output_type": "execute_result",
          "data": {
            "text/plain": [
              "86400"
            ]
          },
          "metadata": {},
          "execution_count": 20
        }
      ]
    },
    {
      "cell_type": "markdown",
      "source": [
        "#Question 5\n",
        "\n",
        "Divide seconds_per_day by seconds_per_hour. Use floating-point (/) division.\n",
        "\n",
        "..............\n",
        "\n",
        "Answer 5 -\n",
        "\n",
        "To divide the `seconds_per_day` variable by the `seconds_per_hour` variable using floating-point division, you can simply use the `/` operator. Here's an example:"
      ],
      "metadata": {
        "id": "3Bh6bdB8NmW4"
      }
    },
    {
      "cell_type": "code",
      "source": [
        "seconds_per_hour = 3600\n",
        "seconds_per_day = seconds_per_hour * 24\n",
        "\n",
        "result = seconds_per_day / seconds_per_hour"
      ],
      "metadata": {
        "id": "c5MafToLNikA"
      },
      "execution_count": 21,
      "outputs": []
    },
    {
      "cell_type": "markdown",
      "source": [
        "The variable `result` will now hold the value `24.0` . Since we used floating-point division `(/)` , the result is a floating-point number indicating the ratio of seconds in a day to seconds in an hour."
      ],
      "metadata": {
        "id": "o229o06JOMA9"
      }
    },
    {
      "cell_type": "code",
      "source": [
        "result"
      ],
      "metadata": {
        "colab": {
          "base_uri": "https://localhost:8080/"
        },
        "id": "K3u9FpVMOD2O",
        "outputId": "8c88bc0b-6f5c-41fe-9433-792e39618109"
      },
      "execution_count": 22,
      "outputs": [
        {
          "output_type": "execute_result",
          "data": {
            "text/plain": [
              "24.0"
            ]
          },
          "metadata": {},
          "execution_count": 22
        }
      ]
    },
    {
      "cell_type": "markdown",
      "source": [
        "#Question 6\n",
        "\n",
        "Divide seconds_per_day by seconds_per_hour, using integer (//) division. Did this number agree\n",
        "with the floating-point value from the previous question, aside from the final .0?\n",
        "\n",
        "..............\n",
        "\n",
        "Answer 6 -\n",
        "\n",
        "To divide the `seconds_per_day` variable by the `seconds_per_hour` variable using integer division `(//)` , you can use the following code:"
      ],
      "metadata": {
        "id": "pbTv3nIwOWLy"
      }
    },
    {
      "cell_type": "code",
      "source": [
        "seconds_per_hour = 3600\n",
        "seconds_per_day = seconds_per_hour * 24\n",
        "\n",
        "result = seconds_per_day // seconds_per_hour"
      ],
      "metadata": {
        "id": "lkYZqOg3OTZp"
      },
      "execution_count": 23,
      "outputs": []
    },
    {
      "cell_type": "code",
      "source": [
        "result"
      ],
      "metadata": {
        "colab": {
          "base_uri": "https://localhost:8080/"
        },
        "id": "xzTByb_oO1RF",
        "outputId": "9d3da1fd-3bcb-48a9-d250-95b729ed1c3f"
      },
      "execution_count": 24,
      "outputs": [
        {
          "output_type": "execute_result",
          "data": {
            "text/plain": [
              "24"
            ]
          },
          "metadata": {},
          "execution_count": 24
        }
      ]
    },
    {
      "cell_type": "markdown",
      "source": [
        "The variable result will now hold the value `24` . By using integer division `(//)` , the result is an integer without any decimal places.\n",
        "\n",
        "In this case, the result matches the floating-point value `24.0` obtained from the previous question, except for the presence of the decimal `.0` in the floating-point value."
      ],
      "metadata": {
        "id": "ctl1VLEOOzLx"
      }
    },
    {
      "cell_type": "markdown",
      "source": [
        "#Question 7\n",
        "\n",
        "Write a generator, genPrimes, that returns the sequence of prime numbers on successive calls to\n",
        "its next() method: 2, 3, 5, 7, 11, ...\n",
        "\n",
        "..............\n",
        "\n",
        "\n",
        "Answer 7 -\n",
        "\n",
        "You can create a generator function called `genPrimes` that generates the sequence of prime numbers on successive calls to its **next()** method. Here's an example implementation using the concept of a prime number sieve:"
      ],
      "metadata": {
        "id": "f8vj-5_pO_RD"
      }
    },
    {
      "cell_type": "code",
      "source": [
        "def genPrimes():\n",
        "    primes = []\n",
        "    num = 2\n",
        "\n",
        "    while True:\n",
        "        is_prime = True\n",
        "        for prime in primes:\n",
        "            if num % prime == 0:\n",
        "                is_prime = False\n",
        "                break\n",
        "\n",
        "        if is_prime:\n",
        "            primes.append(num)\n",
        "            yield num\n",
        "\n",
        "        num += 1"
      ],
      "metadata": {
        "id": "IkOYCKKuOqiY"
      },
      "execution_count": 25,
      "outputs": []
    },
    {
      "cell_type": "markdown",
      "source": [
        "In this implementation, we initialize an empty list called `primes` to store the prime numbers found so far. We start with the number 2 as the first prime number.\n",
        "\n",
        "The generator function uses an infinite loop `(while True)` to continuously generate prime numbers. Within each iteration, we check if the current number `(num)` is divisible by any of the prime numbers in the primes list. If it is divisible by any prime, it means the number is not prime, and we move on to the next number.\n",
        "\n",
        "If the number is not divisible by any prime, it is considered a prime number. We append it to the primes list and yield it using the `yield` keyword, which makes the function a `generator` ."
      ],
      "metadata": {
        "id": "4ECJn5HGPivv"
      }
    }
  ]
}