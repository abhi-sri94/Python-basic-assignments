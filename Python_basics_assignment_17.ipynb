{
  "nbformat": 4,
  "nbformat_minor": 0,
  "metadata": {
    "colab": {
      "provenance": [],
      "toc_visible": true
    },
    "kernelspec": {
      "name": "python3",
      "display_name": "Python 3"
    },
    "language_info": {
      "name": "python"
    }
  },
  "cells": [
    {
      "cell_type": "markdown",
      "source": [
        "#Question 1\n",
        "\n",
        "Assign the value 7 to the variable guess_me. Then, write the conditional tests (if, else, and elif) to\n",
        "print the string 'too low' if guess_me is less than 7, 'too high' if greater than 7, and 'just right' if equal\n",
        "to 7.\n",
        "\n",
        "...............\n",
        "\n",
        "Answer 1 -\n",
        "\n",
        "Here's the code for the condition given above:\n"
      ],
      "metadata": {
        "id": "WjT3eZAHvrA7"
      }
    },
    {
      "cell_type": "code",
      "source": [
        "guess_me = 7\n",
        "\n",
        "# Conditional tests\n",
        "if guess_me < 7:\n",
        "    print('too low')\n",
        "elif guess_me > 7:\n",
        "    print('too high')\n",
        "else:\n",
        "    print('just right')"
      ],
      "metadata": {
        "colab": {
          "base_uri": "https://localhost:8080/"
        },
        "id": "QNb7ADzMItVA",
        "outputId": "3a11a96f-29af-4da2-acc6-5c016b675cf8"
      },
      "execution_count": null,
      "outputs": [
        {
          "output_type": "stream",
          "name": "stdout",
          "text": [
            "just right\n"
          ]
        }
      ]
    },
    {
      "cell_type": "markdown",
      "source": [
        "#Question 2\n",
        "\n",
        "Assign the value 7 to the variable guess_me and the value 1 to the variable start. Write a while\n",
        "loop that compares start with guess_me. Print too low if start is less than guess me. If start equals\n",
        "guess_me, print 'found it!' and exit the loop. If start is greater than guess_me, print 'oops' and exit\n",
        "the loop. Increment start at the end of the loop.\n",
        "\n",
        "...............\n",
        "\n",
        "Answer 2 -"
      ],
      "metadata": {
        "id": "EslTkST9JACU"
      }
    },
    {
      "cell_type": "code",
      "source": [
        "guess_me = 7\n",
        "start = 1\n",
        "\n",
        "# While loop\n",
        "while start <= guess_me:\n",
        "    if start < guess_me:\n",
        "        print('too low')\n",
        "    elif start == guess_me:\n",
        "        print('found it!')\n",
        "        break\n",
        "    else:\n",
        "        print('oops')\n",
        "        break\n",
        "    start += 1"
      ],
      "metadata": {
        "colab": {
          "base_uri": "https://localhost:8080/"
        },
        "id": "fe8kXsspIuCH",
        "outputId": "d56e6728-8db9-49ff-8d85-b7df601ba798"
      },
      "execution_count": null,
      "outputs": [
        {
          "output_type": "stream",
          "name": "stdout",
          "text": [
            "too low\n",
            "too low\n",
            "too low\n",
            "too low\n",
            "too low\n",
            "too low\n",
            "found it!\n"
          ]
        }
      ]
    },
    {
      "cell_type": "markdown",
      "source": [
        "In the code above, the `while` loop continues as long as `start` is less than or equal to `guess_me` . Inside the loop, there are three conditions:\n",
        "\n",
        "- If `start` is `less` than `guess_me` , it prints `'too low'` .\n",
        "\n",
        "- If `start` is equal to `guess_me` , it prints `'found it!'` and exits the loop using the `break` statement.\n",
        "\n",
        "- If `start` is greater than `guess_me` , it prints `'oops'` and exits the loop using the `break` statement.\n",
        "\n",
        "At the end of each iteration, the value of start is incremented by 1 using start += 1."
      ],
      "metadata": {
        "id": "BVevKmhiJXCU"
      }
    },
    {
      "cell_type": "markdown",
      "source": [
        "#Question 3\n",
        "\n",
        "Print the following values of the list [3, 2, 1, 0] using a for loop.\n",
        "\n",
        ".............\n",
        "\n",
        "Answer 3 -\n",
        "\n",
        "To print the values of the list `[3, 2, 1, 0]` using a `for` loop, you can iterate over the elements of the list and print each element. Here's an example:"
      ],
      "metadata": {
        "id": "pYujuEk_KDna"
      }
    },
    {
      "cell_type": "code",
      "source": [
        "my_list = [3, 2, 1, 0]\n",
        "\n",
        "# Using a for loop to print the values\n",
        "for value in my_list:\n",
        "    print(value)"
      ],
      "metadata": {
        "colab": {
          "base_uri": "https://localhost:8080/"
        },
        "id": "YUMq3pChJMhy",
        "outputId": "97027f4a-0975-4957-96b0-f759e5530aee"
      },
      "execution_count": null,
      "outputs": [
        {
          "output_type": "stream",
          "name": "stdout",
          "text": [
            "3\n",
            "2\n",
            "1\n",
            "0\n"
          ]
        }
      ]
    },
    {
      "cell_type": "markdown",
      "source": [
        "#Question 4\n",
        "\n",
        "Use a list comprehension to make a list of the even numbers in range(10).\n",
        "\n",
        "................\n",
        "\n",
        "Answer 4 -"
      ],
      "metadata": {
        "id": "rc38VBrEiPdi"
      }
    },
    {
      "cell_type": "code",
      "source": [
        "even_numbers = [x for x in range(10) if x % 2 == 0]"
      ],
      "metadata": {
        "id": "Akd_As_pKvm_"
      },
      "execution_count": 4,
      "outputs": []
    },
    {
      "cell_type": "markdown",
      "source": [
        "In this list comprehension, the variable `x` takes on each value in the range from 0 to 9. The condition `x % 2 == 0` checks if `x` is `divisible` by `2` , which indicates an even number. If the condition is `true` , the value of x is included in the resulting list `even_numbers` ."
      ],
      "metadata": {
        "id": "g4ulHSFDifOb"
      }
    },
    {
      "cell_type": "markdown",
      "source": [
        "#Question 5\n",
        "\n",
        "Use a dictionary comprehension to create the dictionary squares. Use range(10) to return the\n",
        "keys, and use the square of each key as its value.\n",
        "\n",
        "..............\n",
        "\n",
        "Answer 5 -\n",
        "\n",
        "Below is a dictionary comprehension that creates a dictionary called `squares` using the keys from the range 0 to 9, and their corresponding square values as the dictionary values:"
      ],
      "metadata": {
        "id": "rFgupT7Pitnt"
      }
    },
    {
      "cell_type": "code",
      "source": [
        "squares = {x: x**2 for x in range(10)}"
      ],
      "metadata": {
        "id": "6TvRJiNTibG1"
      },
      "execution_count": 5,
      "outputs": []
    },
    {
      "cell_type": "markdown",
      "source": [
        "In this dictionary comprehension, the variable `x` takes on each value in the range from 0 to 9. The expression `x**2` calculates the square of `x` , and assigns it as the value for the key `x` in the dictionary squares. After the comprehension is complete, the squares dictionary will contain the keys 0 to 9 and their respective squared values."
      ],
      "metadata": {
        "id": "aNxiQYaTjJ9F"
      }
    },
    {
      "cell_type": "markdown",
      "source": [
        "#Question 6\n",
        "\n",
        "Construct the set odd from the odd numbers in the range using a set comprehension (10).\n",
        "\n",
        ".............\n",
        "\n",
        "Answer 6 -\n",
        "\n"
      ],
      "metadata": {
        "id": "UuQcXeyBjZEJ"
      }
    },
    {
      "cell_type": "code",
      "source": [
        "odd = {x for x in range(10) if x % 2 != 0}"
      ],
      "metadata": {
        "id": "ySJhKWJGjGqQ"
      },
      "execution_count": 6,
      "outputs": []
    },
    {
      "cell_type": "markdown",
      "source": [
        "In this set comprehension, the variable `x` takes on each value in the range from 0 to 9. The condition `x % 2 != 0` checks if `x` is `not divisible` by `2` , which indicates an odd number. If the condition is true, the value of `x` is included in the resulting set odd. After the comprehension is complete, the odd set will contain the odd numbers from the range 0 to 9."
      ],
      "metadata": {
        "id": "zdsukjg1jzGL"
      }
    },
    {
      "cell_type": "markdown",
      "source": [
        "#Question 7\n",
        "\n",
        "Use a generator comprehension to return the string &#39;Got &#39; and a number for the numbers in\n",
        "range(10). Iterate through this by using a for loop.\n",
        "\n",
        "...............\n",
        "\n",
        "Answer 7 -\n",
        "\n",
        "Below is a generator comprehension that yields the string `'Got'` followed by each number from the range 0 to 9:"
      ],
      "metadata": {
        "id": "SKzBtEmLkDtN"
      }
    },
    {
      "cell_type": "code",
      "source": [
        "generator = ('Got ' + str(x) for x in range(10))"
      ],
      "metadata": {
        "id": "lnlOVxLcjyGu"
      },
      "execution_count": 7,
      "outputs": []
    },
    {
      "cell_type": "markdown",
      "source": [
        "This generator comprehension creates a `generator` object that yields the string `'Got'` concatenated with each number `x` from the range 0 to 9. The **str(x)** converts each number to a string before concatenating it with `'Got'` .\n",
        "\n",
        "To iterate through this generator using a `for` loop, you can do the following:"
      ],
      "metadata": {
        "id": "EQJchTRGkagX"
      }
    },
    {
      "cell_type": "code",
      "source": [
        "for item in generator:\n",
        "    print(item)"
      ],
      "metadata": {
        "colab": {
          "base_uri": "https://localhost:8080/"
        },
        "id": "XndOP4PmkZ05",
        "outputId": "3cd114e7-ae7f-43a5-b5cc-aedeae2539d8"
      },
      "execution_count": 8,
      "outputs": [
        {
          "output_type": "stream",
          "name": "stdout",
          "text": [
            "Got 0\n",
            "Got 1\n",
            "Got 2\n",
            "Got 3\n",
            "Got 4\n",
            "Got 5\n",
            "Got 6\n",
            "Got 7\n",
            "Got 8\n",
            "Got 9\n"
          ]
        }
      ]
    },
    {
      "cell_type": "markdown",
      "source": [
        "#Question 8\n",
        "\n",
        "Define a function called good that returns the list ['Harry', 'Ron', 'Hermione'].\n",
        "\n",
        ".............\n",
        "\n",
        "Answer 8 -\n",
        "\n",
        "Below is the definition of the good function that returns the list `['Harry', 'Ron', 'Hermione']` :"
      ],
      "metadata": {
        "id": "6uFqbIVLktXL"
      }
    },
    {
      "cell_type": "code",
      "source": [
        "def good():\n",
        "    return ['Harry', 'Ron', 'Hermione']"
      ],
      "metadata": {
        "id": "vb8TdxjSko0L"
      },
      "execution_count": 9,
      "outputs": []
    },
    {
      "cell_type": "markdown",
      "source": [
        "You can call this function to obtain the desired list:"
      ],
      "metadata": {
        "id": "Nfh1kkZWlHMT"
      }
    },
    {
      "cell_type": "code",
      "source": [
        "result = good()\n",
        "print(result)  # Output: ['Harry', 'Ron', 'Hermione']"
      ],
      "metadata": {
        "colab": {
          "base_uri": "https://localhost:8080/"
        },
        "id": "GdVLdGd7lBDD",
        "outputId": "1521193f-000e-4e9a-e71c-65d1fb380d3a"
      },
      "execution_count": 11,
      "outputs": [
        {
          "output_type": "stream",
          "name": "stdout",
          "text": [
            "['Harry', 'Ron', 'Hermione']\n"
          ]
        }
      ]
    },
    {
      "cell_type": "markdown",
      "source": [
        "When you call the good function, it will return the list `['Harry', 'Ron', 'Hermione']` , and you can assign it to a variable (result in this example) or use it directly as needed."
      ],
      "metadata": {
        "id": "Kg934TiPlPiY"
      }
    },
    {
      "cell_type": "markdown",
      "source": [
        "#Question 9\n",
        "\n",
        "Define a generator function called get_odds that returns the odd numbers from range(10). Use a\n",
        "for loop to find and print the third value returned.\n",
        "\n",
        "..............\n",
        "\n",
        "Answer 9 -\n",
        "\n",
        "The definition of the get_odds generator function that yields the odd numbers from the range 0 to 9:"
      ],
      "metadata": {
        "id": "TJ_63cDglV_b"
      }
    },
    {
      "cell_type": "code",
      "source": [
        "def get_odds():\n",
        "    for num in range(10):\n",
        "        if num % 2 != 0:\n",
        "            yield num"
      ],
      "metadata": {
        "id": "T2xbg0Mdom04"
      },
      "execution_count": 12,
      "outputs": []
    },
    {
      "cell_type": "markdown",
      "source": [
        "In this generator function, the `for` loop iterates over the range 0 to 9. The `if` statement checks if each number `(num)` is odd by verifying if it is not divisible by 2. If the condition is `true` , the number is yielded using the `yield` keyword. This allows the function to generate the odd numbers one by one.\n",
        "\n",
        "To find and print the third value returned by the generator, you can use a for loop with a counter:"
      ],
      "metadata": {
        "id": "YlCdYvhkov1C"
      }
    },
    {
      "cell_type": "code",
      "source": [
        "count = 0\n",
        "for value in get_odds():\n",
        "    count += 1\n",
        "    if count == 3:\n",
        "        print(\"Third value:\", value)\n",
        "        break"
      ],
      "metadata": {
        "colab": {
          "base_uri": "https://localhost:8080/"
        },
        "id": "FAs6Nc5SoosV",
        "outputId": "b6b26eec-7536-4c13-b9ed-ba26c318ae2f"
      },
      "execution_count": 13,
      "outputs": [
        {
          "output_type": "stream",
          "name": "stdout",
          "text": [
            "Third value: 5\n"
          ]
        }
      ]
    },
    {
      "cell_type": "markdown",
      "source": [
        "This code initializes a `count` variable to keep track of the iteration count. Inside the loop, the value yielded by the generator is assigned to the `value` variable. The count is incremented, and if it reaches 3, the third value is printed, and the loop is terminated using the `break` statement."
      ],
      "metadata": {
        "id": "TH8WbLGQpDhy"
      }
    },
    {
      "cell_type": "markdown",
      "source": [
        "#Question 10\n",
        "\n",
        "Define an exception called OopsException. Raise this exception to see what happens. Then write\n",
        "the code to catch this exception and print 'Caught an oops'.\n",
        "\n",
        "...............\n",
        "\n",
        "Answer 10 -"
      ],
      "metadata": {
        "id": "yFZFPOBjpMdi"
      }
    },
    {
      "cell_type": "code",
      "source": [
        "class OopsException(Exception):\n",
        "    pass"
      ],
      "metadata": {
        "id": "64ZR3yHZo-bJ"
      },
      "execution_count": 14,
      "outputs": []
    },
    {
      "cell_type": "markdown",
      "source": [
        "In this code, the `OopsException` class is defined by inheriting from the built-in `Exception` class. By doing so, OopsException becomes a `custom` exception that you can raise and catch as needed.\n",
        "\n",
        "To raise the OopsException and catch it to print `\"Caught an oops,` \" you can use a `try-except` block as follows:"
      ],
      "metadata": {
        "id": "5V1bBklMpj9t"
      }
    },
    {
      "cell_type": "code",
      "source": [
        "try:\n",
        "    raise OopsException\n",
        "except OopsException:\n",
        "    print(\"Caught an oops\")"
      ],
      "metadata": {
        "colab": {
          "base_uri": "https://localhost:8080/"
        },
        "id": "JCz6mI03phZw",
        "outputId": "513d2f7d-9307-4127-e342-2cfb86250af7"
      },
      "execution_count": 15,
      "outputs": [
        {
          "output_type": "stream",
          "name": "stdout",
          "text": [
            "Caught an oops\n"
          ]
        }
      ]
    },
    {
      "cell_type": "markdown",
      "source": [
        "In the `try` block, the `raise` keyword is used to explicitly raise the `OopsException` . Then, in the except block, the `OopsException` is caught, and the message `\"Caught an oops\"` is printed."
      ],
      "metadata": {
        "id": "1VPxb8flpvXF"
      }
    },
    {
      "cell_type": "markdown",
      "source": [
        "#Question 11\n",
        "\n",
        "Use zip() to make a dictionary called movies that pairs these lists: titles = ['Creature of Habit',\n",
        "'Crewel Fate'] and plots = ['A nun turns into a monster', 'A haunted yarn shop'].\n",
        "\n",
        "..............\n",
        "\n",
        "Answer 11 -\n",
        "\n",
        "We can use the **zip()** function to combine the `titles` and `plots` lists into a dictionary called `movies` . Each title will be the key, and its corresponding plot will be the value. Here's an example:"
      ],
      "metadata": {
        "id": "9-eIJy2OqFBQ"
      }
    },
    {
      "cell_type": "code",
      "source": [
        "titles = ['Creature of Habit', 'Crewel Fate']\n",
        "plots = ['A nun turns into a monster', 'A haunted yarn shop']\n",
        "\n",
        "movies = dict(zip(titles, plots))"
      ],
      "metadata": {
        "id": "AFrZg7y7puc-"
      },
      "execution_count": 17,
      "outputs": []
    },
    {
      "cell_type": "code",
      "source": [
        "movies"
      ],
      "metadata": {
        "colab": {
          "base_uri": "https://localhost:8080/"
        },
        "id": "fREI3nHsqYk0",
        "outputId": "c82c0887-c637-4239-fa76-29f13f31144b"
      },
      "execution_count": 18,
      "outputs": [
        {
          "output_type": "execute_result",
          "data": {
            "text/plain": [
              "{'Creature of Habit': 'A nun turns into a monster',\n",
              " 'Crewel Fate': 'A haunted yarn shop'}"
            ]
          },
          "metadata": {},
          "execution_count": 18
        }
      ]
    },
    {
      "cell_type": "markdown",
      "source": [
        "In this code, **zip(titles, plots)** combines the elements of titles and plots pairwise, creating an iterable of `tuples` like `('Creature of Habit', 'A nun turns into a monster')` and `('Crewel Fate', 'A haunted yarn shop')`. The **dict()** function then converts these tuples into key-value pairs and creates the dictionary movies."
      ],
      "metadata": {
        "id": "WDORysvGqk6a"
      }
    }
  ]
}