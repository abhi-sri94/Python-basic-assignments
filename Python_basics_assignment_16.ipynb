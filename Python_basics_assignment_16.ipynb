{
  "nbformat": 4,
  "nbformat_minor": 0,
  "metadata": {
    "colab": {
      "provenance": [],
      "toc_visible": true
    },
    "kernelspec": {
      "name": "python3",
      "display_name": "Python 3"
    },
    "language_info": {
      "name": "python"
    }
  },
  "cells": [
    {
      "cell_type": "markdown",
      "source": [
        "#Question 1\n",
        "\n",
        "Create a list called years_list, starting with the year of your birth, and each year thereafter until\n",
        "the year of your fifth birthday. For example, if you were born in 1980. the list would be years_list =\n",
        "[1980, 1981, 1982, 1983, 1984, 1985].\n",
        "\n",
        "..............\n",
        "\n",
        "Answer 1 -\n",
        "\n",
        "My birth year is 1996, therefore, the list will be as below:"
      ],
      "metadata": {
        "id": "_yjYbkT-X8BJ"
      }
    },
    {
      "cell_type": "code",
      "execution_count": null,
      "metadata": {
        "id": "_uOD62uLX2_n"
      },
      "outputs": [],
      "source": [
        "years_list = [1996, 1997, 1998, 1999, 2000, 2001]"
      ]
    },
    {
      "cell_type": "markdown",
      "source": [
        "#Question 2\n",
        "\n",
        "In which year in years_list was your third birthday? Remember, you were 0 years of age for your first year.\n",
        "\n",
        "..............\n",
        "\n",
        "Answer 2\n",
        "\n",
        "My third b'day will be in 1999."
      ],
      "metadata": {
        "id": "q6wd_LDRiD0W"
      }
    },
    {
      "cell_type": "markdown",
      "source": [
        "#Question 3\n",
        "\n",
        "In the years list, which year were you the oldest?\n",
        "\n",
        ".............\n",
        "\n",
        "Answer 3 -\n",
        "\n",
        "I will be oldest in 2001."
      ],
      "metadata": {
        "id": "HrdzUa2Iiwvk"
      }
    },
    {
      "cell_type": "markdown",
      "source": [
        "#Question 4\n",
        "\n",
        "Make a list called things with these three strings as elements: \"mozzarella\", \"cinderella\",\n",
        "\"salmonella\".\n",
        "\n",
        "..............\n",
        "\n",
        "Answer 4 -\n",
        "\n",
        "Below is a list called \"things\" with the mentioned strings:"
      ],
      "metadata": {
        "id": "x8REOFq2i-VM"
      }
    },
    {
      "cell_type": "code",
      "source": [
        "things = [\"mozzarella\", \"cinderella\", \"salmonella\"]"
      ],
      "metadata": {
        "id": "Ht_ljOQGhtjO"
      },
      "execution_count": null,
      "outputs": []
    },
    {
      "cell_type": "markdown",
      "source": [
        "#Question 5\n",
        "\n",
        "Capitalize the element in things that refers to a person and then print the list. Did it change the\n",
        "element in the list?\n",
        "\n",
        ".............\n",
        "\n",
        "Answer 5 -\n",
        "\n",
        "To capitalize the element in the `\"things\"` list that refers to a person, which is \"cinderella\" in this case, we can use the **capitalize()** method. Here's how you can do it:"
      ],
      "metadata": {
        "id": "AksybAf4j0ZT"
      }
    },
    {
      "cell_type": "code",
      "source": [
        "things = [\"mozzarella\", \"cinderella\", \"salmonella\"]\n",
        "things[1] = things[1].capitalize()\n",
        "print(things)"
      ],
      "metadata": {
        "colab": {
          "base_uri": "https://localhost:8080/"
        },
        "id": "WUBku1xpjcnU",
        "outputId": "fb93fce6-08b4-463a-8cb1-1400d61d2884"
      },
      "execution_count": null,
      "outputs": [
        {
          "output_type": "stream",
          "name": "stdout",
          "text": [
            "['mozzarella', 'Cinderella', 'salmonella']\n"
          ]
        }
      ]
    },
    {
      "cell_type": "markdown",
      "source": [
        "As you can see, the element \"cinderella\" has been capitalized to \"Cinderella\" in the list.\n",
        "\n",
        "Therefore, yes it did change the elements in the list."
      ],
      "metadata": {
        "id": "AX20OUvhkMeO"
      }
    },
    {
      "cell_type": "markdown",
      "source": [
        "#Question 6\n",
        "\n",
        "Make a surprise list with the elements \"Groucho,\" \"Chico,\" and \"Harpo.\"\n",
        "\n",
        "..............\n",
        "\n",
        "Answer 6\n",
        "\n",
        "Below is the list:"
      ],
      "metadata": {
        "id": "PHRbVO_dkYmP"
      }
    },
    {
      "cell_type": "code",
      "source": [
        "surprise_list = [\"Groucho\", \"Chico\", \"Harpo\"]"
      ],
      "metadata": {
        "id": "gq-pVFlkkQV9"
      },
      "execution_count": null,
      "outputs": []
    },
    {
      "cell_type": "markdown",
      "source": [
        "#Question 7\n",
        "\n",
        "Lowercase the last element of the surprise list, reverse it, and then capitalize it.\n",
        "\n",
        ".............\n",
        "\n",
        "Answer 7 -\n",
        "\n",
        "Use the code below for the same:"
      ],
      "metadata": {
        "id": "3V1ToKEMlKJx"
      }
    },
    {
      "cell_type": "code",
      "source": [
        "surprise_list = [\"Groucho\", \"Chico\", \"Harpo\"]\n",
        "last_element = surprise_list[-1].lower()\n",
        "reversed_element = last_element[::-1]\n",
        "capitalized_element = reversed_element.capitalize()\n",
        "surprise_list[-1] = capitalized_element"
      ],
      "metadata": {
        "id": "bSKlUm1Ek_6z"
      },
      "execution_count": null,
      "outputs": []
    },
    {
      "cell_type": "code",
      "source": [
        "print(surprise_list)"
      ],
      "metadata": {
        "colab": {
          "base_uri": "https://localhost:8080/"
        },
        "id": "G1BPhTzAlfZL",
        "outputId": "01926d59-2f13-4fa4-97da-361fdcdcdec6"
      },
      "execution_count": null,
      "outputs": [
        {
          "output_type": "stream",
          "name": "stdout",
          "text": [
            "['Groucho', 'Chico', 'Oprah']\n"
          ]
        }
      ]
    },
    {
      "cell_type": "markdown",
      "source": [
        "The code first retrieves the last element of the list, converts it to lowercase using the **lower()** method. Then, it reverses the lowercase element using `slicing` with **[::-1]** . Finally, the reversed element is `capitalized` using the **capitalize()** method. The resulting element is then printed, which is `\"Oprah\"` in this case."
      ],
      "metadata": {
        "id": "GQL-BCQEloLM"
      }
    },
    {
      "cell_type": "markdown",
      "source": [
        "#Question 8\n",
        "\n",
        "Make an English-to-French dictionary called e2f and print it. Here are your starter words: dog is\n",
        "chien, cat is chat, and walrus is morse.\n",
        "\n",
        "..............\n",
        "\n",
        "Answer 8 -\n",
        "\n",
        "English-to-French dictionary called \"e2f\" with the given starter words:"
      ],
      "metadata": {
        "id": "kyGXP7prnhLc"
      }
    },
    {
      "cell_type": "code",
      "source": [
        "e2f = {\n",
        "    \"dog\": \"chien\",\n",
        "    \"cat\": \"chat\",\n",
        "    \"walrus\": \"morse\"\n",
        "}\n",
        "\n",
        "print(e2f)"
      ],
      "metadata": {
        "colab": {
          "base_uri": "https://localhost:8080/"
        },
        "id": "4gMMP7uvlidX",
        "outputId": "b77bc886-8a57-408f-cef4-1edd29f9ab02"
      },
      "execution_count": null,
      "outputs": [
        {
          "output_type": "stream",
          "name": "stdout",
          "text": [
            "{'dog': 'chien', 'cat': 'chat', 'walrus': 'morse'}\n"
          ]
        }
      ]
    },
    {
      "cell_type": "markdown",
      "source": [
        "#Question 9\n",
        "\n",
        "Write the French word for walrus in your three-word dictionary e2f.\n",
        "\n",
        "..............\n",
        "\n",
        "Answer 9 -\n",
        "\n",
        "The French word for \"walrus\" in the dictionary \"e2f\" is \"morse\"."
      ],
      "metadata": {
        "id": "4UQGHBl1n3Kz"
      }
    },
    {
      "cell_type": "markdown",
      "source": [
        "#Question 10\n",
        "\n",
        "Make a French-to-English dictionary called f2e from e2f. Use the items method.\n",
        "\n",
        "...............\n",
        "\n",
        "Answer 10 -\n",
        "This is how you can create a French-to-English dictionary called \"f2e\" from the existing \"e2f\" dictionary using the **items()** method:"
      ],
      "metadata": {
        "id": "9MVaQzZ4oAkO"
      }
    },
    {
      "cell_type": "code",
      "source": [
        "e2f = {\n",
        "    \"dog\": \"chien\",\n",
        "    \"cat\": \"chat\",\n",
        "    \"walrus\": \"morse\"\n",
        "}\n",
        "\n",
        "f2e = {value: key for key, value in e2f.items()}\n",
        "\n",
        "print(f2e)"
      ],
      "metadata": {
        "colab": {
          "base_uri": "https://localhost:8080/"
        },
        "id": "F7wZQRmfn0au",
        "outputId": "48713fb5-d4e0-4253-d9df-82364bf28058"
      },
      "execution_count": null,
      "outputs": [
        {
          "output_type": "stream",
          "name": "stdout",
          "text": [
            "{'chien': 'dog', 'chat': 'cat', 'morse': 'walrus'}\n"
          ]
        }
      ]
    },
    {
      "cell_type": "markdown",
      "source": [
        "The dictionary comprehension **`f2e = {value: key for key, value in e2f.items()}`** creates a new dictionary `\"f2e\"` by swapping the keys and values of the `\"e2f\"` dictionary using the **items()** method. Now, the `\"f2e\"` dictionary maps French words to their corresponding English translations."
      ],
      "metadata": {
        "id": "b53llVNyp3eI"
      }
    },
    {
      "cell_type": "markdown",
      "source": [
        "#Question 11\n",
        "\n",
        "Print the English version of the French word chien using f2e.\n",
        "\n",
        "...............\n",
        "\n",
        "Answer 11 -\n",
        "\n",
        "We can do it by the method below:\n"
      ],
      "metadata": {
        "id": "o7cF6-G7qGjR"
      }
    },
    {
      "cell_type": "code",
      "source": [
        "f2e = {'chien': 'dog', 'chat': 'cat', 'morse': 'walrus'}\n",
        "french_word = 'chien'\n",
        "english_translation = f2e[french_word]\n",
        "print(english_translation)"
      ],
      "metadata": {
        "colab": {
          "base_uri": "https://localhost:8080/"
        },
        "id": "pjan7AezpzuF",
        "outputId": "14e7e99e-86db-4857-f783-8fd8738a434a"
      },
      "execution_count": null,
      "outputs": [
        {
          "output_type": "stream",
          "name": "stdout",
          "text": [
            "dog\n"
          ]
        }
      ]
    },
    {
      "cell_type": "markdown",
      "source": [
        "The above code retrieves the English translation from the `\"f2e\"` dictionary by using the French word `\"chien\"` as the key. It then prints the corresponding English translation, which is `\"dog\"` in this case."
      ],
      "metadata": {
        "id": "Ve6RavMwqZEE"
      }
    },
    {
      "cell_type": "markdown",
      "source": [
        "#Question 12\n",
        "\n",
        "Make and print a set of English words from the keys in e2f.\n",
        "\n",
        "...............\n",
        "\n",
        "Answer 12 -\n",
        "\n",
        "To create and print a set of English words from the keys in the `\"e2f\"` dictionary, you can use the **keys()** method along with the **set()** function. Here's an example:\n"
      ],
      "metadata": {
        "id": "t9vD9KEOqgf-"
      }
    },
    {
      "cell_type": "code",
      "source": [
        "e2f = {\n",
        "    \"dog\": \"chien\",\n",
        "    \"cat\": \"chat\",\n",
        "    \"walrus\": \"morse\"\n",
        "}\n",
        "\n",
        "english_words = set(e2f.keys())\n",
        "print(english_words)"
      ],
      "metadata": {
        "colab": {
          "base_uri": "https://localhost:8080/"
        },
        "id": "QqFNtAPOqWPq",
        "outputId": "8fad0ccd-9c2d-43c0-cd7d-1c2aa8b8bd27"
      },
      "execution_count": null,
      "outputs": [
        {
          "output_type": "stream",
          "name": "stdout",
          "text": [
            "{'dog', 'cat', 'walrus'}\n"
          ]
        }
      ]
    },
    {
      "cell_type": "markdown",
      "source": [
        "#Question 13\n",
        "\n",
        "Make a multilevel dictionary called life. Use these strings for the topmost keys: \"animals\", \"plants\",\n",
        "and \"other\". Make the \"animals\" key refer to another dictionary with the keys \"cats\", \"octopi\", and\n",
        "\"emus\". Make the \"cats\" key refer to a list of strings with the values \"Henri\", \"Grumpy\", and \"Lucy\".\n",
        "Make all the other keys refer to empty dictionaries.\n",
        "\n",
        "................\n",
        "\n",
        "Answer 13 -\n",
        "\n",
        "A multilevel dictionary called \"life\" based on the provided structure:"
      ],
      "metadata": {
        "id": "sO4IdwNnq0hO"
      }
    },
    {
      "cell_type": "code",
      "source": [
        "life = {\n",
        "    'animals': {\n",
        "        'cats': ['Henri', 'Grumpy', 'Lucy'],\n",
        "        'octopi': {},\n",
        "        'emus': {}\n",
        "    },\n",
        "    'plants': {},\n",
        "    'other': {}\n",
        "}\n",
        "\n",
        "print(life)"
      ],
      "metadata": {
        "colab": {
          "base_uri": "https://localhost:8080/"
        },
        "id": "WqUvGr7Aqu7C",
        "outputId": "16842fa1-104f-4833-8e90-cfe235c524b7"
      },
      "execution_count": null,
      "outputs": [
        {
          "output_type": "stream",
          "name": "stdout",
          "text": [
            "{'animals': {'cats': ['Henri', 'Grumpy', 'Lucy'], 'octopi': {}, 'emus': {}}, 'plants': {}, 'other': {}}\n"
          ]
        }
      ]
    },
    {
      "cell_type": "markdown",
      "source": [
        "#Question 14\n",
        "\n",
        "Print the top-level keys of life.\n",
        "\n",
        "...............\n",
        "\n",
        "Answer 14 -\n",
        "\n",
        "To print the top-level keys of the `\"life\"` dictionary, you can use the **keys()** method. Here's how you can do it:"
      ],
      "metadata": {
        "id": "q2EQJ7EbrpEg"
      }
    },
    {
      "cell_type": "code",
      "source": [
        "life = {\n",
        "    'animals': {\n",
        "        'cats': ['Henri', 'Grumpy', 'Lucy'],\n",
        "        'octopi': {},\n",
        "        'emus': {}\n",
        "    },\n",
        "    'plants': {},\n",
        "    'other': {}\n",
        "}\n",
        "\n",
        "top_level_keys = life.keys()\n",
        "print(top_level_keys)"
      ],
      "metadata": {
        "id": "njR9inNerLwZ",
        "colab": {
          "base_uri": "https://localhost:8080/"
        },
        "outputId": "e16ecdb7-de3f-4bd2-f826-65bf7bab86c8"
      },
      "execution_count": 2,
      "outputs": [
        {
          "output_type": "stream",
          "name": "stdout",
          "text": [
            "dict_keys(['animals', 'plants', 'other'])\n"
          ]
        }
      ]
    },
    {
      "cell_type": "markdown",
      "source": [
        "The code retrieves the keys at the top level of the \"life\" dictionary using the **keys()** method. It then prints the top-level keys, which are 'animals', 'plants', and 'other', in this case."
      ],
      "metadata": {
        "id": "j-ia8qdOr1bH"
      }
    },
    {
      "cell_type": "markdown",
      "source": [
        "#Question 15\n",
        "\n",
        "Print the keys for life['animals'].\n",
        "\n",
        "...............\n",
        "\n",
        "Answer 15 -\n",
        "\n",
        "To print the keys for the dictionary `life['animals']` , which is a nested dictionary within the life dictionary, you can access it and use the **keys()** method. Here's an example:"
      ],
      "metadata": {
        "id": "vjQdgAjQUPWh"
      }
    },
    {
      "cell_type": "code",
      "source": [
        "life = {\n",
        "    'animals': {\n",
        "        'cats': ['Henri', 'Grumpy', 'Lucy'],\n",
        "        'octopi': {},\n",
        "        'emus': {}\n",
        "    },\n",
        "    'plants': {},\n",
        "    'other': {}\n",
        "}\n",
        "\n",
        "# Accessing the 'animals' dictionary within 'life'\n",
        "animals_dict = life['animals']\n",
        "\n",
        "# Printing the keys of 'animals' dictionary\n",
        "animal_keys = animals_dict.keys()\n",
        "print(animal_keys)"
      ],
      "metadata": {
        "colab": {
          "base_uri": "https://localhost:8080/"
        },
        "id": "g4C82UZxuG8G",
        "outputId": "e7962c7d-3b2b-43d8-c7ad-6903ccddfbfb"
      },
      "execution_count": 3,
      "outputs": [
        {
          "output_type": "stream",
          "name": "stdout",
          "text": [
            "dict_keys(['cats', 'octopi', 'emus'])\n"
          ]
        }
      ]
    },
    {
      "cell_type": "markdown",
      "source": [
        "#Question 16\n",
        "\n",
        "Print the values for life['animals']['cats']\n",
        "\n",
        "................\n",
        "\n",
        "Answer 16 -\n",
        "\n",
        "To print the values for `life['animals']['cats']` , you can access the nested dictionary and retrieve the corresponding values. Here's an example:"
      ],
      "metadata": {
        "id": "FUfs8QInulFU"
      }
    },
    {
      "cell_type": "code",
      "source": [
        "life = {\n",
        "    'animals': {\n",
        "        'cats': ['Henri', 'Grumpy', 'Lucy'],\n",
        "        'octopi': {},\n",
        "        'emus': {}\n",
        "    },\n",
        "    'plants': {},\n",
        "    'other': {}\n",
        "}\n",
        "\n",
        "# Accessing the values of 'life['animals']['cats']'\n",
        "cat_values = life['animals']['cats']\n",
        "\n",
        "# Printing the values of 'cats'\n",
        "print(cat_values)"
      ],
      "metadata": {
        "colab": {
          "base_uri": "https://localhost:8080/"
        },
        "id": "91PvndXwuI-C",
        "outputId": "3b72b38e-e04b-46e4-d26d-41fc8e05dd2a"
      },
      "execution_count": 4,
      "outputs": [
        {
          "output_type": "stream",
          "name": "stdout",
          "text": [
            "['Henri', 'Grumpy', 'Lucy']\n"
          ]
        }
      ]
    },
    {
      "cell_type": "code",
      "source": [],
      "metadata": {
        "id": "PjtedHJku2X1"
      },
      "execution_count": null,
      "outputs": []
    }
  ]
}