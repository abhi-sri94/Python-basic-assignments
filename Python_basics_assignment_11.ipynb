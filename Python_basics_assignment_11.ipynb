{
  "nbformat": 4,
  "nbformat_minor": 0,
  "metadata": {
    "colab": {
      "provenance": [],
      "toc_visible": true
    },
    "kernelspec": {
      "name": "python3",
      "display_name": "Python 3"
    },
    "language_info": {
      "name": "python"
    }
  },
  "cells": [
    {
      "cell_type": "markdown",
      "source": [
        "#Question 1\n",
        "\n",
        "Create an assert statement that throws an AssertionError if the variable spam is a negative integer.\n",
        "\n",
        "..............\n",
        "\n",
        "\n",
        "Answer 1 -\n",
        "\n",
        "Example of assert statement that throws an AssertionError if the variable spam is a negative error is given below :-"
      ],
      "metadata": {
        "id": "yrqpDLpUZpSS"
      }
    },
    {
      "cell_type": "code",
      "execution_count": 3,
      "metadata": {
        "colab": {
          "base_uri": "https://localhost:8080/",
          "height": 200
        },
        "id": "Oz34SyklZIbC",
        "outputId": "c22910a2-8f21-4c2b-922f-bbbef967e562"
      },
      "outputs": [
        {
          "output_type": "error",
          "ename": "AssertionError",
          "evalue": "ignored",
          "traceback": [
            "\u001b[0;31m---------------------------------------------------------------------------\u001b[0m",
            "\u001b[0;31mAssertionError\u001b[0m                            Traceback (most recent call last)",
            "\u001b[0;32m<ipython-input-3-c0777aefd20d>\u001b[0m in \u001b[0;36m<cell line: 3>\u001b[0;34m()\u001b[0m\n\u001b[1;32m      1\u001b[0m \u001b[0mspam\u001b[0m \u001b[0;34m=\u001b[0m \u001b[0;34m-\u001b[0m\u001b[0;36m5\u001b[0m  \u001b[0;31m# Example value for the variable\u001b[0m\u001b[0;34m\u001b[0m\u001b[0;34m\u001b[0m\u001b[0m\n\u001b[1;32m      2\u001b[0m \u001b[0;34m\u001b[0m\u001b[0m\n\u001b[0;32m----> 3\u001b[0;31m \u001b[0;32massert\u001b[0m \u001b[0mspam\u001b[0m \u001b[0;34m>=\u001b[0m \u001b[0;36m0\u001b[0m\u001b[0;34m,\u001b[0m \u001b[0;34m\"spam should be a non-negative integer\"\u001b[0m\u001b[0;34m\u001b[0m\u001b[0;34m\u001b[0m\u001b[0m\n\u001b[0m",
            "\u001b[0;31mAssertionError\u001b[0m: spam should be a non-negative integer"
          ]
        }
      ],
      "source": [
        "spam = -5  # Example value for the variable\n",
        "\n",
        "assert spam >= 0, \"spam should be a non-negative integer\""
      ]
    },
    {
      "cell_type": "markdown",
      "source": [
        "In this example, the assert statement checks if the value of `spam` is greater than or equal to zero `(spam >= 0)` . If the condition is False, an AssertionError is raised with the specified error message: \"spam should be a non-negative integer\".\n",
        "\n",
        "You can replace the value -5 with the actual value of the spam variable in your code. If the variable spam is a negative integer, the assert statement will raise an AssertionError, indicating that the condition has not been met."
      ],
      "metadata": {
        "id": "iEfKd21UaywF"
      }
    },
    {
      "cell_type": "markdown",
      "source": [
        "#Question 2\n",
        "\n",
        "Write an assert statement that triggers an AssertionError if the variables eggs and bacon contain\n",
        "strings that are the same as each other, even if their cases are different (that is, 'hello' and 'hello' ; are\n",
        "considered the same, and 'goodbye'; and 'GOODbye' are also considered the same).\n",
        "\n",
        "..............\n",
        "\n",
        "Answer 2 -\n",
        "\n",
        "To compare strings in a case-insensitive manner and trigger an AssertionError if the variables eggs and bacon contain the same string (regardless of case), you can use the `lower()` method to convert both strings to lowercase and then perform the comparison. Here's an example assert statement that achieves this:"
      ],
      "metadata": {
        "id": "PiULNOV_cCNS"
      }
    },
    {
      "cell_type": "code",
      "source": [
        "eggs = \"Hello\"\n",
        "bacon = \"hello\"\n",
        "\n",
        "assert eggs.lower() != bacon.lower(), \"eggs and bacon should not be the same (case-insensitive)\""
      ],
      "metadata": {
        "id": "UFaT5AOqcjf9"
      },
      "execution_count": null,
      "outputs": []
    },
    {
      "cell_type": "markdown",
      "source": [
        "In this example, the `lower()` method is called on both eggs and bacon variables to convert them to lowercase before comparison. If the lowercase versions of the strings are the same, indicating that the strings are equal regardless of case, the assert statement triggers an AssertionError with the specified error message.\n",
        "\n",
        "You can replace **\"Hello\"** and **\"hello\"** with the actual values assigned to the `eggs` and `bacon` variables in your code. If the strings are the same when compared in a case-insensitive manner, the assert statement will raise an AssertionError."
      ],
      "metadata": {
        "id": "jZDMoRw9ctCB"
      }
    },
    {
      "cell_type": "markdown",
      "source": [
        "#Question 3\n",
        "\n",
        "Create an assert statement that throws an AssertionError every time.\n",
        "\n",
        "..............\n",
        "\n",
        "Answer 3 -\n",
        "\n",
        "To create an assert statement that throws an AssertionError every time, you can simply use the assert keyword without specifying any condition. Here's an example:"
      ],
      "metadata": {
        "id": "nfWN42iOc8Qj"
      }
    },
    {
      "cell_type": "code",
      "source": [
        "assert False, \"This assert statement always triggers an AssertionError\""
      ],
      "metadata": {
        "colab": {
          "base_uri": "https://localhost:8080/",
          "height": 165
        },
        "id": "cL5fbij9c7Vv",
        "outputId": "583f3a4f-60b7-4bec-a348-6f0b4cc8909c"
      },
      "execution_count": 7,
      "outputs": [
        {
          "output_type": "error",
          "ename": "AssertionError",
          "evalue": "ignored",
          "traceback": [
            "\u001b[0;31m---------------------------------------------------------------------------\u001b[0m",
            "\u001b[0;31mAssertionError\u001b[0m                            Traceback (most recent call last)",
            "\u001b[0;32m<ipython-input-7-001f1fd43097>\u001b[0m in \u001b[0;36m<cell line: 1>\u001b[0;34m()\u001b[0m\n\u001b[0;32m----> 1\u001b[0;31m \u001b[0;32massert\u001b[0m \u001b[0;32mFalse\u001b[0m\u001b[0;34m,\u001b[0m \u001b[0;34m\"This assert statement always triggers an AssertionError\"\u001b[0m\u001b[0;34m\u001b[0m\u001b[0;34m\u001b[0m\u001b[0m\n\u001b[0m",
            "\u001b[0;31mAssertionError\u001b[0m: This assert statement always triggers an AssertionError"
          ]
        }
      ]
    },
    {
      "cell_type": "markdown",
      "source": [
        "In this example, the condition False is provided, which is always considered False. Therefore, when this assert statement is executed, an AssertionError is raised, and the specified error message is displayed.\n",
        "\n",
        "You can customize the error message by modifying the string \"This assert statement always triggers an AssertionError\" to any message that suits your needs."
      ],
      "metadata": {
        "id": "-BT-fYsxdNVg"
      }
    },
    {
      "cell_type": "markdown",
      "source": [
        "#Question 4\n",
        "\n",
        "What are the two lines that must be present in your software in order to call logging.debug()?\n",
        "\n",
        "..............\n",
        "\n",
        "Answer 4 -\n",
        "\n",
        "\n",
        "In order to call the logging.debug() function in your software, you need to include two lines:\n",
        "\n",
        "1) Importing the logging module:"
      ],
      "metadata": {
        "id": "H2ihQatddTQc"
      }
    },
    {
      "cell_type": "code",
      "source": [
        "import logging"
      ],
      "metadata": {
        "id": "hLoUuVl26dKf"
      },
      "execution_count": 8,
      "outputs": []
    },
    {
      "cell_type": "markdown",
      "source": [
        "This line imports the logging module, which provides the necessary functions and classes for logging.\n",
        "\n",
        "2) Configuring the logging system:"
      ],
      "metadata": {
        "id": "-7tMhc0b6z2J"
      }
    },
    {
      "cell_type": "code",
      "source": [
        "logging.basicConfig(level=logging.DEBUG)"
      ],
      "metadata": {
        "id": "Tx8aZcYJ6o6e"
      },
      "execution_count": 2,
      "outputs": []
    },
    {
      "cell_type": "markdown",
      "source": [
        "This line configures the logging system to enable the DEBUG log level. It sets the root logger's level to DEBUG, which allows logging messages at all levels, including **DEBUG** , **INFO** , **WARNING** , **ERROR** , and **CRITICAL** . You can adjust the log level according to your needs.\n",
        "\n"
      ],
      "metadata": {
        "id": "7XQQxfJm67xp"
      }
    },
    {
      "cell_type": "markdown",
      "source": [
        "#Question 5\n",
        "\n",
        "What are the two lines that your program must have in order to have logging.debug() send a\n",
        "logging message to a file named programLog.txt?\n",
        "\n",
        "................\n",
        "\n",
        "\n",
        "Answer 5 -\n",
        "\n",
        "To send `logging.debug()` messages to a file named \"programLog.txt,\" you need to include the following two lines in your program:\n",
        "\n",
        "1) **Importing the logging module** :"
      ],
      "metadata": {
        "id": "Mgnvtq317i6b"
      }
    },
    {
      "cell_type": "code",
      "source": [
        "import logging"
      ],
      "metadata": {
        "id": "HYJSas347DnL"
      },
      "execution_count": 4,
      "outputs": []
    },
    {
      "cell_type": "markdown",
      "source": [
        "This line imports the logging module, which provides the necessary functions and classes for logging.\n",
        "\n",
        "2) **Configuring the logging system to write messages to the file** :"
      ],
      "metadata": {
        "id": "MoTHLX3kMhWl"
      }
    },
    {
      "cell_type": "code",
      "source": [
        "logging.basicConfig(filename='programLog.txt', level=logging.DEBUG)"
      ],
      "metadata": {
        "id": "QWL3oQmaMlx-"
      },
      "execution_count": 5,
      "outputs": []
    },
    {
      "cell_type": "markdown",
      "source": [
        "This line configures the logging system to write log messages to the specified file, `\"programLog.txt.`\" The filename parameter in `basicConfig()` sets the file path where the log messages will be written. Additionally, the `level` parameter is set to `logging.DEBUG` , enabling debug-level logging.\n",
        "\n",
        "After including these two lines, you can call `logging.debug()` to log debug-level messages, and they will be written to the `\"programLog.txt\"` file. Here's an example:"
      ],
      "metadata": {
        "id": "C6IVdWQ1MlT4"
      }
    },
    {
      "cell_type": "code",
      "source": [
        "import logging\n",
        "\n",
        "logging.basicConfig(filename='programLog.txt', level=logging.DEBUG)\n",
        "\n",
        "# Example usage of logging.debug()\n",
        "logging.debug(\"This is a debug-level message\")"
      ],
      "metadata": {
        "id": "Frgj9PzZMzDh"
      },
      "execution_count": 6,
      "outputs": []
    },
    {
      "cell_type": "markdown",
      "source": [
        "In this example, the logging module is imported, and the logging system is configured to write messages to `\"programLog.txt\"` at the debug level. The `logging.debug()` function is then used to log a debug-level message, which will be appended to the specified file."
      ],
      "metadata": {
        "id": "4WjkWi7WM2i_"
      }
    },
    {
      "cell_type": "markdown",
      "source": [
        "#Question 6\n",
        "\n",
        "What are the five levels of logging?\n",
        "\n",
        "............\n",
        "\n",
        "Answer 6 -\n",
        "\n",
        "The Python logging module defines five standard levels of logging, listed from lowest to highest severity:\n",
        "\n",
        "1) **DEBUG** : Detailed information, typically useful for debugging purposes. These messages are usually only relevant during development and testing.\n",
        "\n",
        "2) **INFO** : General informational messages that confirm that things are functioning as expected. These messages provide high-level information about the progress of the application.\n",
        "\n",
        "3) **WARNING** : Indication of potentially unexpected or abnormal situations that may lead to problems later on. The program can continue its execution, but it's important to be aware of these messages.\n",
        "\n",
        "4) **ERROR** : Indicates a specific error or exception that has occurred during the execution of the program. The error is more severe than a warning, and it may impact the normal flow of the application. However, the program can still continue running.\n",
        "\n",
        "5) **CRITICAL** : Represents a critical error or an unrecoverable condition that prevents the program from continuing its execution. These messages typically indicate severe failures that require immediate attention.\n",
        "\n",
        "Each level has a numeric value associated with it, with DEBUG being the lowest (10) and CRITICAL being the highest (50). The levels allow for filtering and controlling which messages should be logged based on their severity."
      ],
      "metadata": {
        "id": "SVh5Pzb5NZ2E"
      }
    },
    {
      "cell_type": "markdown",
      "source": [
        "#Question 7\n",
        "\n",
        "What line of code would you add to your software to disable all logging messages?\n",
        "\n",
        ".............\n",
        "\n",
        "Answer 7 -\n",
        "\n",
        "\n",
        "To disable all logging messages in your software, you can add the following line of code:\n"
      ],
      "metadata": {
        "id": "hRq8-79OOEjm"
      }
    },
    {
      "cell_type": "code",
      "source": [
        "logging.disable(logging.CRITICAL)"
      ],
      "metadata": {
        "id": "Z-DSkWiLMzxM"
      },
      "execution_count": null,
      "outputs": []
    },
    {
      "cell_type": "markdown",
      "source": [
        "This line sets the logging level to CRITICAL, which is the highest level. By setting the level to CRITICAL, all log messages with levels below CRITICAL (i.e., DEBUG, INFO, WARNING, and ERROR) will be effectively disabled and won't be logged.\n"
      ],
      "metadata": {
        "id": "IpJ5C6TSOdCq"
      }
    },
    {
      "cell_type": "markdown",
      "source": [
        "#Question 8\n",
        "\n",
        "8.Why is using logging messages better than using print() to display the same message?\n",
        "\n",
        ".............\n",
        "\n",
        "Answer 8 -\n",
        "\n",
        "Using logging messages instead of print() statements offers several advantages:\n",
        "\n",
        "1) **Granular control over log levels** : The logging module provides different levels of logging, allowing you to categorize and filter messages based on their severity. With `print()` , it's more challenging to differentiate between different levels of importance or selectively display messages based on their significance.\n",
        "\n",
        "2) **Flexible output destinations** : The logging module allows you to configure the output destination of log messages. You can direct messages to a file, the console, or even remote logging services. This flexibility makes it easier to manage and analyze logs in various environments.\n",
        "\n",
        "3) **Runtime enable/disable capability** : By configuring the log level, you can easily enable or disable logging messages without modifying the code. This can be particularly useful when deploying code to different environments or when troubleshooting specific issues. With print(), you would need to manually remove or comment out the print() statements.\n",
        "\n",
        "4) **Structured logging and formatting options** : The logging module provides formatting options to structure log messages with timestamps, log levels, and other contextual information. You can customize log message formats and easily add additional details to facilitate debugging and analysis. print() statements lack this flexibility and require manual formatting for similar effects.\n",
        "\n",
        "5) **Integration with existing logging infrastructure** : The logging module integrates well with other logging frameworks and tools. It aligns with established logging practices and can be easily integrated into larger logging setups or third-party services for centralized log management and analysis.\n",
        "\n",
        "6) **Performance and efficiency** : Logging messages can be more efficient than print() statements, especially when logging is disabled or set to higher log levels. In such cases, the logging module incurs minimal performance overhead. In contrast, print() statements are executed regardless of the program's logging configuration, potentially impacting performance.\n",
        "\n",
        "7) **Debugging and maintenance** : Logging messages provide a consistent approach to tracking program execution and troubleshooting issues. They allow for better long-term maintainability by providing a historical record of events and the ability to easily enable detailed logging when investigating problems."
      ],
      "metadata": {
        "id": "73GLrednOnYg"
      }
    },
    {
      "cell_type": "markdown",
      "source": [
        "#Question 9\n",
        "\n",
        "What are the differences between the Step Over, Step In, and Step Out buttons in the debugger?\n",
        "\n",
        "..............\n",
        "\n",
        "Answer 9 -\n",
        "\n",
        "The Step Over, Step In, and Step Out buttons in a debugger are used to control the execution flow while debugging code. Here are the differences between these buttons:\n",
        "\n",
        "1) **Step Over** : The Step Over button allows you to execute the current line of code and move to the next line in a single step. If the current line contains a function call, the Step Over command will execute the entire function and return to the next line in the calling code. It is useful when you want to skip the detailed execution of function internals and focus on the higher-level code.\n",
        "\n",
        "2) **Step In** : The Step In button allows you to enter into the execution of a function call. If the current line contains a function call, the Step In command will move the debugger to the first line inside the function being called. This allows you to step through the function's execution line by line, inspecting variables and following the control flow within the function. It is useful when you want to dive into the details of a particular function to understand its behavior.\n",
        "\n",
        "3) **Step Out** : The Step Out button allows you to quickly execute the remaining lines of the current function and return to the line that called the function. If you are already inside a function, the Step Out command will continue executing the function until it reaches the line where the function was called. It is useful when you are inside a function and want to quickly return to the calling code without stepping through all the remaining lines of the function."
      ],
      "metadata": {
        "id": "OSVHC6YlPtH_"
      }
    },
    {
      "cell_type": "markdown",
      "source": [
        "#Question 10\n",
        "\n",
        "After you click Continue, when will the debugger stop ?\n",
        "\n",
        "................\n",
        "\n",
        "Answer 10 -\n",
        "\n",
        "After clicking the Continue button in a debugger, the debugger will stop when one of the following conditions is met:\n",
        "\n",
        "1) **Breakpoint** : If you have set a breakpoint in your code, the debugger will stop when the program execution reaches that specific line of code. Breakpoints allow you to pause the execution at a specific point and inspect variables or step through the code line by line.\n",
        "\n",
        "2) **Exception** : If an unhandled exception occurs during the program execution, the debugger will stop when the exception is raised. This allows you to examine the stack trace and the state of the program at the point of the exception.\n",
        "\n",
        "3) **End of program** : The debugger will stop when the program execution completes and reaches the end of the code. At this point, you can review the final state of variables and any output or results produced by the program."
      ],
      "metadata": {
        "id": "zw5G6AeOQBRo"
      }
    },
    {
      "cell_type": "markdown",
      "source": [],
      "metadata": {
        "id": "NO8qrGWiQXyv"
      }
    },
    {
      "cell_type": "markdown",
      "source": [
        "#Question 11\n",
        "\n",
        "What is the concept of a breakpoint?\n",
        "\n",
        "..............\n",
        "\n",
        "Answer 11 -\n",
        "\n",
        "A breakpoint is a debugging feature that allows you to pause the execution of a program at a specific line of code. When a breakpoint is set, the debugger will stop the program's execution when it reaches that line, giving you an opportunity to examine the program's state, variables, and step through the code line by line.\n",
        "\n",
        "Here are a few key aspects of breakpoints:\n",
        "\n",
        "1) **Setting a breakpoint** : Breakpoints can be set using a debugger's graphical user interface `(GUI)` or by inserting specific debugging statements or directives in the code. Most modern integrated development environments `(IDEs)` provide a visual interface to set breakpoints by clicking on the line numbers.\n",
        "\n",
        "2) **Pausing program execution** : When the program reaches a breakpoint during execution, the debugger interrupts the execution and enters a debugging mode. At this point, you can inspect the current values of variables, evaluate expressions, and step through the code to analyze its behavior.\n",
        "\n",
        "3) **Stepping through code** : Once the program is paused at a breakpoint, you have the option to step through the code line by line. This allows you to observe the program's execution flow, step into function calls to examine their behavior, step over lines to skip detailed internal execution, or step out of a function to quickly return to the calling code.\n",
        "\n",
        "4) **Conditional breakpoints** : Some debuggers support conditional breakpoints, which allow you to specify a condition that determines whether the breakpoint is triggered. The program will pause only if the condition evaluates to true, providing more fine-grained control over when and where the debugger stops."
      ],
      "metadata": {
        "id": "c1pHq3vVQa07"
      }
    }
  ]
}