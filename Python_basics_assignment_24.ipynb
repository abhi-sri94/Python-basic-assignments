{
  "nbformat": 4,
  "nbformat_minor": 0,
  "metadata": {
    "colab": {
      "provenance": [],
      "toc_visible": true
    },
    "kernelspec": {
      "name": "python3",
      "display_name": "Python 3"
    },
    "language_info": {
      "name": "python"
    }
  },
  "cells": [
    {
      "cell_type": "markdown",
      "source": [
        "#Question 1\n",
        "\n",
        "What is the relationship between def statements and lambda expressions ?\n",
        "\n",
        ".............\n",
        "\n",
        "Answer 1 -\n",
        "\n",
        "The relationship between `def statements` and `lambda expressions` in Python is that both are used to define `functions` , but they differ in their syntax and usage.\n",
        "\n",
        "1) **def statements:**\n",
        "\n",
        "- The def statement is the standard way to define named functions in Python.\n",
        "\n",
        "- It `starts` with the keyword `def` , followed by the `function` name and a pair of **parentheses ( )** , which may contain function parameters.\n",
        "\n",
        "- The function body is indented below the def statement and consists of the code to be executed when the function is called.\n",
        "\n",
        "- The function can have multiple lines of code and can contain complex logic and control flow.\n",
        "\n",
        "- After defining the function, you can call it by using its name followed by parentheses, passing any required arguments.\n",
        "\n",
        "Example of a def statement:"
      ],
      "metadata": {
        "id": "OHqsU7iei3hE"
      }
    },
    {
      "cell_type": "code",
      "execution_count": 2,
      "metadata": {
        "colab": {
          "base_uri": "https://localhost:8080/"
        },
        "id": "P_H1MLk0ivxz",
        "outputId": "2ab4e649-8e50-41a6-c8c5-73809c62119d"
      },
      "outputs": [
        {
          "output_type": "stream",
          "name": "stdout",
          "text": [
            "8\n"
          ]
        }
      ],
      "source": [
        "def add(a, b):\n",
        "    return a + b\n",
        "\n",
        "result = add(3, 5)  # Calling the function 'add' with arguments 3 and 5\n",
        "\n",
        "print(result)"
      ]
    },
    {
      "cell_type": "markdown",
      "source": [
        "2) **Lambda expressions** (anonymous functions):\n",
        "\n",
        "- Lambda expressions are a way to create small, anonymous functions in Python.\n",
        "\n",
        "- They are defined using the lambda keyword, followed by the function parameters (if any) and a colon :, and then the expression to be evaluated.\n",
        "\n",
        "- The expression's result is automatically returned as the function's output.\n",
        "\n",
        "- Lambda functions are generally used for short, simple operations and are not meant to contain complex logic or multiple lines of code.\n",
        "\n",
        "- Lambda functions are often used as arguments to higher-order functions, like map, filter, or sorted.\n",
        "\n",
        "Example of a lambda expression:"
      ],
      "metadata": {
        "id": "XEa6tWt2qWAk"
      }
    },
    {
      "cell_type": "code",
      "source": [
        "multiply = lambda x, y: x * y\n",
        "\n",
        "result = multiply(3, 5)  # Calling the lambda function with arguments 3 and 5\n",
        "\n",
        "print(result)"
      ],
      "metadata": {
        "colab": {
          "base_uri": "https://localhost:8080/"
        },
        "id": "uYHEFvYVqFac",
        "outputId": "1824879b-aa36-49ff-ac10-14e0223e7b65"
      },
      "execution_count": 5,
      "outputs": [
        {
          "output_type": "stream",
          "name": "stdout",
          "text": [
            "15\n"
          ]
        }
      ]
    },
    {
      "cell_type": "markdown",
      "source": [
        "In summary, `def` statements are used for creating standard, named functions with multiple lines of code and complex logic, while `lambda` expressions are used for creating small, anonymous functions for simple expressions and immediate use in functional programming scenarios"
      ],
      "metadata": {
        "id": "XbXSqCDHq0XH"
      }
    },
    {
      "cell_type": "markdown",
      "source": [
        "#Question 2\n",
        "\n",
        "What is the benefit of lambda?\n",
        "\n",
        "..............\n",
        "\n",
        "Answer 2 -\n",
        "\n",
        "Lambda expressions provide several benefits in Python, making them a useful and versatile feature:\n",
        "\n",
        "1) **Conciseness** : Lambda expressions allow you to define small, one-line functions in a concise and compact way. They are especially useful for simple operations or when you need a function for a short and specific task.\n",
        "\n",
        "2) **Readability** : For certain cases where a simple function is needed, using a lambda expression can make the code more readable by avoiding the need to define a separate named function.\n",
        "\n",
        "3) **Function as First-Class Objects** : In Python, functions are first-class objects, meaning they can be assigned to variables, passed as arguments to other functions, and returned as values from functions. Lambda expressions facilitate this behavior, making it easy to create and use small functions on-the-fly.\n",
        "\n",
        "4) **Functional Programming** : Lambda expressions are a fundamental aspect of functional programming, where functions are treated as data and can be passed around and used as arguments to other functions. This style of programming can lead to more elegant and flexible code.\n",
        "\n",
        "5) **Use with Higher-Order Functions** : Higher-order functions are functions that take other functions as arguments or return them as results. Lambda expressions are often used in conjunction with higher-order functions like `map` , `filter` , and `sorted` to perform simple operations on lists or iterables.\n",
        "\n",
        "6) **Reducing Code Overhead** : In certain scenarios, using a lambda expression can help avoid creating a separate named function, reducing the code overhead and keeping the focus on the specific task at hand.\n",
        "\n",
        "7) **Contextual Use** : Lambda expressions are particularly useful in cases where you need a simple function to be used once or for a specific purpose, without cluttering the code with named functions that are only used in a limited scope."
      ],
      "metadata": {
        "id": "9VQ-4cfIrTPZ"
      }
    },
    {
      "cell_type": "markdown",
      "source": [
        "#Question 3\n",
        "\n",
        "Compare and contrast map, filter, and reduce.\n",
        "\n",
        "..............\n",
        "\n",
        "Answer 3 -\n",
        "\n",
        "`map` , `filter` , and `reduce` are built-in higher-order functions in Python that operate on iterables like `lists` , `tuples` , and `sets` . They are used to `transform` , `filter` , and `aggregate` data respectively. Let's compare and contrast each of these functions:\n",
        "\n",
        "1) map:\n",
        "\n",
        "- **Purpose** : The map function is used to apply a given function to each item of an iterable and returns an iterator containing the results.\n",
        "\n",
        "- **Syntax** : map(function, iterable)\n",
        "\n",
        "- **Function** : The `function` parameter is a function that takes one or more arguments and applies it to each element of the iterable.\n",
        "\n",
        "- **Result** : The `result` is an `iterator` containing the output of applying the function to each element in the iterable.\n",
        "\n",
        "Example:"
      ],
      "metadata": {
        "id": "REldRI1zr4lA"
      }
    },
    {
      "cell_type": "code",
      "source": [
        "# Squaring each element in a list using map\n",
        "\n",
        "numbers = [1, 2, 3, 4]\n",
        "squared = map(lambda x: x**2, numbers)\n",
        "\n",
        "print(list(squared))"
      ],
      "metadata": {
        "colab": {
          "base_uri": "https://localhost:8080/"
        },
        "id": "BkWWfJhQqtnr",
        "outputId": "da54ab2c-1f03-49ff-9723-1d58adfd3ad9"
      },
      "execution_count": 7,
      "outputs": [
        {
          "output_type": "stream",
          "name": "stdout",
          "text": [
            "[1, 4, 9, 16]\n"
          ]
        }
      ]
    },
    {
      "cell_type": "markdown",
      "source": [
        "2) filter:\n",
        "\n",
        "- **Purpose**: The `filter` function is used to filter elements from an `iterable` based on a given function that returns a `Boolean` value (True or False).\n",
        "\n",
        "- **Syntax** : filter(function, iterable)\n",
        "\n",
        "- **Function** : The `function` parameter is a function that takes one argument and returns `True` or `False` based on some condition.\n",
        "\n",
        "- **Result** : The `result` is an `iterator` containing the elements from the iterable for which the function returned `True` .\n",
        "\n",
        "Example:"
      ],
      "metadata": {
        "id": "i4GygDLZssgo"
      }
    },
    {
      "cell_type": "code",
      "source": [
        "# Filtering even numbers from a list using filter\n",
        "\n",
        "numbers = [1, 2, 3, 4, 5, 6]\n",
        "even_numbers = filter(lambda x: x % 2 == 0, numbers)\n",
        "\n",
        "print(list(even_numbers))"
      ],
      "metadata": {
        "colab": {
          "base_uri": "https://localhost:8080/"
        },
        "id": "LBfaRdfDsmY0",
        "outputId": "60615a78-cb97-43c5-f22d-15618c0d9ff5"
      },
      "execution_count": 8,
      "outputs": [
        {
          "output_type": "stream",
          "name": "stdout",
          "text": [
            "[2, 4, 6]\n"
          ]
        }
      ]
    },
    {
      "cell_type": "markdown",
      "source": [
        "3) **reduce** :\n",
        "- **Purpose** : The reduce function is `used` to apply a `binary` function to the elements of an `iterable` in a cumulative way, reducing it to a `single` value.\n",
        "\n",
        "- **Syntax** : reduce(function, iterable[, initializer])\n",
        "\n",
        "- **Function** : The `function` parameter is a binary function that takes two arguments and returns a single result. It is applied cumulatively to the items of the `iterable`.\n",
        "\n",
        "- **Initializer** : The `initializer` is an optional parameter that provides an initial value for the cumulative computation. If not provided, the first two elements of the iterable are used as the initial values.\n",
        "\n",
        "- **Result** : The result is a single value that represents the cumulative result of applying the `function` to all elements of the `iterable` .\n",
        "\n",
        "Example:"
      ],
      "metadata": {
        "id": "W-_5ErZQtZxo"
      }
    },
    {
      "cell_type": "code",
      "source": [
        "from functools import reduce\n",
        "\n",
        "# Summing up the elements of a list using reduce\n",
        "\n",
        "numbers = [1, 2, 3, 4]\n",
        "sum_result = reduce(lambda x, y: x + y, numbers)\n",
        "\n",
        "print(sum_result)"
      ],
      "metadata": {
        "colab": {
          "base_uri": "https://localhost:8080/"
        },
        "id": "N2Q-4XXWtV0o",
        "outputId": "36e7f972-4bd1-42c5-a95c-24624ff15d47"
      },
      "execution_count": 10,
      "outputs": [
        {
          "output_type": "stream",
          "name": "stdout",
          "text": [
            "10\n"
          ]
        }
      ]
    },
    {
      "cell_type": "markdown",
      "source": [
        "In short:\n",
        "\n",
        "- `map` is used for applying a function to each element of an iterable and returns an iterator with the results.\n",
        "\n",
        "- `filter` is used for selecting elements from an iterable based on a condition and returns an iterator with the filtered elements.\n",
        "\n",
        "- `reduce` is used for cumulatively applying a binary function to the elements of an iterable and returns a single value as the final result.\n"
      ],
      "metadata": {
        "id": "iiCWcOp1uNoL"
      }
    },
    {
      "cell_type": "markdown",
      "source": [
        "#Question 4\n",
        "\n",
        "What are function annotations, and how are they used?\n",
        "\n",
        "..............\n",
        "\n",
        "Answer 4 -\n",
        "\n",
        "Function annotations are a feature in Python that allow you to add metadata or type hints to the parameters and return value of a function. They were introduced in Python 3.0 as a way to provide additional information about the function's intended usage, without affecting the function's actual behavior. Function annotations are optional, and Python doesn't enforce their correctness or type checking at runtime. They are primarily used for documentation purposes and can be accessed through the function's __annotations__ attribute.\n",
        "\n",
        "Function annotations are specified using `colons (:)` after the parameter names or the return type, and the annotations themselves are arbitrary expressions that provide information about the types, expected values, or other metadata.\n",
        "\n",
        "Syntax for function annotations:"
      ],
      "metadata": {
        "id": "wRyCG1kPuaNs"
      }
    },
    {
      "cell_type": "code",
      "source": [
        "def function_name(param1: annotation1, param2: annotation2, ...) -> return_annotation:\n",
        "    # Function body\n",
        "    # ..."
      ],
      "metadata": {
        "id": "NKh8Cme3uzkC"
      },
      "execution_count": null,
      "outputs": []
    },
    {
      "cell_type": "markdown",
      "source": [
        "- `param1 , param2 , etc.` : The function's parameters with their respective annotations.\n",
        "\n",
        "- `annotation1, annotation2, etc.` : The annotations, which can be any Python expression providing additional information about the parameter types.\n",
        "\n",
        "- `return_annotation` : The annotation for the return value of the function, which comes after the -> symbol.\n",
        "\n",
        "Here's an example of using function annotations:"
      ],
      "metadata": {
        "id": "B3k5gOSQu27t"
      }
    },
    {
      "cell_type": "code",
      "source": [
        "def add(a: int, b: int) -> int:\n",
        "    return a + b"
      ],
      "metadata": {
        "id": "wtDga97iviMV"
      },
      "execution_count": 12,
      "outputs": []
    },
    {
      "cell_type": "markdown",
      "source": [
        "In this example, the function add takes two parameters, `a` and `b` , both annotated as `int` (integer type). The function is also annotated to return an int. These annotations do not affect the behavior of the function; they are purely informative.\n",
        "\n",
        "The function annotations can be accessed through the __annotations__ attribute of the function, which returns a dictionary containing the parameter names and their corresponding annotations.\n",
        "\n",
        "Example of accessing function annotations:"
      ],
      "metadata": {
        "id": "gaTFtBlo63xx"
      }
    },
    {
      "cell_type": "code",
      "source": [
        "def add(a: int, b: int) -> int:\n",
        "    return a + b\n",
        "\n",
        "print(add.__annotations__)\n",
        "# Output: {'a': <class 'int'>, 'b': <class 'int'>, 'return': <class 'int'>}"
      ],
      "metadata": {
        "colab": {
          "base_uri": "https://localhost:8080/"
        },
        "id": "dWv-Xr1Qvi2h",
        "outputId": "e51fb4aa-0b26-4cbf-ce3c-72d9f373ef1c"
      },
      "execution_count": 13,
      "outputs": [
        {
          "output_type": "stream",
          "name": "stdout",
          "text": [
            "{'a': <class 'int'>, 'b': <class 'int'>, 'return': <class 'int'>}\n"
          ]
        }
      ]
    },
    {
      "cell_type": "markdown",
      "source": [
        "Function annotations can be particularly helpful in the following scenarios:\n",
        "\n",
        "1) **Documentation** : Annotations provide clarity and improve the documentation of the function's intended parameter types and return value.\n",
        "\n",
        "2) **Type Hints** : Annotations can be used as type hints for static type checkers and IDEs that support type checking, improving code readability and maintainability.\n",
        "\n",
        "3) **Code Understanding** : Annotations can help other developers understand the intended usage of the function, especially in large codebases.\n"
      ],
      "metadata": {
        "id": "O1SGJkXZ7HE4"
      }
    },
    {
      "cell_type": "markdown",
      "source": [
        "#Question 5\n",
        "\n",
        "What are recursive functions, and how are they used?\n",
        "\n",
        "..............\n",
        "\n",
        "Answer 5 -\n",
        "\n",
        "Recursive functions are functions that call themselves within their own definition. In other words, a recursive function is a function that solves a problem by reducing it to a smaller, simpler version of the same problem until it reaches a base case that can be directly solved without further recursion.\n",
        "\n",
        "Recursive functions are often used to solve problems that can be broken down into smaller, similar subproblems. They are particularly suitable for tasks that exhibit self-similarity or repetitive structures. Recursion is a fundamental concept in computer science and is commonly used in various algorithms and data structures.\n",
        "\n",
        "To implement a recursive function, it is essential to define both the base case(s) and the recursive case(s). The base case(s) serve as the stopping condition(s) that prevent infinite recursion and provide the final result. The recursive case(s) represent the situations where the function calls itself with smaller inputs to make progress towards reaching the base case(s).\n",
        "\n",
        "General structure of a recursive function:"
      ],
      "metadata": {
        "id": "peKikDHn7Tck"
      }
    },
    {
      "cell_type": "code",
      "source": [
        "def recursive_function(parameters):\n",
        "    # Base case(s): stopping condition(s)\n",
        "    if base_case_condition:\n",
        "        return base_case_value\n",
        "\n",
        "    # Recursive case(s): function calls itself with smaller inputs\n",
        "    result = recursive_function(smaller_parameters)\n",
        "    # Additional computation or processing if needed\n",
        "    return result"
      ],
      "metadata": {
        "id": "0MTvhu4M7Cdd"
      },
      "execution_count": 14,
      "outputs": []
    },
    {
      "cell_type": "markdown",
      "source": [
        "Example of a recursive function to calculate the factorial of a number:"
      ],
      "metadata": {
        "id": "ctkQL8cL7w9n"
      }
    },
    {
      "cell_type": "code",
      "source": [
        "def factorial(n):\n",
        "    # Base case: factorial of 0 is 1\n",
        "    if n == 0:\n",
        "        return 1\n",
        "    # Recursive case: call factorial with a smaller input (n-1)\n",
        "    else:\n",
        "        return n * factorial(n-1)\n",
        "\n",
        "print(factorial(5))"
      ],
      "metadata": {
        "colab": {
          "base_uri": "https://localhost:8080/"
        },
        "id": "ZDyfkUYm7smR",
        "outputId": "69f0f388-ecfa-4ffd-de47-55214cddab65"
      },
      "execution_count": 15,
      "outputs": [
        {
          "output_type": "stream",
          "name": "stdout",
          "text": [
            "120\n"
          ]
        }
      ]
    },
    {
      "cell_type": "markdown",
      "source": [
        "#Question 6\n",
        "\n",
        "What are some general design guidelines for coding functions?\n",
        "\n",
        ".............\n",
        "\n",
        "Answer 6 -\n",
        "\n",
        "Designing functions is an essential aspect of writing clean, maintainable, and efficient code. Well-designed functions contribute to code readability, reusability, and ease of maintenance. Here are some general design guidelines for coding functions:\n",
        "\n",
        "1) **Single Responsibility Principle (SRP)** :\n",
        "\n",
        "Each function should have a clear and single purpose. It should perform one task or operation and do it well.\n",
        "Functions that follow SRP are easier to understand, test, and maintain.\n",
        "\n",
        "2) **Function Naming** :\n",
        "\n",
        "Use descriptive and meaningful names for functions that reflect their purpose and what they do.\n",
        "Follow a consistent naming convention (e.g., lowercase with underscores, CamelCase, etc.) to improve code readability.\n",
        "\n",
        "3) **Function Length** :\n",
        "\n",
        "Keep functions short and focused. Avoid long functions with multiple tasks.\n",
        "Shorter functions are generally easier to understand and less error-prone.\n",
        "\n",
        "4) **Function Parameters** :\n",
        "\n",
        "Limit the number of function parameters to a reasonable amount. Too many parameters can make functions hard to use and understand.\n",
        "Consider using default parameter values or keyword arguments to provide flexibility.\n",
        "\n",
        "5) **Function Return Values** :\n",
        "\n",
        "Make sure functions have a clear return value that represents their purpose.\n",
        "Avoid functions with ambiguous return values or functions that have side effects without returning meaningful data.\n",
        "\n",
        "6) **Avoid Global Variables** :\n",
        "\n",
        "Functions should rely on their inputs (parameters) and avoid modifying global variables directly.\n",
        "Minimize the use of global variables, as they can make code harder to reason about and lead to unexpected behavior.\n",
        "\n",
        "7) **Error Handling** :\n",
        "\n",
        "Consider appropriate error handling within functions to handle exceptional situations gracefully.\n",
        "Use exceptions or return special values when appropriate to communicate errors or edge cases.\n",
        "\n",
        "8) **Documentation** :\n",
        "\n",
        "Include docstrings (inline comments) to describe the purpose, parameters, and return values of functions.\n",
        "Good documentation helps other developers understand the intended usage of functions.\n",
        "\n",
        "9) **Avoid Duplicating Code**:\n",
        "\n",
        "Reuse code whenever possible by creating functions for common operations.\n",
        "Don't repeat the same logic in multiple places; instead, encapsulate it into functions.\n",
        "\n",
        "10) **Function Cohesion** :\n",
        "\n",
        "Aim for high cohesion, where functions are grouped based on related functionality.\n",
        "Functions in a module should have a clear relationship to each other.\n",
        "\n",
        "11) **Function Decoupling** :\n",
        "\n",
        "Strive for low coupling, where functions are loosely connected and do not depend on each other excessively.\n",
        "Reduce dependencies to make code more modular and maintainable.\n",
        "\n",
        "12) **Testing** :\n",
        "\n",
        "Write unit tests for functions to verify their correctness and ensure they behave as expected.\n",
        "Test both normal cases and edge cases to cover various scenarios.\n",
        "\n",
        "By following these guidelines, you can create functions that are clean, reusable, and easy to maintain. Properly designed functions contribute to the overall quality and maintainability of your codebase, making it easier for you and other developers to work on the project over time."
      ],
      "metadata": {
        "id": "9IJFWcpj7-Ze"
      }
    },
    {
      "cell_type": "markdown",
      "source": [
        "#Question 7\n",
        "\n",
        "Name three or more ways that functions can communicate results to a caller.\n",
        "\n",
        "..............\n",
        "\n",
        "Answer 7 -\n",
        "\n",
        "Functions can communicate results to a caller using various methods. Here are three common ways:\n",
        "\n",
        "1) **Return Statement** :\n",
        "\n",
        "- The most common way for functions to communicate results is through the return statement.\n",
        "\n",
        "- When a function is called, it can calculate a result and use the return statement to send that result back to the caller.\n",
        "\n",
        "- The caller can capture the returned value and use it as needed.\n",
        "\n",
        "Example:"
      ],
      "metadata": {
        "id": "NQtwAwy9DigH"
      }
    },
    {
      "cell_type": "code",
      "source": [
        "def add(a, b):\n",
        "    return a + b\n",
        "\n",
        "result = add(3, 5)\n",
        "\n",
        "print(result)"
      ],
      "metadata": {
        "colab": {
          "base_uri": "https://localhost:8080/"
        },
        "id": "y7PV4Lqy7zO1",
        "outputId": "bd7344fa-c9cc-4e81-880e-de0641330b94"
      },
      "execution_count": 16,
      "outputs": [
        {
          "output_type": "stream",
          "name": "stdout",
          "text": [
            "8\n"
          ]
        }
      ]
    },
    {
      "cell_type": "markdown",
      "source": [
        "2) **Using Global Variables** :\n",
        "\n",
        "- Although not recommended in most cases, functions can communicate results by modifying global variables.\n",
        "\n",
        "- Functions can update the values of global variables within their scope, and the changes will be visible to the caller.\n",
        "\n",
        "Example:"
      ],
      "metadata": {
        "id": "KSaqDIWdD7nX"
      }
    },
    {
      "cell_type": "code",
      "source": [
        "total = 0\n",
        "\n",
        "def add_to_total(number):\n",
        "    global total\n",
        "    total += number\n",
        "\n",
        "add_to_total(3)\n",
        "\n",
        "print(total)"
      ],
      "metadata": {
        "colab": {
          "base_uri": "https://localhost:8080/"
        },
        "id": "ZkdJptSHD2sa",
        "outputId": "a6ceaf06-d20d-4d36-b0e4-9df6210a620e"
      },
      "execution_count": 17,
      "outputs": [
        {
          "output_type": "stream",
          "name": "stdout",
          "text": [
            "3\n"
          ]
        }
      ]
    },
    {
      "cell_type": "markdown",
      "source": [
        "3) **Mutable Objects as Arguments** :\n",
        "\n",
        "- Functions can communicate results by modifying mutable objects (e.g., lists, dictionaries) passed as arguments.\n",
        "\n",
        "- Since mutable objects are passed by reference, any changes made to them within the function will be reflected outside the function.\n",
        "\n",
        "Example:"
      ],
      "metadata": {
        "id": "21feYsULEOUU"
      }
    },
    {
      "cell_type": "code",
      "source": [
        "def square_list(numbers):\n",
        "    for i in range(len(numbers)):\n",
        "        numbers[i] = numbers[i] ** 2\n",
        "\n",
        "my_list = [1, 2, 3, 4]\n",
        "square_list(my_list)\n",
        "\n",
        "print(my_list)"
      ],
      "metadata": {
        "colab": {
          "base_uri": "https://localhost:8080/"
        },
        "id": "VANuPoeuEKgk",
        "outputId": "da06bedf-95ba-4c42-a3df-f105238ca849"
      },
      "execution_count": 19,
      "outputs": [
        {
          "output_type": "stream",
          "name": "stdout",
          "text": [
            "[1, 4, 9, 16]\n"
          ]
        }
      ]
    }
  ]
}